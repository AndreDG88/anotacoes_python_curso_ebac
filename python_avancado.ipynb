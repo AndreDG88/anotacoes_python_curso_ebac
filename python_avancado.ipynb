{
  "nbformat": 4,
  "nbformat_minor": 0,
  "metadata": {
    "colab": {
      "provenance": [],
      "collapsed_sections": [
        "7ElQKnqYG56r",
        "ISzi7NBcoYcx",
        "hJhYLHJfzVZN",
        "g-tpwTSQvVic",
        "7Or8vhcZEoej",
        "poXtzG379NM5",
        "6UU3MTDpBalG"
      ],
      "authorship_tag": "ABX9TyM2wJampDrwFXiGgvPN1qoo",
      "include_colab_link": true
    },
    "kernelspec": {
      "name": "python3",
      "display_name": "Python 3"
    },
    "language_info": {
      "name": "python"
    }
  },
  "cells": [
    {
      "cell_type": "markdown",
      "metadata": {
        "id": "view-in-github",
        "colab_type": "text"
      },
      "source": [
        "<a href=\"https://colab.research.google.com/github/AndreDG88/anotacoes_python_curso_ebac/blob/main/python_avancado.ipynb\" target=\"_parent\"><img src=\"https://colab.research.google.com/assets/colab-badge.svg\" alt=\"Open In Colab\"/></a>"
      ]
    },
    {
      "cell_type": "markdown",
      "source": [
        "# **🐍 Python Avançado**\n"
      ],
      "metadata": {
        "id": "PgcbIwAHvexs"
      }
    },
    {
      "cell_type": "markdown",
      "source": [
        "## **⚙️ Iteradores, yield, Geradores, Corrotinas, Assíncrono e Multiprocessamento**"
      ],
      "metadata": {
        "id": "7ElQKnqYG56r"
      }
    },
    {
      "cell_type": "markdown",
      "source": [
        "### **1. O que é um Iterador?**"
      ],
      "metadata": {
        "id": "MCZXof43TqnP"
      }
    },
    {
      "cell_type": "code",
      "source": [],
      "metadata": {
        "id": "vvOT6r8mHHqT"
      },
      "execution_count": null,
      "outputs": []
    },
    {
      "cell_type": "markdown",
      "source": [
        "**Definição Simples:**\n",
        "\n",
        "Um **iterador** é um objeto que você pode percorrer **item por item**, como numa lista, usando um *for*."
      ],
      "metadata": {
        "id": "vFUQxdtB3n3Y"
      }
    },
    {
      "cell_type": "code",
      "source": [
        "# Exemplo:\n",
        "\n",
        "nomes = [\"Ana\", \"Beto\", \"Clara\"]\n",
        "\n",
        "for nome in nomes:\n",
        "    print(nome)"
      ],
      "metadata": {
        "colab": {
          "base_uri": "https://localhost:8080/"
        },
        "id": "padWF8qZ58NZ",
        "outputId": "aa9624cc-8f2e-4229-99e2-eeae7f14f328"
      },
      "execution_count": null,
      "outputs": [
        {
          "output_type": "stream",
          "name": "stdout",
          "text": [
            "Ana\n",
            "Beto\n",
            "Clara\n"
          ]
        }
      ]
    },
    {
      "cell_type": "markdown",
      "source": [
        "Aqui, nomes é **iterável** (porque dá pra percorrer com for), e o que o *for* faz internamente é usar um **iterador** para pegar um nome de cada vez."
      ],
      "metadata": {
        "id": "MP9xuOpz6L_x"
      }
    },
    {
      "cell_type": "code",
      "source": [
        "# De forma explícita:\n",
        "\n",
        "nomes = [\"Ana\", \"Beto\", \"Clara\"]\n",
        "it = iter(nomes)     # Cria o iterador\n",
        "\n",
        "print(next(it))  # Ana\n",
        "print(next(it))  # Beto\n",
        "print(next(it))  # Clara"
      ],
      "metadata": {
        "colab": {
          "base_uri": "https://localhost:8080/"
        },
        "id": "BzbefCU96cLe",
        "outputId": "fcd0dcfe-083c-4e21-c985-e897f21753a3"
      },
      "execution_count": null,
      "outputs": [
        {
          "output_type": "stream",
          "name": "stdout",
          "text": [
            "Ana\n",
            "Beto\n",
            "Clara\n"
          ]
        }
      ]
    },
    {
      "cell_type": "markdown",
      "source": [
        "Se tentar chamar **next(it)** de novo, vai dar erro (StopIteration) porque não tem mais nada."
      ],
      "metadata": {
        "id": "3n3btYNS6tO6"
      }
    },
    {
      "cell_type": "markdown",
      "source": [
        "### **2. yield e Geradores (Generators)**"
      ],
      "metadata": {
        "id": "TkbrEkYW64iG"
      }
    },
    {
      "cell_type": "markdown",
      "source": [
        "**Como funciona:**\n",
        "\n",
        "Quando usamos **yield**, estamos criando uma **função geradora**, que se comporta como um iterador, mas gera os valores um por um."
      ],
      "metadata": {
        "id": "t3GPJ3HY64L8"
      }
    },
    {
      "cell_type": "code",
      "source": [
        "# Exemplo:\n",
        "\n",
        "def contador():\n",
        "    yield 1\n",
        "    yield 2\n",
        "    yield 3\n",
        "\n",
        "for numero in contador():\n",
        "    print(numero)"
      ],
      "metadata": {
        "colab": {
          "base_uri": "https://localhost:8080/"
        },
        "id": "ku3baoNr8fFw",
        "outputId": "a510fb95-a7e3-484c-e0b0-fb89b6d214c5"
      },
      "execution_count": null,
      "outputs": [
        {
          "output_type": "stream",
          "name": "stdout",
          "text": [
            "1\n",
            "2\n",
            "3\n"
          ]
        }
      ]
    },
    {
      "cell_type": "markdown",
      "source": [
        "Essa função **\"lembra onde parou\"** entre cada chamada. É isso que faz ela economizar memória."
      ],
      "metadata": {
        "id": "fh-NmjYg9J9e"
      }
    },
    {
      "cell_type": "markdown",
      "source": [
        "### **3. Corrotinas com yield e .send()**"
      ],
      "metadata": {
        "id": "LKU_sJcC-gg4"
      }
    },
    {
      "cell_type": "markdown",
      "source": [
        "**Ideia principal:**\n",
        "Uma **corrotina** com *yield* pode **receber valores** durante a execução."
      ],
      "metadata": {
        "id": "YQe08wRb-gHl"
      }
    },
    {
      "cell_type": "code",
      "source": [
        "# Exemplo:\n",
        "\n",
        "def acumulador():\n",
        "    total = 0\n",
        "    while True:\n",
        "        valor = yield total\n",
        "        if valor is not None:\n",
        "            total += valor\n",
        "\n",
        "coro = acumulador()\n",
        "print(next(coro))      # Começa a execução, imprime 0\n",
        "print(coro.send(5))    # Envia 5, imprime 5\n",
        "print(coro.send(10))   # Envia 10, imprime 15"
      ],
      "metadata": {
        "colab": {
          "base_uri": "https://localhost:8080/"
        },
        "id": "fu98WnxR-8Os",
        "outputId": "4a2f863e-c86a-4b7a-8a10-720534e3b266"
      },
      "execution_count": null,
      "outputs": [
        {
          "output_type": "stream",
          "name": "stdout",
          "text": [
            "0\n",
            "5\n",
            "15\n"
          ]
        }
      ]
    },
    {
      "cell_type": "markdown",
      "source": [
        "### **4. Programação Assíncrona (async e await)**"
      ],
      "metadata": {
        "id": "o7weBTFa_qXV"
      }
    },
    {
      "cell_type": "markdown",
      "source": [
        "**Quando usar:**\n",
        "- Quando você quer esperar algo (como ler arquivos ou acessar a internet), mas sem travar o resto do programa."
      ],
      "metadata": {
        "id": "tB9HFPpN_qEe"
      }
    },
    {
      "cell_type": "markdown",
      "source": [
        "**Termos:**\n",
        "- async def define uma função assíncrona (corrotina moderna)\n",
        "\n",
        "- await espera uma tarefa terminar antes de continuar"
      ],
      "metadata": {
        "id": "XK9cjODqACFm"
      }
    },
    {
      "cell_type": "code",
      "source": [
        "# Exemplo:\n",
        "\n",
        "import asyncio\n",
        "\n",
        "async def esperar(msg):\n",
        "    print(f\"Iniciando {msg}\")\n",
        "    await asyncio.sleep(2)\n",
        "    print(f\"Finalizando {msg}\")\n",
        "\n",
        "async def main():\n",
        "    await asyncio.gather(\n",
        "        esperar(\"um café ☕\"),\n",
        "        esperar(\"uma música 🎵\")\n",
        "    )\n",
        "\n",
        "asyncio.run(main())"
      ],
      "metadata": {
        "id": "EjIpmBDQAKBs"
      },
      "execution_count": null,
      "outputs": []
    },
    {
      "cell_type": "markdown",
      "source": [
        "Executa as duas ao mesmo tempo (concorrente) e finaliza em 2 segundos."
      ],
      "metadata": {
        "id": "AdAiCscpAoqN"
      }
    },
    {
      "cell_type": "markdown",
      "source": [
        "### **5. Multiprocessamento (multiprocessing)**"
      ],
      "metadata": {
        "id": "t8aUsyc5Bw_A"
      }
    },
    {
      "cell_type": "markdown",
      "source": [
        "**Quando usar:**\n",
        "\n",
        "- Para tarefas **pesadas de CPU**, onde rodar várias ao mesmo tempo pode acelerar o processo.\n",
        "\n",
        "- Usa **vários processos** (não threads), então ignora o GIL (trava do Python)."
      ],
      "metadata": {
        "id": "V_ksT6BQBwZJ"
      }
    },
    {
      "cell_type": "code",
      "source": [
        "# Exemplo:\n",
        "\n",
        "from multiprocessing import Process\n",
        "\n",
        "def tarefa(nome):\n",
        "    print(f\"{nome} começou.\")\n",
        "\n",
        "p1 = Process(target=tarefa, args=(\"Processo 1\",))\n",
        "p2 = Process(target=tarefa, args=(\"Processo 2\",))\n",
        "\n",
        "p1.start()\n",
        "p2.start()\n",
        "\n",
        "p1.join()\n",
        "p2.join()"
      ],
      "metadata": {
        "id": "1SRX0rDiGhK-"
      },
      "execution_count": null,
      "outputs": []
    },
    {
      "cell_type": "markdown",
      "source": [
        "Cada processo é independente e pode rodar em paralelo em diferentes núcleos."
      ],
      "metadata": {
        "id": "VDSju9ThGrhi"
      }
    },
    {
      "cell_type": "markdown",
      "source": [
        "### **✅ Resumo Visual**"
      ],
      "metadata": {
        "id": "Q6tfN1pyUcsv"
      }
    },
    {
      "cell_type": "code",
      "execution_count": null,
      "metadata": {
        "id": "Diljlja02h3_"
      },
      "outputs": [],
      "source": [
        "#Conceito          | Para que serve?                     | Palavra-chave  | Exemplo típico\n",
        "Iterador           | Percorrer elementos                 | iter(), next() | for item in lista:\n",
        "yield              | Pausar e retomar funções            | yield          | for x in gerador():\n",
        "Gerador            | Economizar memória em laços         | yield          | def gen(): yield ...\n",
        "Corrotina (yield)  | Receber dados durante execução      | .send()        | valor = yield total\n",
        "Async/Await        | Esperar tarefas sem travar o código | async, await   | await asyncio.sleep(1)\n",
        "Multiprocessos     | Rodar tarefas pesadas em paralelo   | Process        | from multiprocessing import Process"
      ]
    },
    {
      "cell_type": "markdown",
      "source": [
        "## **⚙️ CPU-Bound, I/O-Bound e GIL**"
      ],
      "metadata": {
        "id": "ISzi7NBcoYcx"
      }
    },
    {
      "cell_type": "markdown",
      "source": [
        "### **1. O que é CPU-bound?**"
      ],
      "metadata": {
        "id": "sq633aUlpNth"
      }
    },
    {
      "cell_type": "markdown",
      "source": [
        "**Explicação:**\n",
        "\n",
        "\"CPU-bound\" é um termo usado para descrever programas ou partes do código que **dependem fortemente do poder de processamento da CPU** para funcionar.\n",
        "\n",
        "Ou seja: o computador **está ocupado fazendo cálculos pesados**, e isso consome tempo do processador."
      ],
      "metadata": {
        "id": "rQ_Z-urbobsT"
      }
    },
    {
      "cell_type": "markdown",
      "source": [
        "**Analogia:**\n",
        "\n",
        "Imagine um chef cortando legumes: ele não pode parar nem dividir isso com alguém, porque só ele tem a faca. Enquanto ele corta, ninguém mais consegue usar a cozinha."
      ],
      "metadata": {
        "id": "EMnTA-lBqVKC"
      }
    },
    {
      "cell_type": "markdown",
      "source": [
        "🧠 **Exemplos práticos:**\n",
        "- Cálculos matemáticos pesados\n",
        "\n",
        "- Processamento de imagens ou vídeos\n",
        "\n",
        "- Compressão ou criptografia de dados"
      ],
      "metadata": {
        "id": "p2Vh7B6Xqaey"
      }
    },
    {
      "cell_type": "markdown",
      "source": [
        "🧪 **Exemplo em código:**"
      ],
      "metadata": {
        "id": "t6FzIVNYq12k"
      }
    },
    {
      "cell_type": "code",
      "source": [
        "# Faz uma conta bem pesada\n",
        "def tarefa_pesada():\n",
        "    total = 0\n",
        "    for i in range(10**8):\n",
        "        total += i\n",
        "    return total\n",
        "\n",
        "print(tarefa_pesada())"
      ],
      "metadata": {
        "colab": {
          "base_uri": "https://localhost:8080/"
        },
        "id": "e6IHAwPpqyWY",
        "outputId": "0cf17f24-f2e1-4b94-9ecc-3cbf6a5f7446"
      },
      "execution_count": null,
      "outputs": [
        {
          "output_type": "stream",
          "name": "stdout",
          "text": [
            "4999999950000000\n"
          ]
        }
      ]
    },
    {
      "cell_type": "markdown",
      "source": [
        "### **2. O que é I/O-bound?**"
      ],
      "metadata": {
        "id": "2rAgmFIFrRIT"
      }
    },
    {
      "cell_type": "markdown",
      "source": [
        "**Explicação:**\n",
        "\n",
        "\"I/O-bound\" se refere a situações em que seu código **fica esperando alguma entrada ou saída de dados (Input/Output)**. Nesses casos, a CPU fica ociosa, parada, enquanto o programa aguarda algo."
      ],
      "metadata": {
        "id": "PDvY42HUrQ3I"
      }
    },
    {
      "cell_type": "markdown",
      "source": [
        "**Analogia:**\n",
        "\n",
        "Imagine que o chef fez uma massa e colocou pra assar. Enquanto o forno trabalha, ele está ali esperando. Ele **não está fazendo nada**, só aguardando."
      ],
      "metadata": {
        "id": "PXCnF4ZktC3u"
      }
    },
    {
      "cell_type": "markdown",
      "source": [
        "🧠 **Exemplos práticos:**\n",
        "- Aguardar leitura ou gravação de arquivos\n",
        "\n",
        "- Baixar dados da internet\n",
        "\n",
        "- Esperar o usuário digitar algo"
      ],
      "metadata": {
        "id": "0om7_G_RtMIQ"
      }
    },
    {
      "cell_type": "markdown",
      "source": [
        "🧪 **Exemplo em código:**"
      ],
      "metadata": {
        "id": "1hJjA4eLtbNG"
      }
    },
    {
      "cell_type": "code",
      "source": [
        "import time\n",
        "\n",
        "def ler_site():\n",
        "    print(\"Acessando site...\")\n",
        "    time.sleep(3)  # Simula o tempo de espera pela internet\n",
        "    print(\"Dados recebidos.\")\n",
        "\n",
        "print(ler_site())"
      ],
      "metadata": {
        "colab": {
          "base_uri": "https://localhost:8080/"
        },
        "id": "gX4jwaqstdSZ",
        "outputId": "6fd2592c-26c8-4dee-85ee-cc9e054e0095"
      },
      "execution_count": null,
      "outputs": [
        {
          "output_type": "stream",
          "name": "stdout",
          "text": [
            "Acessando site...\n",
            "Dados recebidos.\n",
            "None\n"
          ]
        }
      ]
    },
    {
      "cell_type": "markdown",
      "source": [
        "### **3. O que é GIL (Global Interpreter Lock)?**"
      ],
      "metadata": {
        "id": "fQyQMBq_uDa1"
      }
    },
    {
      "cell_type": "markdown",
      "source": [
        "**Explicação:**\n",
        "\n",
        "O **GIL** é uma trava interna do Python (especificamente da versão mais comum, chamada **CPython**). Ele garante que **apenas uma thread execute código Python por vez**, mesmo em computadores com múltiplos núcleos.\n",
        "\n",
        "Isso **evita problemas de concorrência** (dois pedaços de código tentando acessar os mesmos dados ao mesmo tempo), mas também **limita o desempenho em tarefas CPU-bound**."
      ],
      "metadata": {
        "id": "zy-5T-tsuDMM"
      }
    },
    {
      "cell_type": "markdown",
      "source": [
        "**Analogia:**\n",
        "\n",
        "Pense em um restaurante com vários cozinheiros, mas **só um pode usar a frigideira de cada vez**. Mesmo tendo vários funcionários, você perde desempenho se todos precisarem usar a mesma coisa ao mesmo tempo."
      ],
      "metadata": {
        "id": "c_hkS2bouqLl"
      }
    },
    {
      "cell_type": "markdown",
      "source": [
        "🧠 **Por que isso importa?**\n",
        "- Em tarefas leves ou que envolvem espera (I/O-bound), o GIL não atrapalha muito.\n",
        "\n",
        "- Em tarefas de cálculo pesado, o GIL pode se tornar um problema de desempenho se você estiver usando threads."
      ],
      "metadata": {
        "id": "ffcD8E8svBEB"
      }
    },
    {
      "cell_type": "markdown",
      "source": [
        "## **⚙️ Threads e Multiprocessing**"
      ],
      "metadata": {
        "id": "hJhYLHJfzVZN"
      }
    },
    {
      "cell_type": "markdown",
      "source": [
        "### **4. O que são Threads? (Multithreading)**"
      ],
      "metadata": {
        "id": "g-tpwTSQvVic"
      }
    },
    {
      "cell_type": "markdown",
      "source": [
        "**Explicação:**\n",
        "\n",
        "Threads **são pequenas unidades de execução** que rodam \"ao mesmo tempo\" dentro do mesmo programa. A ideia é fazer várias tarefas em paralelo, **compartilhando a memória do processo principal**."
      ],
      "metadata": {
        "id": "qfu6qILdvVEI"
      }
    },
    {
      "cell_type": "markdown",
      "source": [
        "**Analogia:**\n",
        "\n",
        "Como várias pessoas trabalhando ao mesmo tempo na mesma cozinha, mas dividindo os mesmos ingredientes e utensílios."
      ],
      "metadata": {
        "id": "H2IyWsYawL0W"
      }
    },
    {
      "cell_type": "markdown",
      "source": [
        "🧠 **Ideal para:**\n",
        "\n",
        "Programas que esperam coisas externas (I/O-bound), como:\n",
        "\n",
        "- Aguardar resposta da internet\n",
        "\n",
        "- Esperar leitura de arquivos"
      ],
      "metadata": {
        "id": "Tm0gBKVKwoA9"
      }
    },
    {
      "cell_type": "markdown",
      "source": [
        "⚠️ **Cuidado:**\n",
        "\n",
        "- Não serve bem para tarefas CPU-bound por causa do GIL.\n",
        "\n",
        "- Pode gerar erros difíceis de encontrar se várias threads mexerem nos mesmos dados ao mesmo tempo."
      ],
      "metadata": {
        "id": "g5Quug3jyiE1"
      }
    },
    {
      "cell_type": "markdown",
      "source": [
        "🧪 **Exemplo em código:**"
      ],
      "metadata": {
        "id": "fmaPJvWAzAE7"
      }
    },
    {
      "cell_type": "code",
      "source": [
        "import threading\n",
        "import time\n",
        "\n",
        "def tarefa():\n",
        "    print(\"Tarefa começou\")\n",
        "    time.sleep(2)\n",
        "    print(\"Tarefa terminou\")\n",
        "\n",
        "t1 = threading.Thread(target=tarefa)\n",
        "t2 = threading.Thread(target=tarefa)\n",
        "\n",
        "t1.start()\n",
        "t2.start()\n",
        "t1.join()\n",
        "t2.join()\n"
      ],
      "metadata": {
        "colab": {
          "base_uri": "https://localhost:8080/"
        },
        "id": "KeaElBiezECc",
        "outputId": "5303fe6d-202e-43fd-c433-999a92d8fc7b"
      },
      "execution_count": null,
      "outputs": [
        {
          "output_type": "stream",
          "name": "stdout",
          "text": [
            "Tarefa começou\n",
            "Tarefa começou\n",
            "Tarefa terminou\n",
            "Tarefa terminou\n"
          ]
        }
      ]
    },
    {
      "cell_type": "markdown",
      "source": [
        "### **5. O que é Multiprocessing?**"
      ],
      "metadata": {
        "id": "qkbL5-HfCCk_"
      }
    },
    {
      "cell_type": "markdown",
      "source": [
        "**Explicação:**\n",
        "\n",
        "multiprocessing é uma forma de rodar **vários processos separados**, cada um com sua própria memória e **sem depender do GIL**. É como abrir vários programas Python ao mesmo tempo, cada um cuidando de uma parte do trabalho."
      ],
      "metadata": {
        "id": "PdJtIsYMCCSE"
      }
    },
    {
      "cell_type": "markdown",
      "source": [
        "**Analogia:**\n",
        "\n",
        "Agora cada cozinheiro tem **sua própria cozinha**: ninguém atrapalha ninguém. Ideal para tarefas pesadas!"
      ],
      "metadata": {
        "id": "N7uEVQ0KDjyt"
      }
    },
    {
      "cell_type": "markdown",
      "source": [
        "🧠 **Ideal para:**\n",
        "\n",
        "- Programas que fazem cálculos pesados (CPU-bound)\n",
        "\n",
        "- Dividir trabalho entre núcleos da CPU"
      ],
      "metadata": {
        "id": "rXpMQFt3DyWm"
      }
    },
    {
      "cell_type": "markdown",
      "source": [
        "🧪 **Exemplo:**"
      ],
      "metadata": {
        "id": "DXs_rjEUD4ow"
      }
    },
    {
      "cell_type": "code",
      "source": [
        "from multiprocessing import Process\n",
        "\n",
        "def tarefa_pesada():\n",
        "    total = sum(range(10**7))\n",
        "    print(f\"Resultado: {total}\")\n",
        "\n",
        "p1 = Process(target=tarefa_pesada)\n",
        "p2 = Process(target=tarefa_pesada)\n",
        "\n",
        "p1.start()\n",
        "p2.start()\n",
        "p1.join()\n",
        "p2.join()"
      ],
      "metadata": {
        "colab": {
          "base_uri": "https://localhost:8080/"
        },
        "id": "2liftFcrD-iJ",
        "outputId": "315a1c88-49a7-49fa-b746-24df0f0efb80"
      },
      "execution_count": null,
      "outputs": [
        {
          "output_type": "stream",
          "name": "stdout",
          "text": [
            "Resultado: 49999995000000Resultado: 49999995000000\n",
            "\n"
          ]
        }
      ]
    },
    {
      "cell_type": "markdown",
      "source": [
        "## **⚙️ O que é TDD (Test Driven Development)?**"
      ],
      "metadata": {
        "id": "7Or8vhcZEoej"
      }
    },
    {
      "cell_type": "markdown",
      "source": [
        "**Explicação:**\n",
        "\n",
        "**TDD** significa \"Desenvolvimento Guiado por Testes\". É uma técnica onde você **escreve o teste primeiro**, antes de escrever o código da função.\n",
        "\n",
        "O objetivo é garantir que **o que você está escrevendo faz exatamente o que deveria fazer**."
      ],
      "metadata": {
        "id": "Cwbg_aFdEoEa"
      }
    },
    {
      "cell_type": "markdown",
      "source": [
        "**Analogia:**\n",
        "\n",
        "É como escrever o gabarito antes de fazer a prova: você sabe exatamente o que é esperado antes de começar."
      ],
      "metadata": {
        "id": "m04OSWbiFPZL"
      }
    },
    {
      "cell_type": "markdown",
      "source": [
        "🧠 **Por que usar TDD?**\n",
        "\n",
        "- Ajuda a organizar o código\n",
        "\n",
        "- Garante que não quebre nada sem querer\n",
        "\n",
        "- Dá segurança para mudar e melhorar o código depois"
      ],
      "metadata": {
        "id": "6bjCraW4FWpg"
      }
    },
    {
      "cell_type": "markdown",
      "source": [
        "✅ **Um modelo é TDD se seguir essa sequência:**\n",
        "\n",
        "- 1- Você escreve os testes primeiro, sem ter ainda implementado as funções.\n",
        "\n",
        "- 2- Ao rodar os testes, eles falham, porque as funções ainda nem existem (isso é esperado!).\n",
        "\n",
        "- 3- Aí você vai implementando o código aos poucos, até os testes passarem.\n",
        "\n",
        "- 4- Por fim, você refatora (melhora) o código, mantendo os testes passando.\n",
        "\n"
      ],
      "metadata": {
        "id": "0pk_htj8Gv3J"
      }
    },
    {
      "cell_type": "markdown",
      "source": [
        "🧪 **Exemplo simples com pytest:** É mais moderno e simples de usar. Você escreve testes como funções comuns."
      ],
      "metadata": {
        "id": "QU6Ilw_9Frfe"
      }
    },
    {
      "cell_type": "code",
      "source": [
        "# Primeiro escrevemos o teste:\n",
        "def test_somar():\n",
        "    assert somar(2, 3) == 5\n",
        "\n",
        "# Depois implementamos a função:\n",
        "def somar(a, b):\n",
        "    return a + b"
      ],
      "metadata": {
        "id": "rmE5OoyVFtt0"
      },
      "execution_count": null,
      "outputs": []
    },
    {
      "cell_type": "markdown",
      "source": [
        "Para rodar o teste, basta usar o pytest:"
      ],
      "metadata": {
        "id": "kRCUBOEcF5BF"
      }
    },
    {
      "cell_type": "code",
      "source": [
        "$ pytest nome_do_arquivo.py"
      ],
      "metadata": {
        "id": "Q8qrhUPGF6qM"
      },
      "execution_count": null,
      "outputs": []
    },
    {
      "cell_type": "markdown",
      "source": [
        "🧪 Exemplo simples com unittest: Vem com o Python, mais \"formal\", baseado em classes."
      ],
      "metadata": {
        "id": "HDIGAnp2IeFD"
      }
    },
    {
      "cell_type": "code",
      "source": [
        "# escrevendo os testes primeiro:\n",
        "import unittest\n",
        "from operacoes import eh_par  # a função ainda não existe!\n",
        "\n",
        "class TestOperacoes(unittest.TestCase):\n",
        "    def test_numero_par(self):\n",
        "        self.assertTrue(eh_par(4))  # 4 é par\n",
        "\n",
        "    def test_numero_impar(self):\n",
        "        self.assertFalse(eh_par(5))  # 5 é ímpar\n",
        "\n",
        "if __name__ == '__main__':\n",
        "    unittest.main()"
      ],
      "metadata": {
        "id": "SRGpvNtnIxah"
      },
      "execution_count": null,
      "outputs": []
    },
    {
      "cell_type": "markdown",
      "source": [
        "Tenta rodar esse teste"
      ],
      "metadata": {
        "id": "zd3Nr7VJI9Ny"
      }
    },
    {
      "cell_type": "code",
      "source": [
        "python test_operacoes.py"
      ],
      "metadata": {
        "id": "g6VY9XrOI_tP"
      },
      "execution_count": null,
      "outputs": []
    },
    {
      "cell_type": "markdown",
      "source": [
        "🔴 Vai dar erro! A função eh_par ainda não existe. Isso é esperado no TDD."
      ],
      "metadata": {
        "id": "jX7S-lIfJDLa"
      }
    },
    {
      "cell_type": "markdown",
      "source": [
        "**Cria o código mínimo para passar no teste**\n",
        "\n",
        "Crie um arquivo operacoes.py com a função que falta:"
      ],
      "metadata": {
        "id": "DC99XSqAJJeo"
      }
    },
    {
      "cell_type": "code",
      "source": [
        "def eh_par(numero):\n",
        "    return numero % 2 == 0"
      ],
      "metadata": {
        "id": "BZ6QOpZeJSSM"
      },
      "execution_count": null,
      "outputs": []
    },
    {
      "cell_type": "markdown",
      "source": [
        "Roda os testes novamente"
      ],
      "metadata": {
        "id": "eTQcDPZNJYh6"
      }
    },
    {
      "cell_type": "code",
      "source": [
        "python test_operacoes.py"
      ],
      "metadata": {
        "id": "zzkbiZFuJaex"
      },
      "execution_count": null,
      "outputs": []
    },
    {
      "cell_type": "markdown",
      "source": [
        "✅ Agora os testes passam!"
      ],
      "metadata": {
        "id": "MC8OtdFKJdS6"
      }
    },
    {
      "cell_type": "markdown",
      "source": [
        "**(Opcional) Refatoração**\n",
        "\n",
        "Nesse caso, o código já está limpo, mas se estivesse complicado, a ideia agora seria melhorá-lo **sem quebrar os testes**."
      ],
      "metadata": {
        "id": "fSw10m4sJjtu"
      }
    },
    {
      "cell_type": "markdown",
      "source": [
        "🧪 **Comparação: unittest vs pytest**"
      ],
      "metadata": {
        "id": "1Z1cVs3AJtes"
      }
    },
    {
      "cell_type": "code",
      "source": [
        "\t             unittest\t                 pytest\n",
        "Estilo\t     | Classes com métodos\t   | Funções simples\n",
        "Verbosidade\t | Mais verboso\t           | Mais direto\n",
        "Popularidade | Muito usado em empresas | Muito usado em projetos novos\n",
        "TDD?\t       | ✅ Suporta TDD          | ✅ Também"
      ],
      "metadata": {
        "id": "SckYHQhYJx3_"
      },
      "execution_count": null,
      "outputs": []
    },
    {
      "cell_type": "markdown",
      "source": [
        "## **⚙️ Binary Search (Busca Binária)**"
      ],
      "metadata": {
        "id": "poXtzG379NM5"
      }
    },
    {
      "cell_type": "markdown",
      "source": [
        "A **Busca Binária** é um algoritmo super rápido para procurar um valor dentro de uma **lista ordenada**.\n",
        "\n",
        "**Ela funciona assim:**\n",
        "\n",
        "- 1- Pega o elemento do meio da lista.\n",
        "\n",
        "- 2- Se for o que você quer, acabou!\n",
        "\n",
        "- 3- Se o número for maior, ignora a metade de baixo.\n",
        "\n",
        "- 4- Se for menor, ignora a metade de cima.\n",
        "\n",
        "- 5- Repete até encontrar ou a lista acabar."
      ],
      "metadata": {
        "id": "B3FpcKog9MX5"
      }
    },
    {
      "cell_type": "markdown",
      "source": [
        "🔎 **Analogia:**\n",
        "\n",
        "Pense em um dicionário. Se você quer encontrar a palavra \"morango\", você **não vai folhear página por página**. Você vai no meio, vê se está perto, e vai afinando até achar."
      ],
      "metadata": {
        "id": "dI2Z_rYp_jBK"
      }
    },
    {
      "cell_type": "markdown",
      "source": [
        "🧠 **Exemplo prático:**\n",
        "\n",
        "Vamos procurar o número 42 nesta lista ordenada:"
      ],
      "metadata": {
        "id": "qmSsAaJK_roA"
      }
    },
    {
      "cell_type": "code",
      "source": [
        "numeros = [10, 18, 22, 33, 42, 57, 63, 71, 89]"
      ],
      "metadata": {
        "id": "ZIRg0ZDn_u6Y"
      },
      "execution_count": null,
      "outputs": []
    },
    {
      "cell_type": "markdown",
      "source": [
        "Código com resolução comentada:"
      ],
      "metadata": {
        "id": "eUrMDnYK_17d"
      }
    },
    {
      "cell_type": "code",
      "source": [
        "def busca_binaria(lista, alvo):\n",
        "    inicio = 0\n",
        "    fim = len(lista) - 1\n",
        "\n",
        "    while inicio <= fim:\n",
        "        meio = (inicio + fim) // 2 # calcula o índice do meio\n",
        "        chute = lista[meio] # valor do meio da lista\n",
        "\n",
        "        print(f\"Verificando índice {meio}: {chute}\")\n",
        "\n",
        "        if chute == alvo: # achou!\n",
        "            return meio\n",
        "        elif chute < alvo: # ignora a metade de baixo\n",
        "            inicio = meio + 1\n",
        "        else: # ignora a metade de cima\n",
        "            fim = meio - 1\n",
        "\n",
        "    return -1  # se não encontrar\n",
        "\n",
        "# código para testar a função\n",
        "if __name__ == '__main__':\n",
        "    numeros = [10, 18, 22, 33, 42, 57, 63, 71, 89]\n",
        "    procurado = 42\n",
        "    resultado = busca_binaria(numeros, procurado)\n",
        "\n",
        "    if resultado != -1:\n",
        "        print(f\"Número {procurado} encontrado no índice {resultado}\")\n",
        "    else:\n",
        "        print(\"Número não encontrado.\")"
      ],
      "metadata": {
        "colab": {
          "base_uri": "https://localhost:8080/"
        },
        "id": "87ggtQFG_4oS",
        "outputId": "68bea3cc-571a-4ca6-bf4b-e41e57a3e238"
      },
      "execution_count": null,
      "outputs": [
        {
          "output_type": "stream",
          "name": "stdout",
          "text": [
            "Verificando índice 4: 42\n",
            "Número 42 encontrado no índice 4\n"
          ]
        }
      ]
    },
    {
      "cell_type": "markdown",
      "source": [
        "▶️ **Como executar:**\n",
        "\n",
        "Abra o terminal, vá até a pasta onde está o arquivo, e rode:"
      ],
      "metadata": {
        "id": "XwyQbnXDEpFs"
      }
    },
    {
      "cell_type": "code",
      "source": [
        "python3 busca_binaria.py"
      ],
      "metadata": {
        "id": "p8olU7opE1qZ"
      },
      "execution_count": null,
      "outputs": []
    },
    {
      "cell_type": "markdown",
      "source": [
        "**Explicando:**\n",
        "- lista → é a lista onde vamos procurar.\n",
        "\n",
        "- alvo → é o número que queremos encontrar.\n",
        "\n",
        "- inicio, fim → são os limites da parte da lista que estamos olhando.\n",
        "\n",
        "- meio → calcula a posição central da lista atual.\n",
        "\n",
        "- while → repete até encontrar ou passar do limite.\n",
        "\n",
        "- return → devolve a posição onde encontrou (ou -1 se não encontrou)."
      ],
      "metadata": {
        "id": "trk7egNpEXYn"
      }
    },
    {
      "cell_type": "markdown",
      "source": [
        "⚠️ **Lembrete importante:**\n",
        "\n",
        "A **lista precisa estar ordenada** pra usar Binary Search. Se não estiver, o resultado vai dar errado."
      ],
      "metadata": {
        "id": "fLJlIukXARtl"
      }
    },
    {
      "cell_type": "markdown",
      "source": [
        "## **⚙️ Bubble Sort (Ordenação por Bolha)**"
      ],
      "metadata": {
        "id": "6UU3MTDpBalG"
      }
    },
    {
      "cell_type": "markdown",
      "source": [
        "É um algoritmo de ordenação simples que **compara os elementos aos pares** e os troca de lugar **se estiverem fora de ordem**.\n",
        "\n",
        "Esse processo **se repete várias vezes**, até que a lista esteja ordenada."
      ],
      "metadata": {
        "id": "p4z9kXCjBaVV"
      }
    },
    {
      "cell_type": "markdown",
      "source": [
        "**Analogia:**\n",
        "\n",
        "Pensa em bolhas subindo na água: os valores grandes vão \"subindo\" pro fim da lista como bolhas."
      ],
      "metadata": {
        "id": "WKk6baFmB8PO"
      }
    },
    {
      "cell_type": "markdown",
      "source": [
        "🧠 **Exemplo:**\n",
        "\n",
        "Vamos ordenar esta lista:"
      ],
      "metadata": {
        "id": "g8kwuyP8B_4I"
      }
    },
    {
      "cell_type": "code",
      "source": [
        "numeros = [5, 1, 4, 2, 8]"
      ],
      "metadata": {
        "id": "X2Loi57vCC-5"
      },
      "execution_count": null,
      "outputs": []
    },
    {
      "cell_type": "markdown",
      "source": [
        "Código com resolução comentada:"
      ],
      "metadata": {
        "id": "5WPgYa0bChZ2"
      }
    },
    {
      "cell_type": "code",
      "source": [
        "def bubble_sort(lista):\n",
        "    n = len(lista)\n",
        "    for i in range(n):\n",
        "        for j in range(0, n-i-1): # percorre até o final da parte ainda não ordenada\n",
        "            if lista[j] > lista[j+1]:\n",
        "                # Troca se o da esquerda for maior que o da direita\n",
        "                lista[j], lista[j+1] = lista[j+1], lista[j]\n",
        "                print(f\"Troca: {lista}\")\n",
        "    return lista\n",
        "\n",
        "# código para testar a função\n",
        "if __name__ == '__main__':\n",
        "    numeros = [5, 1, 4, 2, 8]\n",
        "    print(\"Lista original:\", numeros)\n",
        "    ordenada = bubble_sort(numeros)\n",
        "    print(\"Lista ordenada:\", ordenada)"
      ],
      "metadata": {
        "colab": {
          "base_uri": "https://localhost:8080/"
        },
        "id": "q2s8jpOYCkTU",
        "outputId": "ef939d32-9049-46fe-ef14-768fe784875c"
      },
      "execution_count": null,
      "outputs": [
        {
          "output_type": "stream",
          "name": "stdout",
          "text": [
            "Lista original: [5, 1, 4, 2, 8]\n",
            "Troca: [1, 5, 4, 2, 8]\n",
            "Troca: [1, 4, 5, 2, 8]\n",
            "Troca: [1, 4, 2, 5, 8]\n",
            "Troca: [1, 2, 4, 5, 8]\n",
            "Lista ordenada: [1, 2, 4, 5, 8]\n"
          ]
        }
      ]
    },
    {
      "cell_type": "markdown",
      "source": [
        "▶️ **Como executar:**\n",
        "\n",
        "No terminal, rode:"
      ],
      "metadata": {
        "id": "kpf15QBoFgdA"
      }
    },
    {
      "cell_type": "code",
      "source": [
        "python3 bubble_sort.py"
      ],
      "metadata": {
        "id": "YPCGyKv7Fjq6"
      },
      "execution_count": null,
      "outputs": []
    },
    {
      "cell_type": "markdown",
      "source": [
        "🧠 **Explicando:**\n",
        "\n",
        "- for i in range(n) → controla quantas passagens serão feitas.\n",
        "\n",
        "- for j in range(0, n - i - 1) → compara os pares de elementos.\n",
        "\n",
        "- if lista[j] > lista[j+1] → se o da esquerda for maior, troca com o da direita.\n",
        "\n",
        "- lista[j], lista[j+1] = lista[j+1], lista[j] → essa é a \"troca\"."
      ],
      "metadata": {
        "id": "HhBOLXGZFn_O"
      }
    },
    {
      "cell_type": "markdown",
      "source": [
        "📚 **Dica Final: Como testar com outros valores**\n",
        "\n",
        "Você pode mudar a lista de números ou pedir para o usuário digitar, por exemplo:"
      ],
      "metadata": {
        "id": "_qbeyJhHGPWv"
      }
    },
    {
      "cell_type": "code",
      "source": [
        "numeros = list(map(int, input(\"Digite números separados por espaço: \").split()))"
      ],
      "metadata": {
        "id": "QvNIvulQGVcX"
      },
      "execution_count": null,
      "outputs": []
    }
  ]
}