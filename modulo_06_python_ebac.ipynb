{
  "nbformat": 4,
  "nbformat_minor": 0,
  "metadata": {
    "colab": {
      "provenance": [],
      "collapsed_sections": [
        "RIm2_q2AHItw",
        "HPKAm7ghCgPi",
        "vg4PtwwWvpkp"
      ],
      "authorship_tag": "ABX9TyOM9IxRHTFTqhsNkl+cyiDz",
      "include_colab_link": true
    },
    "kernelspec": {
      "name": "python3",
      "display_name": "Python 3"
    },
    "language_info": {
      "name": "python"
    }
  },
  "cells": [
    {
      "cell_type": "markdown",
      "metadata": {
        "id": "view-in-github",
        "colab_type": "text"
      },
      "source": [
        "<a href=\"https://colab.research.google.com/github/AndreDG88/anotacoes_python_curso_ebac/blob/main/modulo_06_python_ebac.ipynb\" target=\"_parent\"><img src=\"https://colab.research.google.com/assets/colab-badge.svg\" alt=\"Open In Colab\"/></a>"
      ]
    },
    {
      "cell_type": "markdown",
      "source": [
        "# **Módulo 06**\n",
        "### Programação Orientada a Objetos\n"
      ],
      "metadata": {
        "id": "PgcbIwAHvexs"
      }
    },
    {
      "cell_type": "markdown",
      "source": [
        "O terceiro paradigma da programação que vamos ver aqui. Ele ira nos permitir fazer a reutilização de códigos, definir uma tarefa, e a partir delas criar outras mais específicas tendo a primeira como base."
      ],
      "metadata": {
        "id": "u8uVJ5nZzZNA"
      }
    },
    {
      "cell_type": "markdown",
      "source": [
        "## **1 - Um pouco de teoria**"
      ],
      "metadata": {
        "id": "RIm2_q2AHItw"
      }
    },
    {
      "cell_type": "markdown",
      "source": [
        "Para começar nosso entendimento da orientação a objetos, vamos ver os três conceitos em que podemos dividir esse paradigma. Estes são as *classes*, os *objetos* e as *heranças*.\n",
        "\n",
        "Imagine uma pessoa genérica. Essa pessoa possui características que todos nós sabemos que uma pessoa deve ter. Ela deve ter um nome, uma idade e um documento. Estes são seus \"atributos\".\n",
        "\n",
        "Sabemos também que está pessoa realiza ações no seu dia a dia, ela se move, dorme e come. Estes são seus \"métodos\". E a partir deste molde base de pessoa que criamos, com seus atributos e métodos, podemos pensar e definir pessoas específicas.\n",
        "\n",
        "O pedro, seu nome é Pedro Augusto, ele tem 35 anos de idade e seu documento é 123.456.789-10. Ele pode realizar todos os métodos que uma pessoa realiza. E temos a Maria, o André, todos pessoas distintas, mas sendo *\"instâncias\"* da definição pessoa."
      ],
      "metadata": {
        "id": "kDV47uXtziUB"
      }
    },
    {
      "cell_type": "markdown",
      "source": [
        "### **1.1 - Classe**"
      ],
      "metadata": {
        "id": "4PIfq3sxezrU"
      }
    },
    {
      "cell_type": "markdown",
      "source": [
        "As classes servem como a representação de um elemento, um conceito, sendo ele real ou não. Como na explicação acima, uma classe é como a definição de uma pessoa que falamos.\n",
        "\n",
        "Ela é uma *receita* que define as caracteristas(atributos) e ações(métodos) que compõem um novo **objeto**(instância). Sabendo como \"*montar*\" um elemento, podemos criar um mais específico para uma situação ou função."
      ],
      "metadata": {
        "id": "_OIlIVy0zuiD"
      }
    },
    {
      "cell_type": "markdown",
      "source": [
        "### **1.2 - Objeto**"
      ],
      "metadata": {
        "id": "QjW_uyh67v41"
      }
    },
    {
      "cell_type": "markdown",
      "source": [
        "O objeto é a instância de uma classe. Dentro de um código se quisermos fazer uso de uma classe, nós temos que tornar ela \"real\". Pois a classe é apenas um conceito, uma ideia. Então, criando um objeto a partir dela, transformamos esse conceito algo com o que possamos trabalhar.\n",
        "\n",
        "Um objeto, diferente de uma classe, tem seus atributos preenchidos. E com com estes atributos definidos, podemos executar seus métodos."
      ],
      "metadata": {
        "id": "skB6yca47vkd"
      }
    },
    {
      "cell_type": "markdown",
      "source": [
        "### **1.3 - Herança**"
      ],
      "metadata": {
        "id": "0K7GIHSSACHK"
      }
    },
    {
      "cell_type": "markdown",
      "source": [
        "Uma herança é uma especialização de uma classe. Uma nova classe que pode fazer uso dos atributos e métodos de uma outra clase, e apenas adicionar as diferêncas entre elas.\n",
        "\n",
        "O exemplo que usamos até aqui, a classe de pessoa, sabemos todas as características e métodos de uma pessoa. Mas se quisermos criar uma classe diferente, um estudante. Sabemos que um estudante também é uma pessoa, e pode fazer tudo o que uma pessoa faz.\n",
        "\n",
        "Então por que repetir todos os atributos e métodos de pessoa em estudante. Criamos o estudante como uma herança de pessoa, e definimos apenas os novos atributos e métodos que o diferência de ser apenas uma pessoa. Como faculdade que esta fazendo em atributos, e estudar em métodos."
      ],
      "metadata": {
        "id": "_oBGSYHRAAMK"
      }
    },
    {
      "cell_type": "markdown",
      "source": [
        "## **2 - Classes**"
      ],
      "metadata": {
        "id": "HPKAm7ghCgPi"
      }
    },
    {
      "cell_type": "markdown",
      "source": [
        "Como já entendemos, a classe é uma recieta para a criação de novos objetos. Uma definição genérica que vai permitir reutilizar um mesmo código diversas vezes."
      ],
      "metadata": {
        "id": "oU4ieh2xCf8G"
      }
    },
    {
      "cell_type": "markdown",
      "source": [
        "### **2.1 - Definição**"
      ],
      "metadata": {
        "id": "WBwNPJpLCv5E"
      }
    },
    {
      "cell_type": "markdown",
      "source": [
        "Para defirnirmos uma classe, usamos este tipo de estrutura:\n",
        "\n",
        "Começando em sua assinatura, criamos uma nova classe pela sua palavra reservada **Class**, e em seguida damos um nome a essa classe. Uma boa pratica a seguir, para poder diferencia uma chamada de classe de uma chamada de variável comum, é no nome de uma classe sempre começar com letra maiúscula. E escrever o nome em camel case.\n",
        "\n",
        "A assinatura da classe terá parenteses e dentro vamos escrever **object**, para definir que está classe irá criar objetos. Dentro desta classe, vamos começar a definir nossos atributos e métodos.\n",
        "\n",
        "Os métodos nada mais são do que as funções que está classe vai poder executar. Definimos elas da maneira que já aprendemos a definir funções. Coma única diferênça que em seus parenteses além dos parâmetros, temos de adicionar no início a palavra reservada \"self\".\n",
        "\n",
        "Para definirmos os atributos de um novo objeto gerado por uma classe, temos de trabalhar com a função **init**. Ela é uma função especial que vai ser executada sempre que utilizarmos a classe para criar um novo objeto. dentro dela, vamos passar os valores para os atributos. Ela também vai fazer uso da palavra reservada \"self\", tanto antes dos parâmetros, como na chamada dos atributos."
      ],
      "metadata": {
        "id": "2rDN-GG6CvnZ"
      }
    },
    {
      "cell_type": "code",
      "source": [
        "class NomeDaClasse(object):\n",
        "\n",
        "  def __init__(self, params):\n",
        "    self.atributo1 = ...\n",
        "    self.atributo2 = ...\n",
        "\n",
        "  def metodo1(self, params):\n",
        "    ...\n",
        "\n",
        "  def metodo2(self, params):\n",
        "    ..."
      ],
      "metadata": {
        "id": "v7XQmT8CFN1T"
      },
      "execution_count": null,
      "outputs": []
    },
    {
      "cell_type": "markdown",
      "source": [
        "Vamos começar nosso exemplo de uma maneira bem simples, para começarmos a entender conceito. Vamos criar a **classe** pessoa que pensamos antes. Criamos a classe a partir da sua palavra reservada, demos o nome de Pessoa, e definirmos que ela vai criar novos objetos em sua assinatura.\n",
        "\n",
        "De início vamos deixar sua função init de criação de atributos vazia. Mas como não se pode criar uma função sem nenhum código dentro, senão a execução do código quebra, vamos usar uma nova palavra reservada para poder seguir coma criação. A palavra reservada **pass.**\n",
        "\n",
        "O pass serve para indicar a lenguagem que aquela função está temporariamente vazia, ela permite que o código possa passar por essa função vazia sem quebrar. O pass pode ser usado em qualquer função. Não é um recurso exclusivo da orientação a objetos."
      ],
      "metadata": {
        "id": "TD_lgoPfKaai"
      }
    },
    {
      "cell_type": "code",
      "source": [
        "class Pessoa(object):\n",
        "\n",
        "  def __init__(self):\n",
        "    pass"
      ],
      "metadata": {
        "id": "xneMeuCiF0Np"
      },
      "execution_count": null,
      "outputs": []
    },
    {
      "cell_type": "markdown",
      "source": [
        "### **2.2 - Atributos**"
      ],
      "metadata": {
        "id": "JoYZaLnVL44C"
      }
    },
    {
      "cell_type": "markdown",
      "source": [
        "Os atributos representam as caracteristcas da classe, seus valores a serem preenchidos para definir um novo objeto.\n",
        "Eles são variáveis que armazeram um valor pertencente a classe.\n",
        "\n",
        "**Self**\n",
        "\n",
        "Agora vale uma explicação do por que usamos tanto nesta estrutura a palavra reservada **\"self\"**. Em sua tradução ela já nos da uma pista \"próprio\". Sua função é diferencia as variáveis e parâmetros à quais ela está ligada.\n",
        "\n",
        "Ela estar sendo usada no contexto que estamos tratando significa que estes elementos pertencem a está classe e aos objetos forem gerados por ela. Eles estão conectados e não podem ser usados sem ser relacionados a sua origem.\n",
        "\n",
        "Sempre utilizaremos o self quando estivermos trabalhando com orientação a objetos. Quando estivermos referênciando p próprio objeto em que estamos trabalhando."
      ],
      "metadata": {
        "id": "ZpujE6iEL4qh"
      }
    },
    {
      "cell_type": "markdown",
      "source": [
        "Conseguimos definir os valores para estes atributos que definos, quando criamos um novo objeto, a partir dos parâmetros.\n",
        "\n",
        "Quando criamos a função init, definimos parâmetros e os definimos como valores de seus respectivos selfs. E desta forma garantimos que ao instância um novo objeto a partir da classe, os atributos seram passados a nova estrutura."
      ],
      "metadata": {
        "id": "lTVvK-SMnQDv"
      }
    },
    {
      "cell_type": "code",
      "source": [
        "class Pessoa(object):\n",
        "\n",
        "  def __init__(self, nome: str, idade: int, documento: str):\n",
        "    self.nome = nome\n",
        "    self.idade = idade\n",
        "    self.documento = documento"
      ],
      "metadata": {
        "id": "kMOi7p-xjnKL"
      },
      "execution_count": null,
      "outputs": []
    },
    {
      "cell_type": "markdown",
      "source": [
        "### **2.3 - Métodos**"
      ],
      "metadata": {
        "id": "IgHUKgfsodSu"
      }
    },
    {
      "cell_type": "markdown",
      "source": [
        "Os métodos representam todas as ações que aquela classe pode executar."
      ],
      "metadata": {
        "id": "y3yoIeIjodBO"
      }
    },
    {
      "cell_type": "code",
      "source": [
        "from time import sleep #Import de bibliotéca para uso do recurso sleep\n",
        "\n",
        "class Pessoa(object):\n",
        "\n",
        "  def __init__(self, nome: str, idade: int, documento: str = None):\n",
        "    self.nome = nome\n",
        "    self.idade = idade\n",
        "    self.documento = documento\n",
        "\n",
        "  def dormir(self, horas: int) -> None:\n",
        "    for hora in range(1, horas+ 1):\n",
        "      print(f'Dormindo por {hora} horas')\n",
        "      sleep(1)\n",
        "      # recurso que irá pausar a execução do código pelo numero de segundos que definirmos.\n",
        "\n",
        "  def falar(self, texto: str) -> None:\n",
        "    print(texto)\n",
        "\n",
        "  def __str__(self) -> str:\n",
        "    return f'{self.nome}, {self.idade} anos e documento numero {self.documento}'"
      ],
      "metadata": {
        "id": "3mOmvwVnpCNY"
      },
      "execution_count": null,
      "outputs": []
    },
    {
      "cell_type": "markdown",
      "source": [
        "No último método defino para a class pessoa, vimos um novo modelo de função o \"__str __\". Ele tem como objeto informar ao python o que ele deve mostrar quando usarmos o comando print a esta classe ou objetos gerados por ela.\n",
        "\n",
        "Todas estas funções e métodos que começam e terminam com dois underlines são conhecidos como **métodos mágicos** dentro do python. Todos os objetos possuem um conjunto de métodos mágicos que ajudam o python a interagir melhor com eles.\n",
        "\n",
        "O mais utilizado é o init. Já que é ele que tem a função de informar o python o que ele tem que fazer quando um novo objeto é criado de uma classe."
      ],
      "metadata": {
        "id": "umbQFz6ktY9D"
      }
    },
    {
      "cell_type": "markdown",
      "source": [
        "## **3 - Objetos**"
      ],
      "metadata": {
        "id": "vg4PtwwWvpkp"
      }
    },
    {
      "cell_type": "markdown",
      "source": [
        "Depois de toda essa teoria vista até aqui nesse módulo, vamos finalmente gerar um novo objeto, vamos instânciar um novo objeto a partir de uma classe. Vamos concretizar a definição presente nos códigos de uma classe."
      ],
      "metadata": {
        "id": "Y6kLfO4QvpAX"
      }
    },
    {
      "cell_type": "markdown",
      "source": [
        "### **3.1 - Definição**"
      ],
      "metadata": {
        "id": "PKyWCB_2vwl7"
      }
    },
    {
      "cell_type": "markdown",
      "source": [
        "Veja no exemplo como seria a estrutura de código para gerarmos um objeto.\n",
        "\n",
        "Após termos a nossa classe com sua estrutura completa de atributos e métodos, podemos criar nosso objeto. Sua criação é a partir da definição de uma variável, o nome da variável serpa claro o nome do objeto.\n",
        "\n",
        "Este objeto vai ter como valor a chamada da classe seguida de parenteses. Se sua classe tiver parâmetros e um init, os valores destes parâmetros devem ser informados nos parenteses, na hora de criar o objeto. Senão ocorrerá erros.\n",
        "\n",
        "Depois de criados, seus atributos e métodos podem ser acessados atrávez da chamada do objeto seguido de \".\" e o nome do atributo ou método em questão."
      ],
      "metadata": {
        "id": "bTYBShQrvwYM"
      }
    },
    {
      "cell_type": "code",
      "source": [
        "class NomeDaClasse(object):\n",
        "\n",
        "  def __init__(self, params):\n",
        "    self.atributo1 = ...\n",
        "    self.atributo2 = ...\n",
        "\n",
        "  def metodo1(self, params):\n",
        "    ...\n",
        "\n",
        "  def metodo2(self, params):\n",
        "    ...\n",
        "\n",
        "  objeto = NomeDaClasse()\n",
        "\n",
        "  objeto.atributo\n",
        "  objeto.metodo"
      ],
      "metadata": {
        "id": "PL9VNfp-w-PK"
      },
      "execution_count": null,
      "outputs": []
    },
    {
      "cell_type": "markdown",
      "source": [
        "Voltando um pouco ao tópico do uso do ***self***, aqui podemos ver mais um exemplo da importância dele. O self vai representar o objeto dentro da estrutura, o python vai substituir a palavra self pelo nome do objeto na hora da execução do código.\n",
        "\n",
        "Nesta hoje que é feita a conexão entre os atributos e métodos ao novo objeto que está sendo criado."
      ],
      "metadata": {
        "id": "m1Tm__-Mz_s6"
      }
    },
    {
      "cell_type": "code",
      "source": [
        "andre = Pessoa(nome='André Soares', idade=36, documento='123.456.789-10')\n",
        "maria = Pessoa(nome='Maria Fulana', idade=25, documento='109.876.543-21')\n",
        "pedro = Pessoa(nome='Pedro Fulano', idade=8)"
      ],
      "metadata": {
        "id": "EYzL9edLxU93"
      },
      "execution_count": null,
      "outputs": []
    },
    {
      "cell_type": "markdown",
      "source": [
        "Obs: Repare que o último objeto pessoa não possui um parâmetro de documento definido. Isso por que talvez está pessoa não tem idade para ter um documento. Mas não tem problema por que nossa classe está deifina para que este parâmetro não tenha um valor obrigatório.\n",
        "\n",
        "Fizemos isso colocando \" = None\" após a tipagem do parâmetro."
      ],
      "metadata": {
        "id": "V5O2fTLz1jKq"
      }
    },
    {
      "cell_type": "markdown",
      "source": [
        "### **3.2 - Manipulação**"
      ],
      "metadata": {
        "id": "g-SxUCiF2Q-l"
      }
    },
    {
      "cell_type": "markdown",
      "source": [
        "- **Atributos**"
      ],
      "metadata": {
        "id": "06JTZZt12YIc"
      }
    },
    {
      "cell_type": "markdown",
      "source": [
        "O Python consegue fazer um gerenciamento através do self, e quando digitamos o nome do objeto seguido do ponto, ele puta toda a relação de atributos e métodos ligados a quele nome. Quando selecionamos um deles, o python o executa."
      ],
      "metadata": {
        "id": "gnLCi7ww4al-"
      }
    },
    {
      "cell_type": "code",
      "source": [
        "print(andre.nome)"
      ],
      "metadata": {
        "colab": {
          "base_uri": "https://localhost:8080/"
        },
        "id": "H6GERfFq2dVt",
        "outputId": "8c24caeb-cabc-49b1-c908-13eca49adf6d"
      },
      "execution_count": null,
      "outputs": [
        {
          "output_type": "stream",
          "name": "stdout",
          "text": [
            "André Soares\n"
          ]
        }
      ]
    },
    {
      "cell_type": "markdown",
      "source": [
        "E podemos usar deste artifício como se fosse uma variável para preenchimento e execução de outros códigos e funções."
      ],
      "metadata": {
        "id": "DUbeq62G5IHz"
      }
    },
    {
      "cell_type": "code",
      "source": [
        "def maior_de_idade(idade: int) -> bool:\n",
        "  return idade >= 18\n",
        "\n",
        "if maior_de_idade(idade=andre.idade):\n",
        "  print(f'{andre.nome} é maior de idade')"
      ],
      "metadata": {
        "colab": {
          "base_uri": "https://localhost:8080/"
        },
        "id": "LMAzyWAn2kJ1",
        "outputId": "30e367f7-7a73-4860-cbf1-423d2258b860"
      },
      "execution_count": null,
      "outputs": [
        {
          "output_type": "stream",
          "name": "stdout",
          "text": [
            "André Soares é maior de idade\n"
          ]
        }
      ]
    },
    {
      "cell_type": "code",
      "source": [
        "score_credito = {'123.456.789-10': 750, '109.876.543-21': 812, '789': 327}\n",
        "\n",
        "score = score_credito[andre.documento]\n",
        "print(score)"
      ],
      "metadata": {
        "colab": {
          "base_uri": "https://localhost:8080/"
        },
        "id": "C6HFGy6x7AYd",
        "outputId": "a1ea30cf-ced1-4aa5-fe5c-223dcec4227a"
      },
      "execution_count": null,
      "outputs": [
        {
          "output_type": "stream",
          "name": "stdout",
          "text": [
            "750\n"
          ]
        }
      ]
    },
    {
      "cell_type": "markdown",
      "source": [
        "- **Métodos**"
      ],
      "metadata": {
        "id": "julkWvTD76xH"
      }
    },
    {
      "cell_type": "markdown",
      "source": [
        "As chamadas de métodos são bem similares as chamadas de atributos. E da mesma forma, deve-se atentar ao uso dos parâmetros quando eles forem necessários."
      ],
      "metadata": {
        "id": "ZgHiih6L76hq"
      }
    },
    {
      "cell_type": "code",
      "source": [
        "andre.dormir(horas=2)"
      ],
      "metadata": {
        "colab": {
          "base_uri": "https://localhost:8080/"
        },
        "id": "upEf_Woe8SSJ",
        "outputId": "3ff51da8-4aa6-4c96-c0a3-77b7be430c77"
      },
      "execution_count": null,
      "outputs": [
        {
          "output_type": "stream",
          "name": "stdout",
          "text": [
            "Dormindo por 1 horas\n",
            "Dormindo por 2 horas\n"
          ]
        }
      ]
    },
    {
      "cell_type": "code",
      "source": [
        "andre.falar(texto='Olá, tudo bem?')"
      ],
      "metadata": {
        "colab": {
          "base_uri": "https://localhost:8080/"
        },
        "id": "n5MB2eSo8Zgz",
        "outputId": "a8478010-4684-43b8-d61b-839fc9d2f7e0"
      },
      "execution_count": null,
      "outputs": [
        {
          "output_type": "stream",
          "name": "stdout",
          "text": [
            "Olá, tudo bem?\n"
          ]
        }
      ]
    },
    {
      "cell_type": "code",
      "source": [
        "print(andre)"
      ],
      "metadata": {
        "colab": {
          "base_uri": "https://localhost:8080/"
        },
        "id": "gbU7_IWV8hmL",
        "outputId": "784c4be1-ad90-4cb9-e167-8fd2b69ceb1f"
      },
      "execution_count": null,
      "outputs": [
        {
          "output_type": "stream",
          "name": "stdout",
          "text": [
            "André Soares, 36 anos e documento numero 123.456.789-10\n"
          ]
        }
      ]
    },
    {
      "cell_type": "code",
      "source": [
        "type(andre)"
      ],
      "metadata": {
        "colab": {
          "base_uri": "https://localhost:8080/",
          "height": 104
        },
        "id": "gNmVoKXt8ky4",
        "outputId": "912f5eaa-df24-46c4-bcb6-a6bed1969d4f"
      },
      "execution_count": null,
      "outputs": [
        {
          "output_type": "execute_result",
          "data": {
            "text/plain": [
              "__main__.Pessoa"
            ],
            "text/html": [
              "<div style=\"max-width:800px; border: 1px solid var(--colab-border-color);\"><style>\n",
              "      pre.function-repr-contents {\n",
              "        overflow-x: auto;\n",
              "        padding: 8px 12px;\n",
              "        max-height: 500px;\n",
              "      }\n",
              "\n",
              "      pre.function-repr-contents.function-repr-contents-collapsed {\n",
              "        cursor: pointer;\n",
              "        max-height: 100px;\n",
              "      }\n",
              "    </style>\n",
              "    <pre style=\"white-space: initial; background:\n",
              "         var(--colab-secondary-surface-color); padding: 8px 12px;\n",
              "         border-bottom: 1px solid var(--colab-border-color);\"><b>Pessoa</b><br/>def __init__(nome: str, idade: int, documento: str=None)</pre><pre class=\"function-repr-contents function-repr-contents-collapsed\" style=\"\"><a class=\"filepath\" style=\"display:none\" href=\"#\"></a>&lt;no docstring&gt;</pre></div>"
            ]
          },
          "metadata": {},
          "execution_count": 34
        }
      ]
    },
    {
      "cell_type": "markdown",
      "source": [
        "### **3.3 - Exemplos**"
      ],
      "metadata": {
        "id": "OGrxNM_0Q_ra"
      }
    },
    {
      "cell_type": "markdown",
      "source": [
        "Tudo em python no final, é um objeto. Tudo o que vimos e estudamos até aqui, o python enxerga e trata com um objeto deste paradigma. Vamos ver isso em um exemplo."
      ],
      "metadata": {
        "id": "-lgaITDKQ_b2"
      }
    },
    {
      "cell_type": "code",
      "source": [
        "tipos = [type(10), type(1.1), type('EBAC'), type(True), type(None), type([1, 2, 3]), type({1, 2, 3}), type({'janeiro': 1}), type(lambda x: x)]"
      ],
      "metadata": {
        "id": "-buvGlYfUPiV"
      },
      "execution_count": null,
      "outputs": []
    },
    {
      "cell_type": "markdown",
      "source": [
        "Repare que ao imprimir os tipos de todos os items desta lista. Todos vem com \"class\" antes. Ou seja todos são objetos de uma classe."
      ],
      "metadata": {
        "id": "cjhQOnrlV9oQ"
      }
    },
    {
      "cell_type": "code",
      "source": [
        "for tipo in tipos:\n",
        "  print(tipo)"
      ],
      "metadata": {
        "colab": {
          "base_uri": "https://localhost:8080/"
        },
        "id": "KUl7u5taVJHu",
        "outputId": "df550e78-f6ef-4bc6-c673-1eceb7011d5d"
      },
      "execution_count": null,
      "outputs": [
        {
          "output_type": "stream",
          "name": "stdout",
          "text": [
            "<class 'int'>\n",
            "<class 'float'>\n",
            "<class 'str'>\n",
            "<class 'bool'>\n",
            "<class 'NoneType'>\n",
            "<class 'list'>\n",
            "<class 'set'>\n",
            "<class 'dict'>\n",
            "<class 'function'>\n"
          ]
        }
      ]
    },
    {
      "cell_type": "markdown",
      "source": [
        "E quando usamos os operadores de palavras reservadas, estamos utilizando na verdade métodos de objetos pertencentes a classes. Veja que o modo de utilizar é o mesmo."
      ],
      "metadata": {
        "id": "-FuWTu5oWb29"
      }
    },
    {
      "cell_type": "code",
      "source": [
        "nome = 'André Perez'\n",
        "print(nome.upper())"
      ],
      "metadata": {
        "colab": {
          "base_uri": "https://localhost:8080/"
        },
        "id": "dDbwROEbVP2t",
        "outputId": "76979b3a-1051-46c2-80e0-98b7746ade09"
      },
      "execution_count": null,
      "outputs": [
        {
          "output_type": "stream",
          "name": "stdout",
          "text": [
            "ANDRÉ PEREZ\n"
          ]
        }
      ]
    },
    {
      "cell_type": "code",
      "source": [
        "juros = [0.02, 0.07, 0.15]\n",
        "print(juros.pop(1))"
      ],
      "metadata": {
        "colab": {
          "base_uri": "https://localhost:8080/"
        },
        "id": "1DBLKwVYVYc7",
        "outputId": "2ea5d88e-e3a9-4857-fe15-2278f00eb1e7"
      },
      "execution_count": null,
      "outputs": [
        {
          "output_type": "stream",
          "name": "stdout",
          "text": [
            "0.07\n"
          ]
        }
      ]
    },
    {
      "cell_type": "markdown",
      "source": [
        "**Exemplo classe para Arquivo csv**"
      ],
      "metadata": {
        "id": "mh6Ks7wbYP9_"
      }
    },
    {
      "cell_type": "code",
      "source": [
        "class ArquivoCSV(object):\n",
        "\n",
        "#Repare que apesar de ter 3 atributos, só passamos um parâmetro aqui\n",
        "  def __init__(self, arquivo: str) -> None:\n",
        "    self.arquivo = arquivo\n",
        "    self.conteudo = self._extrair_conteudo()\n",
        "    self.colunas = self._extrair_nome_colunas()\n",
        "    #Os valores de conteudo e colunas vão ser os retornos de dois métodos internos.\n",
        "    #Estes métodos só são utilizados pelo init ao gerar um novo objeto.\n",
        "    #E por boa prática eles tem o nome iniciado por um underline, para identificação.\n",
        "\n",
        "  def _extrair_conteudo(self):\n",
        "    conteudo = None\n",
        "    with open(file=self.arquivo, mode='r', encoding='utf8') as arquivo:\n",
        "      conteudo = arquivo.readlines()\n",
        "    return conteudo\n",
        "\n",
        "  def _extrair_nome_colunas(self):\n",
        "    return self.conteudo[0].strip().split(sep=',')\n",
        "    #O strip tem a função de remover todos os \"/n\" de quebra de linha do conteúdo.\n",
        "\n",
        "  def extrair_coluna(self, indice_coluna: str):\n",
        "    coluna = list()\n",
        "    for linha in self.conteudo:\n",
        "      conteudo_linha = linha.strip().split(sep=',')\n",
        "      coluna.append(conteudo_linha[indice_coluna])\n",
        "    coluna.pop(0)\n",
        "    return coluna"
      ],
      "metadata": {
        "id": "iGszHeUfYtvI"
      },
      "execution_count": null,
      "outputs": []
    },
    {
      "cell_type": "code",
      "source": [
        "%%writefile banco.csv\n",
        "age,job,marital,education,default,balance,housing,loan\n",
        "30,unemployed,married,primary,no,1787,no,no\n",
        "33,services,married,secondary,no,4789,yes,yes\n",
        "35,management,single,tertiary,no,1350,yes,no\n",
        "30,management,married,tertiary,no,1476,yes,yes\n",
        "59,blue-collar,married,secondary,no,0,yes,no\n",
        "35,management,single,tertiary,no,747,no,no\n",
        "36,self-employed,married,tertiary,no,307,yes,no\n",
        "39,technician,married,secondary,no,147,yes,no\n",
        "41,entrepreneur,married,tertiary,no,221,yes,no\n",
        "43,services,married,primary,no,-88,yes,yes"
      ],
      "metadata": {
        "colab": {
          "base_uri": "https://localhost:8080/"
        },
        "id": "fzPCfl3fb1lS",
        "outputId": "440bac0f-b215-42c7-d67d-bf658d14ee0b"
      },
      "execution_count": null,
      "outputs": [
        {
          "output_type": "stream",
          "name": "stdout",
          "text": [
            "Overwriting banco.csv\n"
          ]
        }
      ]
    },
    {
      "cell_type": "code",
      "source": [
        "arquivo_banco = ArquivoCSV(arquivo='./banco.csv')"
      ],
      "metadata": {
        "id": "SHWipzEucF7V"
      },
      "execution_count": null,
      "outputs": []
    },
    {
      "cell_type": "code",
      "source": [
        "print(arquivo_banco.colunas)"
      ],
      "metadata": {
        "colab": {
          "base_uri": "https://localhost:8080/"
        },
        "id": "b41ghSIKc0J1",
        "outputId": "af755ccd-1b2a-4b12-d9df-325138d50ea9"
      },
      "execution_count": null,
      "outputs": [
        {
          "output_type": "stream",
          "name": "stdout",
          "text": [
            "['age', 'job', 'marital', 'education', 'default', 'balance', 'housing', 'loan']\n"
          ]
        }
      ]
    },
    {
      "cell_type": "markdown",
      "source": [
        "**Extraindo colunas**"
      ],
      "metadata": {
        "id": "bg0mpFlUc8O9"
      }
    },
    {
      "cell_type": "code",
      "source": [
        "job = arquivo_banco.extrair_coluna(indice_coluna=1)\n",
        "print(job)"
      ],
      "metadata": {
        "colab": {
          "base_uri": "https://localhost:8080/"
        },
        "id": "lk_oYYyXc_tl",
        "outputId": "054b3d24-0bce-4430-a92b-c16b353a6ee7"
      },
      "execution_count": null,
      "outputs": [
        {
          "output_type": "stream",
          "name": "stdout",
          "text": [
            "['unemployed', 'services', 'management', 'management', 'blue-collar', 'management', 'self-employed', 'technician', 'entrepreneur', 'services']\n"
          ]
        }
      ]
    },
    {
      "cell_type": "code",
      "source": [
        "education = arquivo_banco.extrair_coluna(indice_coluna=3)\n",
        "print(education)"
      ],
      "metadata": {
        "colab": {
          "base_uri": "https://localhost:8080/"
        },
        "id": "aYMLw8XIdM9F",
        "outputId": "47e93c54-1025-436d-a5f1-49e6a2598f1c"
      },
      "execution_count": null,
      "outputs": [
        {
          "output_type": "stream",
          "name": "stdout",
          "text": [
            "['primary', 'secondary', 'tertiary', 'tertiary', 'secondary', 'tertiary', 'tertiary', 'secondary', 'tertiary', 'primary']\n"
          ]
        }
      ]
    },
    {
      "cell_type": "markdown",
      "source": [
        "## **4 - Herança**"
      ],
      "metadata": {
        "id": "b0wpIrFhWhvh"
      }
    },
    {
      "cell_type": "markdown",
      "source": [
        "A herança é uma forma de podermos especializar uma classe, a partir de uma classe mais genérica. Adicionando a nova classe herança apenas ós atributos e métodos relevante a ela."
      ],
      "metadata": {
        "id": "nxVH8zXBWhfG"
      }
    },
    {
      "cell_type": "markdown",
      "source": [
        "### **4.1 - Definição**"
      ],
      "metadata": {
        "id": "5vQ3JSp4Wmlu"
      }
    },
    {
      "cell_type": "markdown",
      "source": [
        "Cria uma classe herança é relativamente simples. Sua criação se asemelha muito a criação de uma nova classe. Mas em vez de declarar que está classe vai dar origem a novos objetos, quando colocamos \"object\" em seus parenteses, vamos colocar nos parenteses o nome da classe em que a herança vai se basear.\n",
        "\n",
        "E ao iniciar o init da herança, devemos também iniciar o init da classe \"pai\". Fazemos isso através do método \"super\". Ele vem dentro do init da herança, antes dos atributos, e seguido da chamada de init da plasse pai. Como no exemplo abaixo."
      ],
      "metadata": {
        "id": "fQmnLaU7WmQJ"
      }
    },
    {
      "cell_type": "code",
      "source": [
        "class NomeClasse(object):\n",
        "\n",
        "  def __init__(self, params):\n",
        "    self.atributo1 = ...\n",
        "    self.atributo2 = ...\n",
        "\n",
        "  def metodo1(self, params):\n",
        "    ...\n",
        "\n",
        "  def metodo2(self, params):\n",
        "    ...\n",
        "\n",
        "class NomeClasseEspecializada(NomeClasse):\n",
        "\n",
        "  def __init__(self, params):\n",
        "    super().__init__(self, params)\n",
        "    self.atributo3 = ...\n",
        "    self.atributo4 = ...\n",
        "\n",
        "  def metodo3(self, params):\n",
        "    ...\n",
        "\n",
        "  def metodo4(self, params):\n",
        "    ..."
      ],
      "metadata": {
        "id": "s6iArF7-Wxwy"
      },
      "execution_count": null,
      "outputs": []
    },
    {
      "cell_type": "markdown",
      "source": [
        "**Exemplo:** criando uma herança para a classe pessoa."
      ],
      "metadata": {
        "id": "ZnsLrmvacEvd"
      }
    },
    {
      "cell_type": "markdown",
      "source": [
        "Vamos definir novamente a classe pessoa."
      ],
      "metadata": {
        "id": "XUvTNNxucXAk"
      }
    },
    {
      "cell_type": "code",
      "source": [
        "from time import sleep #Import de bibliotéca para uso do recurso sleep\n",
        "\n",
        "class Pessoa(object):\n",
        "\n",
        "  def __init__(self, nome: str, idade: int, documento: str = None):\n",
        "    self.nome = nome\n",
        "    self.idade = idade\n",
        "    self.documento = documento\n",
        "\n",
        "  def dormir(self, horas: int) -> None:\n",
        "    for hora in range(1, horas+ 1):\n",
        "      print(f'Dormindo por {hora} horas')\n",
        "      sleep(1)\n",
        "      # recurso que irá pausar a execução do código pelo numero de segundos que definirmos.\n",
        "\n",
        "  def falar(self, texto: str) -> None:\n",
        "    print(texto)\n",
        "\n",
        "  def __str__(self) -> str:\n",
        "    return f'{self.nome}, {self.idade} anos e documento numero {self.documento}'"
      ],
      "metadata": {
        "id": "i-VDo8fjcafp"
      },
      "execution_count": 1,
      "outputs": []
    },
    {
      "cell_type": "markdown",
      "source": [
        "Vamos criar para este exemplo também, uma terceira classe simples. A classe de Univercidade."
      ],
      "metadata": {
        "id": "QMp92RL2c3Qe"
      }
    },
    {
      "cell_type": "code",
      "source": [
        "class Universidade(object):\n",
        "\n",
        "  def __init__(self, nome: str):\n",
        "    self.nome = nome"
      ],
      "metadata": {
        "id": "hEEGGZo9c_UY"
      },
      "execution_count": 2,
      "outputs": []
    },
    {
      "cell_type": "markdown",
      "source": [
        "Agora vamos criar a nossa classe estudante."
      ],
      "metadata": {
        "id": "2B7WKFg8dcrj"
      }
    },
    {
      "cell_type": "code",
      "source": [
        "class Estudante(Pessoa):\n",
        "\n",
        "  def __init__(self, nome: str, idade: int, documento: str, universidade: Universidade):\n",
        "    #Na definição de parâmetros da classe herança, também devemos passar os atributos da classe pai.\n",
        "    super().__init__(nome=nome, idade=idade, documento=documento)\n",
        "    self.universidade = universidade\n",
        "    #Repare que no valor do parâmetro universidade, definimos os seu valor como outra classe, não um tipo nativo de python."
      ],
      "metadata": {
        "id": "GH92V_Brdjlu"
      },
      "execution_count": 6,
      "outputs": []
    },
    {
      "cell_type": "markdown",
      "source": [
        "### **4.2 - Manipulação**"
      ],
      "metadata": {
        "id": "vOCjvZmzhWCJ"
      }
    },
    {
      "cell_type": "code",
      "source": [
        "usp = Universidade(nome='Universidade de São Paulo')\n",
        "andre = Estudante(nome='André Soares', idade=36, documento='123.456.789-10', universidade=usp)"
      ],
      "metadata": {
        "id": "oRCL6E5yhhlK"
      },
      "execution_count": 7,
      "outputs": []
    },
    {
      "cell_type": "code",
      "source": [
        "print(andre)"
      ],
      "metadata": {
        "colab": {
          "base_uri": "https://localhost:8080/"
        },
        "id": "pT15fQ60hzTS",
        "outputId": "70904f77-40bc-4861-809b-0415e3b94526"
      },
      "execution_count": 8,
      "outputs": [
        {
          "output_type": "stream",
          "name": "stdout",
          "text": [
            "André Soares, 36 anos e documento numero 123.456.789-10\n"
          ]
        }
      ]
    },
    {
      "cell_type": "code",
      "source": [
        "print(andre.universidade.nome)"
      ],
      "metadata": {
        "colab": {
          "base_uri": "https://localhost:8080/"
        },
        "id": "PPb3U3qCh11D",
        "outputId": "aff22284-99ed-4c51-c823-e1f30e6b1df0"
      },
      "execution_count": 11,
      "outputs": [
        {
          "output_type": "stream",
          "name": "stdout",
          "text": [
            "Universidade de São Paulo\n"
          ]
        }
      ]
    }
  ]
}