{
  "nbformat": 4,
  "nbformat_minor": 0,
  "metadata": {
    "colab": {
      "provenance": [],
      "collapsed_sections": [
        "RIm2_q2AHItw",
        "1TXdHRGkyvuL",
        "udMuPSRG1U6F",
        "BpY7GQw4D6SK",
        "wv89VUGiX3b2",
        "Z-viu1fGdBEL",
        "4PIfq3sxezrU",
        "hK8f2RuZhwcj",
        "wtLeDSRos8eR",
        "BPm4QwTqzkC1",
        "TyPiR6V5-3WP"
      ],
      "authorship_tag": "ABX9TyPhQ2GOyIOxv+058fhoje8y",
      "include_colab_link": true
    },
    "kernelspec": {
      "name": "python3",
      "display_name": "Python 3"
    },
    "language_info": {
      "name": "python"
    }
  },
  "cells": [
    {
      "cell_type": "markdown",
      "metadata": {
        "id": "view-in-github",
        "colab_type": "text"
      },
      "source": [
        "<a href=\"https://colab.research.google.com/github/AndreDG88/anotacoes_python_curso_ebac/blob/main/modulo_03_python_ebac.ipynb\" target=\"_parent\"><img src=\"https://colab.research.google.com/assets/colab-badge.svg\" alt=\"Open In Colab\"/></a>"
      ]
    },
    {
      "cell_type": "markdown",
      "source": [
        "# **Módulo 03**\n",
        "### Fluxo Condicional & Repetição\n"
      ],
      "metadata": {
        "id": "PgcbIwAHvexs"
      }
    },
    {
      "cell_type": "markdown",
      "source": [
        "são conceitos fundamentais da lógica de programação. As estruturas condicionais permitem que o algoritmo tome decisões, baseadas em opções pré programadas. Enquanto as estruturas de repetição repetem ações, sempre que estas são necessárias."
      ],
      "metadata": {
        "id": "DTYaFZMMZKnG"
      }
    },
    {
      "cell_type": "markdown",
      "source": [
        "## **1 - if / else**"
      ],
      "metadata": {
        "id": "RIm2_q2AHItw"
      }
    },
    {
      "cell_type": "markdown",
      "source": [
        "São elementos de estrutura condicional que alterão o fluxo percorrido dentro do código dependendo de uma resposta. O if / else avaliam o retorno de um booleano, ou condição lógica, e direcionam a retomada do código condizente. Entenda melhor nos exemplos abaixo:"
      ],
      "metadata": {
        "id": "bWUtoWtOZPn9"
      }
    },
    {
      "cell_type": "code",
      "source": [
        "if <booleano / condição lógica> == True:\n",
        "  <execute este código>\n",
        "else:\n",
        "  <senão execute este código>"
      ],
      "metadata": {
        "id": "B762vJ-8fTxc"
      },
      "execution_count": null,
      "outputs": []
    },
    {
      "cell_type": "code",
      "source": [
        "if True:\n",
        "  print('verdadeiro')\n",
        "else:\n",
        "  print('falso')"
      ],
      "metadata": {
        "id": "7QY2Lx9OfdCl"
      },
      "execution_count": null,
      "outputs": []
    },
    {
      "cell_type": "markdown",
      "source": [
        "**Exemplo:** Código de segurança de um cartão de crédito\n",
        "\n",
        "vamos revisitar um exemplo anterior que trabalhamos anteriormente."
      ],
      "metadata": {
        "id": "SdRL7CvtgpXA"
      }
    },
    {
      "cell_type": "code",
      "source": [
        "codigo_seguranca_fornecido = '827'\n",
        "codigo_seguranca_cadastrado = '010'\n",
        "\n",
        "pode_efetuar_pagamento = codigo_seguranca_fornecido == codigo_seguranca_cadastrado\n",
        "print(pode_efetuar_pagamento)"
      ],
      "metadata": {
        "colab": {
          "base_uri": "https://localhost:8080/"
        },
        "id": "uV9wqUxhhcvy",
        "outputId": "bc6c4964-871a-45b1-8363-5fc2b459e92a"
      },
      "execution_count": null,
      "outputs": [
        {
          "output_type": "stream",
          "name": "stdout",
          "text": [
            "False\n"
          ]
        }
      ]
    },
    {
      "cell_type": "markdown",
      "source": [
        "Tendo em mente as variáveis e comparação lógica que foram passadas acima, vamos construir uma estrutura de retorno de respostas. Um feedback para o usuário, se ele deu a resposta correta ou não, usando if / else."
      ],
      "metadata": {
        "id": "GYsiA1pJiaQW"
      }
    },
    {
      "cell_type": "code",
      "source": [
        "if pode_efetuar_pagamento:\n",
        "  print('Pagamento efetuado com sucesso!')\n",
        "else:\n",
        "  print('Erro: Código de segurança informado está errado.')"
      ],
      "metadata": {
        "colab": {
          "base_uri": "https://localhost:8080/"
        },
        "id": "RD12Ka6Ji63D",
        "outputId": "dd75699d-18da-4a8e-8d4c-c4acfdf93228"
      },
      "execution_count": null,
      "outputs": [
        {
          "output_type": "stream",
          "name": "stdout",
          "text": [
            "Erro: Código de segurança informado está errado.\n"
          ]
        }
      ]
    },
    {
      "cell_type": "markdown",
      "source": [
        "Neste exemplo usamos uma variável para executar o comparativo e depois importamos ela para executar o if / else. Porém é mais comum este comparativo já ser executado em uma estrutura if / else, como abaixo:"
      ],
      "metadata": {
        "id": "DwpkaamrjgjD"
      }
    },
    {
      "cell_type": "code",
      "source": [
        "if codigo_seguranca_fornecido == codigo_seguranca_cadastrado:\n",
        "  print('Pagamento efetuado com sucesso!')\n",
        "else:\n",
        "  print('Erro: Código de segurança informado está errado.')"
      ],
      "metadata": {
        "colab": {
          "base_uri": "https://localhost:8080/"
        },
        "id": "jitvlVNhkAv-",
        "outputId": "f13222e9-4adb-422b-e0ac-18413dd378a1"
      },
      "execution_count": null,
      "outputs": [
        {
          "output_type": "stream",
          "name": "stdout",
          "text": [
            "Erro: Código de segurança informado está errado.\n"
          ]
        }
      ]
    },
    {
      "cell_type": "markdown",
      "source": [
        "**Exemplo:** verificação de Código e senha de segurança de um cartão de crédito."
      ],
      "metadata": {
        "id": "N6Ro0k_Tk8-G"
      }
    },
    {
      "cell_type": "code",
      "source": [
        "codigo_seguranca = '852'\n",
        "codigo_de_seguranca_cadastrado = '852'\n",
        "\n",
        "senha = '7783'\n",
        "senha_cadastrada = '7783'"
      ],
      "metadata": {
        "id": "C4SqxpoVtNEg"
      },
      "execution_count": null,
      "outputs": []
    },
    {
      "cell_type": "markdown",
      "source": [
        "**Tabela da verdade:**\n",
        "\n",
        "| A        | B        | | | A OR B   | | A AND B  | | NOT A    |\n",
        "|----------|----------|-|-|----------|-|----------|-|----------|\n",
        "| **TRUE** | **TRUE** | | | **TRUE** | | **TRUE** | | FALSE    |\n",
        "| **TRUE** | FALSE    | | | **TRUE** | | FALSE    | | FALSE    |\n",
        "| FALSE    | FALSE    | | | FALSE    | | FALSE    | | **TRUE** |\n",
        "| FALSE    | **TRUE** | | | **TRUE** | | FALSE    | | **TRUE** |"
      ],
      "metadata": {
        "id": "LlEZqX3Jv6bN"
      }
    },
    {
      "cell_type": "markdown",
      "source": [
        "Vamos usar o \"and\"(&) para que somente permita o pagamento se as validações de código e senha retornem True."
      ],
      "metadata": {
        "id": "ZAo9Uj_Rwstn"
      }
    },
    {
      "cell_type": "code",
      "source": [
        "if (codigo_seguranca == codigo_de_seguranca_cadastrado) & (senha == senha_cadastrada):\n",
        "  print('Pagamento efetuado com sucesso!')\n",
        "else:\n",
        "  print('Erro: Código de segurança ou senha informados podem estar errados.')"
      ],
      "metadata": {
        "colab": {
          "base_uri": "https://localhost:8080/"
        },
        "id": "ZHjtvvS8xByQ",
        "outputId": "e18468dc-2145-4079-b651-66dcc9180ce6"
      },
      "execution_count": null,
      "outputs": [
        {
          "output_type": "stream",
          "name": "stdout",
          "text": [
            "Pagamento efetuado com sucesso!\n"
          ]
        }
      ]
    },
    {
      "cell_type": "markdown",
      "source": [
        "## **2 - elif**"
      ],
      "metadata": {
        "id": "1TXdHRGkyvuL"
      }
    },
    {
      "cell_type": "markdown",
      "source": [
        "O elif em conjunto com if / else nos permite avaliar multiplas condições em mais de um if. pode-se colocar quantos elifs forem necessários entre um if e um else. O importante é que começe por um if e termine com um retorno no else."
      ],
      "metadata": {
        "id": "41RaONQSyvUP"
      }
    },
    {
      "cell_type": "code",
      "source": [
        "if <1° booleano / condição lógica> == True:\n",
        "  <execute este código se a primeira condição for verdadeira>\n",
        "elif <2° booleano / condição lógica> == True:\n",
        "  <execute este código se a segunda condição for verdadeira>\n",
        "else:\n",
        "  <senão execute este código>"
      ],
      "metadata": {
        "id": "Rq61lm7oz4zE"
      },
      "execution_count": null,
      "outputs": []
    },
    {
      "cell_type": "markdown",
      "source": [
        "vamos voltar ao nosso exemplo anterior:"
      ],
      "metadata": {
        "id": "PWqYtnMv0p7B"
      }
    },
    {
      "cell_type": "code",
      "source": [
        "codigo_seguranca = '852'\n",
        "codigo_de_seguranca_cadastrado = '852'\n",
        "\n",
        "senha = '7783'\n",
        "senha_cadastrada = '7783'"
      ],
      "metadata": {
        "id": "ZoXDgwGw0oDq"
      },
      "execution_count": null,
      "outputs": []
    },
    {
      "cell_type": "markdown",
      "source": [
        "Agora, usando o elif, vamos realizar as comparações e retornar as mensagens corretas ao usuário de acordo com a tebela abaixo:"
      ],
      "metadata": {
        "id": "sLPdpGLk1T_3"
      }
    },
    {
      "cell_type": "markdown",
      "source": [
        "Regras de retorno\n",
        "\n",
        "| CÓDIGO        | SENHA        | | | CÓDIGO AND SENHA  | MENSAGEM |\n",
        "|----------|----------|-|-|----------|-|\n",
        "| **TRUE** | **TRUE** | | | **TRUE** | Pagamento efetuado |\n",
        "| **TRUE** | FALSE    | | | FALSE    | Erro: Senha inválida |\n",
        "| FALSE    | FALSE    | | | FALSE    | Erro: Código de segurança e senha inválidos |\n",
        "| FALSE    | **TRUE** | | | FALSE    | Erro: Código de segurança inválido |"
      ],
      "metadata": {
        "id": "mQpRBDkg1BJ_"
      }
    },
    {
      "cell_type": "code",
      "source": [
        "if (codigo_seguranca == codigo_de_seguranca_cadastrado) & (senha == senha_cadastrada):\n",
        "  print('Pagamento efetuado com sucesso!')\n",
        "\n",
        "elif (codigo_seguranca != codigo_de_seguranca_cadastrado) & (senha == senha_cadastrada):\n",
        "  print('Erro: Código de segurança informado é inválido.')\n",
        "\n",
        "elif (codigo_seguranca == codigo_de_seguranca_cadastrado) & (senha != senha_cadastrada):\n",
        "  print('Erro: A senha informada é inválido.')\n",
        "\n",
        "else:\n",
        "  print('Erro: Código de segurança e senha inválidos')"
      ],
      "metadata": {
        "colab": {
          "base_uri": "https://localhost:8080/"
        },
        "id": "U_SvcZt611sc",
        "outputId": "3f77c300-d430-49e2-f88b-1490c501b777"
      },
      "execution_count": null,
      "outputs": [
        {
          "output_type": "stream",
          "name": "stdout",
          "text": [
            "Pagamento efetuado com sucesso!\n"
          ]
        }
      ]
    },
    {
      "cell_type": "markdown",
      "source": [
        "## **try / except / finally - Por que usar?**"
      ],
      "metadata": {
        "id": "udMuPSRG1U6F"
      }
    },
    {
      "cell_type": "markdown",
      "source": [
        "Estas ferramentas de estrutura podem ajudar a prever e corrigir erros que possam ocorrer durante a execução dos códigos. Erro na programação em geral, é referênciado usando a palavra \"exceção\"(except), e estas excessões podem ocorrer bastante. Aqui alguns exemplos:"
      ],
      "metadata": {
        "id": "GZ0cWwqtZUc_"
      }
    },
    {
      "cell_type": "markdown",
      "source": [
        "**Exemplo de erro 01:** Operações numéricas impossiveis"
      ],
      "metadata": {
        "id": "5boC3pi54mze"
      }
    },
    {
      "cell_type": "markdown",
      "source": [
        "Imagina que você criou um pequeno app que ajuda as pessoas a dividirem contas e lanchonetes, restaurantes, bares e afins."
      ],
      "metadata": {
        "id": "PwJxsYyY4wyK"
      }
    },
    {
      "cell_type": "code",
      "source": [
        "preco = 132.85\n",
        "pessoas = 0"
      ],
      "metadata": {
        "id": "9u5ODCRj3tdF"
      },
      "execution_count": 1,
      "outputs": []
    },
    {
      "cell_type": "markdown",
      "source": [
        "Porém não foi feita uma prevenção de possíveis erros, então nada impediu o usuário de colocar o valor de 0 na variável pessoas. Não se tem como dividir o valor a pagar por 0 pessoas né?"
      ],
      "metadata": {
        "id": "RWXNhdGy6Gfl"
      }
    },
    {
      "cell_type": "code",
      "source": [
        "valor_por_pessoa = preco / pessoas"
      ],
      "metadata": {
        "colab": {
          "base_uri": "https://localhost:8080/",
          "height": 141
        },
        "id": "71hBaJ306ekT",
        "outputId": "0291f247-d1b9-4c10-ce98-11aec35295e2"
      },
      "execution_count": 2,
      "outputs": [
        {
          "output_type": "error",
          "ename": "ZeroDivisionError",
          "evalue": "float division by zero",
          "traceback": [
            "\u001b[0;31m---------------------------------------------------------------------------\u001b[0m",
            "\u001b[0;31mZeroDivisionError\u001b[0m                         Traceback (most recent call last)",
            "\u001b[0;32m<ipython-input-2-995750ad573d>\u001b[0m in \u001b[0;36m<cell line: 0>\u001b[0;34m()\u001b[0m\n\u001b[0;32m----> 1\u001b[0;31m \u001b[0mvalor_por_pessoa\u001b[0m \u001b[0;34m=\u001b[0m \u001b[0mpreco\u001b[0m \u001b[0;34m/\u001b[0m \u001b[0mpessoas\u001b[0m\u001b[0;34m\u001b[0m\u001b[0;34m\u001b[0m\u001b[0m\n\u001b[0m",
            "\u001b[0;31mZeroDivisionError\u001b[0m: float division by zero"
          ]
        }
      ]
    },
    {
      "cell_type": "markdown",
      "source": [
        "Veja que o Python nos ajuda muito nestas situações dentro do ambiente de desenvolvimento. Ele ira lhe retornar a mensagem de erro informando o tipo de erro e a linha de código aonde ele ocorreu. Além de sublinhar a linha em vermelho."
      ],
      "metadata": {
        "id": "S8Kn45R-62xY"
      }
    },
    {
      "cell_type": "markdown",
      "source": [
        "**Exemplo de erro 02:** Combinações de tipagens diferentes"
      ],
      "metadata": {
        "id": "Jn0Rlvw67gMY"
      }
    },
    {
      "cell_type": "markdown",
      "source": [
        "Este erro ocorre quando tentamos realizar a execução de uma operação em um código usando valores de tipagens diferentes. Em que cada tipo reage de uma forma diferente em relação ao operador."
      ],
      "metadata": {
        "id": "-rs0kJV57rpC"
      }
    },
    {
      "cell_type": "code",
      "source": [
        "nome = 'André Perez'\n",
        "idade = 19"
      ],
      "metadata": {
        "id": "TyDaevGg8fN7"
      },
      "execution_count": 3,
      "outputs": []
    },
    {
      "cell_type": "markdown",
      "source": [
        "Neste código abaixo se tenta criar uma frase de apresentação com as variáveis acima. Porém sua estrutura se baseia no uso do operador de soma \"+\", só que ele funcionada de maneiras diferentes para valores de int e strings.\n",
        "\n",
        "Para strings o \"+\" funciona como uma concatenação, apenas juntando os valores e formando uma frase. Então a váriavel \"nome\" funciona bem. Agora para os valores int, numéricos, o \"+\" realmente irá tentar somar valores, vai ser aqui que o erro ocorre."
      ],
      "metadata": {
        "id": "1pbkSpOe9L8u"
      }
    },
    {
      "cell_type": "code",
      "source": [
        "apresentacao = 'Fala pessoal, meu nome é ' + nome + 'eu tenho ' + idade + ' anos.'"
      ],
      "metadata": {
        "colab": {
          "base_uri": "https://localhost:8080/",
          "height": 141
        },
        "id": "yYCA0gPb-Ygc",
        "outputId": "aecfdbe0-3318-4b81-f7b0-0e790d83bd2c"
      },
      "execution_count": 4,
      "outputs": [
        {
          "output_type": "error",
          "ename": "TypeError",
          "evalue": "can only concatenate str (not \"int\") to str",
          "traceback": [
            "\u001b[0;31m---------------------------------------------------------------------------\u001b[0m",
            "\u001b[0;31mTypeError\u001b[0m                                 Traceback (most recent call last)",
            "\u001b[0;32m<ipython-input-4-adcb59f7727b>\u001b[0m in \u001b[0;36m<cell line: 0>\u001b[0;34m()\u001b[0m\n\u001b[0;32m----> 1\u001b[0;31m \u001b[0mapresentacao\u001b[0m \u001b[0;34m=\u001b[0m \u001b[0;34m'Fala pessoal, meu nome é '\u001b[0m \u001b[0;34m+\u001b[0m \u001b[0mnome\u001b[0m \u001b[0;34m+\u001b[0m \u001b[0;34m'eu tenho '\u001b[0m \u001b[0;34m+\u001b[0m \u001b[0midade\u001b[0m \u001b[0;34m+\u001b[0m \u001b[0;34m' anos.'\u001b[0m\u001b[0;34m\u001b[0m\u001b[0;34m\u001b[0m\u001b[0m\n\u001b[0m",
            "\u001b[0;31mTypeError\u001b[0m: can only concatenate str (not \"int\") to str"
          ]
        }
      ]
    },
    {
      "cell_type": "markdown",
      "source": [
        "Veja que o Python retornou exatamente o que comentamos."
      ],
      "metadata": {
        "id": "SrH6kR7X-0z6"
      }
    },
    {
      "cell_type": "markdown",
      "source": [
        "**Exemplo de erro 03:** Indexação de estruturas de dados"
      ],
      "metadata": {
        "id": "Go5mRTQ9AHkI"
      }
    },
    {
      "cell_type": "markdown",
      "source": [
        "Este é um tipo de erro bem comum de ocorrer, principalmente e projetos grandes, que possuem muitos elementos. É quando se tenta acessar um elemento que esta em uma lista ou dicionário, mas se usa um index ou uma chave errada."
      ],
      "metadata": {
        "id": "jLPHaEEZAazc"
      }
    },
    {
      "cell_type": "code",
      "source": [
        "anos = [2019, 2020, 2021]"
      ],
      "metadata": {
        "id": "SPYAaobpBAQg"
      },
      "execution_count": 5,
      "outputs": []
    },
    {
      "cell_type": "markdown",
      "source": [
        "Este representa um erro de index. Apesar de ter três elementos na lista, em Python sempre se conta a partir do 0. Então para se chegar ao terceiro elemento, deve-se chamar o index 2."
      ],
      "metadata": {
        "id": "cVnMIvoqCQsH"
      }
    },
    {
      "cell_type": "code",
      "source": [
        "ano_atual = anos[3]"
      ],
      "metadata": {
        "colab": {
          "base_uri": "https://localhost:8080/",
          "height": 141
        },
        "id": "ZCK9VpemBHTj",
        "outputId": "bf1ff7a3-34cc-46a3-c281-eec4f5953098"
      },
      "execution_count": 6,
      "outputs": [
        {
          "output_type": "error",
          "ename": "IndexError",
          "evalue": "list index out of range",
          "traceback": [
            "\u001b[0;31m---------------------------------------------------------------------------\u001b[0m",
            "\u001b[0;31mIndexError\u001b[0m                                Traceback (most recent call last)",
            "\u001b[0;32m<ipython-input-6-e37dd3828529>\u001b[0m in \u001b[0;36m<cell line: 0>\u001b[0;34m()\u001b[0m\n\u001b[0;32m----> 1\u001b[0;31m \u001b[0mano_atual\u001b[0m \u001b[0;34m=\u001b[0m \u001b[0manos\u001b[0m\u001b[0;34m[\u001b[0m\u001b[0;36m3\u001b[0m\u001b[0;34m]\u001b[0m\u001b[0;34m\u001b[0m\u001b[0;34m\u001b[0m\u001b[0m\n\u001b[0m",
            "\u001b[0;31mIndexError\u001b[0m: list index out of range"
          ]
        }
      ]
    },
    {
      "cell_type": "code",
      "source": [
        "cursos = {\n",
        "    'python': {\n",
        "        'nome': 'Python para Análise de Dados', 'duração': 2.5\n",
        "    },\n",
        "    'sql': {\n",
        "        'nome': 'SQL para Análise de Dados', 'duracão': 2\n",
        "    }\n",
        "}"
      ],
      "metadata": {
        "id": "bkAOKAATBO87"
      },
      "execution_count": 7,
      "outputs": []
    },
    {
      "cell_type": "markdown",
      "source": [
        "E aqui foi simplesmente chamada uma chave que não existe no dicionário em questão, gerando um erro de chave."
      ],
      "metadata": {
        "id": "aIKPVAOlCkJq"
      }
    },
    {
      "cell_type": "code",
      "source": [
        "curso_atual = cursos['analista']"
      ],
      "metadata": {
        "colab": {
          "base_uri": "https://localhost:8080/",
          "height": 141
        },
        "id": "KqI88Z6sCFSN",
        "outputId": "9fba7220-51f6-4e16-c3aa-83fcb6f19784"
      },
      "execution_count": 8,
      "outputs": [
        {
          "output_type": "error",
          "ename": "KeyError",
          "evalue": "'analista'",
          "traceback": [
            "\u001b[0;31m---------------------------------------------------------------------------\u001b[0m",
            "\u001b[0;31mKeyError\u001b[0m                                  Traceback (most recent call last)",
            "\u001b[0;32m<ipython-input-8-d358cf5eaea4>\u001b[0m in \u001b[0;36m<cell line: 0>\u001b[0;34m()\u001b[0m\n\u001b[0;32m----> 1\u001b[0;31m \u001b[0mcurso_atual\u001b[0m \u001b[0;34m=\u001b[0m \u001b[0mcursos\u001b[0m\u001b[0;34m[\u001b[0m\u001b[0;34m'analista'\u001b[0m\u001b[0;34m]\u001b[0m\u001b[0;34m\u001b[0m\u001b[0;34m\u001b[0m\u001b[0m\n\u001b[0m",
            "\u001b[0;31mKeyError\u001b[0m: 'analista'"
          ]
        }
      ]
    },
    {
      "cell_type": "markdown",
      "source": [
        "## **3 - try / except**"
      ],
      "metadata": {
        "id": "BpY7GQw4D6SK"
      }
    },
    {
      "cell_type": "markdown",
      "source": [
        "Vamos revisitar os erros que acabamos de ver, mas agora tratando eles com o uso do \"try\" e do \"except\". Eles seriam a mesma coisa que o if / else, mas voltados para tentar previnir erros."
      ],
      "metadata": {
        "id": "2sLtJWUqD6Ab"
      }
    },
    {
      "cell_type": "markdown",
      "source": [
        "**Try:** Dentro do try nós vamos colocar o nosso trecho de código que **possivelmente** pode apresentar um erro."
      ],
      "metadata": {
        "id": "p7RHt5XjFGPx"
      }
    },
    {
      "cell_type": "markdown",
      "source": [
        "**Except:** Sua função é evitar que o nosso código quebre por um erro. dentro dele devemos armazenar o tipo de erro que esperamos que ocorra dentro do \"try\". Assim que esse erro ocorrer, o except ira ativar e vai executar as ações que deixamos pré definidas para está situação."
      ],
      "metadata": {
        "id": "Co5-HtVVFcND"
      }
    },
    {
      "cell_type": "code",
      "source": [
        "preco = 132.85\n",
        "pessoas = 0\n",
        "\n",
        "try:\n",
        "  valor_por_pessoa = preco / pessoas\n",
        "  print(valor_por_pessoa)\n",
        "except ZeroDivisionError:\n",
        "  print('Número de pessoas inválido. Espera-se um valor maior que 0 e obteve-se um valor igual a ' + str(pessoas))"
      ],
      "metadata": {
        "colab": {
          "base_uri": "https://localhost:8080/"
        },
        "id": "Jm_XN54OGXsL",
        "outputId": "866eb31c-a057-4ba4-ff5d-f3358d3663d4"
      },
      "execution_count": 9,
      "outputs": [
        {
          "output_type": "stream",
          "name": "stdout",
          "text": [
            "Número de pessoas inválido. Espera-se um valor maior que 0 e obteve-se um valor igual a 0\n"
          ]
        }
      ]
    },
    {
      "cell_type": "markdown",
      "source": [
        "É muito importante saber o nome exato do tipo de erro que se espera encontrar, para poder identifica-lo no except."
      ],
      "metadata": {
        "id": "drVwHMUMHFae"
      }
    },
    {
      "cell_type": "markdown",
      "source": [
        "Caso não que erro esperar também existe o \"Exception\", ele ira direcionar para sua linha de código independente de erro surgir, e irá executar as ações pré definidas nele."
      ],
      "metadata": {
        "id": "7rJ5Ft95IEjD"
      }
    },
    {
      "cell_type": "code",
      "source": [
        "anos = [2019, 2020, 2021]\n",
        "\n",
        "try:\n",
        "  ano_atual = anos[3]\n",
        "  print(ano_atual)\n",
        "except Exception:\n",
        "  print('Lista de anos é menor que o valor escolhido. Espera-se um valor entre 0 e ' + str(len(anos) - 1))"
      ],
      "metadata": {
        "colab": {
          "base_uri": "https://localhost:8080/"
        },
        "id": "tVKElFsSS4xH",
        "outputId": "8ce021da-6863-444b-90f0-e7f2f546b6ee"
      },
      "execution_count": 10,
      "outputs": [
        {
          "output_type": "stream",
          "name": "stdout",
          "text": [
            "Lista de anos é menor que o valor escolhido. Espera-se um valor entre 0 e 2\n"
          ]
        }
      ]
    },
    {
      "cell_type": "markdown",
      "source": [
        "Uma forma de ser mais específico no retorno do erro inesperado para o usuário é renomeando o Exception como um erro personalizado, e em suas funções pré programadas executar uma captura e impressão dos detalhes do erro. Veja como fazer no exemplo abaixo:\n"
      ],
      "metadata": {
        "id": "RCmeEhSzUE5w"
      }
    },
    {
      "cell_type": "code",
      "source": [],
      "metadata": {
        "id": "VNunXeJJU7oY"
      },
      "execution_count": null,
      "outputs": []
    },
    {
      "cell_type": "code",
      "source": [
        "anos = [2019, 2020, 2021]\n",
        "\n",
        "try:\n",
        "  ano_atual = anos[3]\n",
        "  print(ano_atual)\n",
        "  #Com a Exception convertida em exc(ou o nome que preferir), você pode ter acesso as suas informações\n",
        "  #Converte-las em strings e aprensentar através do print.\n",
        "except Exception as exc:\n",
        "  print('Descrição da exceção: ' + str(exc))\n",
        "  print('Tipo de exceção: ' + str(type(exc)))\n",
        "  print('Lista de anos é menor que o valor escolhido. Espera-se um valor entre 0 e ' + str(len(anos) - 1))"
      ],
      "metadata": {
        "colab": {
          "base_uri": "https://localhost:8080/"
        },
        "outputId": "80155825-ee49-4aa9-8578-eb7a232cb517",
        "id": "nhICx-_SU8Dp"
      },
      "execution_count": 11,
      "outputs": [
        {
          "output_type": "stream",
          "name": "stdout",
          "text": [
            "Descrição da exceção: list index out of range\n",
            "Tipo de exceção: <class 'IndexError'>\n",
            "Lista de anos é menor que o valor escolhido. Espera-se um valor entre 0 e 2\n"
          ]
        }
      ]
    },
    {
      "cell_type": "markdown",
      "source": [
        "Não é uma boa pratica depender apenas do Exception, apesar de parecer mais fácil, sempre usar ele passa a ideia de que nem você conhece o seu código e sabe o que esperar dele."
      ],
      "metadata": {
        "id": "Uu3tVd_EW6lw"
      }
    },
    {
      "cell_type": "markdown",
      "source": [
        "Configure os erros que você sabe que podem ocorrer, e deixe o Excepion apenas para casos de emergência"
      ],
      "metadata": {
        "id": "ERiiQ9mOXNbH"
      }
    },
    {
      "cell_type": "code",
      "source": [
        "anos = [2019, 2020, 2021]\n",
        "\n",
        "try:\n",
        "  ano_atual = anos[3]\n",
        "  print(ano_atual)\n",
        "except IndexError:\n",
        "  print('Lista de anos é menor que o valor escolhido. Espera-se um valor entre 0 e ' + str(len(anos) - 1))\n",
        "except Exception as exc:\n",
        "  print('Descrição da exceção: ' + str(exc))\n",
        "  print('Tipo de exceção: ' + str(type(exc)))"
      ],
      "metadata": {
        "colab": {
          "base_uri": "https://localhost:8080/"
        },
        "outputId": "7b3ef600-5f43-4f79-cad5-404b929f6768",
        "id": "jZSwpPbEXaWw"
      },
      "execution_count": 12,
      "outputs": [
        {
          "output_type": "stream",
          "name": "stdout",
          "text": [
            "Lista de anos é menor que o valor escolhido. Espera-se um valor entre 0 e 2\n"
          ]
        }
      ]
    },
    {
      "cell_type": "markdown",
      "source": [
        "## **4 - finally**"
      ],
      "metadata": {
        "id": "wv89VUGiX3b2"
      }
    },
    {
      "cell_type": "markdown",
      "source": [
        "O \"finally\" sempre será executado, o código dando erro ou não. Ele é utilizado para quando configuramos um except que possa corrigir o erro esperado. Quando o erro ocorrer, o except irá executar a correção programada e o finally vai executar novamente a terefa com o erro corrigido."
      ],
      "metadata": {
        "id": "TMSsQfxDX3Ho"
      }
    },
    {
      "cell_type": "code",
      "source": [
        "nome = 'Andre Perez'\n",
        "idade = 19\n",
        "\n",
        "try:\n",
        "  apresentacao = 'Fala pessoal. meu nome é ' + nome + 'e eu tenho ' + idade + ' anos.'\n",
        "  print(apresentacao)\n",
        "except TypeError:\n",
        "  nome = str(nome)\n",
        "  idade = str(idade)\n",
        "finally:\n",
        "  print('Correção acionada')\n",
        "  apresentacao = 'Fala pessoal. meu nome é ' + nome + 'e eu tenho ' + idade + ' anos.'\n",
        "  print(apresentacao)"
      ],
      "metadata": {
        "colab": {
          "base_uri": "https://localhost:8080/"
        },
        "id": "CCcVitQfaP5T",
        "outputId": "efff8767-5650-4c7d-beb8-69b8e500206e"
      },
      "execution_count": 13,
      "outputs": [
        {
          "output_type": "stream",
          "name": "stdout",
          "text": [
            "Correção acionada\n",
            "Fala pessoal. meu nome é Andre Pereze eu tenho 19 anos.\n"
          ]
        }
      ]
    },
    {
      "cell_type": "markdown",
      "source": [],
      "metadata": {
        "id": "p0OVbOrPdAsV"
      }
    },
    {
      "cell_type": "markdown",
      "source": [
        "## **5 - Estrutura de repetição for / in**"
      ],
      "metadata": {
        "id": "Z-viu1fGdBEL"
      }
    },
    {
      "cell_type": "markdown",
      "source": [
        "Essa estrutura permite repetir um mesmo bloco de código quantas vezes forem necessárias. Este recurso é bem diferente dos apresentados nas últimas duas aulas, em que o objetivo era mudar o rumo para onde o código deveria ir."
      ],
      "metadata": {
        "id": "IKvE83O6d4X1"
      }
    },
    {
      "cell_type": "markdown",
      "source": [
        "### **5.1 - For / in - estrutura**"
      ],
      "metadata": {
        "id": "4PIfq3sxezrU"
      }
    },
    {
      "cell_type": "markdown",
      "source": [
        "Está é a estrutura de código para um for / in. O for seria um \"Para algo\", e o in seria um \"Dentro de\". Então esté código quer dizer que para cada elemento dentro do objeto especifico, a ação programada dentro do for / in vai ser executada.\n",
        "\n",
        "E o resultado de cada uma destas ações executadas irá ser armazena em variáveis temporárias para uso."
      ],
      "metadata": {
        "id": "rRrPZxUDezam"
      }
    },
    {
      "cell_type": "code",
      "source": [
        "for variavel_temporaria in colecao:\n",
        "  execute_este_código\n",
        "\n",
        "#\"Para(for) cada possível variável temporária dentro(in) desta coleção(lista ou dicionário), execute este código\""
      ],
      "metadata": {
        "id": "YPmBIqF1gcX2"
      },
      "execution_count": null,
      "outputs": []
    },
    {
      "cell_type": "markdown",
      "source": [
        "### **5.2 - For / in / range**"
      ],
      "metadata": {
        "id": "hK8f2RuZhwcj"
      }
    },
    {
      "cell_type": "markdown",
      "source": [
        "O operador \"range\", nos permite criar uma coleção temporária de números inteiros, assim tendo um número de repetições personalizavel."
      ],
      "metadata": {
        "id": "AXh1GtAChwNP"
      }
    },
    {
      "cell_type": "markdown",
      "source": [
        "**Exemplo 01:** Um exemplo simples, o código abaixo vai para(for) cada possível item(valor) dentro do(in) objeto(range), executar um comando print com seu conteúdo. Como configuramos um range de 6 números inteiros, vai ser uma lista de 0 a 5."
      ],
      "metadata": {
        "id": "YmCCn-Qej0Lf"
      }
    },
    {
      "cell_type": "code",
      "source": [
        "for valor in range(6):\n",
        "  print(valor)"
      ],
      "metadata": {
        "colab": {
          "base_uri": "https://localhost:8080/"
        },
        "id": "d20L81dqk2mj",
        "outputId": "063c7600-13d0-46c6-929c-6b6a2bbf897c"
      },
      "execution_count": 15,
      "outputs": [
        {
          "output_type": "stream",
          "name": "stdout",
          "text": [
            "0\n",
            "1\n",
            "2\n",
            "3\n",
            "4\n",
            "5\n"
          ]
        }
      ]
    },
    {
      "cell_type": "markdown",
      "source": [
        "**Exemplo 02:** Vamos definir uma variável chamada de \"soma\", o valor dele é 0. E vamos configurar um for / in interagindo com um range de 0 até 10.\n",
        "\n",
        "E para cada uma das repetições, ele vai executar a variável soma. E o valor de soma vai ser o valor atual da variável soma mais o valor atual de range.\n",
        "\n"
      ],
      "metadata": {
        "id": "bHLQC_U6nSNX"
      }
    },
    {
      "cell_type": "code",
      "source": [
        "soma = 0\n",
        "\n",
        "for valor in range(0, 10):\n",
        "  soma = soma + valor\n",
        "  print(soma)\n",
        "\n",
        "print(soma)"
      ],
      "metadata": {
        "colab": {
          "base_uri": "https://localhost:8080/"
        },
        "id": "d2OakR2YogkX",
        "outputId": "f639ef87-f1f0-4f31-ce2b-a03065d4b1df"
      },
      "execution_count": 16,
      "outputs": [
        {
          "output_type": "stream",
          "name": "stdout",
          "text": [
            "0\n",
            "1\n",
            "3\n",
            "6\n",
            "10\n",
            "15\n",
            "21\n",
            "28\n",
            "36\n",
            "45\n",
            "45\n"
          ]
        }
      ]
    },
    {
      "cell_type": "markdown",
      "source": [
        "Podemos definir intervalos também nestas sequências dentro de range. Como neste exemplo em que teremos apenas múltiplos de 2. Dentro dos parenteses de range, além do valor inicial e final, colocamos mais uma vírgula e adicionamos o valor de intervalos."
      ],
      "metadata": {
        "id": "OUSaujpJrSPA"
      }
    },
    {
      "cell_type": "code",
      "source": [
        "for multiplo_de_2 in range(2, 11, 2):\n",
        "  print(multiplo_de_2)"
      ],
      "metadata": {
        "colab": {
          "base_uri": "https://localhost:8080/"
        },
        "id": "BlHXt0SRr6yv",
        "outputId": "1582199b-b635-4032-c611-898a89b96a6f"
      },
      "execution_count": 18,
      "outputs": [
        {
          "output_type": "stream",
          "name": "stdout",
          "text": [
            "2\n",
            "4\n",
            "6\n",
            "8\n",
            "10\n"
          ]
        }
      ]
    },
    {
      "cell_type": "markdown",
      "source": [
        "### **5.3 - For / in / list**"
      ],
      "metadata": {
        "id": "wtLeDSRos8eR"
      }
    },
    {
      "cell_type": "markdown",
      "source": [
        "O for / in irá ler os elementos dentro da lista e executar a ação determinada para cada elemento dentro dela."
      ],
      "metadata": {
        "id": "KSbrfeO5s8Gn"
      }
    },
    {
      "cell_type": "code",
      "source": [
        "frutas = ['maça', 'banana', 'laranja', 'uva', 'pera']\n",
        "\n",
        "for fruta in frutas:\n",
        "  print(fruta)"
      ],
      "metadata": {
        "colab": {
          "base_uri": "https://localhost:8080/"
        },
        "id": "xW6ymG7ovHPm",
        "outputId": "35156db8-25b4-4205-c9a9-4b896b462f1f"
      },
      "execution_count": 19,
      "outputs": [
        {
          "output_type": "stream",
          "name": "stdout",
          "text": [
            "maça\n",
            "banana\n",
            "laranja\n",
            "uva\n",
            "pera\n"
          ]
        }
      ]
    },
    {
      "cell_type": "markdown",
      "source": [
        "Strings únicas também podem fazer uso do for / in em outras situações específicas. Como no exemplo abaixo, em que usamos o recurso para saber se na frase existia dois caracteres específicos."
      ],
      "metadata": {
        "id": "sGHgt5lIwkNY"
      }
    },
    {
      "cell_type": "code",
      "source": [
        "frase = 'Fala pessoal, meu nome é André Perez'\n",
        "\n",
        "for caracter in frase:\n",
        "  if (caracter == 'A') | (caracter == 'z'):\n",
        "    print(f\"A letra '{caracter}' está presente na frase.\")"
      ],
      "metadata": {
        "colab": {
          "base_uri": "https://localhost:8080/"
        },
        "id": "UWnLvZFyyI3R",
        "outputId": "8d90040c-d977-41f0-da9f-3ffcc801e0ca"
      },
      "execution_count": 23,
      "outputs": [
        {
          "output_type": "stream",
          "name": "stdout",
          "text": [
            "A letra 'A' está presente na frase.\n",
            "A letra 'z' está presente na frase.\n"
          ]
        }
      ]
    },
    {
      "cell_type": "markdown",
      "source": [
        "### **5.4 - For / in / dict**"
      ],
      "metadata": {
        "id": "BPm4QwTqzkC1"
      }
    },
    {
      "cell_type": "markdown",
      "source": [
        "No caso da interação do for / in com dicionários(dict), nós temos a liberdade de escolher se vamos tarbalhar com as chaves e valores, ou com apenas um dos dois.\n",
        "\n",
        "Basta adicionar após a chamada do dict um \".items()\" para trabalhar com tudo, \".keys()\" para trabalhar com as chaves e \".value()\" para os valores."
      ],
      "metadata": {
        "id": "PZ_v9TG2zjV3"
      }
    },
    {
      "cell_type": "code",
      "source": [
        "credito = {'123': 750, '456': 812, '789': 980}"
      ],
      "metadata": {
        "id": "XEXliD0d7Mzu"
      },
      "execution_count": 24,
      "outputs": []
    },
    {
      "cell_type": "code",
      "source": [
        "for chave, valor in credito.items():\n",
        "  print(f'para o documento {chave}, o valor do escore de crédito é {valor}.')\n",
        "  print('\\n')"
      ],
      "metadata": {
        "colab": {
          "base_uri": "https://localhost:8080/"
        },
        "id": "jh1deuya6SUn",
        "outputId": "93f23463-ace9-4ab7-8fd2-1887dccad585"
      },
      "execution_count": 25,
      "outputs": [
        {
          "output_type": "stream",
          "name": "stdout",
          "text": [
            "para o documento 123, o valor do escore de crédito é 750.\n",
            "\n",
            "\n",
            "para o documento 456, o valor do escore de crédito é 812.\n",
            "\n",
            "\n",
            "para o documento 789, o valor do escore de crédito é 980.\n",
            "\n",
            "\n"
          ]
        }
      ]
    },
    {
      "cell_type": "markdown",
      "source": [
        "Mesmo trabalhando apenas com as chaves de um dicionário. Podemos acessar seus valores, se chamarmos elas através de seus dicionários \"credito[chave]\"."
      ],
      "metadata": {
        "id": "4a50QaOJ7yEO"
      }
    },
    {
      "cell_type": "code",
      "source": [
        "for chave in credito.keys():\n",
        "  print(chave)\n",
        "  print(credito[chave])\n",
        "  print(f'para o documento {chave}, o valor do escore de crédito é {credito[chave]}.')\n",
        "  print('\\n')"
      ],
      "metadata": {
        "colab": {
          "base_uri": "https://localhost:8080/"
        },
        "id": "Z8EFp_Tc8W4D",
        "outputId": "5f65ffb1-115b-4021-f7af-5a6ebf666807"
      },
      "execution_count": 26,
      "outputs": [
        {
          "output_type": "stream",
          "name": "stdout",
          "text": [
            "123\n",
            "750\n",
            "para o documento 123, o valor do escore de crédito é 750.\n",
            "\n",
            "\n",
            "456\n",
            "812\n",
            "para o documento 456, o valor do escore de crédito é 812.\n",
            "\n",
            "\n",
            "789\n",
            "980\n",
            "para o documento 789, o valor do escore de crédito é 980.\n",
            "\n",
            "\n"
          ]
        }
      ]
    },
    {
      "cell_type": "markdown",
      "source": [
        "Pode-se também trabalhar somente com os valores, porém deve-se ter em mente que nestas situações os valores pendem suas referências. Nestas situações o código não sabe mais a que chaves estes valores correspondem."
      ],
      "metadata": {
        "id": "h_9mcnAH9ACL"
      }
    },
    {
      "cell_type": "code",
      "source": [
        "for valor in credito.values():\n",
        "  print(valor)\n",
        "  print(f'O valor do escore de crédito é {valor}, mas não temos mais a chave :(.')\n",
        "  print('\\n')"
      ],
      "metadata": {
        "colab": {
          "base_uri": "https://localhost:8080/"
        },
        "id": "dGGSXy859bup",
        "outputId": "49cf1faf-e71b-4fe1-cdcf-2af35f3e28ba"
      },
      "execution_count": 27,
      "outputs": [
        {
          "output_type": "stream",
          "name": "stdout",
          "text": [
            "750\n",
            "O valor do escore de crédito é 750, mas não temos mais a chave :(.\n",
            "\n",
            "\n",
            "812\n",
            "O valor do escore de crédito é 812, mas não temos mais a chave :(.\n",
            "\n",
            "\n",
            "980\n",
            "O valor do escore de crédito é 980, mas não temos mais a chave :(.\n",
            "\n",
            "\n"
          ]
        }
      ]
    },
    {
      "cell_type": "markdown",
      "source": [
        "### **5.5 - break / continue**"
      ],
      "metadata": {
        "id": "TyPiR6V5-3WP"
      }
    },
    {
      "cell_type": "markdown",
      "source": [
        "Estes operadores servem para interromper uma execução de um loop de códigos no caso do \"break\", ou para acelerar a execução de um código no caso do \"continue\"."
      ],
      "metadata": {
        "id": "iHabcWwtA2bV"
      }
    },
    {
      "cell_type": "markdown",
      "source": [
        "No exemplo abaixo, temos um loop de for / in que se fosse executar tudo dentro do seu range, iria contar até um milhão. Mas foi configurado um break no momento que o valor temporário atingir 5."
      ],
      "metadata": {
        "id": "Vw4XozvsBUPP"
      }
    },
    {
      "cell_type": "code",
      "source": [
        "for i in range(0, 10*10*10*10*10*10):\n",
        "  print(i)\n",
        "  if i == 5:\n",
        "    break"
      ],
      "metadata": {
        "colab": {
          "base_uri": "https://localhost:8080/"
        },
        "id": "J9EZjscMBxuR",
        "outputId": "7b3269ed-5e73-431e-c96a-18278945b854"
      },
      "execution_count": 28,
      "outputs": [
        {
          "output_type": "stream",
          "name": "stdout",
          "text": [
            "0\n",
            "1\n",
            "2\n",
            "3\n",
            "4\n",
            "5\n"
          ]
        }
      ]
    },
    {
      "cell_type": "markdown",
      "source": [
        "agora vamos usar um exemplo mais realista, vamos fazer um pequeno sistema de busca dentro de uma lista, em que o break vai para a execução assim que ele achar um número par.\n",
        "\n",
        "Primeiro vamos fazer um comparador lógico que pelo resultado de uma sobra de divisão, identifica se é para ou impar."
      ],
      "metadata": {
        "id": "p0y-eNHkCjqP"
      }
    },
    {
      "cell_type": "code",
      "source": [
        "numero = 10\n",
        "\n",
        "if numero % 2 == 0:\n",
        "  print(f'O numero {numero} é par.')\n",
        "else:\n",
        "  print(f'O numero {numero} é impar.')"
      ],
      "metadata": {
        "colab": {
          "base_uri": "https://localhost:8080/"
        },
        "id": "Mx44ctNtDS9I",
        "outputId": "615bac3b-7664-4d93-94a0-1dcd65dd56b5"
      },
      "execution_count": 29,
      "outputs": [
        {
          "output_type": "stream",
          "name": "stdout",
          "text": [
            "O numero 10 é par.\n"
          ]
        }
      ]
    },
    {
      "cell_type": "markdown",
      "source": [
        "Agora vamos colocar esse comparador dentro de um loop de for / in, em que \"numeros\" vai ser uma lista de valores. E vamos adicionar a chamada do \"break\" após a comparação para valores pares. Então assim que chegar no 194, o break será acionado."
      ],
      "metadata": {
        "id": "1k6L7dZnEJNH"
      }
    },
    {
      "cell_type": "code",
      "source": [
        "numeros = [361, 553, 194, 13, 510, 33, 135]\n",
        "\n",
        "for numero in numeros:\n",
        "\n",
        "  if numero % 2 == 0:\n",
        "    print(f'O numero {numero} é par.')\n",
        "    break\n",
        "  else:\n",
        "    print(f'O numero {numero} é impar.')"
      ],
      "metadata": {
        "colab": {
          "base_uri": "https://localhost:8080/"
        },
        "outputId": "a6c4e0a4-b9f3-4cb1-bf94-f215e0affd65",
        "id": "N4FjVE8PEri3"
      },
      "execution_count": 30,
      "outputs": [
        {
          "output_type": "stream",
          "name": "stdout",
          "text": [
            "O numero 361 é impar.\n",
            "O numero 553 é impar.\n",
            "O numero 194 é par.\n"
          ]
        }
      ]
    },
    {
      "cell_type": "markdown",
      "source": [
        "E ainda temos que falar sobre o operador \"continue\". Ele é um operador que quando nós atingimos a linha dele dentro do código de loop(laço), o código não continua até o fim da repetição, ele parte direto para a próxima repetição."
      ],
      "metadata": {
        "id": "lIddhYBJFV-w"
      }
    },
    {
      "cell_type": "code",
      "source": [
        "numeros = [361, 553, 194, 13, 510, 33, 135]\n",
        "\n",
        "for numero in numeros:\n",
        "\n",
        "  if numero % 2 == 0:\n",
        "    print(f'O numero {numero} é par.')\n",
        "    break\n",
        "  else:\n",
        "    continue\n",
        "    print(f'O numero {numero} é impar.')"
      ],
      "metadata": {
        "colab": {
          "base_uri": "https://localhost:8080/"
        },
        "outputId": "49952ad3-5dbf-4519-93b0-feb8a8b9c4e4",
        "id": "SvskpNd8GdFX"
      },
      "execution_count": 33,
      "outputs": [
        {
          "output_type": "stream",
          "name": "stdout",
          "text": [
            "O numero 194 é par.\n"
          ]
        }
      ]
    },
    {
      "cell_type": "markdown",
      "source": [
        "Adicionar o \"continue\" no else antes do print do impar, faz com que ele nunca seja acionado, e só o resultado de par seja exibido.\n",
        "\n",
        "Pois assim que um número impar é lido, o continue para a execução do código e passa para a próxima verificação, que vai acionar o break quando chega no valor par."
      ],
      "metadata": {
        "id": "C6WASt0yHe1C"
      }
    }
  ]
}