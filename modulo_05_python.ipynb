{
  "nbformat": 4,
  "nbformat_minor": 0,
  "metadata": {
    "colab": {
      "provenance": [],
      "collapsed_sections": [
        "RIm2_q2AHItw",
        "qpwguwdGOKft",
        "fsgr6nEv1Rfb"
      ],
      "authorship_tag": "ABX9TyPsblUevwVN3UW6xPCPiQmd",
      "include_colab_link": true
    },
    "kernelspec": {
      "name": "python3",
      "display_name": "Python 3"
    },
    "language_info": {
      "name": "python"
    }
  },
  "cells": [
    {
      "cell_type": "markdown",
      "metadata": {
        "id": "view-in-github",
        "colab_type": "text"
      },
      "source": [
        "<a href=\"https://colab.research.google.com/github/AndreDG88/anotacoes_python_curso_ebac/blob/main/modulo_05_python.ipynb\" target=\"_parent\"><img src=\"https://colab.research.google.com/assets/colab-badge.svg\" alt=\"Open In Colab\"/></a>"
      ]
    },
    {
      "cell_type": "markdown",
      "source": [
        "# **Módulo 05**\n",
        "### Programação Funcional\n"
      ],
      "metadata": {
        "id": "PgcbIwAHvexs"
      }
    },
    {
      "cell_type": "markdown",
      "source": [
        "Um estilo de programação orientado a funções. Vamos trabalhar com funções anônimas, funções lambda, utilizadas para soluções rápidas. Mas que exigem a declaração de uma função. E vamos também ver sobre seus operadores."
      ],
      "metadata": {
        "id": "W0rleNI1O9zE"
      }
    },
    {
      "cell_type": "markdown",
      "source": [
        "**Paradigmas de programação:** São os estilos de programação existentes nas linguagens. Uma linguagem de programação pode ser dedicada a um destes estilos, ou a mais de um, sendo um multi-paradigma. Porém mesmo as linguagens multi-paradigma tem uma das linguagens como foco principal, apesar de trabalhar com todas.\n",
        "\n",
        "O Python por exemplo é uma multi-paradigma, mas é mais voltada a Orientação de objetos. Os estilos de programação dentro dos paradigmas são:\n",
        "\n",
        "- **Imperativa:** Em que você diz exatamente o que você quer e espera que o código faça, através de comandos claros.\n",
        "\n",
        "- **Funcional:** Tem o objetivo de manipular os dados através de muitas funções. Em vez de ter que declarar todos os comandos, suas funções faram isso por você.\n",
        "\n",
        "- **Orientada a objetos:** Ainda vamos estudar este estilo mais a frente."
      ],
      "metadata": {
        "id": "5my5DCGURq-B"
      }
    },
    {
      "cell_type": "markdown",
      "source": [
        "## **1 - Funções Lambda**"
      ],
      "metadata": {
        "id": "RIm2_q2AHItw"
      }
    },
    {
      "cell_type": "markdown",
      "source": [
        "Como explicado acima na questão dos paradigmas, o estilo de programação funcional tem o objetivo de resolver o máximo de situações possíveis e deixar o código menos verboso atrávez das funções. Mas para que ele não seja tão verboso, também não podemos ficar escrevendos todas as funções completas a cada etapa.\n",
        "\n",
        "Várias funções com assinaturas completas, parâmetros, códigos elaborados e retorno, ficariam com muitas linhas de qualquer forma. Por isso temos as funções lambda ajudando nesta questão. Elas são *funções anônimas*, ela não precisa nem de um nome. Sua tarefa é tão pequena que o python nem precisa de um nome para identifica-la.\n",
        "\n",
        "Mas uma vantagem é que apesar de ser uma tarefa pequena, ela pode ser bem específica para uma necessidade. Ela praticamente não é utilizada sozinha, seu uso normal é acompanhando outras funções e recursos da programação funcional."
      ],
      "metadata": {
        "id": "U8jwtyi_PB20"
      }
    },
    {
      "cell_type": "markdown",
      "source": [
        "### **1.1 - definição**"
      ],
      "metadata": {
        "id": "4PIfq3sxezrU"
      }
    },
    {
      "cell_type": "markdown",
      "source": [
        "A função anônima(sem nome), tem uma esctrutura com código super simplificado e que pode ser salvo em uma variável. Normalmente é utilizada em conjunto com os outros métodos da programação funcional, como *map, filter e reduce*.\n",
        "\n",
        "Nota: Tudo o que uma função lambda pode realizar, pode ser tranquilamente feito também com uma função normal de estrutura completa. Deve-se atentar a melhor hora para usar uma ou outra."
      ],
      "metadata": {
        "id": "zu76ieT3PGdf"
      }
    },
    {
      "cell_type": "code",
      "execution_count": null,
      "metadata": {
        "id": "5ik9YIzhOtdN"
      },
      "outputs": [],
      "source": [
        "variavel = lambda params: expressao"
      ]
    },
    {
      "cell_type": "markdown",
      "source": [
        "**Exemplo 01:** função lambda para extrair provedor de e-mail."
      ],
      "metadata": {
        "id": "q6ykulFjeVrV"
      }
    },
    {
      "cell_type": "markdown",
      "source": [
        "Observe a linha de código abaixo, dentro de uma variável e em apenas uma linha curta de código nós conseguimos acessar o parâmetro email. Partir sua string a partir do \"@\" e selecionar como valor o fragmento referente ao provedor. Não consguimos definir muita coisa em uma única expressão lambda, mas o que conseguimos é de forma rápida e simples, ai está a vantagem do seu uso.\n",
        "\n",
        "Com algumas pequenas expressões lambda, podemos resolver problemas bem maiores."
      ],
      "metadata": {
        "id": "i95C6dn2g0Sc"
      }
    },
    {
      "cell_type": "code",
      "source": [
        "extrair_provedor_email = lambda email: email.split(sep='@')[-1]"
      ],
      "metadata": {
        "id": "CrdST74vgeRx"
      },
      "execution_count": null,
      "outputs": []
    },
    {
      "cell_type": "code",
      "source": [
        "email = 'andre.perez@gmail.com'\n",
        "print(email)\n",
        "\n",
        "provedor_email = extrair_provedor_email(email)\n",
        "print(provedor_email)"
      ],
      "metadata": {
        "colab": {
          "base_uri": "https://localhost:8080/"
        },
        "id": "RU8e6q9HigeK",
        "outputId": "cfb3e5a4-4255-4b60-fb51-78af0314bd1a"
      },
      "execution_count": null,
      "outputs": [
        {
          "output_type": "stream",
          "name": "stdout",
          "text": [
            "andre.perez@gmail.com\n",
            "gmail.com\n"
          ]
        }
      ]
    },
    {
      "cell_type": "markdown",
      "source": [
        "**Exemplo 02:** Função lambda com uso de estruturas condicionais."
      ],
      "metadata": {
        "id": "w1lktm40keKb"
      }
    },
    {
      "cell_type": "markdown",
      "source": [
        "O lambda é bem útil para realizar estruturas condicionais de maneira rápida. Veja o exemplo abaixo, após o parâmetro, em uma linha simples definimos a condição do booleano."
      ],
      "metadata": {
        "id": "TRru5kGOmTDY"
      }
    },
    {
      "cell_type": "code",
      "source": [
        "numero_e_par = lambda numero: True if numero % 2 == 0 else False"
      ],
      "metadata": {
        "id": "lbKRHueFkr8v"
      },
      "execution_count": null,
      "outputs": []
    },
    {
      "cell_type": "code",
      "source": [
        "numeros = range(0, 11)"
      ],
      "metadata": {
        "id": "MZ6Y581Hk-q6"
      },
      "execution_count": null,
      "outputs": []
    },
    {
      "cell_type": "code",
      "source": [
        "for numero in numeros:\n",
        "  if numero_e_par(numero) == True:\n",
        "    print(f'O número {numero} é par.')\n",
        "  else:\n",
        "    print(f'O número {numero} é impár;')"
      ],
      "metadata": {
        "colab": {
          "base_uri": "https://localhost:8080/"
        },
        "id": "VunjXD22lEHu",
        "outputId": "6d03b7e2-6bf9-4854-a812-d8b8677a5cbf"
      },
      "execution_count": null,
      "outputs": [
        {
          "output_type": "stream",
          "name": "stdout",
          "text": [
            "O número 0 é par.\n",
            "O número 1 é impár;\n",
            "O número 2 é par.\n",
            "O número 3 é impár;\n",
            "O número 4 é par.\n",
            "O número 5 é impár;\n",
            "O número 6 é par.\n",
            "O número 7 é impár;\n",
            "O número 8 é par.\n",
            "O número 9 é impár;\n",
            "O número 10 é par.\n"
          ]
        }
      ]
    },
    {
      "cell_type": "markdown",
      "source": [
        "### **1.2 - Função de alta ordem**"
      ],
      "metadata": {
        "id": "ETLR4iWQm_67"
      }
    },
    {
      "cell_type": "markdown",
      "source": [
        "São funções que recebem outras funções como seus parâmetros, ou retornam uma outra função. Isso muda bastante a dinâmica de trabalho com funções que vimos até aqui. Até agora os parâmetros com que trabalamos sempre foram variáveis, ou tipos nativos do Python e conjuntos/dicionários. O mesmo vale para os retornos."
      ],
      "metadata": {
        "id": "QtHsu7vqm_Vt"
      }
    },
    {
      "cell_type": "markdown",
      "source": [
        "**Exemplo de uso:**\n",
        "\n",
        "Estas funções de alta ordem funcionam bem com \"camadas de funções\". Trabalhando em conjunto com as funções de primeira ordem(que não retornam funções,ou tem funções como parâmetros).\n",
        "\n",
        "Vamos definir uma função com nome retorno, seu parâmetro será uma variável juros de valor numérico float. Esta função retorno vai retornar uma função lambda. Está função tem como parâmetro o investimento de valor int, ele vai pegar este investimento e vai multiplicar por 1 mais o valor da variável juros da fulção retorno.\n",
        "\n",
        "Por isso o retorno é uma função de alta ordem, ela não nos retorna um valor simples, ele vai retornar um resultado de uma outra função que será executada a partir dos valores de suas variáveis."
      ],
      "metadata": {
        "id": "pGc4J-Wpp4Lj"
      }
    },
    {
      "cell_type": "code",
      "source": [
        "def retorno(juros: float):\n",
        "  return lambda investimento: investimento * (1 + juros)"
      ],
      "metadata": {
        "id": "WK-coXCap3yL"
      },
      "execution_count": null,
      "outputs": []
    },
    {
      "cell_type": "markdown",
      "source": [
        "Agora vamos fazer esta função trabalhar, e por que eu mencionei as \"camadas de função\". Por que a função retorno vai funcionar sendo alimentada e gerando respostas a partir de dados e chamadas de outras \"pequenas funções\"."
      ],
      "metadata": {
        "id": "yWREHb1itDlS"
      }
    },
    {
      "cell_type": "code",
      "source": [
        "#vamos definir as variáveis que vão receber os valores dos juros\n",
        "retorno_5_porcento = retorno(juros=0.05)\n",
        "retorno_10_porcento = retorno(juros=0.10)"
      ],
      "metadata": {
        "id": "Rk4spxWfupD4"
      },
      "execution_count": null,
      "outputs": []
    },
    {
      "cell_type": "markdown",
      "source": [
        "e por fim vamos calcular o valor final. O valor final vai ter como produto a chamada do retorno de uma porcentagem. Lembrando que esse retorno de porcentagem tem como valor a nossa função retorno já com o parâmetro juros configurado.\n",
        "\n",
        "Então nessa chamada do retorno de porcentagem dentro de valor final, vamos atribuir um valor ao parâmetro investimento. Assim tento todos os parâmetros necessários para o calculo de valor da função retorno."
      ],
      "metadata": {
        "id": "mIPW7t7AvaWi"
      }
    },
    {
      "cell_type": "code",
      "source": [
        "valor_final = retorno_5_porcento(investimento=1000)\n",
        "print(valor_final)\n",
        "\n",
        "valor_final = retorno_10_porcento(investimento=1000)\n",
        "print(valor_final)"
      ],
      "metadata": {
        "colab": {
          "base_uri": "https://localhost:8080/"
        },
        "id": "zj_5ZY1ewtU5",
        "outputId": "d73f528d-639e-467a-e8e5-ec25f82c25da"
      },
      "execution_count": null,
      "outputs": [
        {
          "output_type": "stream",
          "name": "stdout",
          "text": [
            "1050.0\n",
            "1100.0\n"
          ]
        }
      ]
    },
    {
      "cell_type": "markdown",
      "source": [
        "**Uso em uma função de calculo de juros composto:**"
      ],
      "metadata": {
        "id": "l9b7mZ90yxTL"
      }
    },
    {
      "cell_type": "code",
      "source": [
        "anos = 10\n",
        "valor_inicial = 1000\n",
        "valor_final = valor_inicial\n",
        "#O valor final é igual ao inicial neste início de função para o operador for / in funcionar.\n",
        "#Ao final da função ele vai ser atualizado ao real valor final.\n",
        "\n",
        "for ano in range(1, anos+1):\n",
        "  valor_final = retorno_5_porcento(investimento=valor_final)\n",
        "\n",
        "valor_inicial = round(valor_final, 2)\n",
        "print(valor_final)"
      ],
      "metadata": {
        "colab": {
          "base_uri": "https://localhost:8080/"
        },
        "id": "RltbBaUfy6XB",
        "outputId": "bff48519-d8ee-4eae-b260-725914b3ad47"
      },
      "execution_count": null,
      "outputs": [
        {
          "output_type": "stream",
          "name": "stdout",
          "text": [
            "1628.8946267774422\n"
          ]
        }
      ]
    },
    {
      "cell_type": "code",
      "source": [
        "anos = 10\n",
        "valor_inicial = 1000\n",
        "valor_final = valor_inicial\n",
        "\n",
        "for ano in range(1, anos+1):\n",
        "  valor_final = retorno_10_porcento(investimento=valor_final)\n",
        "\n",
        "valor_inicial = round(valor_final, 2)\n",
        "print(valor_final)"
      ],
      "metadata": {
        "colab": {
          "base_uri": "https://localhost:8080/"
        },
        "outputId": "a561f5cd-768d-4975-b510-173dc3ec25f1",
        "id": "udK2e3gf06k2"
      },
      "execution_count": null,
      "outputs": [
        {
          "output_type": "stream",
          "name": "stdout",
          "text": [
            "2593.742460100001\n"
          ]
        }
      ]
    },
    {
      "cell_type": "markdown",
      "source": [
        "## **2 - Funções Map**"
      ],
      "metadata": {
        "id": "qpwguwdGOKft"
      }
    },
    {
      "cell_type": "markdown",
      "source": [
        "Ela é uma das funções nativas do python relacionadas a programação funcional. Uma função de alta ordem, sempre recebendo uma função como parâmetro."
      ],
      "metadata": {
        "id": "N6XG3yyHOKSO"
      }
    },
    {
      "cell_type": "markdown",
      "source": [
        "### **2.1 - definição**"
      ],
      "metadata": {
        "id": "YMWYAMsw1VaN"
      }
    },
    {
      "cell_type": "markdown",
      "source": [
        "Sua estrutura de código aplica uma função em todos os elementos de uma coleção (lista, dicionário entre outros) e retorna **todos** os elementos transformados. Então já tenha em mente que uma função map sempre vai receber pelo menos uma funcão e uma coleção."
      ],
      "metadata": {
        "id": "cNPx10p_ORLa"
      }
    },
    {
      "cell_type": "code",
      "source": [
        "variavel = map(funcao, colecao)"
      ],
      "metadata": {
        "id": "hbmcqOehPjpi"
      },
      "execution_count": null,
      "outputs": []
    },
    {
      "cell_type": "markdown",
      "source": [
        "Veja um exemplo a seguir"
      ],
      "metadata": {
        "id": "Pr_MAhbvQXVt"
      }
    },
    {
      "cell_type": "code",
      "source": [
        "#Vamos definir uma lista de valores simples inteiros.\n",
        "numeros = [1, 2, 3, 4, 5,]\n",
        "\n",
        "#Agora utilizando o Map, vamos pegar todos os elementos desta lista e elevar eles ao cubo\n",
        "#dentro dos parenteses de map, ele vai pegar cada elemento da lista e vai passa-lo pela função Lambda.\n",
        "numeros_ao_cubo = map(lambda num: num ** 3, numeros)\n",
        "\n",
        "#Executamos o print da variável convertendo em lista porque o resultado de um map não vem pronto para ser lido.\n",
        "print(list(numeros_ao_cubo))"
      ],
      "metadata": {
        "colab": {
          "base_uri": "https://localhost:8080/"
        },
        "id": "Gb6Ry4QwQZlU",
        "outputId": "7b2b1435-77bc-40ba-e164-89b8f8398480"
      },
      "execution_count": null,
      "outputs": [
        {
          "output_type": "stream",
          "name": "stdout",
          "text": [
            "[1, 8, 27, 64, 125]\n"
          ]
        }
      ]
    },
    {
      "cell_type": "markdown",
      "source": [
        "### **2.2 - Map com funções de alta ordem**"
      ],
      "metadata": {
        "id": "VZ7Ro4oBSRfJ"
      }
    },
    {
      "cell_type": "markdown",
      "source": [
        "vamos começar com uma estrutura de código que já tinhamos visto antes, a que separa o trecho referente ao provedor de uma string de email. Porém agora ela vai agir em uma lista com mais de um email."
      ],
      "metadata": {
        "id": "MIDSTNSGSRF0"
      }
    },
    {
      "cell_type": "code",
      "source": [
        "emails = ['primeiro.email@gmail.com', 'segundo.email@live.com', 'terceiro.email@yahoo.com']\n",
        "extrair_provedor_email = lambda email: email.split(sep='@')[-1]"
      ],
      "metadata": {
        "id": "L_enQIxwSa8P"
      },
      "execution_count": 1,
      "outputs": []
    },
    {
      "cell_type": "markdown",
      "source": [
        "Agora com uma estrutura de progamação de estilo imperativo, vamos usar um loop de for / in para armazenar estes provedores em uma nova lista de nome \"provedores\"."
      ],
      "metadata": {
        "id": "K95tlb_uQ4fC"
      }
    },
    {
      "cell_type": "code",
      "source": [
        "provedores = []\n",
        "for email in emails:\n",
        "  provedor = extrair_provedor_email(email)\n",
        "  provedores.append(provedor)\n",
        "\n",
        "print(provedores)"
      ],
      "metadata": {
        "colab": {
          "base_uri": "https://localhost:8080/"
        },
        "id": "-75yA3ACOfJ8",
        "outputId": "5a4e8e98-e58f-41af-e15b-e94ad14ea0ba"
      },
      "execution_count": 2,
      "outputs": [
        {
          "output_type": "stream",
          "name": "stdout",
          "text": [
            "['gmail.com', 'live.com', 'yahoo.com']\n"
          ]
        }
      ]
    },
    {
      "cell_type": "markdown",
      "source": [
        "Agora vamos tentar repetir este mesmo processo, mas usando uma estrutura de código de operação lambda. Definimos a variável provedores novamente, mas seu valor é um operador map.\n",
        "\n",
        "E em seus parametros vamos informar ao map que em cada elemento da coleção emails, ele deve executar a função extrair_provedor_email. O map automaticamente ira armazenar o resultado na variável provedores. Mas teremos uma questão a resolver após isso."
      ],
      "metadata": {
        "id": "sWpUMlnnRpAQ"
      }
    },
    {
      "cell_type": "code",
      "source": [
        "provedores = map(extrair_provedor_email, emails)\n",
        "print(provedores)"
      ],
      "metadata": {
        "colab": {
          "base_uri": "https://localhost:8080/"
        },
        "id": "W70GkKYUO70l",
        "outputId": "48dda813-a288-4cd7-effa-be14b87d0e79"
      },
      "execution_count": 3,
      "outputs": [
        {
          "output_type": "stream",
          "name": "stdout",
          "text": [
            "<map object at 0x79d01d075ab0>\n"
          ]
        }
      ]
    },
    {
      "cell_type": "markdown",
      "source": [
        "Tentando resumir, quando iniciamos o código acima, o python ele entende o que queremos fazer, mas ele ainda não executa em si. Por que ele não sabe exatamente como nós queremos consumir essas informações. Ele calculou e alocou esses dados em um slot de memória, mas é comos e ele tivesse dizendo \"Ok, eu fiz o que você pediu, mas é para eu printar isso como, string, int, float, list... em que?\"."
      ],
      "metadata": {
        "id": "I-eouUMBS4Yw"
      }
    },
    {
      "cell_type": "markdown",
      "source": [
        "Então, uma forma de resolver isso, é ja deixar um operador ajustado para converter o resultado, já na estrutura do map."
      ],
      "metadata": {
        "id": "cAEMVqBLTq2D"
      }
    },
    {
      "cell_type": "code",
      "source": [
        "provedores = list(map(extrair_provedor_email, emails))\n",
        "print(provedores)"
      ],
      "metadata": {
        "colab": {
          "base_uri": "https://localhost:8080/"
        },
        "id": "k-oHA8W2PM_e",
        "outputId": "f7d1fd27-f41b-4b97-fa7d-144226e29306"
      },
      "execution_count": 4,
      "outputs": [
        {
          "output_type": "stream",
          "name": "stdout",
          "text": [
            "['gmail.com', 'live.com', 'yahoo.com']\n"
          ]
        }
      ]
    },
    {
      "cell_type": "markdown",
      "source": [
        "Agora voltando um pouco ao que vimos até agora neste módulo, tinhamos visto que uma das vantagens de usar funções lambda era para deixar o código mais simples e curto né? Que estas funções são anonimas e não precisam de assinaturas.\n",
        "\n",
        "Então diferente dos exemplos anteriores deste tópico, para finalizar, não precisamos criar uma variável e dar um nome a função de estração de provedores, ela pode fazer parte da própria variável \"provedores\". Resolver tudo em uma única estrutura de código."
      ],
      "metadata": {
        "id": "0o16J51NUiTQ"
      }
    },
    {
      "cell_type": "code",
      "source": [
        "provedores = map(lambda email: email.split(sep='@')[-1], emails)\n",
        "...\n",
        "print(list(provedores))"
      ],
      "metadata": {
        "colab": {
          "base_uri": "https://localhost:8080/"
        },
        "id": "viamqSUxPro9",
        "outputId": "c6bccf9d-40f3-4289-bed0-d4cc1f497a8a"
      },
      "execution_count": 6,
      "outputs": [
        {
          "output_type": "stream",
          "name": "stdout",
          "text": [
            "['gmail.com', 'live.com', 'yahoo.com']\n"
          ]
        }
      ]
    },
    {
      "cell_type": "markdown",
      "source": [
        "Os \"...\" acima são para sinalizar um fato interessante sobre operadores e funções voltadas ao estilo funcional. Como dito antes no exemplo do map, ele não vai aprensentar o resultado imediato de sua função até que seja solicitado e e dito como apresentar.\n",
        "\n",
        "Então pode-se ter diversos blocos de código e outras funções antes de você dar o comando para que ele execute o que foi solicitado. além do ponto de que sua execução é bem rápida, pois ele não vai executar a sua função em um item da coleção por vez, e sim em todas ao mesmo tempo.\n",
        "\n",
        "Projetos desenvolvidos com uma linguagem de programação totalmente funcional são conehcida por sua rápida performance. São muito utilizadas em programas que visam atender uma quantidade massiva de usuários ao mesmo tempo, como bancos, aplicativos de comida e afins."
      ],
      "metadata": {
        "id": "Zj00MGocZMnd"
      }
    },
    {
      "cell_type": "markdown",
      "source": [
        "### **2.3 - Pratica de Map com mais de 1 parâmetro**"
      ],
      "metadata": {
        "id": "6OCqnbwDds_H"
      }
    },
    {
      "cell_type": "markdown",
      "source": [
        "Vamos mais uma vez utilizar nosso exemplo de calculo de juros compostos, mas agora em um cenário mais abrangente. Vamos analisar diversos cenários ao mesmo tempo. Porém com um código mais simplificado, graças ao operador funcional Map."
      ],
      "metadata": {
        "id": "yO8e_qFVdswT"
      }
    },
    {
      "cell_type": "code",
      "source": [
        "anos = [10, 10, 10, 10, 10, 10, 10, 10, 10, 10]\n",
        "taxas_juros = [0.05, 0.07, 0.10, 0.15, 0.17, 0.20, 0.25, 0.27, 0.30, 0.35]\n",
        "valores_iniciais = [1000, 1000, 1000, 1000, 1000, 1000, 1000, 1000, 1000, 1000, ]\n",
        "\n",
        "def retorno(valor_inicial: float, taxas_juros: float, anos: int):\n",
        "  valor_final = valor_inicial\n",
        "  for ano in range(1, anos+1):\n",
        "    valor_final = valor_final * (1+taxas_juros)\n",
        "  return round(valor_final, 2)\n",
        "\n",
        "cenarios = list(map(retorno, valores_iniciais, taxas_juros, anos))\n",
        "print(cenarios)"
      ],
      "metadata": {
        "colab": {
          "base_uri": "https://localhost:8080/"
        },
        "id": "oeLv6YdyhzqH",
        "outputId": "517002bb-6b1d-4222-ea24-b8d6538284fe"
      },
      "execution_count": 9,
      "outputs": [
        {
          "output_type": "stream",
          "name": "stdout",
          "text": [
            "[1628.89, 1967.15, 2593.74, 4045.56, 4806.83, 6191.74, 9313.23, 10915.34, 13785.85, 20106.56]\n"
          ]
        }
      ]
    },
    {
      "cell_type": "markdown",
      "source": [
        "A inteligência de dedução que a linguagem python apresenta neste uso de map com multiplos parâmetros é notável.\n",
        "\n",
        "Definimos as váriáveis de coleção, logo após fizemos a nossa conhecida função de for / in para o cálculo de um cenário de juros compostos. e então criamos a variável cenários com um map de execução da função retorno agindo sobre as coleções que criamos. Seu resultado já definido para ser convetido em uma lista.\n",
        "\n",
        "Note que ao declarar dentro de map a função e os parâmetros, colocamos a ordem dos parâmetros respeitando a mesma ordem que elas estão na função retorno. Então o recurso map entendeu a relação entre elas para a execução da função retoro.\n",
        "\n",
        "E fez a a mesma coisa na sua execução, foi pegando sequencialmente um elemento de cada coleção e passou eles na ordem certa para serem utilizados pela função retorno. Armazenando depois em ordem dentro de uma nova lista de resultados em \"cenários\". Essa é a beleza de uma lógica de linguagem funcional."
      ],
      "metadata": {
        "id": "idZkQ7Hijp1Z"
      }
    },
    {
      "cell_type": "markdown",
      "source": [
        "## **3 - Funções Filter**"
      ],
      "metadata": {
        "id": "fsgr6nEv1Rfb"
      }
    },
    {
      "cell_type": "markdown",
      "source": [
        "Vamos agora para as funções filters, e mais uma vez o nome já é alto explicativo. Sua finalidade é a de filtrar elementos de uma coleção."
      ],
      "metadata": {
        "id": "6XjlrG5M1Q2H"
      }
    },
    {
      "cell_type": "markdown",
      "source": [
        "### **3.1 - definição**"
      ],
      "metadata": {
        "id": "HzzS8ENm1Zn_"
      }
    },
    {
      "cell_type": "markdown",
      "source": [
        "Sua estrurura se baseia na aplicação de uma comparação lógica booleana, em todos os elementos de uma coleção(list, dict, etc...). Ela irá retornar apenas os elementos que passarem como True em relação a configuração do filter."
      ],
      "metadata": {
        "id": "JoVl-CwF1ZY9"
      }
    },
    {
      "cell_type": "code",
      "source": [
        "variavel = filter(funcao, colecao)"
      ],
      "metadata": {
        "colab": {
          "base_uri": "https://localhost:8080/",
          "height": 141
        },
        "id": "BiikIR6Z3UR1",
        "outputId": "415e2fdc-b819-4b0b-81f8-10fa18886438"
      },
      "execution_count": 18,
      "outputs": [
        {
          "output_type": "error",
          "ename": "NameError",
          "evalue": "name 'funcao' is not defined",
          "traceback": [
            "\u001b[0;31m---------------------------------------------------------------------------\u001b[0m",
            "\u001b[0;31mNameError\u001b[0m                                 Traceback (most recent call last)",
            "\u001b[0;32m<ipython-input-18-94c2642502cf>\u001b[0m in \u001b[0;36m<cell line: 0>\u001b[0;34m()\u001b[0m\n\u001b[0;32m----> 1\u001b[0;31m \u001b[0mvariavel\u001b[0m \u001b[0;34m=\u001b[0m \u001b[0mfilter\u001b[0m\u001b[0;34m(\u001b[0m\u001b[0mfuncao\u001b[0m\u001b[0;34m,\u001b[0m \u001b[0mcolecao\u001b[0m\u001b[0;34m)\u001b[0m\u001b[0;34m\u001b[0m\u001b[0;34m\u001b[0m\u001b[0m\n\u001b[0m",
            "\u001b[0;31mNameError\u001b[0m: name 'funcao' is not defined"
          ]
        }
      ]
    },
    {
      "cell_type": "markdown",
      "source": [
        "**Exemplo rápido**"
      ],
      "metadata": {
        "id": "OQG-LUib3n7G"
      }
    },
    {
      "cell_type": "code",
      "source": [
        "numeros = [1, 2, 3]\n",
        "\n",
        "numeros_impares = filter(lambda numero: numero % 2 != 0, numeros)\n",
        "print(list(numeros_impares))"
      ],
      "metadata": {
        "id": "8_psu2DU3rJp"
      },
      "execution_count": null,
      "outputs": []
    },
    {
      "cell_type": "markdown",
      "source": [
        "### **3.2 - filter em função de alta ordem**"
      ],
      "metadata": {
        "id": "bF3mZB946Ckw"
      }
    },
    {
      "cell_type": "markdown",
      "source": [
        "Vamos aperfeiçoar nossa função de extrair provedores de e-mail. Agora vamos filtrar do resultado, apenas os provedores que queremos verificar se existem na lista. criamos nossa lista de e-mails, e criamos uma variável que vai armazenar nossa função lambda que vai verificar se alguma string dentro da coleção contém a palavra \"gmail.\"."
      ],
      "metadata": {
        "id": "5iwYyKhL6CM5"
      }
    },
    {
      "cell_type": "code",
      "source": [
        "emails = ['primeiro.email@gmail.com', 'segundo.email@live.com', 'terceiro.email@yahoo.com']\n",
        "provedor_da_google = lambda email: 'gmail' in email"
      ],
      "metadata": {
        "id": "vFtKtVJE66-W"
      },
      "execution_count": null,
      "outputs": []
    },
    {
      "cell_type": "markdown",
      "source": [
        "O precesso é muito similar estruturalmente ao que fizemos com o map. tendo diferença claro na operação que é executada em si."
      ],
      "metadata": {
        "id": "mCxOTRbWODYN"
      }
    },
    {
      "cell_type": "code",
      "source": [
        "emails_google = []\n",
        "for email in emails:\n",
        "  if provedor_da_google(email) == True:\n",
        "    emails_google.append(email)\n",
        "\n",
        "print(emails_google)"
      ],
      "metadata": {
        "id": "Mx2wnSr59TwE"
      },
      "execution_count": null,
      "outputs": []
    },
    {
      "cell_type": "code",
      "source": [
        "email_google = filter(provedor_da_google, emails)\n",
        "print(emails_google)"
      ],
      "metadata": {
        "id": "AKZtR24a9TgH"
      },
      "execution_count": null,
      "outputs": []
    },
    {
      "cell_type": "markdown",
      "source": [
        "Como em Map, o filter não vai nos entregar a respota de imediato, ele vai aguardar até que realizemos uma chamada e iformemos como queremos que esses dados sejam apresentados."
      ],
      "metadata": {
        "id": "RrLFvGy4O-gG"
      }
    },
    {
      "cell_type": "code",
      "source": [
        "emails_google = list(filter(provedor_da_google, emails))\n",
        "print(emails_google)"
      ],
      "metadata": {
        "id": "OvWp4dLf9z2g"
      },
      "execution_count": null,
      "outputs": []
    },
    {
      "cell_type": "markdown",
      "source": [
        "E claro, podemos resolver toda está função em uma única variável, se a função lambda for aplicada diretamente dentro do operador filter."
      ],
      "metadata": {
        "id": "dWoiTEuVPPY9"
      }
    },
    {
      "cell_type": "code",
      "source": [
        "emails_google = filter(lambda email: 'gmail' in email, emails)\n",
        "...\n",
        "print(list(emails_google))"
      ],
      "metadata": {
        "id": "n7VnI2w4-QdI"
      },
      "execution_count": null,
      "outputs": []
    },
    {
      "cell_type": "markdown",
      "source": [
        "## **4 - Função reduce**"
      ],
      "metadata": {
        "id": "kP712Kb9P0Yi"
      }
    },
    {
      "cell_type": "markdown",
      "source": [
        "Chegando ao último item deste módulo sobre programação funcional. O Reduce assim como o Map e o Filter, vai aplicar uma função, lambda ou não, em todos os elementos de uma coleção.\n",
        "\n",
        "Mas, ele vai executar está tarefa em dois elementos por vez. E o resultado desta tarefa passa a ser um valor que vai ser usado na execução desta tarefa novamante, mas juntamente com o elemento seguinte. Sempre dois elementos por vez, até restar apenas um valor final."
      ],
      "metadata": {
        "id": "oK4ARiDuP0A-"
      }
    },
    {
      "cell_type": "markdown",
      "source": [
        "### **4.1 - definição**"
      ],
      "metadata": {
        "id": "Wwk9_v0pP8tW"
      }
    },
    {
      "cell_type": "markdown",
      "source": [
        "Estrutura parecida com as de Map e Filter. Uma variável, tendo como valor o Reduce, e em seus parenteses uma função e um parâmetro de coleção. A função é aplicada a todos os elementos da coleção, de dois em dois, e retorna apenas um elemento no final."
      ],
      "metadata": {
        "id": "rD8d--fSP8dw"
      }
    },
    {
      "cell_type": "code",
      "source": [
        "variavel = reduce(funcao, colecao)"
      ],
      "metadata": {
        "id": "XniVuzAIWKFk"
      },
      "execution_count": null,
      "outputs": []
    },
    {
      "cell_type": "markdown",
      "source": [
        "**Exemplo rápido**"
      ],
      "metadata": {
        "id": "qOVEgzuAWQKe"
      }
    },
    {
      "cell_type": "code",
      "source": [
        "numeros = [1, 2, 3]"
      ],
      "metadata": {
        "id": "rdzX00YZWUpY"
      },
      "execution_count": 19,
      "outputs": []
    },
    {
      "cell_type": "markdown",
      "source": [
        "O Reduce não é um recurso nativo da linguagem Python. É importante lembrar disto, então quando for usa-lo, deve-se fazer a importação dele na sua biblioteca. A importação é feita usando o seguinte comando: \"from NomeBiblioteca import NomeRecurso\"."
      ],
      "metadata": {
        "id": "6jWf60zqWkn2"
      }
    },
    {
      "cell_type": "code",
      "source": [
        "from functools import reduce #Importação do Reduce\n",
        "\n",
        "soma = reduce(lambda x, y: x + y, numeros)\n",
        "print(soma)"
      ],
      "metadata": {
        "colab": {
          "base_uri": "https://localhost:8080/"
        },
        "id": "Mo--HwP5WdE9",
        "outputId": "17b48551-2c3a-4fde-e6fa-b93db909d688"
      },
      "execution_count": 20,
      "outputs": [
        {
          "output_type": "stream",
          "name": "stdout",
          "text": [
            "6\n"
          ]
        }
      ]
    },
    {
      "cell_type": "markdown",
      "source": [
        "### **4.2 - Reduce em função de alta ordem**"
      ],
      "metadata": {
        "id": "7zM6bUb5Xu1W"
      }
    },
    {
      "cell_type": "markdown",
      "source": [
        "Vamos usar este recurso do reduce agora em um exemplo mais complexo. Vamos usar ele para encontrar o valor mais alto em uma lista de numeros com 100 elementos."
      ],
      "metadata": {
        "id": "fQt9LdqIXui8"
      }
    },
    {
      "cell_type": "markdown",
      "source": [
        "Primeiro vamos desenvolver a função que vai realizar esta comparação. A função \"maior_entre\" vai ter como parâmetros dois valores de números inteiros, o \"primeiro\" e o \"segundo\". E espera-se que esta função nos retorne também um número inteiro.\n",
        "\n",
        "Após isso como return teremos um comparativo if / else. Em que o primeiro valor é retornado se ele for maior ou igual ao segundo valor, caso não seja, o segundo valor é retornado.\n",
        "\n"
      ],
      "metadata": {
        "id": "OuPDdsGPaNOJ"
      }
    },
    {
      "cell_type": "code",
      "source": [
        "def maior_entre(primeiro: int, segundo: int) -> int:\n",
        "  return primeiro if primeiro >= segundo else segundo\n",
        "\n",
        "primeiro = 1\n",
        "segundo = 10\n",
        "\n",
        "print(maior_entre(primeiro=primeiro, segundo=segundo))"
      ],
      "metadata": {
        "colab": {
          "base_uri": "https://localhost:8080/"
        },
        "id": "r3XkMxMWZGlb",
        "outputId": "98d8aba7-148e-4865-95c8-8b78431cfa39"
      },
      "execution_count": 21,
      "outputs": [
        {
          "output_type": "stream",
          "name": "stdout",
          "text": [
            "10\n"
          ]
        }
      ]
    },
    {
      "cell_type": "markdown",
      "source": [
        "Precisamos de uma lista de valores para poder fazer o nosso reduce funcionar. E para isso vamos usar mais um recurso novo que vem de fora da linguagem. O \"random\", que sempre vai nos retornar um valor aleatório.\n",
        "\n",
        "Como padrão ele sempre vai retornar um valor aleatório entre 0 e 1. Então para valores diferentes temos de realizar algumas configurações."
      ],
      "metadata": {
        "id": "8Ai_awgtcmFL"
      }
    },
    {
      "cell_type": "code",
      "source": [
        "from random import random\n",
        "\n",
        "print(random())"
      ],
      "metadata": {
        "colab": {
          "base_uri": "https://localhost:8080/"
        },
        "id": "WtaKSbbGcXWo",
        "outputId": "2f4d00a2-1a6c-4172-a77f-dcf22ee2c915"
      },
      "execution_count": 23,
      "outputs": [
        {
          "output_type": "stream",
          "name": "stdout",
          "text": [
            "0.03051533426047004\n"
          ]
        }
      ]
    },
    {
      "cell_type": "markdown",
      "source": [
        "Para termos um pouco mais de controle sobre o random vamos criar uma variável lista de nome \"numeros\". Está lista será preenchida com os valores de uma operação for /in, que fará uso do random.\n",
        "\n",
        "No ramdom usado no for / in, vamos já deixar ajustada um operador de conversão \"round\", para termos um valor de 0 até 100, ao invés de 0 à 1. Cada número de 0 à 100 do round vai ser multiplicado por um valor aleatório do random.\n",
        "\n",
        "O for / in vai ser executado tendo um valor do random para uma varável qualquer(representada por \"_\") dentro de uma sequencia(range) de 0 à 100. Apenas para garantir que o loop de números aleatórios do random se repita 100 vezes.\n",
        "\n"
      ],
      "metadata": {
        "id": "NRY9_XTneIjr"
      }
    },
    {
      "cell_type": "code",
      "source": [
        "from random import random\n",
        "\n",
        "numeros = [round(100 * random()) for _ in range(0, 100)]\n",
        "print(numeros)"
      ],
      "metadata": {
        "colab": {
          "base_uri": "https://localhost:8080/"
        },
        "id": "s_1NWR-zdICV",
        "outputId": "5938aef9-1009-4266-ebd9-795d1c03eeae"
      },
      "execution_count": 29,
      "outputs": [
        {
          "output_type": "stream",
          "name": "stdout",
          "text": [
            "[84, 17, 31, 87, 8, 19, 21, 29, 48, 29, 61, 99, 54, 33, 99, 6, 78, 91, 82, 83, 99, 39, 7, 65, 78, 79, 40, 63, 21, 1, 60, 21, 83, 33, 42, 15, 83, 93, 78, 29, 52, 57, 82, 91, 89, 68, 10, 18, 40, 26, 96, 20, 61, 85, 17, 75, 82, 51, 34, 19, 60, 83, 73, 51, 98, 77, 31, 45, 68, 4, 23, 60, 51, 37, 60, 34, 59, 71, 18, 52, 51, 26, 81, 48, 90, 18, 6, 49, 62, 78, 71, 44, 91, 9, 75, 33, 66, 84, 65, 45]\n"
          ]
        }
      ]
    },
    {
      "cell_type": "markdown",
      "source": [
        "Vamos finalmente usar o Reduce, agora que temos nossas \"ferramentas\" prontas para tal. Criamos uma variável chamada \"maior_numero\", e nela colocamos como valor o reduce. Em seus parenteses vamos colocar a função maior_entre, agindo na coleção random numeros."
      ],
      "metadata": {
        "id": "Xr3lxPFhjJ81"
      }
    },
    {
      "cell_type": "code",
      "source": [
        "maior_numero = reduce(maior_entre, numeros)\n",
        "print(maior_numero)"
      ],
      "metadata": {
        "colab": {
          "base_uri": "https://localhost:8080/"
        },
        "id": "q7-jrXXsjzvf",
        "outputId": "6bc4c905-5966-40ca-a88d-a8c9a2c59d61"
      },
      "execution_count": 30,
      "outputs": [
        {
          "output_type": "stream",
          "name": "stdout",
          "text": [
            "99\n"
          ]
        }
      ]
    },
    {
      "cell_type": "markdown",
      "source": [
        "E abaixo vemos como podemos realizar este reduce tendo a função lambda de comparação dentro dele."
      ],
      "metadata": {
        "id": "lzYsdu_XkFWP"
      }
    },
    {
      "cell_type": "code",
      "source": [
        "maior_numero = reduce(lambda primeiro, segundo: primeiro if primeiro >= segundo else segundo, numeros)\n",
        "print(maior_numero)"
      ],
      "metadata": {
        "colab": {
          "base_uri": "https://localhost:8080/"
        },
        "id": "lg9caPPmlahv",
        "outputId": "b9f5bb97-7634-4a7c-b67a-901e56733cac"
      },
      "execution_count": 31,
      "outputs": [
        {
          "output_type": "stream",
          "name": "stdout",
          "text": [
            "99\n"
          ]
        }
      ]
    },
    {
      "cell_type": "markdown",
      "source": [
        "### **4.3 - Compossibilidade**"
      ],
      "metadata": {
        "id": "-bg-HeiPlyCc"
      }
    },
    {
      "cell_type": "markdown",
      "source": [
        "Compossibilidade diz que a programação funcional só faz sentido se as funções puderem ser compostas para poder resultar em um valor que temos interesse.\n",
        "\n",
        "Então para testar isso, vamos usar tudo o que aprendemos neste módulo para obter um resultado."
      ],
      "metadata": {
        "id": "-jmguts-lxw6"
      }
    },
    {
      "cell_type": "code",
      "source": [
        "from random import random #Vamos importar a função random primeiro\n",
        "\n",
        "#E vamos resgatar nosso gerador de números aleatórios\n",
        "numeros = [round(100 * random()) for _ in range(0, 100)]\n",
        "print(numeros)"
      ],
      "metadata": {
        "colab": {
          "base_uri": "https://localhost:8080/"
        },
        "id": "Z9XLMsTYnbHT",
        "outputId": "03c90e9a-db52-41e8-e427-dcf627c35193"
      },
      "execution_count": 32,
      "outputs": [
        {
          "output_type": "stream",
          "name": "stdout",
          "text": [
            "[46, 96, 32, 61, 62, 6, 3, 43, 52, 37, 31, 21, 70, 30, 12, 82, 38, 44, 49, 76, 61, 27, 42, 25, 16, 31, 59, 4, 74, 86, 6, 42, 49, 56, 55, 72, 29, 46, 36, 9, 36, 52, 88, 84, 56, 79, 47, 0, 99, 15, 30, 53, 7, 86, 64, 63, 85, 90, 37, 72, 44, 47, 2, 33, 81, 49, 95, 99, 28, 75, 5, 24, 24, 70, 45, 63, 83, 93, 7, 47, 25, 26, 18, 71, 88, 89, 25, 73, 94, 83, 62, 37, 12, 9, 64, 51, 77, 46, 96, 88]\n"
          ]
        }
      ]
    },
    {
      "cell_type": "markdown",
      "source": [
        "Para deixar nossa lista de números mais aleatória ainda, vamos utilizar o operador Map para pegar todos os elementos desta lista e elevar eles ao quadrado."
      ],
      "metadata": {
        "id": "5djhVqIdn0pg"
      }
    },
    {
      "cell_type": "code",
      "source": [
        "numeros_ao_quadrado = map(lambda numero: numero ** 2, numeros)"
      ],
      "metadata": {
        "id": "0c5u--HzoBPz"
      },
      "execution_count": 33,
      "outputs": []
    },
    {
      "cell_type": "markdown",
      "source": [
        "após o resultado da lista aleatória elevada ao quadrado, vamos usar o operador filter para criar uma nova lista para nos dar apenas o números impares da coleção numeros_ao_quadrado."
      ],
      "metadata": {
        "id": "nwe0taJCwJIE"
      }
    },
    {
      "cell_type": "code",
      "source": [
        "numeros_impares = filter(lambda numero: numero % 2 != 0, numeros_ao_quadrado)"
      ],
      "metadata": {
        "id": "cNhbrLRZwjw7"
      },
      "execution_count": 35,
      "outputs": []
    },
    {
      "cell_type": "markdown",
      "source": [
        "E por fim vamos utilizar o operador Reduce para realizar a soma de todos os valores da coleção numeros_impares. veja que só aqui foi pedido um print. Então até aqui, as funções map e filter tinham entendido o que fazer, mas não tinha calculado ainda.\n",
        "\n",
        "Só agora no pedido de print em soma(reduce), que precisava do resultado das outras duas, que elas foram executadas."
      ],
      "metadata": {
        "id": "qeUTFKUfxANG"
      }
    },
    {
      "cell_type": "code",
      "source": [
        "soma_numeros = reduce(lambda x, y: x + y, numeros_impares)\n",
        "print (soma_numeros)"
      ],
      "metadata": {
        "colab": {
          "base_uri": "https://localhost:8080/"
        },
        "id": "k-ObRaKWxooP",
        "outputId": "22099049-2d9a-416b-a228-67d51a44687c"
      },
      "execution_count": 36,
      "outputs": [
        {
          "output_type": "stream",
          "name": "stdout",
          "text": [
            "157449\n"
          ]
        }
      ]
    },
    {
      "cell_type": "markdown",
      "source": [
        "E como sempre, podemos realizar todos estes operadores em uma única função."
      ],
      "metadata": {
        "id": "9DYqOVWpx-F_"
      }
    },
    {
      "cell_type": "code",
      "source": [
        "soma_numeros = reduce(lambda x, y: x + y, filter(lambda numero: numero % 2 != 0, map(lambda numero: numero ** 2, numeros)))\n",
        "print(soma_numeros)"
      ],
      "metadata": {
        "colab": {
          "base_uri": "https://localhost:8080/"
        },
        "id": "7NBMDQ1eyLl5",
        "outputId": "63a77d90-1839-43f5-e0c1-aeebc259f2c8"
      },
      "execution_count": 37,
      "outputs": [
        {
          "output_type": "stream",
          "name": "stdout",
          "text": [
            "157449\n"
          ]
        }
      ]
    }
  ]
}