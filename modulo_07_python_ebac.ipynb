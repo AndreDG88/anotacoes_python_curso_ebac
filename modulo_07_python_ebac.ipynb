{
  "nbformat": 4,
  "nbformat_minor": 0,
  "metadata": {
    "colab": {
      "provenance": [],
      "collapsed_sections": [
        "RIm2_q2AHItw",
        "zIxEk7RJkT5S",
        "C1MZ3Yd7tHwE"
      ],
      "authorship_tag": "ABX9TyPvfqNqUHh7b+D8ZMGk5XtI",
      "include_colab_link": true
    },
    "kernelspec": {
      "name": "python3",
      "display_name": "Python 3"
    },
    "language_info": {
      "name": "python"
    }
  },
  "cells": [
    {
      "cell_type": "markdown",
      "metadata": {
        "id": "view-in-github",
        "colab_type": "text"
      },
      "source": [
        "<a href=\"https://colab.research.google.com/github/AndreDG88/anotacoes_python_curso_ebac/blob/main/modulo_07_python_ebac.ipynb\" target=\"_parent\"><img src=\"https://colab.research.google.com/assets/colab-badge.svg\" alt=\"Open In Colab\"/></a>"
      ]
    },
    {
      "cell_type": "markdown",
      "source": [
        "# **Módulo 07**\n",
        "### Módulos e Pacotes\n"
      ],
      "metadata": {
        "id": "PgcbIwAHvexs"
      }
    },
    {
      "cell_type": "markdown",
      "source": [
        "**Módulo** é o nome que o python atribui a um arquivo com a extensão \".py\". E esse aquivo .py é um conjunto, uma série de códigos python, pode ser qualquer código, uma variável, uma função, um objeto...\n",
        "\n",
        "E um **pacote** é uma pasta, ou um diretório, que aramazena uma coleção de módulos. Geralmente oraganizamos os módulos em pacotes para que se tenha uma organização lógica. Em que módulos que tratem de uma mesmo tema fiquem juntos por exemplo.\n",
        "\n",
        "Pode-se encontrar online uma infinidade de pacotes desenvolvidos por um dev ou um grupo. Que em seu conteúdo tem um conjunto de módulos que podem ajudar a resolver os mais variados problemas e situações na programação."
      ],
      "metadata": {
        "id": "ia_KwvTaW3LV"
      }
    },
    {
      "cell_type": "markdown",
      "source": [
        "## **1 - from / import / as**"
      ],
      "metadata": {
        "id": "RIm2_q2AHItw"
      }
    },
    {
      "cell_type": "markdown",
      "source": [
        "Vamos começar falando de alguns módulos nativos do Python. Vamos aprender inicialmente a importar e utilizar recursos que a própria linguagem pode nos oferecer.\n",
        "\n",
        "A lista completa de módulos e pacotes que podem ser utilizados do python se pode ser encontrada aqui: https://docs.python.org/3/py-modindex.html"
      ],
      "metadata": {
        "id": "VAmfAhYPW_wp"
      }
    },
    {
      "cell_type": "markdown",
      "source": [
        "### **1.1 - Import**"
      ],
      "metadata": {
        "id": "4PIfq3sxezrU"
      }
    },
    {
      "cell_type": "markdown",
      "source": [
        "O import é uma palavra de comando reservada do Python que trás tudo o que se encontra dentro de um arquivo. Este arquivo pode ser um módulo ou um pacote, o comando pega todas estas informações e aloca na memória da máquina.\n",
        "\n"
      ],
      "metadata": {
        "id": "Iul8KZu0e23T"
      }
    },
    {
      "cell_type": "markdown",
      "source": [
        "**Exemplo: random**"
      ],
      "metadata": {
        "id": "CBCS4YXsXDYv"
      }
    },
    {
      "cell_type": "markdown",
      "source": [
        "O randon nos ajuda quando precisamos gerar um valor aleatório para um projeto de código"
      ],
      "metadata": {
        "id": "BKMhbNTMd7ku"
      }
    },
    {
      "cell_type": "code",
      "execution_count": null,
      "metadata": {
        "id": "QdxbPZt7W0YX"
      },
      "outputs": [],
      "source": [
        "import random"
      ]
    },
    {
      "cell_type": "markdown",
      "source": [
        "O \".choice\" faz com que a escolha seja feita aleatóriamente dentro de um conjunto de elementos defino entre parenteses."
      ],
      "metadata": {
        "id": "831gauMDeDmd"
      }
    },
    {
      "cell_type": "code",
      "source": [
        "escolha = random.choice([1, 2, 3])\n",
        "print(escolha)"
      ],
      "metadata": {
        "colab": {
          "base_uri": "https://localhost:8080/"
        },
        "id": "FrMJLcFldXNB",
        "outputId": "2d345a0c-1314-4708-dab1-ac7c73c8d6d6"
      },
      "execution_count": null,
      "outputs": [
        {
          "output_type": "stream",
          "name": "stdout",
          "text": [
            "2\n"
          ]
        }
      ]
    },
    {
      "cell_type": "markdown",
      "source": [
        "E também existe o método random do módulo random, sim é confuso. Ele vai gerar um valor aleatório entre os valores de 0 e 1. O seu valor é sempre do tipo float."
      ],
      "metadata": {
        "id": "ttJ-gtzVeZr_"
      }
    },
    {
      "cell_type": "code",
      "source": [
        "numero_aleatorio = random.random() #Entre [0,1]\n",
        "print(numero_aleatorio)"
      ],
      "metadata": {
        "colab": {
          "base_uri": "https://localhost:8080/"
        },
        "id": "twb7P48vdlPp",
        "outputId": "aeba6da7-b3bc-4165-deca-6027de96e600"
      },
      "execution_count": null,
      "outputs": [
        {
          "output_type": "stream",
          "name": "stdout",
          "text": [
            "0.4659909086463866\n"
          ]
        }
      ]
    },
    {
      "cell_type": "markdown",
      "source": [
        "**Exemplo: math**"
      ],
      "metadata": {
        "id": "pR5stzLfgT4r"
      }
    },
    {
      "cell_type": "markdown",
      "source": [
        "O módulo \"math\" possui uma séria de métodos que podem ajudar a realizar alguma operações matemáticas."
      ],
      "metadata": {
        "id": "8ASMD0dMgThc"
      }
    },
    {
      "cell_type": "code",
      "source": [
        "import math"
      ],
      "metadata": {
        "id": "1sh01bcciJOu"
      },
      "execution_count": null,
      "outputs": []
    },
    {
      "cell_type": "markdown",
      "source": [
        "O \".pow\" por exemplo que nos ajuda a elevar um valor a uma potência selecionada."
      ],
      "metadata": {
        "id": "UfDnSgtRiMRL"
      }
    },
    {
      "cell_type": "code",
      "source": [
        "potencia = math.pow(10, 3)\n",
        "print(potencia)"
      ],
      "metadata": {
        "colab": {
          "base_uri": "https://localhost:8080/"
        },
        "id": "eGrKZ7qSiVMo",
        "outputId": "48d5051a-0fee-431c-d23c-d5f2e6f99854"
      },
      "execution_count": null,
      "outputs": [
        {
          "output_type": "stream",
          "name": "stdout",
          "text": [
            "1000.0\n"
          ]
        }
      ]
    },
    {
      "cell_type": "markdown",
      "source": [
        "Já o \".ceil\" vai fazer um arredondamento do valor celecionado. A diferênca dele para o round é que o ceil sempre vai jogar o resultado para o numero inteiro mais próximo acima."
      ],
      "metadata": {
        "id": "3UeRHOOEidYy"
      }
    },
    {
      "cell_type": "code",
      "source": [
        "num = math.ceil(10.1)\n",
        "print(num)"
      ],
      "metadata": {
        "colab": {
          "base_uri": "https://localhost:8080/"
        },
        "id": "Axieiz2JifwD",
        "outputId": "ba9ee7ff-c9d2-4393-9be5-f05c499bba0e"
      },
      "execution_count": null,
      "outputs": [
        {
          "output_type": "stream",
          "name": "stdout",
          "text": [
            "11\n"
          ]
        }
      ]
    },
    {
      "cell_type": "code",
      "source": [
        "print(math.pi)"
      ],
      "metadata": {
        "colab": {
          "base_uri": "https://localhost:8080/"
        },
        "id": "b7sKkUD1kMx_",
        "outputId": "a467f2eb-a1ce-40ac-c61a-f1518f2d2e8a"
      },
      "execution_count": null,
      "outputs": [
        {
          "output_type": "stream",
          "name": "stdout",
          "text": [
            "3.141592653589793\n"
          ]
        }
      ]
    },
    {
      "cell_type": "markdown",
      "source": [
        "### **1.2 - from, import**"
      ],
      "metadata": {
        "id": "zIxEk7RJkT5S"
      }
    },
    {
      "cell_type": "markdown",
      "source": [
        "Ententemos o que o import faz, mas sempre utilizar apenas ele não é uma boa prática. Já que é muito rara uma situação em que vamos usar todos os elementos existentes dentro de um módulo que importamos.\n",
        "\n",
        "O correto é importar apenas o recurso que vamos utilizar, para não sobrecarregar a memória. Para isso vamos combinar mais uma palavra reservada ao import. A palavra \"from\".\n",
        "\n",
        "Com o uso conjunto das duas, conseguimos informar ao python extamente quais são os recursos que queremos importar de um módulo/conjunto para dentro do nosso código."
      ],
      "metadata": {
        "id": "Syzs4pSfkTZo"
      }
    },
    {
      "cell_type": "markdown",
      "source": [
        "**Exemplo: time** Um recurso muito utilizado no python que nos permite realizar ações relacionadas ao tempo."
      ],
      "metadata": {
        "id": "yXv7X2TAmQTl"
      }
    },
    {
      "cell_type": "code",
      "source": [
        "from time import time"
      ],
      "metadata": {
        "id": "0PVplGijl692"
      },
      "execution_count": null,
      "outputs": []
    },
    {
      "cell_type": "markdown",
      "source": [
        "Acima temos um exemplo do uso de from / import, de dentro do módulo time, estamos importando o método time. O método time calcula um valor de tempo baseado em uma referência.\n",
        "\n",
        "Ao executa-lo como uma função vamos obter o número de segundos em relação a uma nota de referência."
      ],
      "metadata": {
        "id": "IIFQrCJBmt33"
      }
    },
    {
      "cell_type": "code",
      "source": [
        "print(time())"
      ],
      "metadata": {
        "colab": {
          "base_uri": "https://localhost:8080/"
        },
        "id": "6MAPMCkfl-hl",
        "outputId": "24a38797-836c-4988-8bfc-04f353f60fe0"
      },
      "execution_count": null,
      "outputs": [
        {
          "output_type": "stream",
          "name": "stdout",
          "text": [
            "1742240309.5323055\n"
          ]
        }
      ]
    },
    {
      "cell_type": "markdown",
      "source": [
        "Ou recurso do módulo time é o método sleep, que vai pausar a execução do código em que estiver inserido por um número de segundos que for configurado."
      ],
      "metadata": {
        "id": "uj-so0wPnpmF"
      }
    },
    {
      "cell_type": "code",
      "source": [
        "sleep(5)"
      ],
      "metadata": {
        "colab": {
          "base_uri": "https://localhost:8080/",
          "height": 141
        },
        "id": "kBl_ei4ImBjG",
        "outputId": "38fb111a-1037-4c47-fec6-7986d1453c2c"
      },
      "execution_count": null,
      "outputs": [
        {
          "output_type": "error",
          "ename": "NameError",
          "evalue": "name 'sleep' is not defined",
          "traceback": [
            "\u001b[0;31m---------------------------------------------------------------------------\u001b[0m",
            "\u001b[0;31mNameError\u001b[0m                                 Traceback (most recent call last)",
            "\u001b[0;32m<ipython-input-10-d5ae55220229>\u001b[0m in \u001b[0;36m<cell line: 0>\u001b[0;34m()\u001b[0m\n\u001b[0;32m----> 1\u001b[0;31m \u001b[0msleep\u001b[0m\u001b[0;34m(\u001b[0m\u001b[0;36m5\u001b[0m\u001b[0;34m)\u001b[0m\u001b[0;34m\u001b[0m\u001b[0;34m\u001b[0m\u001b[0m\n\u001b[0m",
            "\u001b[0;31mNameError\u001b[0m: name 'sleep' is not defined"
          ]
        }
      ]
    },
    {
      "cell_type": "markdown",
      "source": [
        "Como pode ser visto acima, usar o from / import realmente funciona. Como fizemos apenas a importação do time, o sleep não funcional. Devemos atualizar a o nosso from / import para adicionar o sleep.\n",
        "\n",
        "Basta repetirmos o comando anterior e colocarmos os métodos que queremos importar separados por \",\""
      ],
      "metadata": {
        "id": "57YSD0m2o-WU"
      }
    },
    {
      "cell_type": "code",
      "source": [
        "from time import time, sleep"
      ],
      "metadata": {
        "id": "-h9ptkbjmEAt"
      },
      "execution_count": null,
      "outputs": []
    },
    {
      "cell_type": "code",
      "source": [
        "sleep(5)"
      ],
      "metadata": {
        "id": "QupyzcBBmItS"
      },
      "execution_count": null,
      "outputs": []
    },
    {
      "cell_type": "markdown",
      "source": [
        "### **1.3 - from, import, as**"
      ],
      "metadata": {
        "id": "NYJ4gH3epyFS"
      }
    },
    {
      "cell_type": "markdown",
      "source": [
        "E a última palavra reservada que falta comentarmos nesta aula é a palavra \"as\". Sua função é atribuir um apelido para um módulo."
      ],
      "metadata": {
        "id": "yYXfktWmpxxg"
      }
    },
    {
      "cell_type": "markdown",
      "source": [
        "O datetime é um pacote para manipução de datas e horários dentro do python. Aqui estamos utilizando o \"as\" para chamarmos ele de dt."
      ],
      "metadata": {
        "id": "luo7_LyGreoN"
      }
    },
    {
      "cell_type": "code",
      "source": [
        "from datetime import datetime as dt"
      ],
      "metadata": {
        "id": "ZXsANwBOqnUh"
      },
      "execution_count": null,
      "outputs": []
    },
    {
      "cell_type": "code",
      "source": [
        "print(dt.now())"
      ],
      "metadata": {
        "colab": {
          "base_uri": "https://localhost:8080/"
        },
        "id": "VqMNRf_zqu5A",
        "outputId": "32251216-856c-45b8-d1ad-76ecbfe8160d"
      },
      "execution_count": null,
      "outputs": [
        {
          "output_type": "stream",
          "name": "stdout",
          "text": [
            "2025-03-17 19:59:13.003997\n"
          ]
        }
      ]
    },
    {
      "cell_type": "code",
      "source": [
        "print(dt.now().day)"
      ],
      "metadata": {
        "colab": {
          "base_uri": "https://localhost:8080/"
        },
        "id": "Z3imV4wCq1GJ",
        "outputId": "b51bed99-9eb9-4dbe-e4d4-8ef11e79d23e"
      },
      "execution_count": null,
      "outputs": [
        {
          "output_type": "stream",
          "name": "stdout",
          "text": [
            "17\n"
          ]
        }
      ]
    },
    {
      "cell_type": "code",
      "source": [
        "print(dt.now().year)"
      ],
      "metadata": {
        "colab": {
          "base_uri": "https://localhost:8080/"
        },
        "id": "aCbtILsOq8pC",
        "outputId": "ef938b44-c018-4198-951c-c19a568cdd08"
      },
      "execution_count": null,
      "outputs": [
        {
          "output_type": "stream",
          "name": "stdout",
          "text": [
            "2025\n"
          ]
        }
      ]
    },
    {
      "cell_type": "markdown",
      "source": [
        "## **2 - Trabalhando com módulos**"
      ],
      "metadata": {
        "id": "C1MZ3Yd7tHwE"
      }
    },
    {
      "cell_type": "markdown",
      "source": [
        "Vamos ver como podemos criar os nosso próprios módulos."
      ],
      "metadata": {
        "id": "Z6YoS-FZtEn1"
      }
    },
    {
      "cell_type": "markdown",
      "source": [
        "### **2.1 - Pratica part 1**"
      ],
      "metadata": {
        "id": "qFIerCHmtLat"
      }
    },
    {
      "cell_type": "markdown",
      "source": [
        "Vamos revisitar a classe que criamos chamada ArquivoCSV"
      ],
      "metadata": {
        "id": "va90EIlwtLLK"
      }
    },
    {
      "cell_type": "code",
      "source": [
        "class ArquivoCSV(object):\n",
        "\n",
        "  def __init__(self, arquivo: str):\n",
        "    self.arquivo = arquivo\n",
        "    self.conteudo = self._extrair_conteudo()\n",
        "    self.colunas = self._extrair_nome_colunas()\n",
        "\n",
        "  def _extrair_conteudo(self):\n",
        "    conteudo = None\n",
        "    with open(file=self.arquivo, mode='r', encoding='utf8') as arquivo:\n",
        "      conteudo = arquivo.readlines()\n",
        "    return conteudo\n",
        "\n",
        "  def _extrair_nome_colunas(self):\n",
        "    return self.conteudo[0].strip().split(sep=',')\n",
        "\n",
        "  def extrair_coluna(self, indice_coluna: str):\n",
        "    coluna = list()\n",
        "    for linha in self.conteudo:\n",
        "      conteudo_linha = linha.strip().split(sep=',')\n",
        "      coluna.append(conteudo_linha[indice_coluna])\n",
        "    coluna.pop(0)\n",
        "    return coluna"
      ],
      "metadata": {
        "id": "Y3VOewvet-b3"
      },
      "execution_count": null,
      "outputs": []
    },
    {
      "cell_type": "markdown",
      "source": [
        "Para que ela funcione precisamos criar novamente o nosso arquivo csv"
      ],
      "metadata": {
        "id": "M-Dizhhounw7"
      }
    },
    {
      "cell_type": "code",
      "source": [
        "%%writefile banco.csv\n",
        "age,job,marital,education,default,balance,housing,loan\n",
        "30,unemployed,married,primary,no,1787,no,no\n",
        "33,services,married,secondary,no,4789,yes,yes\n",
        "35,management,single,tertiary,no,1350,yes,no\n",
        "30,management,married,tertiary,no,1476,yes,yes\n",
        "59,blue-collar,married,secondary,no,0,yes,no\n",
        "35,management,single,tertiary,no,747,no,no\n",
        "36,self-employed,married,tertiary,no,307,yes,no\n",
        "39,technician,married,secondary,no,147,yes,no\n",
        "41,entrepreneur,married,tertiary,no,221,yes,no\n",
        "43,services,married,primary,no,-88,yes,yes"
      ],
      "metadata": {
        "colab": {
          "base_uri": "https://localhost:8080/"
        },
        "id": "uFWq1Sf0t_q5",
        "outputId": "cf8fedbf-4d88-423d-d367-6c8bdaa61447"
      },
      "execution_count": null,
      "outputs": [
        {
          "output_type": "stream",
          "name": "stdout",
          "text": [
            "Writing banco.csv\n"
          ]
        }
      ]
    },
    {
      "cell_type": "markdown",
      "source": [
        "Vamos criar um objeto a partir da classe, para poder fazer uso e ver a classe em funcionamento."
      ],
      "metadata": {
        "id": "Ut1lui73u3DL"
      }
    },
    {
      "cell_type": "code",
      "source": [
        "arquivo_banco = ArquivoCSV(arquivo='./banco.csv')"
      ],
      "metadata": {
        "id": "njpudk_NuD-H"
      },
      "execution_count": null,
      "outputs": []
    },
    {
      "cell_type": "code",
      "source": [
        "education = arquivo_banco.extrair_coluna(indice_coluna=3)\n",
        "print(education)"
      ],
      "metadata": {
        "colab": {
          "base_uri": "https://localhost:8080/"
        },
        "id": "VYxHpU7_uG6Z",
        "outputId": "418c0dae-1434-486a-d3f3-41baf53e797a"
      },
      "execution_count": null,
      "outputs": [
        {
          "output_type": "stream",
          "name": "stdout",
          "text": [
            "['primary', 'secondary', 'tertiary', 'tertiary', 'secondary', 'tertiary', 'tertiary', 'secondary', 'tertiary', 'primary']\n"
          ]
        }
      ]
    },
    {
      "cell_type": "markdown",
      "source": [
        "### **2.2 - definição**"
      ],
      "metadata": {
        "id": "hJf0ZBDYvifh"
      }
    },
    {
      "cell_type": "markdown",
      "source": [
        "Para a criação do módulo, temos que salvar todo o nosso código referente a manipulação do arquivo csv em um novo arquivo chamado \"arquivo_csv.py\". Isso é feito de uma maneira simples. Criamos dentro do nosso repositório um novo arquivo com o nome mencionado, abrimos ele e colamos lá dentro o código que precisamos. E então salvamos o Arquivo.\n",
        "\n",
        "Após isso ele já está pronto para importação."
      ],
      "metadata": {
        "id": "7MFHSJC_viDC"
      }
    },
    {
      "cell_type": "markdown",
      "source": [
        "### **2.3 - Pratica part 2**"
      ],
      "metadata": {
        "id": "e9HVaVG8xdH-"
      }
    },
    {
      "cell_type": "markdown",
      "source": [
        "Voltando agora a nossa manipulação de arquivo csv, mas agora importando toda a funcionalidade da classe ao invés de ter de digitar tudo."
      ],
      "metadata": {
        "id": "Y_i7UThexc3j"
      }
    },
    {
      "cell_type": "code",
      "source": [
        "from arquivo_csv import ArquivoCSV\n",
        "\n",
        "arquivo_banco_modulo = ArquivoCSV(arquivo='./banco.csv')"
      ],
      "metadata": {
        "id": "foVsGxTfywbY"
      },
      "execution_count": null,
      "outputs": []
    },
    {
      "cell_type": "code",
      "source": [
        "education = arquivo_banco_modulo.extrair_coluna(indice_coluna=3)\n",
        "print(education)"
      ],
      "metadata": {
        "colab": {
          "base_uri": "https://localhost:8080/"
        },
        "id": "eNkMrcN6zPKo",
        "outputId": "98cccb19-d0a4-428d-acca-76e67bd71e4d"
      },
      "execution_count": null,
      "outputs": [
        {
          "output_type": "stream",
          "name": "stdout",
          "text": [
            "['primary', 'secondary', 'tertiary', 'tertiary', 'secondary', 'tertiary', 'tertiary', 'secondary', 'tertiary', 'primary']\n"
          ]
        }
      ]
    },
    {
      "cell_type": "markdown",
      "source": [
        "## **3 - Trabalhando com pacotes**"
      ],
      "metadata": {
        "id": "lvcJDnE3Jijr"
      }
    },
    {
      "cell_type": "markdown",
      "source": [
        "Agora vamos aprender um pouco a como criar e usar pacote. É uma maneira lógica de organizar um conjunto de módulos em uma única \"pasta\"."
      ],
      "metadata": {
        "id": "5O18onTqJiMi"
      }
    },
    {
      "cell_type": "markdown",
      "source": [
        "### **3.1 - Pratica part 1**"
      ],
      "metadata": {
        "id": "D7AZHGf8Jmi8"
      }
    },
    {
      "cell_type": "markdown",
      "source": [
        "Vamos iniciar a nossa prática criando o arquivo que será usado para gerar o módulo a ser armazenado pelo pacote."
      ],
      "metadata": {
        "id": "L74iT-ndMZTJ"
      }
    },
    {
      "cell_type": "code",
      "source": [
        "#Esta classe será bem parecida com a que criamos para manipular o CSV\n",
        "#Mas está vai manipular arquivos TXT\n",
        "\n",
        "class ArquivoTXT(object):\n",
        "\n",
        "  def __init__(self, arquivo: str):\n",
        "    self.arquivo = arquivo\n",
        "    self.conteudo = self._extrair_conteudo()\n",
        "\n",
        "  def _extrair_conteudo(self):\n",
        "    conteudo = None\n",
        "    with open(file=self.arquivo, mode='r', encoding='utf8') as arquivo:\n",
        "      conteudo = arquivo.readlines()\n",
        "    return conteudo\n",
        "\n",
        "  def extrair_linha(self, numero_linha: int):\n",
        "    return self.conteudo[numero_linha -1]"
      ],
      "metadata": {
        "id": "u00yf99BM7y0"
      },
      "execution_count": null,
      "outputs": []
    },
    {
      "cell_type": "markdown",
      "source": [
        "Agora vamos usar mais uma vez o \"%%writefile\" do colab para criar o nosso arquivo txt que será usado."
      ],
      "metadata": {
        "id": "_sWf_4_6PfFd"
      }
    },
    {
      "cell_type": "code",
      "source": [
        "%%writefile noticia.txt\n",
        "Egito cobra quase US$ 1 bi para liberar navio que bloqueou canal de Suez\n",
        "Segundo autoridades, valor será utilizado para recompor as perdas provocadas pelo encalhamento da embarcação de quase 400 metros."
      ],
      "metadata": {
        "colab": {
          "base_uri": "https://localhost:8080/"
        },
        "id": "ymuergwYPr6c",
        "outputId": "b7c3f45d-5a75-4711-aa15-798040a72d4d"
      },
      "execution_count": null,
      "outputs": [
        {
          "output_type": "stream",
          "name": "stdout",
          "text": [
            "Overwriting noticia.txt\n"
          ]
        }
      ]
    },
    {
      "cell_type": "markdown",
      "source": [
        "Agora vamos criar um objeto a partir da classe e textar um dos seus métodos. Para ver se está tudo certo."
      ],
      "metadata": {
        "id": "LycppYACJmTk"
      }
    },
    {
      "cell_type": "code",
      "source": [
        "arquivo_noticia = ArquivoTXT(arquivo='./noticia.txt')"
      ],
      "metadata": {
        "id": "GWo3pwUBQeX3"
      },
      "execution_count": null,
      "outputs": []
    },
    {
      "cell_type": "code",
      "source": [
        "titulo = arquivo_noticia.extrair_linha(numero_linha=1)\n",
        "print(titulo)"
      ],
      "metadata": {
        "colab": {
          "base_uri": "https://localhost:8080/"
        },
        "id": "uXqSmMqCRkF2",
        "outputId": "3a248e8a-3beb-4a99-a542-5e5d412f967b"
      },
      "execution_count": null,
      "outputs": [
        {
          "output_type": "stream",
          "name": "stdout",
          "text": [
            "Egito cobra quase US$ 1 bi para liberar navio que bloqueou canal de Suez\n",
            "\n"
          ]
        }
      ]
    },
    {
      "cell_type": "markdown",
      "source": [
        "### **3.2 - Definição**"
      ],
      "metadata": {
        "id": "mJgVluHWR5mu"
      }
    },
    {
      "cell_type": "markdown",
      "source": [
        "Agora assim como fizemos a nossa classe csv, vamos tranformar o ArquivoTXT em um módulo. Criando um módulo(arquivo) com o nome \"arquivo_txt.py\". E neste arquivo armazenar os códigos da classe.\n",
        "\n",
        "E então vamos criar um pacote(pasta) com o nome \"arquivo\". Ele será um pacote para lidar com arquivos de texto, dentro dele teremos os módulos para lidar com .csv e .txt. Todo esse processo é bem simples, é como criar e manusear arquivos normais no windows."
      ],
      "metadata": {
        "id": "3lVYnxjaT_eu"
      }
    },
    {
      "cell_type": "markdown",
      "source": [
        "### **3.3 - Pratica part 2**"
      ],
      "metadata": {
        "id": "j5F1Jdo1WK2v"
      }
    },
    {
      "cell_type": "markdown",
      "source": [
        "Agora como nosso pacote arquivo criando, vamos ver como importar tanto ele, quanto seus módulos. E alguns exemplos de uso, mostrando que ele está 100% funcional."
      ],
      "metadata": {
        "id": "K_P4OK0CR5PB"
      }
    },
    {
      "cell_type": "code",
      "source": [
        "from arquivos.arquivo_csv import ArquivoCSV\n",
        "from arquivos.arquivo_txt import ArquivoTXT"
      ],
      "metadata": {
        "id": "7V3yYPxAWx1s"
      },
      "execution_count": null,
      "outputs": []
    },
    {
      "cell_type": "code",
      "source": [
        "arquivo_banco_pacote = ArquivoCSV(arquivo='./banco.csv')\n",
        "arquivo_noticia_pacote = ArquivoTXT(arquivo='./noticia.txt')"
      ],
      "metadata": {
        "id": "vwdYCXAbXLtw"
      },
      "execution_count": null,
      "outputs": []
    },
    {
      "cell_type": "code",
      "source": [
        "education = arquivo_banco_pacote.extrair_coluna(indice_coluna=3)\n",
        "print(education)"
      ],
      "metadata": {
        "colab": {
          "base_uri": "https://localhost:8080/"
        },
        "id": "9FKs_D10XhwS",
        "outputId": "48b90384-e622-4986-ea47-89b766419edb"
      },
      "execution_count": null,
      "outputs": [
        {
          "output_type": "stream",
          "name": "stdout",
          "text": [
            "['primary', 'secondary', 'tertiary', 'tertiary', 'secondary', 'tertiary', 'tertiary', 'secondary', 'tertiary', 'primary']\n"
          ]
        }
      ]
    },
    {
      "cell_type": "code",
      "source": [
        "titulo = arquivo_noticia_pacote.extrair_linha(numero_linha=1)\n",
        "print(titulo)"
      ],
      "metadata": {
        "colab": {
          "base_uri": "https://localhost:8080/"
        },
        "id": "L6dPj_kXXzlm",
        "outputId": "8e6f11cc-1258-4e50-f4aa-2e48fc405319"
      },
      "execution_count": null,
      "outputs": [
        {
          "output_type": "stream",
          "name": "stdout",
          "text": [
            "Egito cobra quase US$ 1 bi para liberar navio que bloqueou canal de Suez\n",
            "\n"
          ]
        }
      ]
    },
    {
      "cell_type": "code",
      "source": [],
      "metadata": {
        "id": "AvwnZcIVYY5F"
      },
      "execution_count": null,
      "outputs": []
    },
    {
      "cell_type": "markdown",
      "source": [
        "## **4 - Baixando pacotes da web**"
      ],
      "metadata": {
        "id": "Y-3r41h-ZXat"
      }
    },
    {
      "cell_type": "markdown",
      "source": [
        "Chegamos na última aula do módulo, e agora vamos aprender a baixar e utilizar os pacote que a comunidade disponibiliza online para trabalharmos com o Python. É uma infinidade de pacote gratuitos, que podem ajudar com quase todos os tipos de problemas que podemos enfrentar em um código."
      ],
      "metadata": {
        "id": "ahZj7GLfZU0u"
      }
    },
    {
      "cell_type": "markdown",
      "source": [
        "### **4.1 - PyPi**"
      ],
      "metadata": {
        "id": "AeFGSeZ0ZgGK"
      }
    },
    {
      "cell_type": "markdown",
      "source": [
        "Estes pacote são todos armazenados em um repositório oficial do próprio Python, conhecido como PyPi, seu link para acesso é o: https://pypi.org/"
      ],
      "metadata": {
        "id": "7JFzoccTZfvG"
      }
    },
    {
      "cell_type": "markdown",
      "source": [
        "### **4.2 - PIP**"
      ],
      "metadata": {
        "id": "n58tNQz-dXyN"
      }
    },
    {
      "cell_type": "markdown",
      "source": [
        "O pip é a palavra reservada, a ferramenta oficial para instalar pacotes externos da linguagem Python, que estão armazenados no PyPi. Ele é o seu gerenciador de pacotes, assim como o JavaScript tem o npm."
      ],
      "metadata": {
        "id": "T85wErLbdXWZ"
      }
    },
    {
      "cell_type": "markdown",
      "source": [
        "A instalação de um pacote geralmente segue a seguinte linha de código: pip install pacote==versão\n",
        "\n",
        "Porém o \"==versão\" não é obrigatório, se você não adicionar está parte o python vai entender que você quer trabalhar com a versão mais recente do pacote e vai instalar ela.\n",
        "\n",
        "Mas é uma boa prática sempre colocarmos a versão de uma pacote externo que estamos usando. Para ajudar quem for acessar seu código, ou até mesmo ajudar você, caso esteja revisitando o projeto e precise lembrar."
      ],
      "metadata": {
        "id": "chEEeqWAmwqT"
      }
    },
    {
      "cell_type": "code",
      "source": [
        "pip install requests==2.25.1"
      ],
      "metadata": {
        "colab": {
          "base_uri": "https://localhost:8080/"
        },
        "id": "8cA1L8nnsvih",
        "outputId": "e6b1af02-3612-44d4-cd78-0bb5be13ece0"
      },
      "execution_count": null,
      "outputs": [
        {
          "output_type": "stream",
          "name": "stdout",
          "text": [
            "Requirement already satisfied: requests==2.25.1 in /usr/local/lib/python3.11/dist-packages (2.25.1)\n",
            "Requirement already satisfied: chardet<5,>=3.0.2 in /usr/local/lib/python3.11/dist-packages (from requests==2.25.1) (4.0.0)\n",
            "Requirement already satisfied: idna<3,>=2.5 in /usr/local/lib/python3.11/dist-packages (from requests==2.25.1) (2.10)\n",
            "Requirement already satisfied: urllib3<1.27,>=1.21.1 in /usr/local/lib/python3.11/dist-packages (from requests==2.25.1) (1.26.20)\n",
            "Requirement already satisfied: certifi>=2017.4.17 in /usr/local/lib/python3.11/dist-packages (from requests==2.25.1) (2025.1.31)\n"
          ]
        }
      ]
    },
    {
      "cell_type": "markdown",
      "source": [
        "**pip freeze:** Comando para listar os pacotes que estão instalados na máquina, ou máquina virtual."
      ],
      "metadata": {
        "id": "7jlJU3N_v6ig"
      }
    },
    {
      "cell_type": "markdown",
      "source": [
        "E caso você queira um dia copiar os pacotes instalados de uma máquina para outra, execute o pip freeze na máquina da qual quer copiar, copie o conteúdo resposta.\n",
        "\n",
        "Então crie um arquivo com o nome \"requirements.txr\" e nele cole o conteúdo copiado. Mova esse arquivo para o repositório da máquina que vai receber os pacotes.\n",
        "\n",
        "E então na máquina que vai receber os pacotes, execute os seguinte comando \"pip install -r requirements.txt\". Ele vai instalar todos os pacotes nas versões descritas no documento."
      ],
      "metadata": {
        "id": "IhX8RNGk1w_V"
      }
    },
    {
      "cell_type": "code",
      "source": [
        "pip freeze"
      ],
      "metadata": {
        "id": "VER7cYJswfDT"
      },
      "execution_count": null,
      "outputs": []
    },
    {
      "cell_type": "markdown",
      "source": [
        "**pip uninstall:** Para remover um pacote da máquina o comando é \"pip uninstall pacote\""
      ],
      "metadata": {
        "id": "q1EZ3MRR4StW"
      }
    },
    {
      "cell_type": "code",
      "source": [
        "pip uninstall requests"
      ],
      "metadata": {
        "id": "CnwkmYD85XTn"
      },
      "execution_count": null,
      "outputs": []
    },
    {
      "cell_type": "markdown",
      "source": [
        "### **4.3 - Falando um pouco sobre Requests**"
      ],
      "metadata": {
        "id": "X9rv67fX54tr"
      }
    },
    {
      "cell_type": "markdown",
      "source": [
        "Ele é um pacote para interação com o protocolo web HTTP. https://pypi.org/project/requests/"
      ],
      "metadata": {
        "id": "HYDh1czN54TQ"
      }
    },
    {
      "cell_type": "markdown",
      "source": [
        "Toda vez que acessamos uma página ou um arquivo na internet, esse acesso é feito através do protocolo HTTP. Se reparar, o HTTP faz parte do início de todas as URL de endereço dos sites.\n",
        "\n",
        "O requests faz com que as funcionalidades de uso envolvendo o HTTP passem a funcionar dentro do Python"
      ],
      "metadata": {
        "id": "OiHQxXTf69jG"
      }
    },
    {
      "cell_type": "markdown",
      "source": [
        "**Exemplo:** Extrair a taxa de CDI do site da B3"
      ],
      "metadata": {
        "id": "5P4DfDwO7hiW"
      }
    },
    {
      "cell_type": "markdown",
      "source": [
        "Vamos importar o módulo requests para dentro do código e vamos apelidar ele de req.\n",
        "\n",
        "criamos uma variável response, nela atribuímos como valor, a chamada do req e executamos o método \"get\". O get é o comando que faz o download da informação contida dentro do endereço url fornecido como parâmetro nos parenteses."
      ],
      "metadata": {
        "id": "NvXk7Edu818E"
      }
    },
    {
      "cell_type": "code",
      "source": [
        "import requests as req\n",
        "\n",
        "response = req.get('https://www2.cetip.com.br/ConsultarTaxaDi/ConsultarTaxaDICetip.aspx')"
      ],
      "metadata": {
        "id": "Kz7LKwF96iT5"
      },
      "execution_count": null,
      "outputs": []
    },
    {
      "cell_type": "markdown",
      "source": [
        "Para sabermos se o comando deu certo, podemos usar o \"status_code\". Ele nos retorna se a nossa tentativa de acesso a informação deu certo ou não."
      ],
      "metadata": {
        "id": "JIKHDjG_-Ybk"
      }
    },
    {
      "cell_type": "code",
      "source": [
        "print(f'status code: {response.status_code}')"
      ],
      "metadata": {
        "id": "s0ZwanrF6jsV"
      },
      "execution_count": null,
      "outputs": []
    },
    {
      "cell_type": "markdown",
      "source": [
        "Tendo uma resposta positiva, com o response.text temos acesso ao conteúdo de texto da url."
      ],
      "metadata": {
        "id": "JtgILoFa-42K"
      }
    },
    {
      "cell_type": "code",
      "source": [
        "print(response.text)"
      ],
      "metadata": {
        "id": "x1U09RRw6lCN"
      },
      "execution_count": null,
      "outputs": []
    },
    {
      "cell_type": "markdown",
      "source": [
        "Para facilitar a leitura da informação vamos importar um módulo nativo do python, o json. Ele é o formato tradicional de troca de informações na web, dentro do python ele é conhecido como dicionário. Mas em outras linguagens ele é conhecido do JSON."
      ],
      "metadata": {
        "id": "4soirbCb_O9T"
      }
    },
    {
      "cell_type": "markdown",
      "source": [
        "Vamos usar um método do json conhecido como loads. Ele vai tentar tranformar uma string em um formato de dicionário."
      ],
      "metadata": {
        "id": "HFmsgkt5_zP5"
      }
    },
    {
      "cell_type": "code",
      "source": [
        "import json\n",
        "\n",
        "data = json.loads(response.text)\n",
        "print(data)"
      ],
      "metadata": {
        "id": "lFTOXdH-6mRR"
      },
      "execution_count": null,
      "outputs": []
    },
    {
      "cell_type": "code",
      "source": [
        "cdi = None\n",
        "\n",
        "for key, value in data.items():\n",
        "  if key == 'taxa':\n",
        "    cdi = value.replace(',', '.')\n",
        "    cdi = float(cdi)\n",
        "\n",
        "print(cdi)"
      ],
      "metadata": {
        "id": "2MTMZt8L6n0x"
      },
      "execution_count": null,
      "outputs": []
    }
  ]
}