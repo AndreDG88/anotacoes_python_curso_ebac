{
  "nbformat": 4,
  "nbformat_minor": 0,
  "metadata": {
    "colab": {
      "provenance": [],
      "collapsed_sections": [
        "RIm2_q2AHItw",
        "OtTcXzCp4ez9",
        "_abmpvfSWLml",
        "byGpvZBO--Ez"
      ],
      "authorship_tag": "ABX9TyP16SG3Gw+hcac7z8R0o+js",
      "include_colab_link": true
    },
    "kernelspec": {
      "name": "python3",
      "display_name": "Python 3"
    },
    "language_info": {
      "name": "python"
    }
  },
  "cells": [
    {
      "cell_type": "markdown",
      "metadata": {
        "id": "view-in-github",
        "colab_type": "text"
      },
      "source": [
        "<a href=\"https://colab.research.google.com/github/AndreDG88/anotacoes_python_curso_ebac/blob/main/modulo_08_python_ebac.ipynb\" target=\"_parent\"><img src=\"https://colab.research.google.com/assets/colab-badge.svg\" alt=\"Open In Colab\"/></a>"
      ]
    },
    {
      "cell_type": "markdown",
      "source": [
        "# **Módulo 08**\n",
        "### Tratamento de Erros\n"
      ],
      "metadata": {
        "id": "PgcbIwAHvexs"
      }
    },
    {
      "cell_type": "markdown",
      "source": [
        "Neste módulo vamos estudar como utilizar certos mecanismos do python para deixar o nosso código mais \"preparado\" para situações inesperadas de erro."
      ],
      "metadata": {
        "id": "JC4ap-Mkr4el"
      }
    },
    {
      "cell_type": "markdown",
      "source": [
        "## **1 - Tipos de erros**"
      ],
      "metadata": {
        "id": "RIm2_q2AHItw"
      }
    },
    {
      "cell_type": "markdown",
      "source": [
        "### **1.1 - Definição**"
      ],
      "metadata": {
        "id": "4PIfq3sxezrU"
      }
    },
    {
      "cell_type": "markdown",
      "source": [
        "- **Erros de Sintaxe:** Erros que ocorrem durante a escrita de um código\n",
        "\n",
        "São os erros mais comuns de ocorrerem, por vezes temos de digitar muitos caracteres, por muito tempo. Então acabar esquecendo ou pulando uma vírgula, um dois pontos ou errar uma indentação acaba acontecendo."
      ],
      "metadata": {
        "id": "Gq-8Fx2sr_Wi"
      }
    },
    {
      "cell_type": "markdown",
      "source": [
        "O python precisa que a nossa escrita esteja perfeita para que ele possa converter nosso código em linguagem de máquina. Se ele encontrar algo fora do esperado, ele vai tentar nos retornar da melhor forma possível. Nos dizendo o tipo de erro e em que linha ele encontrou o erro."
      ],
      "metadata": {
        "id": "tJmQsW6ZwHaq"
      }
    },
    {
      "cell_type": "markdown",
      "source": [
        "Uma vantagem dos erros de sintaxe, é que do momento que são localizados, todo o bloco de código aonde o erro se encontra não é executado. Mesmo as linhas do bloco que existem antes do erro. Isto evita muitos problemas que poderiam ocorrer."
      ],
      "metadata": {
        "id": "pG0ZSdpqw4Yq"
      }
    },
    {
      "cell_type": "markdown",
      "source": [
        "**Exemplo**"
      ],
      "metadata": {
        "id": "Lis3zIz0tb0i"
      }
    },
    {
      "cell_type": "code",
      "execution_count": null,
      "metadata": {
        "colab": {
          "base_uri": "https://localhost:8080/",
          "height": 106
        },
        "id": "bYpbqEu6pRuy",
        "outputId": "31eaa9ca-10ef-430e-f035-e718b24a6bff"
      },
      "outputs": [
        {
          "output_type": "error",
          "ename": "SyntaxError",
          "evalue": "expected ':' (<ipython-input-4-55da418b3b36>, line 3)",
          "traceback": [
            "\u001b[0;36m  File \u001b[0;32m\"<ipython-input-4-55da418b3b36>\"\u001b[0;36m, line \u001b[0;32m3\u001b[0m\n\u001b[0;31m    if pessoa['idade'] > 18\u001b[0m\n\u001b[0m                           ^\u001b[0m\n\u001b[0;31mSyntaxError\u001b[0m\u001b[0;31m:\u001b[0m expected ':'\n"
          ]
        }
      ],
      "source": [
        "pessoa = {'nome':'André Perez', 'idade': 19}\n",
        "\n",
        "if pessoa['idade'] > 18\n",
        "  print(True)"
      ]
    },
    {
      "cell_type": "markdown",
      "source": [
        "- **Erros em tempo de execução:** Erros que ocorrem durante a execução de um código\n",
        "\n",
        "Nestes casos, o python não encontrou erros de escrita que Impossibilitassem a conversão em linguagem de máquina. O erro em si está na cobnstrução lógica do código mesmo.\n",
        "\n",
        "Então diferente do erro de sintaxe, mesmo o bloco tendo um erro, tudo dentro do bloco de código até o momento de erro será rodado. Isso pode gerar uma série de efeitos colaterais se não tiverem tratamentos de segurança."
      ],
      "metadata": {
        "id": "2B8XRhe9tziM"
      }
    },
    {
      "cell_type": "markdown",
      "source": [
        "**Exemplo** de uso incorreto de tipos de dados\n",
        "\n",
        "Erros causados pelo uso incorreto de dados ou ações. Como tentar fazer uma divisão por zero. Estes tipos de erro podem ser tratados com estruturas de try / catch."
      ],
      "metadata": {
        "id": "etqmy2jpuHWx"
      }
    },
    {
      "cell_type": "code",
      "source": [
        "print(1/0)"
      ],
      "metadata": {
        "colab": {
          "base_uri": "https://localhost:8080/",
          "height": 141
        },
        "id": "UYz1mrr4uPgI",
        "outputId": "b471856a-c634-4045-f2ac-8cb22e143e4e"
      },
      "execution_count": null,
      "outputs": [
        {
          "output_type": "error",
          "ename": "ZeroDivisionError",
          "evalue": "division by zero",
          "traceback": [
            "\u001b[0;31m---------------------------------------------------------------------------\u001b[0m",
            "\u001b[0;31mZeroDivisionError\u001b[0m                         Traceback (most recent call last)",
            "\u001b[0;32m<ipython-input-5-2fc232d1511a>\u001b[0m in \u001b[0;36m<cell line: 0>\u001b[0;34m()\u001b[0m\n\u001b[0;32m----> 1\u001b[0;31m \u001b[0mprint\u001b[0m\u001b[0;34m(\u001b[0m\u001b[0;36m1\u001b[0m\u001b[0;34m/\u001b[0m\u001b[0;36m0\u001b[0m\u001b[0;34m)\u001b[0m\u001b[0;34m\u001b[0m\u001b[0;34m\u001b[0m\u001b[0m\n\u001b[0m",
            "\u001b[0;31mZeroDivisionError\u001b[0m: division by zero"
          ]
        }
      ]
    },
    {
      "cell_type": "markdown",
      "source": [
        "**Exemplo** de erro em lógica\n",
        "\n",
        "Os piores tipos de erro que podem ocorrer. Por que o python não vai detectar nenhum erro de sintaxe, nenhum erro de de tipo de dados. Ele não vai conseguir lhe retornar uma mensagem de erro acertiva.\n",
        "\n",
        "O código ou vai ficar em um loop infinito(que podem travar a máquina), ou não vai retornar o resultado esperado ou vai entrar em conflito com alguma outra parte do código."
      ],
      "metadata": {
        "id": "5fze_RHMuUzi"
      }
    },
    {
      "cell_type": "code",
      "source": [
        "i = 0\n",
        "while True:\n",
        "  ... # bloco de código\n",
        "  i = 1\n",
        "  i + 1\n",
        "  if i > 10:\n",
        "    break\n",
        "\n",
        "print(i)"
      ],
      "metadata": {
        "colab": {
          "base_uri": "https://localhost:8080/",
          "height": 211
        },
        "id": "Vdm5r11quZtJ",
        "outputId": "d7db7083-9b9f-444d-8d24-463d4da68ccf"
      },
      "execution_count": null,
      "outputs": [
        {
          "output_type": "error",
          "ename": "KeyboardInterrupt",
          "evalue": "",
          "traceback": [
            "\u001b[0;31m---------------------------------------------------------------------------\u001b[0m",
            "\u001b[0;31mKeyboardInterrupt\u001b[0m                         Traceback (most recent call last)",
            "\u001b[0;32m<ipython-input-7-8329d5ddfabd>\u001b[0m in \u001b[0;36m<cell line: 0>\u001b[0;34m()\u001b[0m\n\u001b[1;32m      1\u001b[0m \u001b[0mi\u001b[0m \u001b[0;34m=\u001b[0m \u001b[0;36m0\u001b[0m\u001b[0;34m\u001b[0m\u001b[0;34m\u001b[0m\u001b[0m\n\u001b[0;32m----> 2\u001b[0;31m \u001b[0;32mwhile\u001b[0m \u001b[0;32mTrue\u001b[0m\u001b[0;34m:\u001b[0m\u001b[0;34m\u001b[0m\u001b[0;34m\u001b[0m\u001b[0m\n\u001b[0m\u001b[1;32m      3\u001b[0m   \u001b[0;34m...\u001b[0m \u001b[0;31m# bloco de código\u001b[0m\u001b[0;34m\u001b[0m\u001b[0;34m\u001b[0m\u001b[0m\n\u001b[1;32m      4\u001b[0m   \u001b[0mi\u001b[0m \u001b[0;34m=\u001b[0m \u001b[0;36m1\u001b[0m\u001b[0;34m\u001b[0m\u001b[0;34m\u001b[0m\u001b[0m\n\u001b[1;32m      5\u001b[0m   \u001b[0mi\u001b[0m \u001b[0;34m+\u001b[0m \u001b[0;36m1\u001b[0m\u001b[0;34m\u001b[0m\u001b[0;34m\u001b[0m\u001b[0m\n",
            "\u001b[0;31mKeyboardInterrupt\u001b[0m: "
          ]
        }
      ]
    },
    {
      "cell_type": "markdown",
      "source": [
        "## **2 - Erros de Sintaxe**"
      ],
      "metadata": {
        "id": "OtTcXzCp4ez9"
      }
    },
    {
      "cell_type": "markdown",
      "source": [
        "### **2.1 - Definição**"
      ],
      "metadata": {
        "id": "sp8dHs7C4us6"
      }
    },
    {
      "cell_type": "markdown",
      "source": [
        "Como explicado no primeiro tópico, estes erros ocorrem durante a escrita do código, e o bloco em que se encontra o erro não é executado. O python faz uma leitura prévia do bloco antes de executar, para tranformar o bloco em questão em linguagem de máquina.\n",
        "\n",
        "Ao encontrar o erro ele cancela a execução do bloco de código e retorna ao programador um feedback o tipo de erro e sua localização.\n",
        "\n",
        "Ele faz o melhor que ele pode, porém existem vezes que ele não vai conseguir achar exatamente o tipo de erro e localização. Mas ele vai retornar o bloco em questão e a mensagem \"SyntaxError:\""
      ],
      "metadata": {
        "id": "cp-AWQns4uWo"
      }
    },
    {
      "cell_type": "code",
      "source": [
        "carrinho_compras = [{'id': 3184, 'preco': 37.65, 'qtd': 10}, {'id': 1203, 'preco': 81.20, 'qtd': 2}, {'id': 8921, 'preco': 15.90, 'qtd': 2}]"
      ],
      "metadata": {
        "id": "sm8qxwzN5nX5"
      },
      "execution_count": null,
      "outputs": []
    },
    {
      "cell_type": "markdown",
      "source": [
        "**Exemplo:** Esquecer os dois pontos no final de uma estrutura de condição, repetição e etc."
      ],
      "metadata": {
        "id": "UIH_J7TQ6iRP"
      }
    },
    {
      "cell_type": "code",
      "source": [
        "for produto in carrinho_compras\n",
        " ..."
      ],
      "metadata": {
        "colab": {
          "base_uri": "https://localhost:8080/",
          "height": 106
        },
        "id": "d6C3Ne4T6tZF",
        "outputId": "b55d741f-d545-4f87-d513-d13cc64b4bf3"
      },
      "execution_count": null,
      "outputs": [
        {
          "output_type": "error",
          "ename": "SyntaxError",
          "evalue": "expected ':' (<ipython-input-9-406120d8480c>, line 1)",
          "traceback": [
            "\u001b[0;36m  File \u001b[0;32m\"<ipython-input-9-406120d8480c>\"\u001b[0;36m, line \u001b[0;32m1\u001b[0m\n\u001b[0;31m    for produto in carrinho_compras\u001b[0m\n\u001b[0m                                   ^\u001b[0m\n\u001b[0;31mSyntaxError\u001b[0m\u001b[0;31m:\u001b[0m expected ':'\n"
          ]
        }
      ]
    },
    {
      "cell_type": "markdown",
      "source": [
        "**Exemplo:** Condição lógica no else da estrutura de decisão if / elif / else."
      ],
      "metadata": {
        "id": "Xr114DD264eK"
      }
    },
    {
      "cell_type": "code",
      "source": [
        "for produto in carrinho_compras:\n",
        "  if produto['id'] == 3184:\n",
        "    ...\n",
        "  else produto['id'] == 1203:\n",
        "    ..."
      ],
      "metadata": {
        "colab": {
          "base_uri": "https://localhost:8080/",
          "height": 106
        },
        "id": "xHUyTQSW7G15",
        "outputId": "bb4d65e9-1b0d-40eb-d9c5-b5d69151ba69"
      },
      "execution_count": null,
      "outputs": [
        {
          "output_type": "error",
          "ename": "SyntaxError",
          "evalue": "expected ':' (<ipython-input-10-f54c967790ef>, line 4)",
          "traceback": [
            "\u001b[0;36m  File \u001b[0;32m\"<ipython-input-10-f54c967790ef>\"\u001b[0;36m, line \u001b[0;32m4\u001b[0m\n\u001b[0;31m    else produto['id'] == 1203:\u001b[0m\n\u001b[0m         ^\u001b[0m\n\u001b[0;31mSyntaxError\u001b[0m\u001b[0;31m:\u001b[0m expected ':'\n"
          ]
        }
      ]
    },
    {
      "cell_type": "markdown",
      "source": [
        "## **3 - Erros em tempo de execução**"
      ],
      "metadata": {
        "id": "-sr6q_wJV_L3"
      }
    },
    {
      "cell_type": "markdown",
      "source": [
        "Agora vamos falar sobre os erros em tempo de execução. Os erros mais perigosos, pois podem danificar ou travar o código."
      ],
      "metadata": {
        "id": "N4gnQnPsVziY"
      }
    },
    {
      "cell_type": "markdown",
      "source": [
        "### **3.1 - Definição**"
      ],
      "metadata": {
        "id": "_abmpvfSWLml"
      }
    },
    {
      "cell_type": "markdown",
      "source": [
        "Este tipo de erro não impede a execução do bloco de código aonde ele se encontra. O código vai der executado até o \"estouro\" do erro, e isso é o perigo deste tipo de erro.\n",
        "\n",
        "Pois não temos como saber os efeitos colaterais da execução parcial de um bloco de código. Os danos que ele pode causar, e dados que podem ser perdidos."
      ],
      "metadata": {
        "id": "OAcb9v7DWLXm"
      }
    },
    {
      "cell_type": "markdown",
      "source": [
        "**Erros por uso incorreto de dados:**\n",
        "Estes ainda vão \"estourar\" uma exceção, o python ainda terá uma aviso para esta situação. Estes erros podem ser manipulados para uma possivel correção, ou passados para frente (raise)."
      ],
      "metadata": {
        "id": "g7N1pBB33kN0"
      }
    },
    {
      "cell_type": "code",
      "source": [
        "# Exemplo: Erros de operações numéricas impossíveis\n",
        "\n",
        "preco = 132.85\n",
        "pessoas = 0\n",
        "\n",
        "valor_por_pessoa = preco / pessoas"
      ],
      "metadata": {
        "colab": {
          "base_uri": "https://localhost:8080/",
          "height": 176
        },
        "id": "ELNwXvz54KRW",
        "outputId": "2b42459e-25c1-4fe8-e0cc-81856ab98356"
      },
      "execution_count": 6,
      "outputs": [
        {
          "output_type": "error",
          "ename": "ZeroDivisionError",
          "evalue": "float division by zero",
          "traceback": [
            "\u001b[0;31m---------------------------------------------------------------------------\u001b[0m",
            "\u001b[0;31mZeroDivisionError\u001b[0m                         Traceback (most recent call last)",
            "\u001b[0;32m<ipython-input-6-65432ad9630b>\u001b[0m in \u001b[0;36m<cell line: 0>\u001b[0;34m()\u001b[0m\n\u001b[1;32m      4\u001b[0m \u001b[0mpessoas\u001b[0m \u001b[0;34m=\u001b[0m \u001b[0;36m0\u001b[0m\u001b[0;34m\u001b[0m\u001b[0;34m\u001b[0m\u001b[0m\n\u001b[1;32m      5\u001b[0m \u001b[0;34m\u001b[0m\u001b[0m\n\u001b[0;32m----> 6\u001b[0;31m \u001b[0mvalor_por_pessoa\u001b[0m \u001b[0;34m=\u001b[0m \u001b[0mpreco\u001b[0m \u001b[0;34m/\u001b[0m \u001b[0mpessoas\u001b[0m\u001b[0;34m\u001b[0m\u001b[0;34m\u001b[0m\u001b[0m\n\u001b[0m",
            "\u001b[0;31mZeroDivisionError\u001b[0m: float division by zero"
          ]
        }
      ]
    },
    {
      "cell_type": "code",
      "source": [
        "# Exemplo: Erro por combinações de tipos diferentes\n",
        "\n",
        "nome = 'André Perez'\n",
        "idade = 20\n",
        "\n",
        "apresentacao = \"Fala pessoal, meu nome é \" + nome + \" e eu tenho \" + idade + \"anos\""
      ],
      "metadata": {
        "colab": {
          "base_uri": "https://localhost:8080/",
          "height": 176
        },
        "id": "GVrmOwTq5vDr",
        "outputId": "186ed956-0b1d-46c2-ebe9-c76a44fc24a1"
      },
      "execution_count": 8,
      "outputs": [
        {
          "output_type": "error",
          "ename": "TypeError",
          "evalue": "can only concatenate str (not \"int\") to str",
          "traceback": [
            "\u001b[0;31m---------------------------------------------------------------------------\u001b[0m",
            "\u001b[0;31mTypeError\u001b[0m                                 Traceback (most recent call last)",
            "\u001b[0;32m<ipython-input-8-0c5ed06d0049>\u001b[0m in \u001b[0;36m<cell line: 0>\u001b[0;34m()\u001b[0m\n\u001b[1;32m      4\u001b[0m \u001b[0midade\u001b[0m \u001b[0;34m=\u001b[0m \u001b[0;36m20\u001b[0m\u001b[0;34m\u001b[0m\u001b[0;34m\u001b[0m\u001b[0m\n\u001b[1;32m      5\u001b[0m \u001b[0;34m\u001b[0m\u001b[0m\n\u001b[0;32m----> 6\u001b[0;31m \u001b[0mapresentacao\u001b[0m \u001b[0;34m=\u001b[0m \u001b[0;34m\"Fala pessoal, meu nome é \"\u001b[0m \u001b[0;34m+\u001b[0m \u001b[0mnome\u001b[0m \u001b[0;34m+\u001b[0m \u001b[0;34m\" e eu tenho \"\u001b[0m \u001b[0;34m+\u001b[0m \u001b[0midade\u001b[0m \u001b[0;34m+\u001b[0m \u001b[0;34m\"anos\"\u001b[0m\u001b[0;34m\u001b[0m\u001b[0;34m\u001b[0m\u001b[0m\n\u001b[0m",
            "\u001b[0;31mTypeError\u001b[0m: can only concatenate str (not \"int\") to str"
          ]
        }
      ]
    },
    {
      "cell_type": "markdown",
      "source": [
        "**Erros de indexação de estrutura de dados:** O erro mais comun de acontecer."
      ],
      "metadata": {
        "id": "SsB33jnr3kKs"
      }
    },
    {
      "cell_type": "code",
      "source": [
        "# Exemplo: Em conjuntos a contagem de elementos sempre começa do 0, não do 1.\n",
        "# E isso pode gerar muitos erros envolvendo seleção elementos em conjuntos.\n",
        "\n",
        "anos = [2019, 2020, 2021]\n",
        "\n",
        "ano_atual = anos[3]\n",
        "print(ano_atual)"
      ],
      "metadata": {
        "colab": {
          "base_uri": "https://localhost:8080/",
          "height": 193
        },
        "id": "ra1DIBsd7fJg",
        "outputId": "377f9eee-8a9a-40c0-9625-d57adeaa7c34"
      },
      "execution_count": 9,
      "outputs": [
        {
          "output_type": "error",
          "ename": "IndexError",
          "evalue": "list index out of range",
          "traceback": [
            "\u001b[0;31m---------------------------------------------------------------------------\u001b[0m",
            "\u001b[0;31mIndexError\u001b[0m                                Traceback (most recent call last)",
            "\u001b[0;32m<ipython-input-9-8fbe3bf551ea>\u001b[0m in \u001b[0;36m<cell line: 0>\u001b[0;34m()\u001b[0m\n\u001b[1;32m      4\u001b[0m \u001b[0manos\u001b[0m \u001b[0;34m=\u001b[0m \u001b[0;34m[\u001b[0m\u001b[0;36m2019\u001b[0m\u001b[0;34m,\u001b[0m \u001b[0;36m2020\u001b[0m\u001b[0;34m,\u001b[0m \u001b[0;36m2021\u001b[0m\u001b[0;34m]\u001b[0m\u001b[0;34m\u001b[0m\u001b[0;34m\u001b[0m\u001b[0m\n\u001b[1;32m      5\u001b[0m \u001b[0;34m\u001b[0m\u001b[0m\n\u001b[0;32m----> 6\u001b[0;31m \u001b[0mano_atual\u001b[0m \u001b[0;34m=\u001b[0m \u001b[0manos\u001b[0m\u001b[0;34m[\u001b[0m\u001b[0;36m3\u001b[0m\u001b[0;34m]\u001b[0m\u001b[0;34m\u001b[0m\u001b[0;34m\u001b[0m\u001b[0m\n\u001b[0m\u001b[1;32m      7\u001b[0m \u001b[0mprint\u001b[0m\u001b[0;34m(\u001b[0m\u001b[0mano_atual\u001b[0m\u001b[0;34m)\u001b[0m\u001b[0;34m\u001b[0m\u001b[0;34m\u001b[0m\u001b[0m\n",
            "\u001b[0;31mIndexError\u001b[0m: list index out of range"
          ]
        }
      ]
    },
    {
      "cell_type": "code",
      "source": [
        "# Exemplo: Aqui temos um erro por estármos tentando acessar uma chave que não existe no nosso dicionário\n",
        "# O keyError é um pouco mais difícil de lidar, por que ele nos avisa a chave que está apresentando erro, mas\n",
        "# não sabe informar qual erro é, nós que temos de pesquisar e descobrir.\n",
        "\n",
        "cursos = {\n",
        "    'python': {\n",
        "        'nome': 'Python para Análise de dados',\n",
        "        'duracao': 2.5\n",
        "    },\n",
        "    'sql': {\n",
        "        'nome': 'SQL para Análise de dados',\n",
        "        'duracao': 2\n",
        "    }\n",
        "}"
      ],
      "metadata": {
        "id": "_7eFhX-i8VEU"
      },
      "execution_count": 10,
      "outputs": []
    },
    {
      "cell_type": "code",
      "source": [
        "curso_atual = cursos['python']\n",
        "print(curso_atual)"
      ],
      "metadata": {
        "colab": {
          "base_uri": "https://localhost:8080/"
        },
        "id": "lKI5Bypu81uL",
        "outputId": "decc1278-56dc-41b4-a10f-cce3f3b3f609"
      },
      "execution_count": 11,
      "outputs": [
        {
          "output_type": "stream",
          "name": "stdout",
          "text": [
            "{'nome': 'Python para Análise de dados', 'duracao': 2.5}\n"
          ]
        }
      ]
    },
    {
      "cell_type": "code",
      "source": [
        "curso_atual = cursos['sql']\n",
        "print(curso_atual)"
      ],
      "metadata": {
        "colab": {
          "base_uri": "https://localhost:8080/"
        },
        "id": "RI0X4m_y9Dtj",
        "outputId": "9cf02e6a-9f44-4a49-a65d-e50f671ce7e0"
      },
      "execution_count": 12,
      "outputs": [
        {
          "output_type": "stream",
          "name": "stdout",
          "text": [
            "{'nome': 'SQL para Análise de dados', 'duracao': 2}\n"
          ]
        }
      ]
    },
    {
      "cell_type": "code",
      "source": [
        "curso_atual = cursos['analista']\n",
        "print(curso_atual)"
      ],
      "metadata": {
        "colab": {
          "base_uri": "https://localhost:8080/",
          "height": 158
        },
        "id": "CW0wXqUi9EP1",
        "outputId": "6b29ed49-9a3f-48fc-ed5c-240861ba7e2f"
      },
      "execution_count": 13,
      "outputs": [
        {
          "output_type": "error",
          "ename": "KeyError",
          "evalue": "'analista'",
          "traceback": [
            "\u001b[0;31m---------------------------------------------------------------------------\u001b[0m",
            "\u001b[0;31mKeyError\u001b[0m                                  Traceback (most recent call last)",
            "\u001b[0;32m<ipython-input-13-74a81822d547>\u001b[0m in \u001b[0;36m<cell line: 0>\u001b[0;34m()\u001b[0m\n\u001b[0;32m----> 1\u001b[0;31m \u001b[0mcurso_atual\u001b[0m \u001b[0;34m=\u001b[0m \u001b[0mcursos\u001b[0m\u001b[0;34m[\u001b[0m\u001b[0;34m'analista'\u001b[0m\u001b[0;34m]\u001b[0m\u001b[0;34m\u001b[0m\u001b[0;34m\u001b[0m\u001b[0m\n\u001b[0m\u001b[1;32m      2\u001b[0m \u001b[0mprint\u001b[0m\u001b[0;34m(\u001b[0m\u001b[0mcurso_atual\u001b[0m\u001b[0;34m)\u001b[0m\u001b[0;34m\u001b[0m\u001b[0;34m\u001b[0m\u001b[0m\n",
            "\u001b[0;31mKeyError\u001b[0m: 'analista'"
          ]
        }
      ]
    },
    {
      "cell_type": "markdown",
      "source": [
        "### **3.2 - Erros de Lógica**"
      ],
      "metadata": {
        "id": "byGpvZBO--Ez"
      }
    },
    {
      "cell_type": "markdown",
      "source": [
        "Os erros mais difíceis de se encontrar, eles não possuem um feedback do Python. Eles não \"estouram\" um erro, por que não tem um erro técnico ocorrendo. Não é um erro de tipos ou indexação."
      ],
      "metadata": {
        "id": "PHjKRQHg-9jx"
      }
    },
    {
      "cell_type": "markdown",
      "source": [
        " * **Exemplo**: Loops infinitos."
      ],
      "metadata": {
        "id": "ZIDtNiFLDSW7"
      }
    },
    {
      "cell_type": "code",
      "source": [
        "#Loops infinitos Exemplo 01\n",
        "\n",
        "#Este tipo de loop trava o bloco de código e não gera a resposta, mas ainda não é tão ruim\n",
        "\n",
        "controle = 0\n",
        "while True:\n",
        "  ...\n",
        "  controle =+ 1 #valores de equação trocados\n",
        "  if controle > 10:\n",
        "    break"
      ],
      "metadata": {
        "colab": {
          "base_uri": "https://localhost:8080/",
          "height": 210
        },
        "id": "-qIu_hZgAfWe",
        "outputId": "77a302fd-7911-419f-a6f5-f12cd4fbceaf"
      },
      "execution_count": 14,
      "outputs": [
        {
          "output_type": "error",
          "ename": "KeyboardInterrupt",
          "evalue": "",
          "traceback": [
            "\u001b[0;31m---------------------------------------------------------------------------\u001b[0m",
            "\u001b[0;31mKeyboardInterrupt\u001b[0m                         Traceback (most recent call last)",
            "\u001b[0;32m<ipython-input-14-f2583173babd>\u001b[0m in \u001b[0;36m<cell line: 0>\u001b[0;34m()\u001b[0m\n\u001b[1;32m      2\u001b[0m \u001b[0;34m\u001b[0m\u001b[0m\n\u001b[1;32m      3\u001b[0m \u001b[0mcontrole\u001b[0m \u001b[0;34m=\u001b[0m \u001b[0;36m0\u001b[0m\u001b[0;34m\u001b[0m\u001b[0;34m\u001b[0m\u001b[0m\n\u001b[0;32m----> 4\u001b[0;31m \u001b[0;32mwhile\u001b[0m \u001b[0;32mTrue\u001b[0m\u001b[0;34m:\u001b[0m\u001b[0;34m\u001b[0m\u001b[0;34m\u001b[0m\u001b[0m\n\u001b[0m\u001b[1;32m      5\u001b[0m   \u001b[0;34m...\u001b[0m\u001b[0;34m\u001b[0m\u001b[0;34m\u001b[0m\u001b[0m\n\u001b[1;32m      6\u001b[0m   \u001b[0mcontrole\u001b[0m \u001b[0;34m=\u001b[0m\u001b[0;34m+\u001b[0m \u001b[0;36m1\u001b[0m \u001b[0;31m#valores de equação trocados\u001b[0m\u001b[0;34m\u001b[0m\u001b[0;34m\u001b[0m\u001b[0m\n",
            "\u001b[0;31mKeyboardInterrupt\u001b[0m: "
          ]
        }
      ]
    },
    {
      "cell_type": "code",
      "source": [
        "#Loops infinitos Exemplo 02\n",
        "\n",
        "#Agora este, como a cada loop adiciona uma carga massiva de dados, acaba lotando a memória e trava a máquina.\n",
        "\n",
        "s = []\n",
        "while True:\n",
        "  s = s + (['CURS0 DE PYTHON PARA ANALISE DE DADOS DA EBAC'] * (1000 * 1000 * 1000))"
      ],
      "metadata": {
        "id": "MNS5sQ2RBJaR"
      },
      "execution_count": null,
      "outputs": []
    },
    {
      "cell_type": "markdown",
      "source": [
        " - **Exemplo**: Limites de coleções."
      ],
      "metadata": {
        "id": "zVJOH_ReDWiS"
      }
    },
    {
      "cell_type": "code",
      "source": [
        "carrinho_compras = [{'id': 3184, 'preco': 37.65, 'qtd': 10}, {'id': 1203, 'preco': 81.20, 'qtd': 2}, {'id': 8921, 'preco': 15.90, 'qtd': 2}]"
      ],
      "metadata": {
        "id": "fjHX8mY_Dabl"
      },
      "execution_count": 15,
      "outputs": []
    },
    {
      "cell_type": "code",
      "source": [
        "#Neste exemplo estamos tentando somar o valor total do carrinho de compra mapeando pelo INDICE.\n",
        "#Mas o valor não será o correto, por que o range foi definido para começar por \"1\"\n",
        "#E sabemos que em uma coleção a contagem começa pelo 0\n",
        "\n",
        "valor_total = 0\n",
        "for indice in range(1, len(carrinho_compras)):\n",
        "  valor_total += carrinho_compras[indice]['preco'] * carrinho_compras[indice]['qtd']\n",
        "\n",
        "valor_total = round(valor_total, 2)\n",
        "print(valor_total)"
      ],
      "metadata": {
        "colab": {
          "base_uri": "https://localhost:8080/"
        },
        "id": "d4Qqi4fUDbgG",
        "outputId": "2280e157-bc69-48ce-fdd0-b932c1adf438"
      },
      "execution_count": 16,
      "outputs": [
        {
          "output_type": "stream",
          "name": "stdout",
          "text": [
            "194.2\n"
          ]
        }
      ]
    },
    {
      "cell_type": "code",
      "source": [
        "#O valor correto seria 570.7\n",
        "\n",
        "valor_total = 0\n",
        "for produto in carrinho_compras:\n",
        "  valor_total += produto['preco'] * produto['qtd']\n",
        "\n",
        "valor_total = round(valor_total, 2)\n",
        "print(valor_total)"
      ],
      "metadata": {
        "colab": {
          "base_uri": "https://localhost:8080/"
        },
        "id": "OrwRSoyfDdpQ",
        "outputId": "8104d08f-a785-444b-eb59-e356b53eba81"
      },
      "execution_count": 17,
      "outputs": [
        {
          "output_type": "stream",
          "name": "stdout",
          "text": [
            "570.7\n"
          ]
        }
      ]
    },
    {
      "cell_type": "code",
      "source": [
        "#Uma maneira de evitar esse erro é fazer o comando print de cada item que estiver sendo lido.\n",
        "#Assim você verá que a quantidade de itens impressos não bate com a quantidade da lista.\n",
        "\n",
        "valor_total = 0\n",
        "for indice in range(0, len(carrinho_compras)):\n",
        "  print(carrinho_compras[indice])\n",
        "  valor_total += carrinho_compras[indice]['preco'] * carrinho_compras[indice]['qtd']\n",
        "\n",
        "valor_total = round(valor_total, 2)\n",
        "print(valor_total)"
      ],
      "metadata": {
        "colab": {
          "base_uri": "https://localhost:8080/"
        },
        "id": "bt8T0TmUDfc1",
        "outputId": "8335f1d3-099c-46ce-a961-7b5b21add0cc"
      },
      "execution_count": 19,
      "outputs": [
        {
          "output_type": "stream",
          "name": "stdout",
          "text": [
            "{'id': 3184, 'preco': 37.65, 'qtd': 10}\n",
            "{'id': 1203, 'preco': 81.2, 'qtd': 2}\n",
            "{'id': 8921, 'preco': 15.9, 'qtd': 2}\n",
            "570.7\n"
          ]
        }
      ]
    },
    {
      "cell_type": "markdown",
      "source": [
        "### **3.3 - Manipulação de erros**"
      ],
      "metadata": {
        "id": "_UaHQ7hDGWi-"
      }
    },
    {
      "cell_type": "markdown",
      "source": [
        "Nós não podemos fazer estas manipulações em relação aos erros de lógica. Mas quanto aos erros de tipos de dados, aidna podemos ter \"salvaguardas\"."
      ],
      "metadata": {
        "id": "EJx2miKNGWNt"
      }
    },
    {
      "cell_type": "markdown",
      "source": [
        " - Manipular o erro com a estrutura try / catch / finally / else."
      ],
      "metadata": {
        "id": "Sgb_yll5HlYq"
      }
    },
    {
      "cell_type": "markdown",
      "source": [
        "Como vimos lá no início do curso o uso destas estruturas nem sempre vai corrigir o erro, mas pelo menos não vai quebrar o código. E ainda retorna o erro para o usuário, que pode estar inserindo um tipo errado de dado também.\n",
        "\n",
        "E é sempre bom já deixar configurado nos \"except\" tratamentos para os erros que vocês acha mais possíveis de ocorrerem. Não dependa só do Exception."
      ],
      "metadata": {
        "id": "gT-hkyiqIikw"
      }
    },
    {
      "cell_type": "code",
      "source": [
        "anos = [2019, 2020, 2021]\n",
        "#anos = {2019, 2020, 2021}\n",
        "\n",
        "try:\n",
        "  ano_atual = anos[3]\n",
        "  print(ano_atual)\n",
        "except IndexError:\n",
        "  print('Lista de anos é menor que o valor escolhido. Espera-se um valor entre 0 e ' + str(len(anos) - 1))\n",
        "except Exception as exc:\n",
        "  print(exc)"
      ],
      "metadata": {
        "id": "MMYsN69KHp88"
      },
      "execution_count": null,
      "outputs": []
    },
    {
      "cell_type": "markdown",
      "source": [
        " - Passar o erro para frente com a estrutura **raise**."
      ],
      "metadata": {
        "id": "S2cdy5u4H2y_"
      }
    },
    {
      "cell_type": "code",
      "source": [
        "anos = [2019, 2020, 2021]\n",
        "# anos = {2019, 2020, 2021}\n",
        "\n",
        "#O raise no caso vai subtituir o print e exibir a mensagem de erro como uma mensagem de erro do Python\n",
        "#Meio que passando a responsabilidade de lidar com erro para a pessoa que está utilizando o código.\n",
        "\n",
        "try:\n",
        "  ano_atual = anos[3]\n",
        "  print(ano_atual)\n",
        "except IndexError as exc:\n",
        "  raise Exception('Lista de anos é menor que o valor escolhido. Espera-se um valor entre 0 e ' + str(len(anos) - 1))\n",
        "except Exception as exc:\n",
        "  raise exc"
      ],
      "metadata": {
        "colab": {
          "base_uri": "https://localhost:8080/",
          "height": 401
        },
        "id": "Zn0vpvXvHsNo",
        "outputId": "6f96a697-6bab-479f-e6c1-52b781a6b434"
      },
      "execution_count": 20,
      "outputs": [
        {
          "output_type": "error",
          "ename": "Exception",
          "evalue": "Lista de anos é menor que o valor escolhido. Espera-se um valor entre 0 e 2",
          "traceback": [
            "\u001b[0;31m---------------------------------------------------------------------------\u001b[0m",
            "\u001b[0;31mIndexError\u001b[0m                                Traceback (most recent call last)",
            "\u001b[0;32m<ipython-input-20-52cf9f7f37ec>\u001b[0m in \u001b[0;36m<cell line: 0>\u001b[0;34m()\u001b[0m\n\u001b[1;32m      4\u001b[0m \u001b[0;32mtry\u001b[0m\u001b[0;34m:\u001b[0m\u001b[0;34m\u001b[0m\u001b[0;34m\u001b[0m\u001b[0m\n\u001b[0;32m----> 5\u001b[0;31m   \u001b[0mano_atual\u001b[0m \u001b[0;34m=\u001b[0m \u001b[0manos\u001b[0m\u001b[0;34m[\u001b[0m\u001b[0;36m3\u001b[0m\u001b[0;34m]\u001b[0m\u001b[0;34m\u001b[0m\u001b[0;34m\u001b[0m\u001b[0m\n\u001b[0m\u001b[1;32m      6\u001b[0m   \u001b[0mprint\u001b[0m\u001b[0;34m(\u001b[0m\u001b[0mano_atual\u001b[0m\u001b[0;34m)\u001b[0m\u001b[0;34m\u001b[0m\u001b[0;34m\u001b[0m\u001b[0m\n",
            "\u001b[0;31mIndexError\u001b[0m: list index out of range",
            "\nDuring handling of the above exception, another exception occurred:\n",
            "\u001b[0;31mException\u001b[0m                                 Traceback (most recent call last)",
            "\u001b[0;32m<ipython-input-20-52cf9f7f37ec>\u001b[0m in \u001b[0;36m<cell line: 0>\u001b[0;34m()\u001b[0m\n\u001b[1;32m      6\u001b[0m   \u001b[0mprint\u001b[0m\u001b[0;34m(\u001b[0m\u001b[0mano_atual\u001b[0m\u001b[0;34m)\u001b[0m\u001b[0;34m\u001b[0m\u001b[0;34m\u001b[0m\u001b[0m\n\u001b[1;32m      7\u001b[0m \u001b[0;32mexcept\u001b[0m \u001b[0mIndexError\u001b[0m \u001b[0;32mas\u001b[0m \u001b[0mexc\u001b[0m\u001b[0;34m:\u001b[0m\u001b[0;34m\u001b[0m\u001b[0;34m\u001b[0m\u001b[0m\n\u001b[0;32m----> 8\u001b[0;31m   \u001b[0;32mraise\u001b[0m \u001b[0mException\u001b[0m\u001b[0;34m(\u001b[0m\u001b[0;34m'Lista de anos é menor que o valor escolhido. Espera-se um valor entre 0 e '\u001b[0m \u001b[0;34m+\u001b[0m \u001b[0mstr\u001b[0m\u001b[0;34m(\u001b[0m\u001b[0mlen\u001b[0m\u001b[0;34m(\u001b[0m\u001b[0manos\u001b[0m\u001b[0;34m)\u001b[0m \u001b[0;34m-\u001b[0m \u001b[0;36m1\u001b[0m\u001b[0;34m)\u001b[0m\u001b[0;34m)\u001b[0m\u001b[0;34m\u001b[0m\u001b[0;34m\u001b[0m\u001b[0m\n\u001b[0m\u001b[1;32m      9\u001b[0m \u001b[0;32mexcept\u001b[0m \u001b[0mException\u001b[0m \u001b[0;32mas\u001b[0m \u001b[0mexc\u001b[0m\u001b[0;34m:\u001b[0m\u001b[0;34m\u001b[0m\u001b[0;34m\u001b[0m\u001b[0m\n\u001b[1;32m     10\u001b[0m   \u001b[0;32mraise\u001b[0m \u001b[0mexc\u001b[0m\u001b[0;34m\u001b[0m\u001b[0;34m\u001b[0m\u001b[0m\n",
            "\u001b[0;31mException\u001b[0m: Lista de anos é menor que o valor escolhido. Espera-se um valor entre 0 e 2"
          ]
        }
      ]
    },
    {
      "cell_type": "markdown",
      "source": [
        "### **3.4 - Pratica - Erros em tempo de execução**"
      ],
      "metadata": {
        "id": "BGgKZc0qYwqA"
      }
    },
    {
      "cell_type": "markdown",
      "source": [
        "Vamos imaginar o cenário em que você trabalha como analista de dados em uma empresa de telecomunicações. Voçê precisa fazer uma análise para o time de vendas do quanto a empresa vai receber este mês. Todos os dias você recebe uma lista de dados do time de engenharia de dados."
      ],
      "metadata": {
        "id": "uBbcbbW4YwMw"
      }
    },
    {
      "cell_type": "code",
      "source": [
        "%%writefile telecom.csv\n",
        "customerID,PaymentMethod,MonthlyCharges,TotalCharges,Churn\n",
        "7010-BRBUU,Credit card (automatic),24.1,1734.65,No\n",
        "9688-YGXVR,Credit card (automatic),88.15,3973.2,No\n",
        "9286-DOJGF,Bank transfer (automatic),74.95,2869.85,Yes\n",
        "6994-KERXL,Electronic check,55.9,238.5,No\n",
        "2181-UAESM,Electronic check,53.45,119.5,No\n",
        "4312-GVYNH,Bank transfer (automatic),49.85,3370.2,No\n",
        "2495-KZNFB,Electronic check,90.65,2989.6,No\n",
        "4367-NHWMM,Mailed check,24.9,24.9,No\n",
        "8898-KASCD,Mailed check,35.55,1309.15,No"
      ],
      "metadata": {
        "colab": {
          "base_uri": "https://localhost:8080/"
        },
        "id": "rb5clpOvbygu",
        "outputId": "2e35246c-a470-499d-8cca-9263c291cd5c"
      },
      "execution_count": 1,
      "outputs": [
        {
          "output_type": "stream",
          "name": "stdout",
          "text": [
            "Writing telecom.csv\n"
          ]
        }
      ]
    },
    {
      "cell_type": "markdown",
      "source": [
        "Para conseguir dar a resposta esperada pela empresa, vamos desenvolver uma função. Em sua assinatura vamos nomear ela como \"processar_faturas\", ela vai receber como parâmetro o nome do arquivo como uma string e vai nos retornar ao final da função um valor float.\n",
        "\n",
        "Eu seu bloco de código vamos começar definindo uma variável \"faturas\" como uma lista vazia. Após vamos abrir o arquivo necessário em modo de leitura com with / open. Já com dois readlines de linha para pular o cabeçalho.\n",
        "\n",
        "E então vamos fazer uma varredura pelas linhas de dados dentro do arquivo. utilizando o operador \"while\", vamos definir que enquanto tiver linhas com conteúdo a variável fatura vai converter o valor final em float, remover as quebras de linha e separar a string em elementos string a partir das vírgulas.\n",
        "\n",
        "Além disto, após esta separação ela vai pegar por fatiamento o terceiro elemento destas linhas, que é o valor de pagamento mensal, e vai adicionar esse valor na lista faturas. Esse processo vai se repertir enquanto houverem linhas com valor.\n",
        "\n",
        "Quando a varredura acabar a função vai iniciar a variável \"total_a_pagar\", quem tem um reduce configurado para realizar a soma dos valores dentro da lista faturas. E após a soma ele arredonda o valor final com round."
      ],
      "metadata": {
        "id": "nKAQKb_fdL0V"
      }
    },
    {
      "cell_type": "code",
      "source": [
        "from functools import reduce\n",
        "\n",
        "def processar_faturas(nome_arquivo: str) -> float:\n",
        "\n",
        "  faturas = []\n",
        "\n",
        "  with open(file=nome_arquivo, mode='r', encoding='utf8') as arquivo:\n",
        "    linha = arquivo.readline()#readline para pular o cabeçalho\n",
        "    linha = arquivo.readline()#Real leitura da primeira linha de conteúdo\n",
        "    while linha:\n",
        "      fatura = float(linha.strip().split(sep=',')[-3])\n",
        "      faturas.append(fatura)\n",
        "      linha = arquivo.readline()#Indo para checagem da próxima linha\n",
        "\n",
        "  total_a_pagar = reduce(lambda x, y: x + y, faturas)\n",
        "  total_a_pagar = round(total_a_pagar, 2)\n",
        "\n",
        "  return total_a_pagar"
      ],
      "metadata": {
        "id": "9GwFGud7cKcc"
      },
      "execution_count": 2,
      "outputs": []
    },
    {
      "cell_type": "markdown",
      "source": [
        "Agora vamos rodar a função que acabamos de criar passando como arquivo os dados que o time de engenharia de dados nos passou anteriormente."
      ],
      "metadata": {
        "id": "Qjhi-Jcqkn4_"
      }
    },
    {
      "cell_type": "code",
      "source": [
        "total_a_pagar = processar_faturas(nome_arquivo='./telecom.csv')\n",
        "print(total_a_pagar)"
      ],
      "metadata": {
        "colab": {
          "base_uri": "https://localhost:8080/",
          "height": 280
        },
        "id": "SBsQbtU_cOOf",
        "outputId": "bd1b68c9-b181-4457-c8cc-8656855e9f98"
      },
      "execution_count": 5,
      "outputs": [
        {
          "output_type": "error",
          "ename": "ValueError",
          "evalue": "could not convert string to float: 'Credit card (automatic)'",
          "traceback": [
            "\u001b[0;31m---------------------------------------------------------------------------\u001b[0m",
            "\u001b[0;31mValueError\u001b[0m                                Traceback (most recent call last)",
            "\u001b[0;32m<ipython-input-5-0a7a00332e78>\u001b[0m in \u001b[0;36m<cell line: 0>\u001b[0;34m()\u001b[0m\n\u001b[0;32m----> 1\u001b[0;31m \u001b[0mtotal_a_pagar\u001b[0m \u001b[0;34m=\u001b[0m \u001b[0mprocessar_faturas\u001b[0m\u001b[0;34m(\u001b[0m\u001b[0mnome_arquivo\u001b[0m\u001b[0;34m=\u001b[0m\u001b[0;34m'./telecom.csv'\u001b[0m\u001b[0;34m)\u001b[0m\u001b[0;34m\u001b[0m\u001b[0;34m\u001b[0m\u001b[0m\n\u001b[0m\u001b[1;32m      2\u001b[0m \u001b[0mprint\u001b[0m\u001b[0;34m(\u001b[0m\u001b[0mtotal_a_pagar\u001b[0m\u001b[0;34m)\u001b[0m\u001b[0;34m\u001b[0m\u001b[0;34m\u001b[0m\u001b[0m\n",
            "\u001b[0;32m<ipython-input-2-e661dc994118>\u001b[0m in \u001b[0;36mprocessar_faturas\u001b[0;34m(nome_arquivo)\u001b[0m\n\u001b[1;32m      9\u001b[0m     \u001b[0mlinha\u001b[0m \u001b[0;34m=\u001b[0m \u001b[0marquivo\u001b[0m\u001b[0;34m.\u001b[0m\u001b[0mreadline\u001b[0m\u001b[0;34m(\u001b[0m\u001b[0;34m)\u001b[0m\u001b[0;31m#Real leitura da primeira linha de conteúdo\u001b[0m\u001b[0;34m\u001b[0m\u001b[0;34m\u001b[0m\u001b[0m\n\u001b[1;32m     10\u001b[0m     \u001b[0;32mwhile\u001b[0m \u001b[0mlinha\u001b[0m\u001b[0;34m:\u001b[0m\u001b[0;34m\u001b[0m\u001b[0;34m\u001b[0m\u001b[0m\n\u001b[0;32m---> 11\u001b[0;31m       \u001b[0mfatura\u001b[0m \u001b[0;34m=\u001b[0m \u001b[0mfloat\u001b[0m\u001b[0;34m(\u001b[0m\u001b[0mlinha\u001b[0m\u001b[0;34m.\u001b[0m\u001b[0mstrip\u001b[0m\u001b[0;34m(\u001b[0m\u001b[0;34m)\u001b[0m\u001b[0;34m.\u001b[0m\u001b[0msplit\u001b[0m\u001b[0;34m(\u001b[0m\u001b[0msep\u001b[0m\u001b[0;34m=\u001b[0m\u001b[0;34m','\u001b[0m\u001b[0;34m)\u001b[0m\u001b[0;34m[\u001b[0m\u001b[0;34m-\u001b[0m\u001b[0;36m3\u001b[0m\u001b[0;34m]\u001b[0m\u001b[0;34m)\u001b[0m\u001b[0;34m\u001b[0m\u001b[0;34m\u001b[0m\u001b[0m\n\u001b[0m\u001b[1;32m     12\u001b[0m       \u001b[0mfaturas\u001b[0m\u001b[0;34m.\u001b[0m\u001b[0mappend\u001b[0m\u001b[0;34m(\u001b[0m\u001b[0mfatura\u001b[0m\u001b[0;34m)\u001b[0m\u001b[0;34m\u001b[0m\u001b[0;34m\u001b[0m\u001b[0m\n\u001b[1;32m     13\u001b[0m       \u001b[0mlinha\u001b[0m \u001b[0;34m=\u001b[0m \u001b[0marquivo\u001b[0m\u001b[0;34m.\u001b[0m\u001b[0mreadline\u001b[0m\u001b[0;34m(\u001b[0m\u001b[0;34m)\u001b[0m\u001b[0;31m#Indo para checagem da próxima linha\u001b[0m\u001b[0;34m\u001b[0m\u001b[0;34m\u001b[0m\u001b[0m\n",
            "\u001b[0;31mValueError\u001b[0m: could not convert string to float: 'Credit card (automatic)'"
          ]
        }
      ]
    },
    {
      "cell_type": "markdown",
      "source": [
        "Em um certo dia, você recebe uma base de dados com a coluna de faturas trocada pela de meios de pagamento. Esse erro na organização dos dados ocorreu. E pela estrutura de cosntrução da sua função. Você espera ter um valor float como resposta.\n",
        "\n",
        "E não tem como o float converter uma string para float. então você recebe o erro ValueError."
      ],
      "metadata": {
        "id": "1W8ASdrFcU5R"
      }
    },
    {
      "cell_type": "code",
      "source": [
        "%%writefile telecom.csv\n",
        "customerID,MonthlyCharges,PaymentMethod,TotalCharges,Churn\n",
        "7010-BRBUU,24.1,Credit card (automatic),1734.65,No\n",
        "9688-YGXVR,88.15,Credit card (automatic),3973.2,No\n",
        "9286-DOJGF,74.95,Bank transfer (automatic),2869.85,Yes\n",
        "6994-KERXL,55.9,Electronic check,238.5,No\n",
        "2181-UAESM,53.45,Electronic check,119.5,No\n",
        "4312-GVYNH,49.85,Bank transfer (automatic),3370.2,No\n",
        "2495-KZNFB,90.65,Electronic check,2989.6,No\n",
        "4367-NHWMM,24.9,Mailed check,24.9,No\n",
        "8898-KASCD,35.55,Mailed check,1309.15,No"
      ],
      "metadata": {
        "colab": {
          "base_uri": "https://localhost:8080/"
        },
        "id": "XsdVuZS4cYTd",
        "outputId": "101493d1-ef87-4efc-9c61-d6f3785331eb"
      },
      "execution_count": 4,
      "outputs": [
        {
          "output_type": "stream",
          "name": "stdout",
          "text": [
            "Overwriting telecom.csv\n"
          ]
        }
      ]
    },
    {
      "cell_type": "markdown",
      "source": [
        "A pergunta para esta prática é, como deixar o seu código mais preparado para estes tipo de situações e evitar possíveis erros?"
      ],
      "metadata": {
        "id": "PJ-FpxuV1zxo"
      }
    },
    {
      "cell_type": "code",
      "source": [
        "#Recriamos nossa função, mas agora adicionamos um Try / Except\n",
        "#que vai abortar o código com \"break\" caso lago saia do esperado.\n",
        "\n",
        "faturas = []\n",
        "\n",
        "with open(file='./telecom.csv', mode='r', encoding='utf8') as arquivo:\n",
        "  linha = arquivo.readline()\n",
        "  linha = arquivo.readline()\n",
        "  while linha:\n",
        "    try:\n",
        "      fatura = float(linha.strip().split(sep=',')[-3])\n",
        "    except ValueError:\n",
        "      print('Falha ao processar as faturas! Abortando o processamento.')\n",
        "      break\n",
        "    else:\n",
        "      faturas.append(fatura)\n",
        "    linha = arquivo.readline()\n",
        "\n",
        "print(faturas)"
      ],
      "metadata": {
        "colab": {
          "base_uri": "https://localhost:8080/"
        },
        "id": "XWKgJOSqL_vu",
        "outputId": "1312f2a2-700f-4874-c37f-6fe8df55740b"
      },
      "execution_count": 21,
      "outputs": [
        {
          "output_type": "stream",
          "name": "stdout",
          "text": [
            "Falha ao processar as faturas! Abortando o processamento.\n",
            "[]\n"
          ]
        }
      ]
    },
    {
      "cell_type": "code",
      "source": [
        "#Agora adicionamos estas alterações a nossa função principal\n",
        "\n",
        "from functools import reduce\n",
        "\n",
        "def processar_faturas(nome_arquivo: str):\n",
        "\n",
        "  faturas = []\n",
        "\n",
        "  with open(file=nome_arquivo, mode='r', encoding='utf8') as arquivo:\n",
        "    linha = arquivo.readline()\n",
        "    linha = arquivo.readline()\n",
        "    # Agora o nosso while vai tentar executar sua operação padrão, se ele obter algum ValueError,\n",
        "    # Ele vai apresentar atráves do \"raise\", uma mensagem pronta com um tenho a ser preenchido com\n",
        "    # o erro capturado pelo exc.\n",
        "    while linha:\n",
        "      try:\n",
        "        fatura = float(linha.strip().split(sep=',')[-3])\n",
        "      except ValueError as exc:\n",
        "        raise ValueError(f'Falha ao processar as faturas devido ao seguinte erro: \"{exc}\"')\n",
        "      else:\n",
        "        faturas.append(fatura)\n",
        "      linha = arquivo.readline()\n",
        "\n",
        "  total_a_pagar = reduce(lambda x, y: x + y, faturas)\n",
        "  total_a_pagar = round(total_a_pagar, 2)\n",
        "\n",
        "  return total_a_pagar"
      ],
      "metadata": {
        "id": "QApwVCaOMDCF"
      },
      "execution_count": 22,
      "outputs": []
    },
    {
      "cell_type": "code",
      "source": [
        "# A configuração foi implementada na função, mas em sua chamada através de uma variável para leitura de arquivo\n",
        "# também deve seguir a estrutura de try / except. Para a chamada também não retornar apenas o valor final, mesmo errado.\n",
        "\n",
        "try:\n",
        "  total_a_pagar = processar_faturas(nome_arquivo='./telecom.csv')\n",
        "except Exception as exc:\n",
        "  print(exc)\n",
        "else:\n",
        "  print(total_a_pagar)"
      ],
      "metadata": {
        "colab": {
          "base_uri": "https://localhost:8080/"
        },
        "id": "1VfUnwPUME5L",
        "outputId": "c7c3cb80-a85d-44f2-b73c-ade9ef934a1c"
      },
      "execution_count": 23,
      "outputs": [
        {
          "output_type": "stream",
          "name": "stdout",
          "text": [
            "Falha ao processar as faturas devido ao seguinte erro: \"could not convert string to float: 'Credit card (automatic)'\"\n"
          ]
        }
      ]
    },
    {
      "cell_type": "code",
      "source": [],
      "metadata": {
        "id": "xaYc05cRO-J5"
      },
      "execution_count": null,
      "outputs": []
    }
  ]
}