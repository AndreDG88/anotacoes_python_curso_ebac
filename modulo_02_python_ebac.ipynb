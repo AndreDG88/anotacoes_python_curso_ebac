{
  "nbformat": 4,
  "nbformat_minor": 0,
  "metadata": {
    "colab": {
      "provenance": [],
      "collapsed_sections": [
        "RIm2_q2AHItw"
      ],
      "authorship_tag": "ABX9TyPIYntVPuwzzFocyZ3f2jzP",
      "include_colab_link": true
    },
    "kernelspec": {
      "name": "python3",
      "display_name": "Python 3"
    },
    "language_info": {
      "name": "python"
    }
  },
  "cells": [
    {
      "cell_type": "markdown",
      "metadata": {
        "id": "view-in-github",
        "colab_type": "text"
      },
      "source": [
        "<a href=\"https://colab.research.google.com/github/AndreDG88/anotacoes_python_curso_ebac/blob/main/modulo_02_python_ebac.ipynb\" target=\"_parent\"><img src=\"https://colab.research.google.com/assets/colab-badge.svg\" alt=\"Open In Colab\"/></a>"
      ]
    },
    {
      "cell_type": "markdown",
      "source": [
        "# **Módulo 02**\n",
        "### Estruturas de Dados\n"
      ],
      "metadata": {
        "id": "PgcbIwAHvexs"
      }
    },
    {
      "cell_type": "markdown",
      "source": [
        "Estruturas de dados são formas de agrupar os elementos que estudamos no módulo 01 em estruturas performaticas, para resolver questões mais elaboradas."
      ],
      "metadata": {
        "id": "6W5vNmyq1f-A"
      }
    },
    {
      "cell_type": "markdown",
      "source": [
        "## **1 - Listas**"
      ],
      "metadata": {
        "id": "RIm2_q2AHItw"
      }
    },
    {
      "cell_type": "markdown",
      "source": [
        "### **Definição**"
      ],
      "metadata": {
        "id": "LwCxpBkM6BVy"
      }
    },
    {
      "cell_type": "markdown",
      "source": [
        "A lista é uma sequencia *mutável* e ordenada de valores. É uma váriavel composta por outras variáveis, e para defininir uma variável como lista o seu valor deve ser declarado em colchetes \"[ ]\". Tudo o que for colocado dentro destes colchetes, separados por uma vírgula, será um elemento da lista. São identificadas em Python pelo tipo(type) \"list\"."
      ],
      "metadata": {
        "id": "N9vS8h1u6dZs"
      }
    },
    {
      "cell_type": "code",
      "source": [
        "usuario_web = [\"André Perez\", \"andre.perez\", \"andre123\", \"andre.perez@gmail.com\"]\n",
        "\n",
        "print(usuario_web)\n",
        "print(type(usuario_web))"
      ],
      "metadata": {
        "colab": {
          "base_uri": "https://localhost:8080/"
        },
        "id": "elLlrtN374V4",
        "outputId": "f513be53-1b62-499d-c246-4ea5d9c78d23"
      },
      "execution_count": null,
      "outputs": [
        {
          "output_type": "stream",
          "name": "stdout",
          "text": [
            "['André Perez', 'andre.perez', 'andre123', 'andre.perez@gmail.com']\n",
            "<class 'list'>\n"
          ]
        }
      ]
    },
    {
      "cell_type": "markdown",
      "source": [
        "Outro ponto a se levar em consideração é que as listas podem conter elementos de tipos variádos, inclusive dados importados de outras variáveis."
      ],
      "metadata": {
        "id": "Ndro9s7F8hED"
      }
    },
    {
      "cell_type": "code",
      "source": [
        "idade = 20\n",
        "saldo_em_conta = 723.15\n",
        "usuario_loggedin = True\n",
        "\n",
        "usuario_web = [\"André Perez\", idade, \"andre.perez\", \"andre123\", \"andre.perez@gmail.com\", saldo_em_conta, usuario_loggedin]\n",
        "\n",
        "print(usuario_web)\n",
        "print(type(usuario_web))"
      ],
      "metadata": {
        "colab": {
          "base_uri": "https://localhost:8080/"
        },
        "outputId": "ec55d7b5-522f-4078-fbcf-ad2ac3f3dbae",
        "id": "q3oJlaLu9DR2"
      },
      "execution_count": null,
      "outputs": [
        {
          "output_type": "stream",
          "name": "stdout",
          "text": [
            "['André Perez', 20, 'andre.perez', 'andre123', 'andre.perez@gmail.com', 723.15, True]\n",
            "<class 'list'>\n"
          ]
        }
      ]
    },
    {
      "cell_type": "markdown",
      "source": [
        "### **Operadores**"
      ],
      "metadata": {
        "id": "qNSKxzWv91NZ"
      }
    },
    {
      "cell_type": "markdown",
      "source": [
        "Na realidade, o único operador que temos para as listas é p operador de **concatenação**. Ele permite que possamos transformar duas ou mais listas em uma só."
      ],
      "metadata": {
        "id": "RmZeJp1T-PNl"
      }
    },
    {
      "cell_type": "markdown",
      "source": [
        "**Exemplo de concatenação de listas:** Fabricante de hardware mobile."
      ],
      "metadata": {
        "id": "h5cULRuu-vgP"
      }
    },
    {
      "cell_type": "code",
      "source": [
        "fabricantes_mobile_china = [\"xiaomi\", \"huawei\"]\n",
        "fabricantes_mobile_eua = [\"apple\", \"motorola\"]\n",
        "fabricantes_mobile = fabricantes_mobile_china + fabricantes_mobile_eua\n",
        "\n",
        "print(fabricantes_mobile_china)\n",
        "print(fabricantes_mobile_eua)\n",
        "print(fabricantes_mobile)"
      ],
      "metadata": {
        "colab": {
          "base_uri": "https://localhost:8080/"
        },
        "id": "5GaiDPl1_LIr",
        "outputId": "537f6879-071e-498c-c651-af85f8dd0a8f"
      },
      "execution_count": null,
      "outputs": [
        {
          "output_type": "stream",
          "name": "stdout",
          "text": [
            "['xiaomi', 'huawei']\n",
            "['apple', 'motorola']\n",
            "['xiaomi', 'huawei', 'apple', 'motorola']\n"
          ]
        }
      ]
    },
    {
      "cell_type": "markdown",
      "source": [
        "Também podemos usar o fatiamento(slicing) nas listas. De forma bem parecida com o que faziamos nas strings."
      ],
      "metadata": {
        "id": "DBu9ekZGAb2V"
      }
    },
    {
      "cell_type": "code",
      "source": [
        "# fatiamento fixo:\n",
        "print(f\"0: {fabricantes_mobile[0]}\")\n",
        "print(f\"-1: {fabricantes_mobile[-1]}\")"
      ],
      "metadata": {
        "colab": {
          "base_uri": "https://localhost:8080/"
        },
        "id": "KfO7_gd3A6hm",
        "outputId": "ab0d6d91-3ac0-4e78-944f-5bfc12c939b1"
      },
      "execution_count": null,
      "outputs": [
        {
          "output_type": "stream",
          "name": "stdout",
          "text": [
            "0: xiaomi\n",
            "-1: motorola\n"
          ]
        }
      ]
    },
    {
      "cell_type": "code",
      "source": [
        "# fatiamento por intervado:\n",
        "fabricantes_china = fabricantes_mobile[0:2]\n",
        "fabricantes_eua = fabricantes_mobile[2:len(fabricantes_mobile)]\n",
        "\n",
        "print(\"china: \" + str(fabricantes_china))\n",
        "print(\"eua: \" + str(fabricantes_eua))"
      ],
      "metadata": {
        "colab": {
          "base_uri": "https://localhost:8080/"
        },
        "id": "WLF5rStTBr7D",
        "outputId": "59df93e2-494c-4e61-cd09-cb33ad8ec106"
      },
      "execution_count": null,
      "outputs": [
        {
          "output_type": "stream",
          "name": "stdout",
          "text": [
            "china: ['xiaomi', 'huawei']\n",
            "eua: ['apple', 'motorola']\n"
          ]
        }
      ]
    },
    {
      "cell_type": "markdown",
      "source": [
        "Outra coisa que podemos fazer também é alterar um elemento específico da lista. Acessando o elemento através do fatiamento, e lhe atribuindo um novo valor."
      ],
      "metadata": {
        "id": "anlzJCo7C3rd"
      }
    },
    {
      "cell_type": "code",
      "source": [
        "# Lista original: ['xiaomi', 'huawei', 'apple', 'motorola']\n",
        "\n",
        "fabricantes_mobile[2] = \"nokia\"\n",
        "print(fabricantes_mobile)"
      ],
      "metadata": {
        "colab": {
          "base_uri": "https://localhost:8080/"
        },
        "id": "XsWL-UvXDWcu",
        "outputId": "0099a08f-77b5-45db-de0b-4273234d0bf2"
      },
      "execution_count": null,
      "outputs": [
        {
          "output_type": "stream",
          "name": "stdout",
          "text": [
            "['xiaomi', 'huawei', 'nokia', 'motorola']\n"
          ]
        }
      ]
    },
    {
      "cell_type": "markdown",
      "source": [
        "E é após ver todas estas funções que podemos afirmar que as listas são objetos mutáveis, personalizaveis da maneira que melhor atender ao momento."
      ],
      "metadata": {
        "id": "DqBoMfW9D_9F"
      }
    },
    {
      "cell_type": "markdown",
      "source": [
        "### **Métodos**"
      ],
      "metadata": {
        "id": "b3MUPzFIErck"
      }
    },
    {
      "cell_type": "markdown",
      "source": [
        "Os métodos nativos que existem na linguagem Python ajudam a trabalhar com as listas no dia a dia."
      ],
      "metadata": {
        "id": "NAunwc_UFBgR"
      }
    },
    {
      "cell_type": "code",
      "source": [
        "juros = [0.05, 0.07, 0.02, 0.04, 0.08]\n",
        "print(juros)"
      ],
      "metadata": {
        "colab": {
          "base_uri": "https://localhost:8080/"
        },
        "id": "N-HCUBO8Fexd",
        "outputId": "faa033c8-5b84-4827-f9d9-12be8b4be208"
      },
      "execution_count": null,
      "outputs": [
        {
          "output_type": "stream",
          "name": "stdout",
          "text": [
            "[0.05, 0.07, 0.02, 0.04, 0.08]\n"
          ]
        }
      ]
    },
    {
      "cell_type": "markdown",
      "source": [
        "**Insert:** Ele permite que se possa adicionar um elemento na lista sem que tenha de substituir outro."
      ],
      "metadata": {
        "id": "MICoW6paFwPA"
      }
    },
    {
      "cell_type": "code",
      "source": [
        "# O insert possui dois parametros dentro dele. O primeiro é a posição aonde o novo item vai ficar, e o segundo é o valor do items.\n",
        "juros.insert(0, 0.10)\n",
        "print(juros)"
      ],
      "metadata": {
        "colab": {
          "base_uri": "https://localhost:8080/"
        },
        "id": "fwCcCMqiGNpa",
        "outputId": "58d38769-397e-4cc1-ff7b-f0b1c050938d"
      },
      "execution_count": null,
      "outputs": [
        {
          "output_type": "stream",
          "name": "stdout",
          "text": [
            "[0.1, 0.05, 0.07, 0.02, 0.04, 0.08]\n"
          ]
        }
      ]
    },
    {
      "cell_type": "markdown",
      "source": [
        "**Append:** Muito utilizado, ele permite adicionar um novo item ao fim da lista."
      ],
      "metadata": {
        "id": "x1M7EfzDG0Um"
      }
    },
    {
      "cell_type": "code",
      "source": [
        "juros.append(0.09)\n",
        "print(juros)"
      ],
      "metadata": {
        "colab": {
          "base_uri": "https://localhost:8080/"
        },
        "id": "xbViR2seHA5S",
        "outputId": "af43a4b6-2a3a-49e4-d3ba-382ddb6495b3"
      },
      "execution_count": null,
      "outputs": [
        {
          "output_type": "stream",
          "name": "stdout",
          "text": [
            "[0.1, 0.05, 0.07, 0.02, 0.04, 0.08, 0.09]\n"
          ]
        }
      ]
    },
    {
      "cell_type": "markdown",
      "source": [
        "**Remove:** para remover elementos espesíficos de um valor da lista."
      ],
      "metadata": {
        "id": "XnK9JHQPHW3K"
      }
    },
    {
      "cell_type": "code",
      "source": [
        "juros.remove(0.1)\n",
        "print(juros)"
      ],
      "metadata": {
        "colab": {
          "base_uri": "https://localhost:8080/"
        },
        "id": "gfAvIQPbHfYn",
        "outputId": "4894fbbd-1310-4e20-d2c9-7afd29337549"
      },
      "execution_count": null,
      "outputs": [
        {
          "output_type": "stream",
          "name": "stdout",
          "text": [
            "[0.05, 0.07, 0.02, 0.04, 0.08, 0.09]\n"
          ]
        }
      ]
    },
    {
      "cell_type": "markdown",
      "source": [
        "**Pop:** O pop assim como o remove também tem a função de remover um elemento. Porém ele remove apenas o elemento da posição específica definida."
      ],
      "metadata": {
        "id": "rdgtnQCyH0Wz"
      }
    },
    {
      "cell_type": "code",
      "source": [
        "terceiro_juros = juros.pop(2)\n",
        "print(terceiro_juros)\n",
        "print(juros)"
      ],
      "metadata": {
        "colab": {
          "base_uri": "https://localhost:8080/"
        },
        "id": "2qzRlPMUID4u",
        "outputId": "bc375397-ba18-4eab-bdd7-cec62ade1b3e"
      },
      "execution_count": null,
      "outputs": [
        {
          "output_type": "stream",
          "name": "stdout",
          "text": [
            "0.02\n",
            "[0.05, 0.07, 0.04, 0.08, 0.09]\n"
          ]
        }
      ]
    },
    {
      "cell_type": "markdown",
      "source": [
        "### **Conversão**"
      ],
      "metadata": {
        "id": "RFLK2H5oJLyG"
      }
    },
    {
      "cell_type": "markdown",
      "source": [
        "Podemos facilmente converter as listas para strings. E o oposto também, pelas similaridades destas duas variáveis."
      ],
      "metadata": {
        "id": "QJiXAxGEJVyJ"
      }
    },
    {
      "cell_type": "code",
      "source": [
        "email = \"andre.perez@gmail.com\"\n",
        "caracteres_email = list(email)\n",
        "\n",
        "print(email)\n",
        "print(caracteres_email)"
      ],
      "metadata": {
        "colab": {
          "base_uri": "https://localhost:8080/"
        },
        "id": "pGGIKHSVJwyB",
        "outputId": "830d2175-d71c-4bc6-b188-cc9ab877285b"
      },
      "execution_count": null,
      "outputs": [
        {
          "output_type": "stream",
          "name": "stdout",
          "text": [
            "andre.perez@gmail.com\n",
            "['a', 'n', 'd', 'r', 'e', '.', 'p', 'e', 'r', 'e', 'z', '@', 'g', 'm', 'a', 'i', 'l', '.', 'c', 'o', 'm']\n"
          ]
        }
      ]
    },
    {
      "cell_type": "markdown",
      "source": [
        "### **PRÁTICA - Listas**"
      ],
      "metadata": {
        "id": "HquqKv0nV1GT"
      }
    },
    {
      "cell_type": "markdown",
      "source": [
        "Vamos pensar como o seu app de banco registra todas as movimentações financeiras que você faz durante o dia. No final ele sempre lhe retorna o quanto você possui em saldo. Como simulamos isso?"
      ],
      "metadata": {
        "id": "QN6NhR-F38op"
      }
    },
    {
      "cell_type": "code",
      "source": [
        "dia_11_saldo_inicial = 1000"
      ],
      "metadata": {
        "id": "qp0iPVIV4dQN"
      },
      "execution_count": null,
      "outputs": []
    },
    {
      "cell_type": "code",
      "source": [
        "dia_11_transacao_1 = 243\n",
        "dia_11_transacao_2 = -798.58\n",
        "dia_11_transacao_3 = 427.12\n",
        "dia_11_transacao_4 = -10.91"
      ],
      "metadata": {
        "id": "RPB7sY534pa4"
      },
      "execution_count": null,
      "outputs": []
    },
    {
      "cell_type": "code",
      "source": [
        "dia_11_saldo_final = dia_11_saldo_inicial + dia_11_transacao_1 + dia_11_transacao_2 + dia_11_transacao_3 + dia_11_transacao_4"
      ],
      "metadata": {
        "id": "qoF1RZ4_5NH_"
      },
      "execution_count": null,
      "outputs": []
    },
    {
      "cell_type": "code",
      "source": [
        "print(dia_11_saldo_final)"
      ],
      "metadata": {
        "colab": {
          "base_uri": "https://localhost:8080/"
        },
        "id": "tMQZ_suh5dFQ",
        "outputId": "0ccf9e57-5e56-486f-c30b-0d4c939cd13a"
      },
      "execution_count": null,
      "outputs": [
        {
          "output_type": "stream",
          "name": "stdout",
          "text": [
            "860.63\n"
          ]
        }
      ]
    },
    {
      "cell_type": "markdown",
      "source": [
        "Usando as estruturas de dados, conseguimos realizar está tarefa de uma maneira melhor?"
      ],
      "metadata": {
        "id": "TJPXoZOq5haf"
      }
    },
    {
      "cell_type": "markdown",
      "source": [
        "Primeiramente vamos reafirmar nosso saldo inicial de 1000."
      ],
      "metadata": {
        "id": "VDur5CUCKk2S"
      }
    },
    {
      "cell_type": "code",
      "source": [
        "dia_11_saldo_inicial = 1000"
      ],
      "metadata": {
        "id": "Hofxel63KvTO"
      },
      "execution_count": null,
      "outputs": []
    },
    {
      "cell_type": "markdown",
      "source": [
        "Agora vamos criar uma lista vazia, e a seguir vamos acionando as transações que forem ocorrendo durante o dia através do método **\"append\"**. Assim todas as entradas ficam registradas dentro de um único objeto, sem sobrecarregar a memória."
      ],
      "metadata": {
        "id": "a6M79mPYK0RY"
      }
    },
    {
      "cell_type": "code",
      "source": [
        "dia_11_transacoes = []\n",
        "\n",
        "dia_11_transacoes.append(243)\n",
        "dia_11_transacoes.append(-798.58)\n",
        "dia_11_transacoes.append(427.12)\n",
        "dia_11_transacoes.append(-10.91)\n",
        "\n",
        "print(dia_11_transacoes)"
      ],
      "metadata": {
        "colab": {
          "base_uri": "https://localhost:8080/"
        },
        "id": "ktmRZjPrLSxp",
        "outputId": "f9f4de20-0446-41c5-df4a-35fdd9fbdba7"
      },
      "execution_count": null,
      "outputs": [
        {
          "output_type": "stream",
          "name": "stdout",
          "text": [
            "[243, -798.58, 427.12, -10.91]\n"
          ]
        }
      ]
    },
    {
      "cell_type": "markdown",
      "source": [
        "E por final, podemos praticamente repetir o processo que fizemos anteriormente para descobrir o saldo final. Mas nas entradas das transações, usamos os elementos da lista, por meio do fatiamento."
      ],
      "metadata": {
        "id": "qvcW08JOL4XG"
      }
    },
    {
      "cell_type": "code",
      "source": [
        "dia_11_saldo_final = dia_11_saldo_inicial + dia_11_transacoes[0] + dia_11_transacoes[1] + dia_11_transacoes[2] + dia_11_transacoes[3]\n",
        "print(dia_11_saldo_final)"
      ],
      "metadata": {
        "colab": {
          "base_uri": "https://localhost:8080/"
        },
        "id": "GfkGdZ3tNqLs",
        "outputId": "a8c3e611-7011-438c-a1e8-c7ee980a476c"
      },
      "execution_count": null,
      "outputs": [
        {
          "output_type": "stream",
          "name": "stdout",
          "text": [
            "860.63\n"
          ]
        }
      ]
    },
    {
      "cell_type": "markdown",
      "source": [
        "## **2 - Conjuntos**"
      ],
      "metadata": {
        "id": "3HV3pVtxStjy"
      }
    },
    {
      "cell_type": "markdown",
      "source": [
        "### **Definição**"
      ],
      "metadata": {
        "id": "NjY5cJuMcL6T"
      }
    },
    {
      "cell_type": "markdown",
      "source": [
        "Os conjuntos são uma sequência imutável e desordenada de valores. Eles não possuem elementos repetidos. A partir do momento em que ele é criado, não pode ser alterado, e também não pode ser acessado com fatiamentos. Sua criação é bem parecida com a das listas, porém seu conteúdo deve estar entre chaves \"{ }\" ao invés de colchetes."
      ],
      "metadata": {
        "id": "cYKcR1EacQYH"
      }
    },
    {
      "cell_type": "code",
      "source": [
        "frutas = {\"banana\", \"maca\", \"uva\", \"uva\"}\n",
        "#repare que ao realizar o print, o conjunto automaticamente exclui o item repetido.\n",
        "\n",
        "print(frutas)\n",
        "print(type(frutas))"
      ],
      "metadata": {
        "colab": {
          "base_uri": "https://localhost:8080/"
        },
        "id": "D5eaXxkndtA-",
        "outputId": "bf311674-fbcf-461a-f2dc-888e7d395c14"
      },
      "execution_count": null,
      "outputs": [
        {
          "output_type": "stream",
          "name": "stdout",
          "text": [
            "{'banana', 'uva', 'maca'}\n",
            "<class 'set'>\n"
          ]
        }
      ]
    },
    {
      "cell_type": "markdown",
      "source": [
        "No Python os conjuntos são identificados por tipo(type) \"set\"."
      ],
      "metadata": {
        "id": "JrCVBAJ9eV6C"
      }
    },
    {
      "cell_type": "markdown",
      "source": [
        "### **Operadores**"
      ],
      "metadata": {
        "id": "Izytode9enrs"
      }
    },
    {
      "cell_type": "markdown",
      "source": [
        "O operador que pode atuar sobre os conjuntos é o de **diferença**. Ele vai comparar conjuntos e remover os elementos que são comuns, iguais entre eles. A ordem em que realizamos esta operação faz diferença no resultado."
      ],
      "metadata": {
        "id": "3JqhI6O5eyb7"
      }
    },
    {
      "cell_type": "markdown",
      "source": [
        "**Exemplo sobre conjuntos:** Países da europa."
      ],
      "metadata": {
        "id": "n3-2q9l5g3pC"
      }
    },
    {
      "cell_type": "code",
      "source": [
        "norte_europa = {\"reino unido\", \"suecia\", \"russia\", \"noruega\", \"dinamarca\"}\n",
        "escandinavia = {\"suecia\", \"noruega\", \"dinamarca\"}"
      ],
      "metadata": {
        "id": "2ndIcteIhAmL"
      },
      "execution_count": null,
      "outputs": []
    },
    {
      "cell_type": "markdown",
      "source": [
        "Agora vamos realizar uma operação de diferença para ter como resultado apenas os países do norte da Europa que não fazem parte da Escandinavia."
      ],
      "metadata": {
        "id": "ZudzOb_ahcNN"
      }
    },
    {
      "cell_type": "code",
      "source": [
        "#Para realizar este operador deve-se usar o sinal de subtração \"-\"\n",
        "norte_europa_nao_escandinavo = norte_europa - escandinavia\n",
        "print(norte_europa_nao_escandinavo)"
      ],
      "metadata": {
        "colab": {
          "base_uri": "https://localhost:8080/"
        },
        "id": "MGRt10tphwOQ",
        "outputId": "fb02d667-6ac2-4683-96d3-30bc31d249de"
      },
      "execution_count": null,
      "outputs": [
        {
          "output_type": "stream",
          "name": "stdout",
          "text": [
            "{'russia', 'reino unido'}\n"
          ]
        }
      ]
    },
    {
      "cell_type": "markdown",
      "source": [
        "Como comentado anteriormente, a ordem importa, se realizarmos esta diferença trocando a ordem dos conjuntos, o resultado será um set vazio."
      ],
      "metadata": {
        "id": "1uV6-qAKiMc6"
      }
    },
    {
      "cell_type": "code",
      "source": [
        "escandinavo_não_norte_europa = escandinavia - norte_europa\n",
        "print(escandinavo_não_norte_europa)"
      ],
      "metadata": {
        "colab": {
          "base_uri": "https://localhost:8080/"
        },
        "outputId": "4b142aab-0357-4bf7-9041-a90036bae158",
        "id": "nGF_7jKUifDn"
      },
      "execution_count": null,
      "outputs": [
        {
          "output_type": "stream",
          "name": "stdout",
          "text": [
            "set()\n"
          ]
        }
      ]
    },
    {
      "cell_type": "markdown",
      "source": [
        "### **Métodos**"
      ],
      "metadata": {
        "id": "FUO2qt2Xi9NH"
      }
    },
    {
      "cell_type": "markdown",
      "source": [
        "Para se trabalhar com conjuntos, o Python possui dois métodos. O de adição de item e o de remoção. Note que estes métodos são bem simples e não permitem uma grande atuação dentro do conjunto. Na adição, o novo elemento será adicionado em uma posição aleatória."
      ],
      "metadata": {
        "id": "jQEXhcKki_AZ"
      }
    },
    {
      "cell_type": "code",
      "source": [
        "cursos = {\"Exatas\", \"Humanas\", \"Biológicas\"}\n",
        "print(cursos)"
      ],
      "metadata": {
        "colab": {
          "base_uri": "https://localhost:8080/"
        },
        "id": "usA61CG3loZg",
        "outputId": "50861312-c342-4c6d-f24a-72fd49177b35"
      },
      "execution_count": null,
      "outputs": [
        {
          "output_type": "stream",
          "name": "stdout",
          "text": [
            "{'Biológicas', 'Exatas', 'Humanas'}\n"
          ]
        }
      ]
    },
    {
      "cell_type": "code",
      "source": [
        "#Inserir um elemento no conjunto: set.add(valor).\n",
        "cursos.add(\"Saúde\")\n",
        "print(cursos)"
      ],
      "metadata": {
        "colab": {
          "base_uri": "https://localhost:8080/"
        },
        "id": "5BBnjQJtlz5A",
        "outputId": "3a73de34-8737-48dc-8be8-5fa0be49b494"
      },
      "execution_count": null,
      "outputs": [
        {
          "output_type": "stream",
          "name": "stdout",
          "text": [
            "{'Biológicas', 'Exatas', 'Saúde', 'Humanas'}\n"
          ]
        }
      ]
    },
    {
      "cell_type": "code",
      "source": [
        "#Remover um elemento no conjunto: set.remove(valor).\n",
        "cursos.remove(\"Saúde\")\n",
        "print(cursos)"
      ],
      "metadata": {
        "colab": {
          "base_uri": "https://localhost:8080/"
        },
        "id": "goYysTF1mEjr",
        "outputId": "897710db-1d5d-478d-e69f-59f59c73a864"
      },
      "execution_count": null,
      "outputs": [
        {
          "output_type": "stream",
          "name": "stdout",
          "text": [
            "{'Biológicas', 'Exatas', 'Humanas'}\n"
          ]
        }
      ]
    },
    {
      "cell_type": "markdown",
      "source": [
        "### **Conversão**"
      ],
      "metadata": {
        "id": "L4boAhosmQbx"
      }
    },
    {
      "cell_type": "markdown",
      "source": [
        "Quanto a conversão, não é muito diferente do que vimos nas situações anteriores. Podemos converter conjuntos em listas usando o \"list(conjunto)\". O contrário também pode ser feito."
      ],
      "metadata": {
        "id": "g8W5Dyxnmej1"
      }
    },
    {
      "cell_type": "code",
      "source": [
        "times_paulistas = {\"São Paulo\", \"Palmeiras\", \"Corinthias\", \"Santos\"}\n",
        "\n",
        "print(times_paulistas)\n",
        "print(type(times_paulistas))"
      ],
      "metadata": {
        "colab": {
          "base_uri": "https://localhost:8080/"
        },
        "id": "ProCLTzmnJL4",
        "outputId": "bd0ea092-787a-4f5e-e4df-196d704a1ce4"
      },
      "execution_count": null,
      "outputs": [
        {
          "output_type": "stream",
          "name": "stdout",
          "text": [
            "{'São Paulo', 'Palmeiras', 'Corinthias', 'Santos'}\n",
            "<class 'set'>\n"
          ]
        }
      ]
    },
    {
      "cell_type": "code",
      "source": [
        "print(list(times_paulistas))\n",
        "print(type(list(times_paulistas)))"
      ],
      "metadata": {
        "colab": {
          "base_uri": "https://localhost:8080/"
        },
        "id": "p6kC6_rpnzA3",
        "outputId": "c5bc84ee-92cd-48ac-c89c-dd0f568a81e5"
      },
      "execution_count": null,
      "outputs": [
        {
          "output_type": "stream",
          "name": "stdout",
          "text": [
            "['São Paulo', 'Palmeiras', 'Corinthias', 'Santos']\n",
            "<class 'list'>\n"
          ]
        }
      ]
    },
    {
      "cell_type": "markdown",
      "source": [
        "### **PRÁTICA - Conjuntos**"
      ],
      "metadata": {
        "id": "xGiUTesuTgqC"
      }
    },
    {
      "cell_type": "markdown",
      "source": [
        "Um analista de dados de mídias sociais precisa descobrir as três hashtags mais utilizadas no top trendings do X(Twitter), durante uma semana. Ele já conseguiu estes dados e os colocou em listas diárias."
      ],
      "metadata": {
        "id": "Nx5O95CpTyxO"
      }
    },
    {
      "cell_type": "code",
      "source": [
        "hashtags_seg = [\"#tiago\", \"#Joao\", \"#bbb\"]\n",
        "hashtags_ter = [\"#sarah\", \"#bbb\", \"#fiuk\"]\n",
        "hashtags_qua = [\"#gil\", \"#thelma\", \"#lourdes\"]\n",
        "hashtags_qui = [\"#rafa\", \"#fora\", \"#danilo\"]\n",
        "hashtags_sex= [\"#juliete\", \"#arthur\", \"#bbb\"]"
      ],
      "metadata": {
        "id": "hpue4tw0UTDC"
      },
      "execution_count": null,
      "outputs": []
    },
    {
      "cell_type": "markdown",
      "source": [
        "Podemos utilizar o que aprendemos sobre listas e fazer uma contatenação, para ter todas as hashtags em um único objeto. Porém isso fará com que tenham hashtags repetidas."
      ],
      "metadata": {
        "id": "NZRi1cwNYDHA"
      }
    },
    {
      "cell_type": "code",
      "source": [
        "hashtags_semana = hashtags_seg + hashtags_ter + hashtags_qua + hashtags_qui + hashtags_sex\n",
        "print(hashtags_semana)"
      ],
      "metadata": {
        "colab": {
          "base_uri": "https://localhost:8080/"
        },
        "id": "DRmv8asJYXsi",
        "outputId": "e6b10d77-edd3-4c89-cf16-2ed2dc246b32"
      },
      "execution_count": null,
      "outputs": [
        {
          "output_type": "stream",
          "name": "stdout",
          "text": [
            "['#tiago', '#Joao', '#bbb', '#sarah', '#bbb', '#fiuk', '#gil', '#thelma', '#lourdes', '#rafa', '#fora', '#danilo', '#juliete', '#arthur', '#bbb']\n"
          ]
        }
      ]
    },
    {
      "cell_type": "markdown",
      "source": [
        "Agora para evitar que isto aconteça, vamos aplicar o que aprendemos sobre os conjuntos. Vamos ver quantos elemrntos temos nesta lista contando as repetições."
      ],
      "metadata": {
        "id": "smbLvNMtocKd"
      }
    },
    {
      "cell_type": "code",
      "source": [
        "print(hashtags_semana)\n",
        "print(len(hashtags_semana))"
      ],
      "metadata": {
        "colab": {
          "base_uri": "https://localhost:8080/"
        },
        "id": "HhDUTXcOoxOI",
        "outputId": "dc4b96e0-82a3-49d3-aebc-1980c14db3ac"
      },
      "execution_count": null,
      "outputs": [
        {
          "output_type": "stream",
          "name": "stdout",
          "text": [
            "['#tiago', '#Joao', '#bbb', '#sarah', '#bbb', '#fiuk', '#gil', '#thelma', '#lourdes', '#rafa', '#fora', '#danilo', '#juliete', '#arthur', '#bbb']\n",
            "15\n"
          ]
        }
      ]
    },
    {
      "cell_type": "markdown",
      "source": [
        "O que vamos fazer aqui é criar uma nova variável de lista, porém \"filtrada\". O valor desta variável vai vir de uma conversão, será uma lista gerada a partir de uma conversão de um conjunto. Conjunto este que será gerado da concatenação das listas de hashtags dos dias da semana. Garantindo assim a remoção de itens duplicados."
      ],
      "metadata": {
        "id": "fin_IuxFpRS6"
      }
    },
    {
      "cell_type": "code",
      "source": [
        "hashtags_semana_filtro = list(set(hashtags_seg + hashtags_ter + hashtags_qua + hashtags_qui + hashtags_sex))\n",
        "print(hashtags_semana_filtro)\n",
        "print(len(hashtags_semana_filtro))"
      ],
      "metadata": {
        "colab": {
          "base_uri": "https://localhost:8080/"
        },
        "id": "hCT_C3BgtSDt",
        "outputId": "34711db2-9b96-458e-f13a-ebe52414af09"
      },
      "execution_count": null,
      "outputs": [
        {
          "output_type": "stream",
          "name": "stdout",
          "text": [
            "['#sarah', '#arthur', '#danilo', '#fiuk', '#juliete', '#fora', '#Joao', '#lourdes', '#gil', '#rafa', '#tiago', '#bbb', '#thelma']\n",
            "13\n"
          ]
        }
      ]
    },
    {
      "cell_type": "markdown",
      "source": [
        "## **3 - Dicionários**"
      ],
      "metadata": {
        "id": "xQgupJd5v48a"
      }
    },
    {
      "cell_type": "markdown",
      "source": [
        "### **Definição**"
      ],
      "metadata": {
        "id": "mBoxqaBawAd0"
      }
    },
    {
      "cell_type": "markdown",
      "source": [
        "Os dicionários são estruturas de dados que armazenam sequencias de variáveis no formato chave e valor. Semelhante a criar um objeto em JavaScript. São reconhecidas no Python pelo tipo(type) \"dict\"."
      ],
      "metadata": {
        "id": "oPSZ527lwAPT"
      }
    },
    {
      "cell_type": "code",
      "source": [
        "brasil = {\"capital\": \"Brasília\", \"idioma\": \"Português\", \"populacao\": 210}\n",
        "\n",
        "print(brasil)\n",
        "print(type(brasil))"
      ],
      "metadata": {
        "colab": {
          "base_uri": "https://localhost:8080/"
        },
        "id": "I7Hj46-J36cQ",
        "outputId": "34e20f42-6b67-44c5-8fb5-9876c97ed587"
      },
      "execution_count": null,
      "outputs": [
        {
          "output_type": "stream",
          "name": "stdout",
          "text": [
            "{'capital': 'Brasília', 'idioma': 'Português', 'populacao': 210}\n",
            "<class 'dict'>\n"
          ]
        }
      ]
    },
    {
      "cell_type": "markdown",
      "source": [
        "Apesar de sua estrutura ser parecida com as listas e os conjuntos, a diferença está nos seus valores. Dentro das chaves \"{ }\" seus elementos são designados em duplas, sempre uma string como nome da variável, seguida de dois pontos \":\" e depois o valor da variável. Dentro das chaves, estas duplas são separadas pelas vírgulas. Outro ponto a levar em consideração é que nos dicionários os nomes das variávez fazem a função do índice, no caso de uma seleção por fatiamento."
      ],
      "metadata": {
        "id": "vewHy4W17ab3"
      }
    },
    {
      "cell_type": "markdown",
      "source": [
        "Uma boa prática na escrita do código de um dicionário é quebrar as linhas por variáveis dentro do valor. Facilita a leitura e entendimento. E um dicionário não pode ser variáveis com nomes iguais, se fizer isso, ao ser executado, o Python vai eliminar uma das variáveis."
      ],
      "metadata": {
        "id": "6EbSX0yf9e8q"
      }
    },
    {
      "cell_type": "code",
      "source": [
        "carro = {\n",
        "    \"marca\": \"Volskwagen\",\n",
        "    \"modelo\": \"Polo\",\n",
        "    \"ano\": 2021,\n",
        "    \"ano\": 2004\n",
        "}\n",
        "\n",
        "print(carro)"
      ],
      "metadata": {
        "colab": {
          "base_uri": "https://localhost:8080/"
        },
        "id": "0XyWe60n-I3q",
        "outputId": "41f81b0e-a24b-4c97-b5eb-d36f29eae554"
      },
      "execution_count": null,
      "outputs": [
        {
          "output_type": "stream",
          "name": "stdout",
          "text": [
            "{'marca': 'Volskwagen', 'modelo': 'Polo', 'ano': 2004}\n"
          ]
        }
      ]
    },
    {
      "cell_type": "markdown",
      "source": [
        "E um dos recursos mais poderoso do dicionário, e que abre um leque de possibilidades, é que podemos criar dicionários compostos. Dicionários com outros dicionários em seus valores. Podendo criar uma vasta ramificação de dados."
      ],
      "metadata": {
        "id": "bYrqZV6r_HCf"
      }
    },
    {
      "cell_type": "code",
      "source": [
        "cadastro = {\n",
        "    \"andre\": {\n",
        "        \"nome\": \"André Perez\",\n",
        "        \"ano_nascimento\": 1992,\n",
        "        \"pais\": {\n",
        "            \"pai\": {\n",
        "                \"nome\": \"<nome-do-pai> Perez\",\n",
        "                \"ano_nascimento\": 1971\n",
        "            },\n",
        "            \"mae\": {\n",
        "                \"nome\": \"<nome-da-mae> Perez\",\n",
        "                \"ano_nascimento\": 1973\n",
        "            }\n",
        "        }\n",
        "    }\n",
        "}\n",
        "\n",
        "print(cadastro)"
      ],
      "metadata": {
        "colab": {
          "base_uri": "https://localhost:8080/"
        },
        "id": "LEcMBTii_jiK",
        "outputId": "3f8726bf-ba06-4b7e-e7b5-9f294d043e7e"
      },
      "execution_count": null,
      "outputs": [
        {
          "output_type": "stream",
          "name": "stdout",
          "text": [
            "{'andre': {'nome': 'André Perez', 'ano_nascimento': 1992, 'pais': {'pai': {'nome': '<nome-do-pai> Perez', 'ano_nascimento': 1971}, 'mae': {'nome': '<nome-da-mae> Perez', 'ano_nascimento': 1973}}}}\n"
          ]
        }
      ]
    },
    {
      "cell_type": "markdown",
      "source": [
        "Agora como navegar por estas ramificações. Como conseguir uma única informação dentro deste dicionário mais complexo? Devemos chamar o nome do dicionário, e seguir adicionando colchetes com os nomes dos demais dicionários que em que está entrando. E por fim no último colchete, colocar o nome da informação que você quer acessar."
      ],
      "metadata": {
        "id": "-pzsfoW9A2hb"
      }
    },
    {
      "cell_type": "code",
      "source": [
        "#Neste exemplo queremos acessar a informação do ano de nascimento da mãe.\n",
        "cadastro[\"andre\"][\"pais\"][\"mae\"][\"ano_nascimento\"]"
      ],
      "metadata": {
        "colab": {
          "base_uri": "https://localhost:8080/"
        },
        "id": "ey-hhLUmBnBo",
        "outputId": "8d8668a8-10a8-4bce-d9dd-e4caae863e99"
      },
      "execution_count": null,
      "outputs": [
        {
          "output_type": "execute_result",
          "data": {
            "text/plain": [
              "1973"
            ]
          },
          "metadata": {},
          "execution_count": 20
        }
      ]
    },
    {
      "cell_type": "markdown",
      "source": [
        "### **Operadores**"
      ],
      "metadata": {
        "id": "s7UIP6wcwGKH"
      }
    },
    {
      "cell_type": "markdown",
      "source": [
        "Podemos manipular e alterar variáveis dentro de um dicionário com certa facilidade, desde que saibamos o nome chave e localização dela. No exemplo abaixo, temos um dicionário que armazena os scores de crédido dos clientes em seus CPFs. Para extrair estes valores de crédito, basta saber e chamar o cpf(chave), em uma variável ou função."
      ],
      "metadata": {
        "id": "IVvHafcvwLEN"
      }
    },
    {
      "cell_type": "code",
      "source": [
        "credito = {\"cpf1\": 750, \"cpf2\": 980}"
      ],
      "metadata": {
        "id": "ofpPFCXRdUrV"
      },
      "execution_count": 1,
      "outputs": []
    },
    {
      "cell_type": "markdown",
      "source": [
        "A forma de acessar as informações é bem parecida com um fatiamanto."
      ],
      "metadata": {
        "id": "W9yfeR6odnQv"
      }
    },
    {
      "cell_type": "code",
      "source": [
        "score_cpf1 = credito[\"cpf1\"]\n",
        "score_cpf2 = credito[\"cpf2\"]\n",
        "\n",
        "print(score_cpf1)\n",
        "print(score_cpf2)"
      ],
      "metadata": {
        "colab": {
          "base_uri": "https://localhost:8080/"
        },
        "id": "akww7PhbdstV",
        "outputId": "200fff65-6b66-4326-f4d7-ba3c9c84af3f"
      },
      "execution_count": 2,
      "outputs": [
        {
          "output_type": "stream",
          "name": "stdout",
          "text": [
            "750\n",
            "980\n"
          ]
        }
      ]
    },
    {
      "cell_type": "markdown",
      "source": [
        "e podemos atualizar o valor de uma variável dentro de um dicionário também."
      ],
      "metadata": {
        "id": "NLtkHSYhf3Bf"
      }
    },
    {
      "cell_type": "code",
      "source": [
        "credito[\"cpf1\"] = 435\n",
        "print(credito)"
      ],
      "metadata": {
        "colab": {
          "base_uri": "https://localhost:8080/"
        },
        "id": "hyzcFsphgcLG",
        "outputId": "6380c81d-49da-4dd5-c89e-bdf6c9b85b7c"
      },
      "execution_count": 3,
      "outputs": [
        {
          "output_type": "stream",
          "name": "stdout",
          "text": [
            "{'cpf1': 435, 'cpf2': 980}\n"
          ]
        }
      ]
    },
    {
      "cell_type": "markdown",
      "source": [
        "Para adicionar uma nova variável a um dicinário você pode usar o mesmo código que fez acima. Só tem que usar um valor de chave que não exista dentro do dicionário que está utilizando, e atribuir o valor desejado."
      ],
      "metadata": {
        "id": "He6B2YzHg-KP"
      }
    },
    {
      "cell_type": "code",
      "source": [
        "credito[\"cpf3\"] = 1000\n",
        "print(credito)"
      ],
      "metadata": {
        "colab": {
          "base_uri": "https://localhost:8080/"
        },
        "id": "2gmIfzWEhf1n",
        "outputId": "720aa36f-64d6-4af1-e7aa-c0d03852686b"
      },
      "execution_count": 4,
      "outputs": [
        {
          "output_type": "stream",
          "name": "stdout",
          "text": [
            "{'cpf1': 435, 'cpf2': 980, 'cpf3': 1000}\n"
          ]
        }
      ]
    },
    {
      "cell_type": "markdown",
      "source": [
        "### **Métodos**"
      ],
      "metadata": {
        "id": "zVz5axZbwLSc"
      }
    },
    {
      "cell_type": "markdown",
      "source": [
        "  Antes de seguir para os métodos, vamos cer uma nova forma de criar um dicionário. Que seria criando ele através da tag type \"dict\". Criase uma variável, e ao invés de já atribuir o valor com chaves e sua variáveis dentro dela, o valor será a tag dict. E no dict se abre parenteses, e dentro deles as variáveis são adicionadas. Como no exemplo abaixo:"
      ],
      "metadata": {
        "id": "7trENE86wPVL"
      }
    },
    {
      "cell_type": "code",
      "source": [
        "artigo = dict(\n",
        "    titulo= \"Modulo 02 | Python: Estruturas de Dados\",\n",
        "    corpo= \"Topicos, Aulas, Listas, Conjuntos, Dicionários, ...\",\n",
        "    total_caracteres=1530\n",
        ")"
      ],
      "metadata": {
        "id": "Adwp7q-qjPr8"
      },
      "execution_count": 6,
      "outputs": []
    },
    {
      "cell_type": "markdown",
      "source": [
        "Visualmente fica um pouco mais organizado, e a nomeclatura das variáveis internas não precisam ser escritas em forma de strings(apesar de serem strings para o Python). Não há diferenças técnicas no uso de uma ou outra, fica a gosto do programador. Mas é uma boa prática ao criar um projeto, usar apenas um destes modos de escrita."
      ],
      "metadata": {
        "id": "7rh1kAV3jzDC"
      }
    },
    {
      "cell_type": "markdown",
      "source": [
        "**Update:** O update é uma outra forma de atualizar uma variável ou um dicionário dentro do dicionário principal. Deve-se chamar a tag do dicionario principal, seguido de \".updade({\"nome_variavel\": novo valor})\""
      ],
      "metadata": {
        "id": "mJm_iacroP0r"
      }
    },
    {
      "cell_type": "code",
      "source": [
        "print(artigo)\n",
        "artigo.update({\"total_caracteres\": 7850})\n",
        "print(artigo)"
      ],
      "metadata": {
        "colab": {
          "base_uri": "https://localhost:8080/"
        },
        "id": "Kzcd2EcIq4Bi",
        "outputId": "df04f265-f72b-40e7-a414-9532d2aa5970"
      },
      "execution_count": 7,
      "outputs": [
        {
          "output_type": "stream",
          "name": "stdout",
          "text": [
            "{'titulo': 'Modulo 02 | Python: Estruturas de Dados', 'corpo': 'Topicos, Aulas, Listas, Conjuntos, Dicionários, ...', 'total_caracteres': 1530}\n",
            "{'titulo': 'Modulo 02 | Python: Estruturas de Dados', 'corpo': 'Topicos, Aulas, Listas, Conjuntos, Dicionários, ...', 'total_caracteres': 7850}\n"
          ]
        }
      ]
    },
    {
      "cell_type": "markdown",
      "source": [
        "**Pop:** O pop aqui tem a mesma função que ele desempenha nas lista, visto anteriormente. Ele irá remover uma varável do dicionário. Vai separar a variável selecionada e se quiser, podemos usar ela para outra finalidade."
      ],
      "metadata": {
        "id": "_fDHwi3Xr1v3"
      }
    },
    {
      "cell_type": "code",
      "source": [
        "print(artigo)\n",
        "total_caracteres = artigo.pop(\"total_caracteres\")\n",
        "print(artigo)\n",
        "print(total_caracteres)"
      ],
      "metadata": {
        "colab": {
          "base_uri": "https://localhost:8080/"
        },
        "id": "VgKoCZe8sNU-",
        "outputId": "f3aa804c-fc29-4b7c-b04a-8981f9d69b01"
      },
      "execution_count": 8,
      "outputs": [
        {
          "output_type": "stream",
          "name": "stdout",
          "text": [
            "{'titulo': 'Modulo 02 | Python: Estruturas de Dados', 'corpo': 'Topicos, Aulas, Listas, Conjuntos, Dicionários, ...', 'total_caracteres': 7850}\n",
            "{'titulo': 'Modulo 02 | Python: Estruturas de Dados', 'corpo': 'Topicos, Aulas, Listas, Conjuntos, Dicionários, ...'}\n",
            "7850\n"
          ]
        }
      ]
    },
    {
      "cell_type": "markdown",
      "source": [
        "### **Conversão**"
      ],
      "metadata": {
        "id": "Fy2x6V-mwPhd"
      }
    },
    {
      "cell_type": "markdown",
      "source": [
        "Podemos vonverter nossos dicionários, pegar todas as suas variáveis e valores e transforma-las em listas. Mas não podemos fazer o caminho oposto, não podemos converter uma lista em dicionário."
      ],
      "metadata": {
        "id": "DwdS0KWIwTRb"
      }
    },
    {
      "cell_type": "code",
      "source": [
        "artigo = dict(\n",
        "    titulo= \"Modulo 02 | Python: Estruturas de Dados\",\n",
        "    corpo= \"Topicos, Aulas, Listas, Conjuntos, Dicionários, ...\",\n",
        "    total_caracteres=1530\n",
        ")"
      ],
      "metadata": {
        "id": "4svVVseSt8b0"
      },
      "execution_count": 9,
      "outputs": []
    },
    {
      "cell_type": "code",
      "source": [
        "# para selecionarmos as variáveis de um dicionário, usamos o type \"keys\"\n",
        "variaveis = list(artigo.keys())\n",
        "\n",
        "print(variaveis)\n",
        "print(type(variaveis))"
      ],
      "metadata": {
        "colab": {
          "base_uri": "https://localhost:8080/"
        },
        "id": "300trkFwt7x9",
        "outputId": "d06beeaa-c125-4ec9-add4-819838072aae"
      },
      "execution_count": 10,
      "outputs": [
        {
          "output_type": "stream",
          "name": "stdout",
          "text": [
            "['titulo', 'corpo', 'total_caracteres']\n",
            "<class 'list'>\n"
          ]
        }
      ]
    },
    {
      "cell_type": "code",
      "source": [
        "# para selecionarmos os valores de um dicionário, usamos o type \"values\"\n",
        "valores = list(artigo.values())\n",
        "\n",
        "print(valores)\n",
        "print(type(valores))"
      ],
      "metadata": {
        "colab": {
          "base_uri": "https://localhost:8080/"
        },
        "outputId": "e074f417-e0c9-48e1-a44f-d1bc36188ef4",
        "id": "c_N8OH3-ufYl"
      },
      "execution_count": 11,
      "outputs": [
        {
          "output_type": "stream",
          "name": "stdout",
          "text": [
            "['Modulo 02 | Python: Estruturas de Dados', 'Topicos, Aulas, Listas, Conjuntos, Dicionários, ...', 1530]\n",
            "<class 'list'>\n"
          ]
        }
      ]
    },
    {
      "cell_type": "markdown",
      "source": [
        "### **PRÁTICA - Dicionários**"
      ],
      "metadata": {
        "id": "JPeMc1GBwTjW"
      }
    },
    {
      "cell_type": "markdown",
      "source": [
        "Vamos imaginar uma rede wi-fi, para se conectar nela você precisa saber o nome desta rede e a senha de acesso. E quando você vai se conectar a uma rede wi-fi, geralmente aparece uma lista de redes com sinal disponível no momento."
      ],
      "metadata": {
        "id": "hEwaSH9RynW1"
      }
    },
    {
      "cell_type": "code",
      "source": [
        "wifi_disponiveis = [\"rede1\", \"cnx_cnx\", \"uai-fi\", \"r3d3\"]\n",
        "print(wifi_disponiveis)"
      ],
      "metadata": {
        "colab": {
          "base_uri": "https://localhost:8080/"
        },
        "id": "BJjCcmmU1rDK",
        "outputId": "a55abd69-9b3c-4dd6-c9d9-4e9f2fc45a52"
      },
      "execution_count": null,
      "outputs": [
        {
          "output_type": "stream",
          "name": "stdout",
          "text": [
            "['rede1', 'cnx_cnx', 'uai-fi', 'r3d3']\n"
          ]
        }
      ]
    },
    {
      "cell_type": "markdown",
      "source": [
        "Então, como conseguimos identificar quais são os nomes de redes e suas respectivas senhas? Uma list pode não ser uma boa opção para estes tipos de dados."
      ],
      "metadata": {
        "id": "Tqr1AJiz2fF0"
      }
    },
    {
      "cell_type": "markdown",
      "source": [
        "Primeiramente vamos criar uma noava lista,vazia por enquanto, vamos chama-la de \"wifi_disponiveis_agora\"."
      ],
      "metadata": {
        "id": "Htos7sdz0hVk"
      }
    },
    {
      "cell_type": "code",
      "source": [
        "wifi_disponiveis_agora = []"
      ],
      "metadata": {
        "id": "GfQ6yuEv0zcN"
      },
      "execution_count": 12,
      "outputs": []
    },
    {
      "cell_type": "markdown",
      "source": [
        "agora vamos criar um dicionário para cada rede disponível. organizando suas variáveis como \"nome\" e \"senha\", cada qual com seus respectivos valores."
      ],
      "metadata": {
        "id": "yOigNeVt09MS"
      }
    },
    {
      "cell_type": "code",
      "source": [
        "rede_rede1= {\"nome\": \"rede1\", \"senha\": \"cnx_cnx\"}\n",
        "rede02_uai_fi = {\"nome\": \"uai-fi\", \"senha\": \"r3d3\"}"
      ],
      "metadata": {
        "id": "GVDh2-Rp1UP-"
      },
      "execution_count": 13,
      "outputs": []
    },
    {
      "cell_type": "markdown",
      "source": [
        "com dos dicionários criados, a seguir vamos usar o método append para adionar elas a lista vazia que criamos."
      ],
      "metadata": {
        "id": "PW9sXHt812vk"
      }
    },
    {
      "cell_type": "code",
      "source": [
        "wifi_disponiveis_agora.append(rede_rede1)\n",
        "wifi_disponiveis_agora.append(rede02_uai_fi)"
      ],
      "metadata": {
        "id": "fhBxXIg42EVM"
      },
      "execution_count": 14,
      "outputs": []
    },
    {
      "cell_type": "markdown",
      "source": [
        "Assim, agora temos uma lista com as redes disponíveis em que se pode conferir os nomes e senhas corretamente."
      ],
      "metadata": {
        "id": "27IUpNLx6q-e"
      }
    },
    {
      "cell_type": "code",
      "source": [
        "print(wifi_disponiveis_agora)"
      ],
      "metadata": {
        "colab": {
          "base_uri": "https://localhost:8080/"
        },
        "id": "VWAgYPBY67wZ",
        "outputId": "e7c7b380-46b1-4f54-a950-d01b9e567ea2"
      },
      "execution_count": 15,
      "outputs": [
        {
          "output_type": "stream",
          "name": "stdout",
          "text": [
            "[{'nome': 'rede1', 'senha': 'cnx_cnx'}, {'nome': 'uai-fi', 'senha': 'r3d3'}]\n"
          ]
        }
      ]
    }
  ]
}