{
  "nbformat": 4,
  "nbformat_minor": 0,
  "metadata": {
    "colab": {
      "provenance": [],
      "collapsed_sections": [
        "MCZXof43TqnP",
        "Q6tfN1pyUcsv",
        "mrb-67_aKGoS",
        "6_qs0-OILZrV",
        "odI-u6OBL6KE",
        "zNpB3VXTMSto",
        "LiZTml7LNFor",
        "WkUGkVf7Nkco",
        "nqV8hZsZ5P_I",
        "2uEu9QptE65L",
        "EnFsVbxGFXmC",
        "2vuA_qjFrmXZ",
        "ndnM7TwaiPZH",
        "U9l7F9l4ilA5",
        "G1FgO499seU2",
        "Ft7Y65UKtueC",
        "9Cahzb3AtFvv"
      ],
      "toc_visible": true,
      "authorship_tag": "ABX9TyPvbu+FeS19UobRR0klSn39",
      "include_colab_link": true
    },
    "kernelspec": {
      "name": "python3",
      "display_name": "Python 3"
    },
    "language_info": {
      "name": "python"
    }
  },
  "cells": [
    {
      "cell_type": "markdown",
      "metadata": {
        "id": "view-in-github",
        "colab_type": "text"
      },
      "source": [
        "<a href=\"https://colab.research.google.com/github/AndreDG88/anotacoes_python_curso_ebac/blob/main/introducao_sql.ipynb\" target=\"_parent\"><img src=\"https://colab.research.google.com/assets/colab-badge.svg\" alt=\"Open In Colab\"/></a>"
      ]
    },
    {
      "cell_type": "markdown",
      "source": [
        "# **Introdução à Linguagem SQL**\n"
      ],
      "metadata": {
        "id": "PgcbIwAHvexs"
      }
    },
    {
      "cell_type": "markdown",
      "source": [
        "SQL (Structured Query Language) é a linguagem padrão para gerenciar e manipular bancos de dados relacionais. Ela permite a criação, consulta, atualização e exclusão de dados de maneira eficiente. Bancos de dados como MySQL, PostgreSQL, SQL Server e Oracle utilizam SQL como sua principal linguagem de comunicação."
      ],
      "metadata": {
        "id": "xrcp0YyHCYkl"
      }
    },
    {
      "cell_type": "markdown",
      "source": [
        "## **1 - Comandos Básicos de SQL**"
      ],
      "metadata": {
        "id": "MCZXof43TqnP"
      }
    },
    {
      "cell_type": "markdown",
      "source": [
        "Os comandos SQL são classificados em diferentes categorias, sendo as principais:\n",
        "\n"
      ],
      "metadata": {
        "id": "adpTZtuWCdeq"
      }
    },
    {
      "cell_type": "markdown",
      "source": [
        "### **1.1 - DDL (Data Definition Language - Linguagem de Definição de Dados)**"
      ],
      "metadata": {
        "id": "Q6tfN1pyUcsv"
      }
    },
    {
      "cell_type": "markdown",
      "source": [
        "- **CREATE TABLE** : Cria uma nova tabela no banco de dados."
      ],
      "metadata": {
        "id": "TGUlHGlICjtM"
      }
    },
    {
      "cell_type": "code",
      "source": [
        "#Exemplo:\n",
        "CREATE TABLE Produtos (\n",
        "    ID INT PRIMARY KEY,\n",
        "    Nome VARCHAR(100) NOT NULL,\n",
        "    Preco DECIMAL(10,2) NOT NULL,\n",
        "    Estoque INT DEFAULT 0\n",
        ");"
      ],
      "metadata": {
        "id": "G2aKwnf4dreE"
      },
      "execution_count": null,
      "outputs": []
    },
    {
      "cell_type": "markdown",
      "source": [
        "- **ALTER TABLE** : Modifica a estrutura de uma tabela existente."
      ],
      "metadata": {
        "id": "sRM7azrhdxLO"
      }
    },
    {
      "cell_type": "code",
      "source": [
        "#Exemplo:\n",
        "ALTER TABLE Produtos ADD Categoria VARCHAR(50);"
      ],
      "metadata": {
        "id": "mNubDrahd4Ie"
      },
      "execution_count": null,
      "outputs": []
    },
    {
      "cell_type": "markdown",
      "source": [
        "- **DROP TABLE** : Remove uma tabela do banco de dados."
      ],
      "metadata": {
        "id": "DPkDsIIqd_ur"
      }
    },
    {
      "cell_type": "code",
      "source": [
        "#Exemplo:\n",
        "DROP TABLE Produtos;"
      ],
      "metadata": {
        "id": "WZj16VMSeJkz"
      },
      "execution_count": null,
      "outputs": []
    },
    {
      "cell_type": "markdown",
      "source": [
        "### **1.2 - DML (Data Manipulation Language - Linguagem de Manipulação de Dados)**"
      ],
      "metadata": {
        "id": "mrb-67_aKGoS"
      }
    },
    {
      "cell_type": "markdown",
      "source": [
        "- **INSERT INTO** : Insere novos registros em uma tabela.\n"
      ],
      "metadata": {
        "id": "kBx7HRZZKGQg"
      }
    },
    {
      "cell_type": "code",
      "source": [
        "#Exemplo:\n",
        "INSERT INTO Produtos (ID, Nome, Preco, Estoque) VALUES"
      ],
      "metadata": {
        "id": "dCx4YhamfBV1"
      },
      "execution_count": null,
      "outputs": []
    },
    {
      "cell_type": "markdown",
      "source": [
        "- **UPDATE** : Atualiza registros existentes em uma tabela.\n",
        "\n"
      ],
      "metadata": {
        "id": "FD7S_24Uex33"
      }
    },
    {
      "cell_type": "code",
      "source": [
        "#Exemplo:\n",
        "UPDATE Produtos SET Preco = 279.99 WHERE ID = 1;"
      ],
      "metadata": {
        "id": "Fxj_nhL0fHNO"
      },
      "execution_count": null,
      "outputs": []
    },
    {
      "cell_type": "markdown",
      "source": [
        "- **DELETE** : Remove registros de uma tabela.\n",
        "\n"
      ],
      "metadata": {
        "id": "pzIAVbkLexU-"
      }
    },
    {
      "cell_type": "code",
      "source": [
        "#Exemplo:\n",
        "DELETE FROM Produtos WHERE ID = 1;"
      ],
      "metadata": {
        "id": "a1Dry06XfLtc"
      },
      "execution_count": null,
      "outputs": []
    },
    {
      "cell_type": "markdown",
      "source": [
        "### **1.3 - DQL (Data Query Language - Linguagem de Consulta de Dados)**"
      ],
      "metadata": {
        "id": "6_qs0-OILZrV"
      }
    },
    {
      "cell_type": "markdown",
      "source": [
        "- **SELECT** : Recupera dados de uma ou mais tabelas."
      ],
      "metadata": {
        "id": "yo1hUDo_LY-H"
      }
    },
    {
      "cell_type": "code",
      "source": [
        "#Exemplos:\n",
        "SELECT * FROM Produtos WHERE Estoque > 0;"
      ],
      "metadata": {
        "id": "XhN2S4KUfVsB"
      },
      "execution_count": null,
      "outputs": []
    },
    {
      "cell_type": "markdown",
      "source": [
        "- **WHERE** : Filtrando Dados. O WHERE adiciona condições à sua busca."
      ],
      "metadata": {
        "id": "VjOUALrH5rYc"
      }
    },
    {
      "cell_type": "code",
      "source": [
        "#-- Clientes com nome 'Maria Oliveira'\n",
        "SELECT * FROM Clientes WHERE Nome = 'Maria Oliveira';\n",
        "\n",
        "#-- Clientes nascidos depois de 01/01/1990\n",
        "SELECT * FROM Clientes WHERE DataNascimento > '1990-01-01';"
      ],
      "metadata": {
        "id": "BXfiGyBF53dy"
      },
      "execution_count": null,
      "outputs": []
    },
    {
      "cell_type": "markdown",
      "source": [
        "Você também pode usar operadores como:\n",
        "\n",
        "- =, <>, >, <, >=, <=\n",
        "\n",
        "- BETWEEN, IN, LIKE, IS NULL, AND, OR, NOT"
      ],
      "metadata": {
        "id": "r1F2jRhy6DM-"
      }
    },
    {
      "cell_type": "code",
      "source": [
        "#-- Clientes cujo nome começa com 'C'\n",
        "SELECT * FROM Clientes WHERE Nome LIKE 'C%';\n",
        "\n",
        "#-- Clientes com e-mails definidos\n",
        "SELECT * FROM Clientes WHERE Email IS NOT NULL;"
      ],
      "metadata": {
        "id": "FKm6brLD6I37"
      },
      "execution_count": null,
      "outputs": []
    },
    {
      "cell_type": "markdown",
      "source": [
        "- **Subqueries (Subconsultas)** : Subqueries são consultas dentro de outras consultas. Muito úteis para filtros mais complexos."
      ],
      "metadata": {
        "id": "s7j7MMtd60QQ"
      }
    },
    {
      "cell_type": "code",
      "source": [
        "#Exemplo 1: Filtrar por resultado de outra tabela\n",
        "\n",
        "#-- Seleciona todos os pedidos feitos por clientes com o nome 'João da Silva'\n",
        "SELECT * FROM Pedidos\n",
        "WHERE ClienteID = (\n",
        "    SELECT ID FROM Clientes WHERE Nome = 'João da Silva'\n",
        ");"
      ],
      "metadata": {
        "id": "5iJqkr6e7A-D"
      },
      "execution_count": null,
      "outputs": []
    },
    {
      "cell_type": "code",
      "source": [
        "#Exemplo 2: Usar subquery com múltiplos resultados\n",
        "\n",
        "#-- Pedidos feitos por clientes com e-mails terminando em '@email.com'\n",
        "SELECT * FROM Pedidos\n",
        "WHERE ClienteID IN (\n",
        "    SELECT ID FROM Clientes WHERE Email LIKE '%@email.com'\n",
        ");"
      ],
      "metadata": {
        "id": "9dHSGvIb7QZT"
      },
      "execution_count": null,
      "outputs": []
    },
    {
      "cell_type": "code",
      "source": [
        "#Exemplo 3: Subquery no SELECT\n",
        "\n",
        "#-- Lista os pedidos com o nome do cliente\n",
        "SELECT\n",
        "    p.ID,\n",
        "    (SELECT Nome FROM Clientes c WHERE c.ID = p.ClienteID) AS NomeCliente,\n",
        "    p.Total\n",
        "FROM Pedidos p;"
      ],
      "metadata": {
        "id": "IVnW162b7clq"
      },
      "execution_count": null,
      "outputs": []
    },
    {
      "cell_type": "markdown",
      "source": [
        "### **1.4 - DCL (Data Control Language - Linguagem de Controle de Dados)**"
      ],
      "metadata": {
        "id": "odI-u6OBL6KE"
      }
    },
    {
      "cell_type": "markdown",
      "source": [
        "- **GRANT** : Concede permissões a usuários."
      ],
      "metadata": {
        "id": "mf4FOtSRL56M"
      }
    },
    {
      "cell_type": "code",
      "source": [
        "#Exemplo:\n",
        "GRANT SELECT, INSERT ON Produtos TO usuario_teste;"
      ],
      "metadata": {
        "id": "j2j8zgnWf1tZ"
      },
      "execution_count": null,
      "outputs": []
    },
    {
      "cell_type": "markdown",
      "source": [
        "- **REVOKE** : Remove permissões de usuários."
      ],
      "metadata": {
        "id": "WijqLtBYfxBH"
      }
    },
    {
      "cell_type": "code",
      "source": [
        "#Exemplo:\n",
        "REVOKE INSERT ON Produtos FROM usuario_teste;"
      ],
      "metadata": {
        "id": "odNra2suf5iO"
      },
      "execution_count": null,
      "outputs": []
    },
    {
      "cell_type": "markdown",
      "source": [
        "### **1.5 - TCL (Transaction Control Language - Linguagem de Controle de Transações)**"
      ],
      "metadata": {
        "id": "zNpB3VXTMSto"
      }
    },
    {
      "cell_type": "markdown",
      "source": [
        "- **COMMIT** : Salva todas as operações realizadas dentro de uma transação."
      ],
      "metadata": {
        "id": "UXOyHndjMSYP"
      }
    },
    {
      "cell_type": "code",
      "source": [
        "#Exemplo:\n",
        "BEGIN TRANSACTION;\n",
        "UPDATE Produtos SET Estoque = Estoque - 1 WHERE ID = 1;\n",
        "COMMIT;"
      ],
      "metadata": {
        "id": "kYVu1HO0gd5i"
      },
      "execution_count": null,
      "outputs": []
    },
    {
      "cell_type": "markdown",
      "source": [
        "- **ROLLBACK** : Desfaz operações dentro de uma transação."
      ],
      "metadata": {
        "id": "AAbMZSnagYTg"
      }
    },
    {
      "cell_type": "code",
      "source": [
        "#Exemplo:\n",
        "BEGIN TRANSACTION;\n",
        "UPDATE Produtos SET Estoque = Estoque - 1 WHERE ID = 1;\n",
        "ROLLBACK;"
      ],
      "metadata": {
        "id": "6w33wC-eghOT"
      },
      "execution_count": null,
      "outputs": []
    },
    {
      "cell_type": "markdown",
      "source": [
        "## **2 - Definição da Estrutura de um Banco de Dados (DDL)**"
      ],
      "metadata": {
        "id": "LiZTml7LNFor"
      }
    },
    {
      "cell_type": "markdown",
      "source": [
        "A estrutura de um banco de dados é definida através dos comandos DDL. O exemplo a seguir demonstra a criação de uma tabela Clientes:"
      ],
      "metadata": {
        "id": "CPL9-qTQNE-m"
      }
    },
    {
      "cell_type": "code",
      "source": [
        "CREATE TABLE Clientes (\n",
        "    ID INT PRIMARY KEY,\n",
        "    Nome VARCHAR(100) NOT NULL,\n",
        "    Email VARCHAR(150) UNIQUE,\n",
        "    DataNascimento DATE,\n",
        "    Telefone VARCHAR(15)\n",
        ");"
      ],
      "metadata": {
        "id": "kDib_oFENRI2"
      },
      "execution_count": null,
      "outputs": []
    },
    {
      "cell_type": "markdown",
      "source": [
        "## **3 - Uso de Constraints em SQL**"
      ],
      "metadata": {
        "id": "WkUGkVf7Nkco"
      }
    },
    {
      "cell_type": "markdown",
      "source": [
        "Constraints (restrições) são regras aplicadas às colunas de uma tabela para garantir a integridade dos dados. Algumas das principais constraints são:"
      ],
      "metadata": {
        "id": "I_adlYF_NkML"
      }
    },
    {
      "cell_type": "markdown",
      "source": [
        "- **PRIMARY KEY** : Garante que cada registro seja único e não nulo.\n",
        "\n",
        "- **FOREIGN KEY** : Estabelece um relacionamento entre tabelas.\n",
        "\n",
        "- **NOT NULL** : Impede que uma coluna tenha valores nulos.\n",
        "\n",
        "- **UNIQUE** : Garante que todos os valores em uma coluna sejam distintos.\n",
        "\n",
        "- **CHECK** : Define uma condição que os valores devem atender.\n",
        "\n",
        "- **DEFAULT** : Define um valor padrão para uma coluna."
      ],
      "metadata": {
        "id": "lNlSYvJoN3aB"
      }
    },
    {
      "cell_type": "markdown",
      "source": [
        "Exemplo de uso de constraints:"
      ],
      "metadata": {
        "id": "5b6noh1bP3gA"
      }
    },
    {
      "cell_type": "code",
      "source": [
        "CREATE TABLE Pedidos (\n",
        "    ID INT PRIMARY KEY,\n",
        "    ClienteID INT,\n",
        "    DataPedido DATE NOT NULL,\n",
        "    Total DECIMAL(10,2) CHECK (Total > 0),\n",
        "    FOREIGN KEY (ClienteID) REFERENCES Clientes(ID)\n",
        ");"
      ],
      "metadata": {
        "id": "NsDBamTAP29L"
      },
      "execution_count": null,
      "outputs": []
    },
    {
      "cell_type": "markdown",
      "source": [
        "Esse código cria a tabela Pedidos, garantindo que:\n",
        "\n",
        "- O ID seja único e obrigatório (PRIMARY KEY).\n",
        "\n",
        "- O ClienteID faça referência a um cliente existente na\n",
        "  tabela Clientes (FOREIGN KEY).\n",
        "\n",
        "- A data do pedido não possa ser nula.\n",
        "\n",
        "- O total do pedido seja um número positivo.\n",
        "\n"
      ],
      "metadata": {
        "id": "CwXyQiEhP7Bn"
      }
    },
    {
      "cell_type": "markdown",
      "source": [
        "## **4 - O que são Relacionamentos entre Tabelas?**"
      ],
      "metadata": {
        "id": "nqV8hZsZ5P_I"
      }
    },
    {
      "cell_type": "markdown",
      "source": [
        "Em bancos de dados relacionais, os dados são armazenados em tabelas separadas, mas muitas vezes essas tabelas precisam se relacionar entre si. Um relacionamento entre tabelas permite que você conecte os dados de forma lógica, evitando redundância e mantendo a integridade dos dados."
      ],
      "metadata": {
        "id": "WVCO5Cjz5Pmj"
      }
    },
    {
      "cell_type": "markdown",
      "source": [
        "###**Tipos de Relacionamentos**"
      ],
      "metadata": {
        "id": "JlPHtjvzEVX1"
      }
    },
    {
      "cell_type": "markdown",
      "source": [
        "####**1. Um para Um (1:1)**"
      ],
      "metadata": {
        "id": "Da5NAhIEEhLf"
      }
    },
    {
      "cell_type": "markdown",
      "source": [
        "Cada registro de uma tabela está relacionado com um único registro de outra tabela.\n",
        "\n",
        "**Exemplo:**\n",
        "\n",
        "- Uma tabela Usuarios\n",
        "\n",
        "- Uma tabela Documentos (cada usuário tem apenas 1 documento)"
      ],
      "metadata": {
        "id": "HPRVyayAEmyO"
      }
    },
    {
      "cell_type": "code",
      "source": [
        "CREATE TABLE Usuarios (\n",
        "    ID INT PRIMARY KEY,\n",
        "    Nome VARCHAR(100)\n",
        ");\n",
        "\n",
        "CREATE TABLE Documentos (\n",
        "    ID INT PRIMARY KEY,\n",
        "    UsuarioID INT UNIQUE,\n",
        "    CPF VARCHAR(11),\n",
        "    FOREIGN KEY (UsuarioID) REFERENCES Usuarios(ID)\n",
        ");"
      ],
      "metadata": {
        "id": "6CyDufghEzbf"
      },
      "execution_count": null,
      "outputs": []
    },
    {
      "cell_type": "markdown",
      "source": [
        "####**2. Um para Muitos (1:N) ✅ Mais comum**"
      ],
      "metadata": {
        "id": "2uEu9QptE65L"
      }
    },
    {
      "cell_type": "markdown",
      "source": [
        "Um registro de uma tabela pode estar relacionado com vários registros em outra tabela.\n",
        "\n",
        "**Exemplo:**\n",
        "\n",
        "- Um cliente pode fazer muitos pedidos.\n",
        "\n",
        "- Tabela Clientes relacionada com a tabela Pedidos."
      ],
      "metadata": {
        "id": "yEe0bZ5bE6eC"
      }
    },
    {
      "cell_type": "code",
      "source": [
        "CREATE TABLE Clientes (\n",
        "    ID INT PRIMARY KEY,\n",
        "    Nome VARCHAR(100)\n",
        ");\n",
        "\n",
        "CREATE TABLE Pedidos (\n",
        "    ID INT PRIMARY KEY,\n",
        "    ClienteID INT,\n",
        "    DataPedido DATE,\n",
        "    FOREIGN KEY (ClienteID) REFERENCES Clientes(ID)\n",
        ");"
      ],
      "metadata": {
        "id": "vcHx5NPCFMPe"
      },
      "execution_count": null,
      "outputs": []
    },
    {
      "cell_type": "markdown",
      "source": [
        "**Isso significa:** para cada pedido, existe exatamente um cliente. Mas um cliente pode ter vários pedidos."
      ],
      "metadata": {
        "id": "RTRBenC-FPau"
      }
    },
    {
      "cell_type": "markdown",
      "source": [
        "####**3. Muitos para Muitos (N:N)**"
      ],
      "metadata": {
        "id": "EnFsVbxGFXmC"
      }
    },
    {
      "cell_type": "markdown",
      "source": [
        "Quando vários registros de uma tabela se relacionam com vários registros de outra. Isso exige uma tabela intermediária (também chamada de tabela de junção).\n",
        "\n",
        "**Exemplo:**\n",
        "\n",
        "- Um aluno pode se matricular em várias disciplinas.\n",
        "\n",
        "- Uma disciplina pode ter vários alunos."
      ],
      "metadata": {
        "id": "1MEAcTHSFXSx"
      }
    },
    {
      "cell_type": "code",
      "source": [
        "CREATE TABLE Alunos (\n",
        "    ID INT PRIMARY KEY,\n",
        "    Nome VARCHAR(100)\n",
        ");\n",
        "\n",
        "CREATE TABLE Disciplinas (\n",
        "    ID INT PRIMARY KEY,\n",
        "    Nome VARCHAR(100)\n",
        ");\n",
        "\n",
        "CREATE TABLE Matriculas (\n",
        "    AlunoID INT,\n",
        "    DisciplinaID INT,\n",
        "    DataMatricula DATE,\n",
        "    PRIMARY KEY (AlunoID, DisciplinaID),\n",
        "    FOREIGN KEY (AlunoID) REFERENCES Alunos(ID),\n",
        "    FOREIGN KEY (DisciplinaID) REFERENCES Disciplinas(ID)\n",
        ");"
      ],
      "metadata": {
        "id": "X8N-b8jwFibw"
      },
      "execution_count": null,
      "outputs": []
    },
    {
      "cell_type": "markdown",
      "source": [
        "A tabela Matriculas liga Alunos com Disciplinas."
      ],
      "metadata": {
        "id": "9s5eHGa_FlxN"
      }
    },
    {
      "cell_type": "markdown",
      "source": [
        "###**🎯 Por que os relacionamentos são importantes?**"
      ],
      "metadata": {
        "id": "zt20-SlJFy1_"
      }
    },
    {
      "cell_type": "markdown",
      "source": [
        "- Evita dados duplicados (ex: repetir dados do cliente em cada pedido).\n",
        "\n",
        "- Facilita manutenção e atualizações (muda-se o dado em um lugar só).\n",
        "\n",
        "- Permite consultas complexas usando JOIN."
      ],
      "metadata": {
        "id": "RaszS6q3Fyfz"
      }
    },
    {
      "cell_type": "markdown",
      "source": [
        "###**🔄 Consultando Dados Relacionados (JOIN)**"
      ],
      "metadata": {
        "id": "9buUeO5dGB1G"
      }
    },
    {
      "cell_type": "code",
      "source": [
        "#Exemplo:\n",
        "SELECT\n",
        "\tproduct.name AS product_name,\n",
        "\tSUM(stock.quantity) AS product_stock\n",
        "FROM\n",
        "\tstore.product\n",
        "INNER JOIN store.stock USING (product_id)\n",
        "GROUP BY\n",
        "\tproduct.name\n",
        "ORDER BY\n",
        "\tproduct_stock DESC;\n"
      ],
      "metadata": {
        "id": "QU2YS0m1Zxk-"
      },
      "execution_count": null,
      "outputs": []
    },
    {
      "cell_type": "code",
      "source": [
        "✅ **Exemplo de resultado esperado:**\n",
        "\n",
        "product_name\t                        | product_stock\n",
        "______________________________________________________\n",
        "Gigabyte AMD Radeon Rx 7600\t          | 50\n",
        "Galax GeForce RTX 4060\t              | 30\n",
        "Asus NVIDIA GeForce RTX 4060 V2\t      | 20\n",
        "Pcyes Radeon Rx 550 Dual Fan\t        | 17"
      ],
      "metadata": {
        "id": "SuCpm_1WaZzC"
      },
      "execution_count": null,
      "outputs": []
    },
    {
      "cell_type": "markdown",
      "source": [
        "**Explicação:**\n",
        "- product.name: nome do produto\n",
        "\n",
        "- SUM(stock.quantity): soma da quantidade de cada produto\n",
        "\n",
        "- GROUP BY product.name: obrigatório, pois usamos product.name no SELECT\n",
        "\n",
        "- ORDER BY product_stock DESC: ordena do maior para o menor estoque"
      ],
      "metadata": {
        "id": "YTPyJL5wfMMV"
      }
    },
    {
      "cell_type": "markdown",
      "source": [
        "####**1. JOIN (Junção de Tabelas)**"
      ],
      "metadata": {
        "id": "g9_eMNSlZiez"
      }
    },
    {
      "cell_type": "markdown",
      "source": [
        "Une dados de duas ou mais tabelas com base em um campo comum (chave primária e estrangeira)."
      ],
      "metadata": {
        "id": "iRT8d_KmiDP2"
      }
    },
    {
      "cell_type": "code",
      "source": [
        "#Exemplo\n",
        "INNER JOIN store.stock USING (product_id)"
      ],
      "metadata": {
        "id": "rzaZJnU8iG4V"
      },
      "execution_count": null,
      "outputs": []
    },
    {
      "cell_type": "markdown",
      "source": [
        "**Aqui estamos dizendo:**\n",
        "\n",
        "“Quero combinar as tabelas product e stock, pegando somente os registros que têm product_id em comum.”"
      ],
      "metadata": {
        "id": "sUAlXuUHiNCi"
      }
    },
    {
      "cell_type": "markdown",
      "source": [
        "Exemplo de consulta usando INNER JOIN:"
      ],
      "metadata": {
        "id": "Qn7xAUl_GBjB"
      }
    },
    {
      "cell_type": "code",
      "source": [
        "#-- Buscar pedidos com nome do cliente\n",
        "SELECT\n",
        "    Pedidos.ID AS PedidoID,\n",
        "    Clientes.Nome AS NomeCliente,\n",
        "    Pedidos.DataPedido\n",
        "FROM Pedidos\n",
        "INNER JOIN Clientes ON Pedidos.ClienteID = Clientes.ID;"
      ],
      "metadata": {
        "id": "_t3X_QaYGJUf"
      },
      "execution_count": null,
      "outputs": []
    },
    {
      "cell_type": "markdown",
      "source": [
        "####**2. Função de Agregação: SUM()**"
      ],
      "metadata": {
        "id": "pgTfdAwjj9w7"
      }
    },
    {
      "cell_type": "markdown",
      "source": [
        "Utilizada para somar valores de uma coluna numérica."
      ],
      "metadata": {
        "id": "HUh1-ndKj9Me"
      }
    },
    {
      "cell_type": "code",
      "source": [
        "SUM(stock.quantity) AS product_stock"
      ],
      "metadata": {
        "id": "7PeQe4b6kXl3"
      },
      "execution_count": null,
      "outputs": []
    },
    {
      "cell_type": "markdown",
      "source": [
        "Ou seja:\n",
        "\n",
        "“Quero somar todas as quantidades de estoque (quantity) para cada produto.”"
      ],
      "metadata": {
        "id": "AkvbUjtZkamr"
      }
    },
    {
      "cell_type": "markdown",
      "source": [],
      "metadata": {
        "id": "gSugudLDlVDA"
      }
    },
    {
      "cell_type": "markdown",
      "source": [
        "####**3. Cláusula GROUP BY**"
      ],
      "metadata": {
        "id": "Ps2ww8GJlVlu"
      }
    },
    {
      "cell_type": "markdown",
      "source": [
        "Agrupa os dados por um ou mais campos, permitindo usar funções de agregação como SUM(), AVG(), COUNT(), etc."
      ],
      "metadata": {
        "id": "ZNl412pqleso"
      }
    },
    {
      "cell_type": "code",
      "source": [
        "GROUP BY product.name"
      ],
      "metadata": {
        "id": "kQRztmJulg-D"
      },
      "execution_count": null,
      "outputs": []
    },
    {
      "cell_type": "markdown",
      "source": [
        "Você agrupou os dados por nome de produto, então o SUM() vai calcular o total para cada produto individualmente."
      ],
      "metadata": {
        "id": "hQICYmAallPU"
      }
    },
    {
      "cell_type": "markdown",
      "source": [
        "**Regra importante:** toda coluna no SELECT que não está dentro de uma função de agregação (como SUM, AVG, etc) precisa estar no GROUP BY."
      ],
      "metadata": {
        "id": "IEkrjdvElnsU"
      }
    },
    {
      "cell_type": "markdown",
      "source": [],
      "metadata": {
        "id": "R-ZQDADZlxog"
      }
    },
    {
      "cell_type": "markdown",
      "source": [
        "####**4. ORDER BY ... DESC**"
      ],
      "metadata": {
        "id": "kJn9puOJlx6E"
      }
    },
    {
      "cell_type": "markdown",
      "source": [
        "Ordena os resultados da consulta."
      ],
      "metadata": {
        "id": "I1mJ_uM4l3MZ"
      }
    },
    {
      "cell_type": "code",
      "source": [
        "ORDER BY product_stock DESC"
      ],
      "metadata": {
        "id": "8ib1ldpwl85E"
      },
      "execution_count": null,
      "outputs": []
    },
    {
      "cell_type": "markdown",
      "source": [
        "Quer dizer:\n",
        "\n",
        "“Mostre os produtos com mais estoque primeiro.”"
      ],
      "metadata": {
        "id": "wUQF7gmRl_47"
      }
    },
    {
      "cell_type": "markdown",
      "source": [
        "####**5. Alias (AS)**"
      ],
      "metadata": {
        "id": "79nGXzsAmUFt"
      }
    },
    {
      "cell_type": "markdown",
      "source": [
        "Usamos AS para renomear colunas no resultado da consulta, facilitando a leitura:"
      ],
      "metadata": {
        "id": "JTfkV31cmfBo"
      }
    },
    {
      "cell_type": "code",
      "source": [
        "product.name AS product_name,\n",
        "SUM(stock.quantity) AS product_stock"
      ],
      "metadata": {
        "id": "zjtHa7UYmhpV"
      },
      "execution_count": null,
      "outputs": []
    },
    {
      "cell_type": "markdown",
      "source": [
        "Sem o AS, os nomes das colunas seriam mais técnicos ou repetitivos. Com AS, você dá um nome mais amigável."
      ],
      "metadata": {
        "id": "HTGH0qBOml0Q"
      }
    },
    {
      "cell_type": "markdown",
      "source": [
        "####**6. Uso do USING (product_id)**"
      ],
      "metadata": {
        "id": "T-6G_HqUm4m_"
      }
    },
    {
      "cell_type": "markdown",
      "source": [
        "Em vez de fazer o JOIN assim:"
      ],
      "metadata": {
        "id": "_sbDQHc4m4Vk"
      }
    },
    {
      "cell_type": "code",
      "source": [
        "ON product.product_id = stock.product_id"
      ],
      "metadata": {
        "id": "6fYSVwbYnCWI"
      },
      "execution_count": null,
      "outputs": []
    },
    {
      "cell_type": "markdown",
      "source": [
        "Você usou:"
      ],
      "metadata": {
        "id": "mXgXZMuenEKv"
      }
    },
    {
      "cell_type": "code",
      "source": [
        "USING (product_id)"
      ],
      "metadata": {
        "id": "UUNWIm17nF_z"
      },
      "execution_count": null,
      "outputs": []
    },
    {
      "cell_type": "markdown",
      "source": [
        "O USING é um atalho que só funciona quando as colunas nas duas tabelas têm o mesmo nome — é mais limpo e legível."
      ],
      "metadata": {
        "id": "mCXGYSjDnI1p"
      }
    },
    {
      "cell_type": "code",
      "source": [
        "✅ Resumo Final\n",
        "\n",
        "Técnica\t          | Para quê?\n",
        "-------------------------------------------------------------------------------------\n",
        "JOIN\t            | Juntar dados de product e stock\n",
        "SUM()\t            | Somar a quantidade de cada produto no estoque\n",
        "GROUP BY          | Agrupar os dados por produto\n",
        "ORDER BY ... DESC\t| Mostrar os produtos com mais estoque primeiro\n",
        "AS\t              | Dar nomes mais amigáveis às colunas do resultado\n",
        "USING\t            | Escrever um JOIN mais limpo quando os nomes das colunas coincidem"
      ],
      "metadata": {
        "id": "pqEnM6p6nYes"
      },
      "execution_count": null,
      "outputs": []
    },
    {
      "cell_type": "markdown",
      "source": [
        "## **5 - O que é agregação de dados?**"
      ],
      "metadata": {
        "id": "2vuA_qjFrmXZ"
      }
    },
    {
      "cell_type": "markdown",
      "source": [
        "Agregação é quando **resumimos ou agrupamos os dados** para obter informações mais relevantes. Por exemplo:\n",
        "\n",
        "- Saber o total de vendas de um produto\n",
        "\n",
        "- Contar quantos clientes fizeram pedidos\n",
        "\n",
        "- Calcular a média de salários de um setor\n",
        "\n",
        "Para isso, usamos **funções de agregação**, como:"
      ],
      "metadata": {
        "id": "z6gjT2uXruWz"
      }
    },
    {
      "cell_type": "code",
      "source": [
        "Função\t | O que faz\n",
        "---------------------------------\n",
        "COUNT()\t | Conta quantas linhas\n",
        "SUM()\t   | Soma os valores\n",
        "AVG()\t   | Calcula a média\n",
        "MAX()\t   | Retorna o maior valor\n",
        "MIN()\t   | Retorna o menor valor"
      ],
      "metadata": {
        "id": "Kdx2MKYoskRW"
      },
      "execution_count": null,
      "outputs": []
    },
    {
      "cell_type": "markdown",
      "source": [
        "###**Exemplo de tabela: vendas**"
      ],
      "metadata": {
        "id": "DVV3gJzWru3r"
      }
    },
    {
      "cell_type": "code",
      "source": [
        "CREATE TABLE vendas (\n",
        "    id SERIAL PRIMARY KEY,\n",
        "    produto VARCHAR(50),\n",
        "    categoria VARCHAR(50),\n",
        "    preco NUMERIC,\n",
        "    quantidade INT\n",
        ");"
      ],
      "metadata": {
        "id": "Xn0kjF41s7TX"
      },
      "execution_count": null,
      "outputs": []
    },
    {
      "cell_type": "markdown",
      "source": [
        "E vamos imaginar alguns dados:"
      ],
      "metadata": {
        "id": "K9huGSqerlX_"
      }
    },
    {
      "cell_type": "code",
      "source": [
        "  id | produto | categoria | preco | quantidade\n",
        "------------------------------------------------\n",
        " 1\t | Caneta\t | Papelaria | 2.50\t | 10\n",
        " 2\t | Lápis\t | Papelaria | 1.50\t | 20\n",
        " 3\t | Caderno | Papelaria | 15.00 | 5\n",
        " 4\t | Mochila | Mochilas  | 80.00 | 2"
      ],
      "metadata": {
        "id": "AwVDbtVytGQ-"
      },
      "execution_count": null,
      "outputs": []
    },
    {
      "cell_type": "markdown",
      "source": [
        "###**✅ Funções de agregação básicas**"
      ],
      "metadata": {
        "id": "j1DtonTnieg-"
      }
    },
    {
      "cell_type": "markdown",
      "source": [
        "Soma total de vendas (preço x quantidade)"
      ],
      "metadata": {
        "id": "KhkNy-c2vC45"
      }
    },
    {
      "cell_type": "code",
      "source": [
        "#Exemplo:\n",
        "SELECT SUM(preco * quantidade) AS total_vendas FROM vendas;"
      ],
      "metadata": {
        "id": "4NPAFL_pvEUO"
      },
      "execution_count": null,
      "outputs": []
    },
    {
      "cell_type": "markdown",
      "source": [
        "**Explicação:**\n",
        "\n",
        "- A função SUM() soma todos os resultados da expressão preco * quantidade.\n",
        "\n",
        "- preco * quantidade é o valor de venda de cada produto (quanto custa × quantos foram vendidos).\n",
        "\n",
        "- A soma dos valores é feita sobre todas as linhas da tabela."
      ],
      "metadata": {
        "id": "-d19w3y41pZF"
      }
    },
    {
      "cell_type": "code",
      "source": [
        "(2.50 * 10) + (1.50 * 20) + (15.00 * 5) + (80.00 * 2)\n",
        "= 25.00 + 30.00 + 75.00 + 160.00 = 290.00"
      ],
      "metadata": {
        "id": "sKIAYsMy2ORd"
      },
      "execution_count": null,
      "outputs": []
    },
    {
      "cell_type": "markdown",
      "source": [
        "**Resultado:**\n",
        "total_vendas\n",
        "290.00"
      ],
      "metadata": {
        "id": "ekT2h_uD2Q_P"
      }
    },
    {
      "cell_type": "markdown",
      "source": [
        "###**📦 GROUP BY – Agrupar dados por uma coluna**"
      ],
      "metadata": {
        "id": "z0b5GM8dv25f"
      }
    },
    {
      "cell_type": "markdown",
      "source": [
        "Se quiser saber o total de vendas por categoria, usamos o GROUP BY:"
      ],
      "metadata": {
        "id": "AiwIrki8v2hG"
      }
    },
    {
      "cell_type": "code",
      "source": [
        "#Exemplo:\n",
        "SELECT categoria, SUM(preco * quantidade) AS total_categoria\n",
        "FROM vendas\n",
        "GROUP BY categoria;"
      ],
      "metadata": {
        "id": "n1LaoJyIwGU1"
      },
      "execution_count": null,
      "outputs": []
    },
    {
      "cell_type": "markdown",
      "source": [
        "**Explicação:**\n",
        "\n",
        "- GROUP BY categoria agrupa as linhas da tabela por valor de categoria.\n",
        "\n",
        "- Para cada grupo (Papelaria, Mochilas), ele calcula a soma do valor total de vendas.\n",
        "\n",
        "- O SUM(preco * quantidade) é calculado separadamente dentro de cada grupo."
      ],
      "metadata": {
        "id": "XthH79NhwkGI"
      }
    },
    {
      "cell_type": "markdown",
      "source": [
        "**Grupos:**\n",
        "\n",
        "**Grupo \"Papelaria\":**\n",
        "\n",
        "- Caneta (2.50 × 10 = 25)\n",
        "\n",
        "- Lápis (1.50 × 20 = 30)\n",
        "\n",
        "- Caderno (15.00 × 5 = 75)\n",
        "\n",
        "Total: 25 + 30 + 75 = 130\n",
        "\n",
        "**Grupo \"Mochilas\":**\n",
        "\n",
        "- Mochila (80.00 × 2 = 160)"
      ],
      "metadata": {
        "id": "VVNa6E0l2m2z"
      }
    },
    {
      "cell_type": "code",
      "source": [
        "Resultado:\n",
        "\n",
        "categoria\t | total_categoria\n",
        "Papelaria\t | 130.00\n",
        "Mochilas\t | 160.00"
      ],
      "metadata": {
        "id": "pvOMC3Dy22eS"
      },
      "execution_count": null,
      "outputs": []
    },
    {
      "cell_type": "markdown",
      "source": [
        "###**🧽 HAVING – Filtro após o GROUP BY**"
      ],
      "metadata": {
        "id": "LHVn6e2cw1fZ"
      }
    },
    {
      "cell_type": "markdown",
      "source": [
        "Se quiser mostrar apenas as categorias com vendas acima de 100, usamos HAVING (porque WHERE não funciona com agregações!):"
      ],
      "metadata": {
        "id": "OlectRCYw1Lx"
      }
    },
    {
      "cell_type": "code",
      "source": [
        "SELECT categoria, SUM(preco * quantidade) AS total_categoria\n",
        "FROM vendas\n",
        "GROUP BY categoria\n",
        "HAVING SUM(preco * quantidade) > 100;"
      ],
      "metadata": {
        "id": "y9XvAlLExBLP"
      },
      "execution_count": null,
      "outputs": []
    },
    {
      "cell_type": "markdown",
      "source": [
        "**Explicação:**\n",
        "\n",
        "- HAVING é usado após o GROUP BY.\n",
        "\n",
        "- Ele filtra os resultados com base no valor agregado (ou seja, o SUM).\n",
        "\n",
        "- Aqui, estamos dizendo: \"Mostre só as categorias cujo total de vendas seja maior que 100\".\n",
        "\n",
        "**Verificação:**\n",
        "\n",
        "- Papelaria = 130 → passa\n",
        "\n",
        "- Mochilas = 160 → passa"
      ],
      "metadata": {
        "id": "GDxq1y_33Eug"
      }
    },
    {
      "cell_type": "code",
      "source": [
        "Resultado:\n",
        "\n",
        "categoria\t| total_categoria\n",
        "Papelaria\t| 130.00\n",
        "Mochilas\t| 160.00"
      ],
      "metadata": {
        "id": "js-Hh3Sa3eZZ"
      },
      "execution_count": null,
      "outputs": []
    },
    {
      "cell_type": "markdown",
      "source": [
        "###**🔠 ORDER BY – Ordenar resultados**"
      ],
      "metadata": {
        "id": "TUaDpKnUxVuY"
      }
    },
    {
      "cell_type": "markdown",
      "source": [
        "Ordena os resultados. Exemplo: mostrar os totais por categoria do maior para o menor:"
      ],
      "metadata": {
        "id": "acI6nKO2xVZt"
      }
    },
    {
      "cell_type": "code",
      "source": [
        "SELECT categoria, SUM(preco * quantidade) AS total_categoria\n",
        "FROM vendas\n",
        "GROUP BY categoria\n",
        "ORDER BY total_categoria DESC;"
      ],
      "metadata": {
        "id": "p0Ik9IRtxerv"
      },
      "execution_count": null,
      "outputs": []
    },
    {
      "cell_type": "markdown",
      "source": [
        "**Explicação:**\n",
        "\n",
        "- ORDER BY total_categoria ordena os resultados com base no valor total de vendas.\n",
        "\n",
        "- DESC = decrescente → maior valor aparece primeiro."
      ],
      "metadata": {
        "id": "Bc0y2LZDxhNM"
      }
    },
    {
      "cell_type": "code",
      "source": [
        "Resultado:\n",
        "\n",
        "categoria\t| total_categoria\n",
        "Mochilas\t| 160.00\n",
        "Papelaria\t| 130.00"
      ],
      "metadata": {
        "id": "fZLQaLSf3wYo"
      },
      "execution_count": null,
      "outputs": []
    },
    {
      "cell_type": "markdown",
      "source": [
        "###**🎯 DISTINCT – Elimina valores repetidos**"
      ],
      "metadata": {
        "id": "KlHTM40C0dCb"
      }
    },
    {
      "cell_type": "markdown",
      "source": [
        "Se quiser saber quais são as categorias únicas:"
      ],
      "metadata": {
        "id": "hEYBRu1h0csw"
      }
    },
    {
      "cell_type": "code",
      "source": [
        "SELECT DISTINCT categoria FROM vendas;"
      ],
      "metadata": {
        "id": "fTDH7V4i0lYU"
      },
      "execution_count": null,
      "outputs": []
    },
    {
      "cell_type": "markdown",
      "source": [
        "**Explicação:**\n",
        "\n",
        "- DISTINCT elimina valores repetidos na coluna selecionada.\n",
        "\n",
        "- Mesmo que \"Papelaria\" apareça várias vezes na tabela, ele mostra apenas uma vez no resultado."
      ],
      "metadata": {
        "id": "5Ws9ljxL34zq"
      }
    },
    {
      "cell_type": "code",
      "source": [
        "Resultado:\n",
        "\n",
        "categoria\n",
        "Papelaria\n",
        "Mochilas"
      ],
      "metadata": {
        "id": "fRTMzydY3_IB"
      },
      "execution_count": null,
      "outputs": []
    },
    {
      "cell_type": "markdown",
      "source": [
        "DISTINCT funciona sem agregação também!"
      ],
      "metadata": {
        "id": "nhiHRP2e0ocn"
      }
    },
    {
      "cell_type": "markdown",
      "source": [
        "###**📄 OFFSET e LIMIT – Paginação de resultados**"
      ],
      "metadata": {
        "id": "LEzoJlBj0rxU"
      }
    },
    {
      "cell_type": "markdown",
      "source": [
        "- LIMIT define quantas linhas você quer ver\n",
        "\n",
        "- OFFSET pula as primeiras N linhas"
      ],
      "metadata": {
        "id": "eGtmuxha0rjY"
      }
    },
    {
      "cell_type": "code",
      "source": [
        "SELECT * FROM vendas\n",
        "ORDER BY id\n",
        "LIMIT 2 OFFSET 2;"
      ],
      "metadata": {
        "id": "PYRRaEtD00bO"
      },
      "execution_count": null,
      "outputs": []
    },
    {
      "cell_type": "markdown",
      "source": [
        "**Explicação:**\n",
        "\n",
        "- ORDER BY id: organiza os registros na ordem do id.\n",
        "\n",
        "- OFFSET 2: pula os 2 primeiros registros (id 1 e 2).\n",
        "\n",
        "- LIMIT 2: mostra os 2 próximos registros.\n",
        "\n",
        "**Ordem completa dos IDs:**\n",
        "\n",
        "1 Caneta\n",
        "\n",
        "2 Lápis\n",
        "\n",
        "3 Caderno\n",
        "\n",
        "4 Mochila\n",
        "\n",
        "O comando vai mostrar Caderno e Mochila (id 3 e 4)."
      ],
      "metadata": {
        "id": "Kpb7wfNh4K_r"
      }
    },
    {
      "cell_type": "code",
      "source": [
        "Resultado:\n",
        "\n",
        "id\t| produto\t| categoria\t| preco\t| quantidade\n",
        "3\t  | Caderno\t| Papelaria\t| 15.00\t| 5\n",
        "4\t  | Mochila\t| Mochilas\t| 80.00\t| 2"
      ],
      "metadata": {
        "id": "lm7rEOdc4h0N"
      },
      "execution_count": null,
      "outputs": []
    },
    {
      "cell_type": "markdown",
      "source": [
        "###**Juntando tudo num exemplo:**"
      ],
      "metadata": {
        "id": "Wi9-_DYl1YKJ"
      }
    },
    {
      "cell_type": "code",
      "source": [
        "SELECT categoria, SUM(preco * quantidade) AS total\n",
        "FROM vendas\n",
        "GROUP BY categoria\n",
        "HAVING SUM(preco * quantidade) > 50\n",
        "ORDER BY total DESC\n",
        "LIMIT 5 OFFSET 0;"
      ],
      "metadata": {
        "id": "Q5A7vhjA1dX6"
      },
      "execution_count": null,
      "outputs": []
    },
    {
      "cell_type": "markdown",
      "source": [
        "Vamos destrinchar por partes:\n",
        "\n",
        "🟦 1. FROM vendas\n",
        "Está puxando os dados da nossa tabela vendas.\n",
        "\n",
        "🟦 2. GROUP BY categoria\n",
        "Agrupa os registros pela coluna categoria. Ou seja:\n",
        "\n",
        "Grupo 1: Papelaria\n",
        "\n",
        "Caneta\n",
        "\n",
        "Lápis\n",
        "\n",
        "Caderno\n",
        "\n",
        "Grupo 2: Mochilas\n",
        "\n",
        "Mochila\n",
        "\n",
        "🟦 3. SUM(preco * quantidade)\n",
        "Calcula o total de vendas por categoria:\n",
        "\n",
        "Papelaria:\n",
        "\n",
        "Caneta: 2.50 × 10 = 25\n",
        "\n",
        "Lápis: 1.50 × 20 = 30\n",
        "\n",
        "Caderno: 15.00 × 5 = 75\n",
        "👉 Total = 130\n",
        "\n",
        "Mochilas:\n",
        "\n",
        "Mochila: 80.00 × 2 = 160\n",
        "👉 Total = 160\n",
        "\n",
        "🟦 4. HAVING SUM(preco * quantidade) > 50\n",
        "Filtra para mostrar apenas as categorias cujo total de vendas seja maior que 50.\n",
        "\n",
        "Ambas categorias passam:\n",
        "\n",
        "Papelaria = 130 ✅\n",
        "\n",
        "Mochilas = 160 ✅\n",
        "\n",
        "🟦 5. ORDER BY total DESC\n",
        "Ordena os resultados de maior total para menor:\n",
        "\n",
        "Mochilas (160)\n",
        "\n",
        "Papelaria (130)\n",
        "\n",
        "🟦 6. LIMIT 5 OFFSET 0\n",
        "LIMIT 5: mostra no máximo 5 resultados\n",
        "\n",
        "OFFSET 0: começa do primeiro (sem pular nenhum)\n",
        "\n",
        "Como só temos 2 categorias no total, ele mostra essas 2."
      ],
      "metadata": {
        "id": "809jO2cE48P6"
      }
    },
    {
      "cell_type": "code",
      "source": [
        "Resultado final:\n",
        "categoria\t| total\n",
        "Mochilas\t| 160\n",
        "Papelaria\t| 130"
      ],
      "metadata": {
        "id": "ZeU7Q5O_5OOJ"
      },
      "execution_count": null,
      "outputs": []
    },
    {
      "cell_type": "markdown",
      "source": [
        "## **6- 📚 O que são Índices em SQL?**"
      ],
      "metadata": {
        "id": "ndnM7TwaiPZH"
      }
    },
    {
      "cell_type": "markdown",
      "source": [
        "Um índice em banco de dados funciona como o índice de um livro: ele acelera a busca por informações.\n",
        "\n",
        "**🔍 Sem índice:**\n",
        "\n",
        "Imagine uma tabela com milhões de registros. Quando você faz uma consulta com WHERE, o banco precisa olhar linha por linha para achar os dados.\n",
        "\n",
        "**⚡ Com índice:**\n",
        "\n",
        "O banco usa o índice (como um mapa rápido) para encontrar os dados sem precisar varrer toda a tabela.\n",
        "\n",
        "✅ Quando Criar um Índice?\n",
        "- Colunas usadas com filtros no WHERE\n",
        "\n",
        "- Colunas usadas em JOIN\n",
        "\n",
        "- Colunas com uso frequente em ORDER BY\n",
        "\n",
        "- Colunas únicas (ex: CPF, e-mail)\n"
      ],
      "metadata": {
        "id": "e1n9T_-YiOn2"
      }
    },
    {
      "cell_type": "markdown",
      "source": [
        "###**🛠️ Como Criar um Índice no PostgreSQL**"
      ],
      "metadata": {
        "id": "U9l7F9l4ilA5"
      }
    },
    {
      "cell_type": "code",
      "source": [
        "CREATE INDEX idx_clientes_nome\n",
        "ON Clientes (Nome);"
      ],
      "metadata": {
        "id": "Ph-qtx-ZlTlq"
      },
      "execution_count": null,
      "outputs": []
    },
    {
      "cell_type": "markdown",
      "source": [
        "Esse índice melhora buscas como:"
      ],
      "metadata": {
        "id": "NKDyQDTgiksA"
      }
    },
    {
      "cell_type": "code",
      "source": [
        "SELECT * FROM Clientes WHERE Nome = 'João';"
      ],
      "metadata": {
        "id": "3ZDVnPUwlYCH"
      },
      "execution_count": null,
      "outputs": []
    },
    {
      "cell_type": "markdown",
      "source": [
        "**🧹 Remover um Índice**"
      ],
      "metadata": {
        "id": "d5wjz8UIpCgv"
      }
    },
    {
      "cell_type": "code",
      "source": [
        "DROP INDEX idx_clientes_nome;"
      ],
      "metadata": {
        "id": "I1S-dTe4pGk1"
      },
      "execution_count": null,
      "outputs": []
    },
    {
      "cell_type": "markdown",
      "source": [
        "**🆙 Índices Únicos**\n",
        "\n",
        "Já viu isso antes? Ele garante que os valores da coluna sejam únicos, além de melhorar performance:"
      ],
      "metadata": {
        "id": "QOUwsHbQr-cw"
      }
    },
    {
      "cell_type": "code",
      "source": [
        "CREATE UNIQUE INDEX idx_clientes_email\n",
        "ON Clientes (Email);"
      ],
      "metadata": {
        "id": "Fb9j7-kEsBfZ"
      },
      "execution_count": null,
      "outputs": []
    },
    {
      "cell_type": "markdown",
      "source": [
        "**📌 Índices em Múltiplas Colunas**\n",
        "\n",
        "Se você sempre busca por duas colunas ao mesmo tempo, pode indexá-las juntas:"
      ],
      "metadata": {
        "id": "GcXrMlpKsHVM"
      }
    },
    {
      "cell_type": "code",
      "source": [
        "CREATE INDEX idx_pedidos_cliente_data\n",
        "ON Pedidos (ClienteID, DataPedido);"
      ],
      "metadata": {
        "id": "rN81FVERsJ-_"
      },
      "execution_count": null,
      "outputs": []
    },
    {
      "cell_type": "markdown",
      "source": [
        "**🔎 Verificando Índices Existentes**\n",
        "\n",
        "No PostgreSQL:"
      ],
      "metadata": {
        "id": "miuNcOBKszM4"
      }
    },
    {
      "cell_type": "code",
      "source": [
        "-- Lista os índices de uma tabela\n",
        "SELECT * FROM pg_indexes WHERE tablename = 'clientes';"
      ],
      "metadata": {
        "id": "g3Jwq5rBs4W-"
      },
      "execution_count": null,
      "outputs": []
    },
    {
      "cell_type": "markdown",
      "source": [
        "Ou use o comando \\di no terminal do psql."
      ],
      "metadata": {
        "id": "3p3fTwHps6UM"
      }
    },
    {
      "cell_type": "markdown",
      "source": [
        "###**🚨 Cuidado: Nem Sempre Índice é Bom**"
      ],
      "metadata": {
        "id": "G1FgO499seU2"
      }
    },
    {
      "cell_type": "markdown",
      "source": [
        "- Eles ocupam espaço em disco.\n",
        "\n",
        "- Podem deixar inserções e atualizações mais lentas, pois o índice precisa ser atualizado também.\n",
        "\n",
        "- Não crie índice em tudo — só onde há ganho real de performance"
      ],
      "metadata": {
        "id": "FQcgm91_seCl"
      }
    },
    {
      "cell_type": "markdown",
      "source": [
        "###**🧠 Exemplo Prático**"
      ],
      "metadata": {
        "id": "Ft7Y65UKtueC"
      }
    },
    {
      "cell_type": "code",
      "source": [
        "CREATE TABLE Produtos (\n",
        "    ID SERIAL PRIMARY KEY,\n",
        "    Nome VARCHAR(100),\n",
        "    Preco DECIMAL(10,2)\n",
        ");\n",
        "\n",
        "CREATE INDEX idx_produtos_nome ON Produtos (Nome);\n",
        "\n",
        "-- Consulta otimizada pelo índice:\n",
        "SELECT * FROM Produtos WHERE Nome = 'Mouse Gamer';"
      ],
      "metadata": {
        "id": "29T48dQ-tJ2X"
      },
      "execution_count": null,
      "outputs": []
    },
    {
      "cell_type": "markdown",
      "source": [
        "###**Tipos de Índice**"
      ],
      "metadata": {
        "id": "9Cahzb3AtFvv"
      }
    },
    {
      "cell_type": "markdown",
      "source": [
        "**🧩 1. B-Tree (Índice padrão)**\n",
        "\n",
        "📌 Uso:\n",
        "\n",
        "- Operações com =, <, >, <=, >=, BETWEEN.\n",
        "\n",
        "- Ordenações (ORDER BY).\n",
        "\n",
        "🧪 Exemplo:"
      ],
      "metadata": {
        "id": "shx6fe_qtFeH"
      }
    },
    {
      "cell_type": "code",
      "source": [
        "CREATE INDEX idx_clientes_nome\n",
        "ON Clientes (Nome);"
      ],
      "metadata": {
        "id": "v9dM1GfnuSeD"
      },
      "execution_count": null,
      "outputs": []
    },
    {
      "cell_type": "markdown",
      "source": [
        "✅ Ideal para:\n",
        "\n",
        "- Dados ordenáveis.\n",
        "\n",
        "- Pesquisas por faixa (ex: datas, preços)."
      ],
      "metadata": {
        "id": "bR0_KixDuUjL"
      }
    },
    {
      "cell_type": "markdown",
      "source": [
        "------------------------------------------------------------"
      ],
      "metadata": {
        "id": "lp-O4ETBvGLB"
      }
    },
    {
      "cell_type": "markdown",
      "source": [
        "**🔡 2. Hash**\n",
        "\n",
        "📌 Uso:\n",
        "\n",
        "- Apenas para igualdade (=).\n",
        "\n",
        "- Mais rápido que B-tree para buscas exatas.\n",
        "\n",
        "🧪 Exemplo:"
      ],
      "metadata": {
        "id": "2m9z7XB7u6LS"
      }
    },
    {
      "cell_type": "code",
      "source": [
        "CREATE INDEX idx_usuarios_email_hash\n",
        "ON Usuarios USING HASH (Email);"
      ],
      "metadata": {
        "id": "goH38LbxvLwB"
      },
      "execution_count": null,
      "outputs": []
    },
    {
      "cell_type": "markdown",
      "source": [
        "⚠️ Observações:\n",
        "\n",
        "- Não funciona com ordenações nem comparação.\n",
        "\n",
        "- Menos usado que B-tree, mas útil em casos muito específicos."
      ],
      "metadata": {
        "id": "EQGRgtpvvO9c"
      }
    },
    {
      "cell_type": "markdown",
      "source": [
        "------------------------------------------------------------"
      ],
      "metadata": {
        "id": "j0kYqNqIvTpq"
      }
    },
    {
      "cell_type": "markdown",
      "source": [
        "**🔠 3. GIN (Generalized Inverted Index)**\n",
        "\n",
        "📌 Uso:\n",
        "\n",
        "- Ideal para arrays, jsonb, busca textual (full-text search).\n",
        "\n",
        "🧪 Exemplo com jsonb:"
      ],
      "metadata": {
        "id": "O-TE0JiQvTX7"
      }
    },
    {
      "cell_type": "code",
      "source": [
        "CREATE INDEX idx_pedidos_dados_gin\n",
        "ON Pedidos USING GIN (dados_jsonb);"
      ],
      "metadata": {
        "id": "tGNrYmLtvfIP"
      },
      "execution_count": null,
      "outputs": []
    },
    {
      "cell_type": "markdown",
      "source": [
        "🧪 Exemplo com busca textual:"
      ],
      "metadata": {
        "id": "IhjwtA5Fvhj7"
      }
    },
    {
      "cell_type": "code",
      "source": [
        "CREATE INDEX idx_artigos_conteudo\n",
        "ON Artigos USING GIN (to_tsvector('portuguese', conteudo));"
      ],
      "metadata": {
        "id": "pjAg5qnpvjdl"
      },
      "execution_count": null,
      "outputs": []
    },
    {
      "cell_type": "markdown",
      "source": [
        "✅ Ideal para:\n",
        "\n",
        "- Textos longos.\n",
        "\n",
        "- Campos com múltiplos valores (listas, arrays)."
      ],
      "metadata": {
        "id": "I4jLoXY3vmd1"
      }
    },
    {
      "cell_type": "markdown",
      "source": [
        "------------------------------------------------------------"
      ],
      "metadata": {
        "id": "wFHL5rPgvrc_"
      }
    },
    {
      "cell_type": "markdown",
      "source": [
        "**🌳 4. GiST (Generalized Search Tree)**\n",
        "\n",
        "📌 Uso:\n",
        "\n",
        "- Ideal para pesquisas espaciais, intervalos, ou dados complexos como geometria.\n",
        "\n",
        "🧪 Exemplo com coordenadas:"
      ],
      "metadata": {
        "id": "pXFqrCsZvu55"
      }
    },
    {
      "cell_type": "code",
      "source": [
        "CREATE INDEX idx_localizacao_gist\n",
        "ON Localizacoes USING GiST (geometria);"
      ],
      "metadata": {
        "id": "TUNQdmEtvz6Q"
      },
      "execution_count": null,
      "outputs": []
    },
    {
      "cell_type": "markdown",
      "source": [
        "✅ Ideal para:\n",
        "\n",
        "- Dados geográficos (GIS).\n",
        "\n",
        "- Pesquisas por proximidade."
      ],
      "metadata": {
        "id": "4nHhMrgkvrIf"
      }
    },
    {
      "cell_type": "markdown",
      "source": [],
      "metadata": {
        "id": "k4EFQMKjwDpD"
      }
    },
    {
      "cell_type": "markdown",
      "source": [
        "------------------------------------------------------------"
      ],
      "metadata": {
        "id": "1cWK2ncOwD-8"
      }
    },
    {
      "cell_type": "markdown",
      "source": [
        "**🧠 5. SP-GiST (Space-partitioned GiST)**\n",
        "\n",
        "📌 Uso:\n",
        "\n",
        "Similar ao GiST, mas mais eficiente em certos tipos de dados como árvores ou grafos.\n",
        "\n",
        "✅ Ideal para:\n",
        "\n",
        "Estruturas com alto grau de ramificação ou não-uniformes."
      ],
      "metadata": {
        "id": "I_3uDEWvv_KZ"
      }
    },
    {
      "cell_type": "markdown",
      "source": [
        "------------------------------------------------------------"
      ],
      "metadata": {
        "id": "hRYCOPYawG3G"
      }
    },
    {
      "cell_type": "markdown",
      "source": [
        "**📦 6. BRIN (Block Range Index)**\n",
        "\n",
        "📌 Uso:\n",
        "\n",
        "Indexa blocos de dados, não linhas individuais.\n",
        "\n",
        "✅ Ideal para:\n",
        "\n",
        "Tabelas muito grandes com dados ordenados fisicamente (ex: por data).\n",
        "\n",
        "Economiza muito espaço.\n",
        "\n",
        "🧪 Exemplo:"
      ],
      "metadata": {
        "id": "Rok2md8nwGg7"
      }
    },
    {
      "cell_type": "code",
      "source": [
        "CREATE INDEX idx_logs_data_brin\n",
        "ON Logs USING BRIN (data_evento);"
      ],
      "metadata": {
        "id": "GGrv8TNWwOvy"
      },
      "execution_count": null,
      "outputs": []
    },
    {
      "cell_type": "markdown",
      "source": [
        "###**Explain Analyze**"
      ],
      "metadata": {
        "id": "1rSNOEHPxHv9"
      }
    },
    {
      "cell_type": "markdown",
      "source": [
        "Vamos falar sobre uma ferramenta essencial para performance em SQL, especialmente no PostgreSQL: o comando EXPLAIN ANALYZE. Ele é como uma lupa que mostra o que o banco de dados está fazendo por trás das consultas."
      ],
      "metadata": {
        "id": "0Jj_58fmxHUH"
      }
    },
    {
      "cell_type": "markdown",
      "source": [
        "**🔍 O que é EXPLAIN?**\n",
        "\n",
        "O comando EXPLAIN mostra o plano de execução que o PostgreSQL usará para realizar uma consulta.\n",
        "\n",
        "Ele responde perguntas como:\n",
        "\n",
        "- O PostgreSQL vai fazer um scan completo da tabela ou usar um índice?\n",
        "\n",
        "- Vai fazer JOINs, filtros, ordenações?\n",
        "\n",
        "- Qual será o custo estimado dessa operação?"
      ],
      "metadata": {
        "id": "qbHSDFMZxbHz"
      }
    },
    {
      "cell_type": "markdown",
      "source": [
        "**🚀 O que é EXPLAIN ANALYZE?**\n",
        "\n",
        "Enquanto EXPLAIN prevê o que será feito, EXPLAIN ANALYZE executa realmente a consulta e mede:\n",
        "\n",
        "- O tempo real gasto em cada etapa.\n",
        "\n",
        "- A quantidade de linhas processadas.\n",
        "\n",
        "- Se os estimadores estavam corretos ou não.\n",
        "\n",
        "É ideal para diagnosticar gargalos de performance!"
      ],
      "metadata": {
        "id": "zQDUBCKhxqHw"
      }
    },
    {
      "cell_type": "markdown",
      "source": [
        "**📘 Sintaxe Básica**"
      ],
      "metadata": {
        "id": "9IQozXBpx073"
      }
    },
    {
      "cell_type": "code",
      "source": [
        "EXPLAIN ANALYZE\n",
        "SELECT * FROM Clientes WHERE Nome = 'João';"
      ],
      "metadata": {
        "id": "-e4LusYKx2a_"
      },
      "execution_count": null,
      "outputs": []
    },
    {
      "cell_type": "markdown",
      "source": [
        "**🧠 Exemplo Interpretado**"
      ],
      "metadata": {
        "id": "GbT5focfx7Xm"
      }
    },
    {
      "cell_type": "code",
      "source": [
        "EXPLAIN ANALYZE\n",
        "SELECT * FROM Produtos WHERE Nome = 'Mouse Gamer';"
      ],
      "metadata": {
        "id": "jAUiY_Pox8_w"
      },
      "execution_count": null,
      "outputs": []
    },
    {
      "cell_type": "markdown",
      "source": [
        "🔍 Saída (exemplo):"
      ],
      "metadata": {
        "id": "MFehspg2yAry"
      }
    },
    {
      "cell_type": "code",
      "source": [
        "Seq Scan on produtos  (cost=0.00..35.50 rows=5 width=42) (actual time=0.023..0.024 rows=1 loops=1)\n",
        "  Filter: (nome = 'Mouse Gamer'::text)\n",
        "  Rows Removed by Filter: 99\n",
        "Planning Time: 0.060 ms\n",
        "Execution Time: 0.040 ms"
      ],
      "metadata": {
        "id": "0SF0f4_2yCDD"
      },
      "execution_count": null,
      "outputs": []
    },
    {
      "cell_type": "markdown",
      "source": [
        "🧩 O que tudo isso significa?"
      ],
      "metadata": {
        "id": "hYg55e90yGkg"
      }
    },
    {
      "cell_type": "code",
      "source": [
        "#Campo\t                    #Significado\n",
        "Seq Scan\t                | Foi feito um scan sequencial (linha por linha). Não usou índice.\n",
        "cost=0.00..35.50\t        | Custo estimado (inicial..final) da consulta.\n",
        "rows=5\t                  | Estimativa de linhas que seriam retornadas.\n",
        "actual time=0.023..0.024\t| Tempo real gasto na execução da consulta.\n",
        "Rows Removed by Filter\t  | Quantas linhas foram avaliadas mas descartadas pelo WHERE.\n",
        "Execution Time\t          | Tempo total da consulta (em milissegundos)."
      ],
      "metadata": {
        "id": "5X37UfAvyIym"
      },
      "execution_count": null,
      "outputs": []
    },
    {
      "cell_type": "markdown",
      "source": [
        "**⚡ Por que usar EXPLAIN ANALYZE?**\n",
        "\n",
        "- Para descobrir se seus índices estão sendo usados.\n",
        "\n",
        "- Para detectar scans desnecessários.\n",
        "\n",
        "- Para melhorar consultas lentas.\n",
        "\n",
        "- Para entender como o PostgreSQL processa subqueries, joins, agrupamentos etc.\n",
        "\n"
      ],
      "metadata": {
        "id": "agARnNzHycwc"
      }
    },
    {
      "cell_type": "markdown",
      "source": [
        "**🛠️ Dicas de uso**\n",
        "\n",
        "- 1 Use com cautela: o comando executa a consulta de verdade, então evite em comandos que alteram dados como DELETE, UPDATE.\n",
        "\n",
        "- 2 Para esses casos, você pode usar:"
      ],
      "metadata": {
        "id": "HY4m3hXLyiow"
      }
    },
    {
      "cell_type": "code",
      "source": [
        "EXPLAIN ANALYZE\n",
        "SELECT * FROM Pedidos WHERE ClienteID = 42;"
      ],
      "metadata": {
        "id": "yDIFzIUuyrD1"
      },
      "execution_count": null,
      "outputs": []
    },
    {
      "cell_type": "markdown",
      "source": [
        "- 3 Para UPDATE, use uma transação de teste ou o ROLLBACK depois."
      ],
      "metadata": {
        "id": "KJlYwm2qyuOr"
      }
    },
    {
      "cell_type": "markdown",
      "source": [
        "**🧪 Exemplo com JOIN**"
      ],
      "metadata": {
        "id": "MS4sPWQUy12k"
      }
    },
    {
      "cell_type": "code",
      "source": [
        "EXPLAIN ANALYZE\n",
        "SELECT p.ID, p.DataPedido, c.Nome\n",
        "FROM Pedidos p\n",
        "JOIN Clientes c ON p.ClienteID = c.ID\n",
        "WHERE c.Nome = 'Maria Oliveira';"
      ],
      "metadata": {
        "id": "Na8rjtJ8y3hJ"
      },
      "execution_count": null,
      "outputs": []
    },
    {
      "cell_type": "markdown",
      "source": [
        "Você vai ver se o PostgreSQL está fazendo:\n",
        "\n",
        "- Nested Loop\n",
        "\n",
        "- Hash Join\n",
        "\n",
        "- Index Scan ou Seq Scan"
      ],
      "metadata": {
        "id": "s9JhDFLlzCD8"
      }
    }
  ]
}