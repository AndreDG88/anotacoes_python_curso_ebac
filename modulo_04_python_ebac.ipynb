{
  "nbformat": 4,
  "nbformat_minor": 0,
  "metadata": {
    "colab": {
      "provenance": [],
      "collapsed_sections": [
        "RIm2_q2AHItw",
        "4PIfq3sxezrU",
        "s8ou6CP1cm9W",
        "63Np9jkbV8hR",
        "AkRsxGoIlkpF",
        "f_PUUgzals0q",
        "8jJ1ffL6p_NK",
        "ul_gj8gayeTU",
        "M78Kg_TYbYq6",
        "qdLhYw94bfv5",
        "8LyT25RR9ot7",
        "UomI8tI-e61-",
        "tDMqTSG1dp1i"
      ],
      "authorship_tag": "ABX9TyOuEs8fzo7Q9jeZurVGmnO4",
      "include_colab_link": true
    },
    "kernelspec": {
      "name": "python3",
      "display_name": "Python 3"
    },
    "language_info": {
      "name": "python"
    }
  },
  "cells": [
    {
      "cell_type": "markdown",
      "metadata": {
        "id": "view-in-github",
        "colab_type": "text"
      },
      "source": [
        "<a href=\"https://colab.research.google.com/github/AndreDG88/anotacoes_python_curso_ebac/blob/main/modulo_04_python_ebac.ipynb\" target=\"_parent\"><img src=\"https://colab.research.google.com/assets/colab-badge.svg\" alt=\"Open In Colab\"/></a>"
      ]
    },
    {
      "cell_type": "markdown",
      "source": [
        "# **Módulo 04**\n",
        "### Arquivos & Funções\n"
      ],
      "metadata": {
        "id": "PgcbIwAHvexs"
      }
    },
    {
      "cell_type": "markdown",
      "source": [
        "Neste módulo vamos ver como o Python manipula arquivos de fontes externas, tanto como ele lê, como também como ele pode fazer uso destes arquivos. Também vamos ver como criamos e lidamos com funções, que são formas de aagruparmos e reutulizarmos nosso códigos voltados a uma \"função\" específica."
      ],
      "metadata": {
        "id": "EdvaRXVNL3pV"
      }
    },
    {
      "cell_type": "markdown",
      "source": [
        "## **1 - Leitura de arquivos**"
      ],
      "metadata": {
        "id": "RIm2_q2AHItw"
      }
    },
    {
      "cell_type": "markdown",
      "source": [
        "Vamos ver como o python lida com a leitura de um arquivo. Para o nosso arquivo de teste para leitura, vamos utilizar um arquivo gerado em uma ferramenta do Google Colab. OBS: Este arquivo teste foi gerado por um recurso do google colab e só funciona para ser gerado dentro dele."
      ],
      "metadata": {
        "id": "sGPWfFQ-Lc5j"
      }
    },
    {
      "cell_type": "markdown",
      "source": [
        "**Arquivo CSV:** Banco.csv"
      ],
      "metadata": {
        "id": "g7ITgPL7QKQV"
      }
    },
    {
      "cell_type": "markdown",
      "source": [
        "Um arquivo CSV é um padrão de escrita, definimos uma série de informações linha a linha, e cada \",\" é um separador das informações dentro destas linhas, seria uma coluna. Este padrão irá criar uma tabela a ser lida, criamos primeiro o cabeçalho, e depois as linhas de imformação. \";\", Espaços vazios e tabs também podem ser usados como separador."
      ],
      "metadata": {
        "id": "nmAGmXWORh6h"
      }
    },
    {
      "cell_type": "code",
      "source": [
        "%%writefile banco.csv\n",
        "age,job,marital,education,default,balance,housing,loan\n",
        "30,unemployed,married,primary,no,1787,no,no\n",
        "33,services,married,secondary,no,4789,yes,yes\n",
        "35,management,single,tertiary,no,1350,yes,no\n",
        "30,management,married,tertiary,no,1476,yes,yes\n",
        "59,blue-collar,married,secondary,no,0,yes,no\n",
        "35,management,single,tertiary,no,747,no,no\n",
        "36,self-employed,married,tertiary,no,307,yes,no\n",
        "39,technician,married,secondary,no,147,yes,no\n",
        "41,entrepreneur,married,tertiary,no,221,yes,no\n",
        "43,services,married,primary,no,-88,yes,yes"
      ],
      "metadata": {
        "colab": {
          "base_uri": "https://localhost:8080/"
        },
        "id": "wT2_tH1FQWVI",
        "outputId": "c6ce60d4-2246-42dc-c09a-b2d90cfe7bf7"
      },
      "execution_count": null,
      "outputs": [
        {
          "output_type": "stream",
          "name": "stdout",
          "text": [
            "Writing banco.csv\n"
          ]
        }
      ]
    },
    {
      "cell_type": "markdown",
      "source": [
        "É importante lembrar que sempre que fecharmos um projeto em que estamos trabalhando no google colab, a máquina virtual que estamos usando será resetada e este outros arquivos que criamos vão ser eliminados. Podemos simplesmente executar o código novamente e remonta-los, mas, se quiser também tem comobaixar este arquivo no próprio PC.\n",
        "\n",
        "Basta clica em arquivos na barra lateral à esquerda, selecionar a pasta \"sample_data\", selecionar o arquivo com o nome que você criou, clicar nos três pontos ao lado e fazer o download. Para realizar o upload de um arquivo, tem que clicar no ícone de upload na mesma área aonde se vizualiza os arquivos."
      ],
      "metadata": {
        "id": "Uak_8BetSc6p"
      }
    },
    {
      "cell_type": "markdown",
      "source": [
        "### **1.1 - with / open**"
      ],
      "metadata": {
        "id": "4PIfq3sxezrU"
      }
    },
    {
      "cell_type": "markdown",
      "source": [
        "O conjunto de comandos que permite que façamos a leitura e escrita é o with / open. veja abaixo um demonstrativo da estrutura de código para utilizar este recurso:"
      ],
      "metadata": {
        "id": "vG-nWfKJMAO4"
      }
    },
    {
      "cell_type": "code",
      "source": [
        "with open(file='caminho do arquivo', mode='modo de leitura', encoding='decodificador') as <apelido>:\n",
        "  bloco de código"
      ],
      "metadata": {
        "id": "ymqX6C_1WuiH"
      },
      "execution_count": null,
      "outputs": []
    },
    {
      "cell_type": "markdown",
      "source": [
        "Chamamos o \"with open\" e abrimos e fechamos os parenteses. Dentro deles vamos preencher os parâmetros que vão localizar e compreender nosso arquivo. O with open é um recurso nativo do python assim como o Print ou o type, ou os as funções com siglas para convertermos elementos em outros tipos.\n",
        "\n",
        "Nestes parâmetros que temos de preencher, o primeiro é o file, ele é o nome e o caminho do arquivo selecionado. O segundo, o mode, ele vai definir se o arquivo em questão está sendo aberto para escrita ou para leitura. E o último é o encoding, ele não é um parâmetro obrigatório, mas é importante, por que se ele não for definido corretamente pode ocorrer probelmas de leitura. Encoding não faz parte deste curso, mas usando o encoding recomendado pelo professor, praticamente todos os arquivos de texto iram rodar sem problemas."
      ],
      "metadata": {
        "id": "9qq3Poq8XMsh"
      }
    },
    {
      "cell_type": "markdown",
      "source": [
        "Após definirmos os parâmetros dentro dos parametros, usamos o \"as\" para atribuir um apelido a este arquivo. Um outro ponto a sigla de chamada de modo de leitura é a Letra \"r\"."
      ],
      "metadata": {
        "id": "rxqXnN4Wbz9V"
      }
    },
    {
      "cell_type": "markdown",
      "source": [
        "### **1.2 - read**"
      ],
      "metadata": {
        "id": "s8ou6CP1cm9W"
      }
    },
    {
      "cell_type": "markdown",
      "source": [
        "O read é o método que vai executar a leitura de todo o conteúdo de texto do arquivo."
      ],
      "metadata": {
        "id": "CUJ4mrSmcmey"
      }
    },
    {
      "cell_type": "markdown",
      "source": [
        "**Exemplo 01 read:** Vamos ao nosso primeiro exemplo prático usando read para ler o conteúdo csv que criamos lá no ínício do módulo. Primeiro vamos criar uma variável que vai armazenar e nos retornar esse texto que queremos ler. Ela vai receber o nome de \"conteudo\", e seu valor inicial vai ser \"None\", ou seja, ela vai começar com um valor vazio.\n",
        "\n",
        "Então após isso vamos chamar nosso código de leitura com o \"with open\", seguido dos parenteses. Dentro deles em file, vamos definir o caminho do arquivo, que está em \"./banco.csv\", na raiz do diretório. Em mode, como vimos anteriormente, já que será leitura, usamos o \"r\" para determinar isso.\n",
        "\n",
        "Em encoding vamos usar o \"utf8\", recomendado pelo professor. Voltando em relação ao mode, é de grande importância configurar ele de maneira correta. Por que se é um arquivo em modo de leitura, significa que o Python não vai poder alterar, sobrescrever ou apagar este arquivo. Modo de leitura nesta função, é um modo passivo de lidar com ele.\n",
        "\n",
        "Agora con tudo dentro dos parenteses resolvido, usamos o \"as\" para tribuir um nome para esta nossa chamada de arquivo. E neste exemplo nós usamos o nome de \"arquivo\" mesmo.\n",
        "\n",
        "E o produto final do arquivo, após os \":\", será atribuirmos a nossa variável \"conteudo\" um valor que será o \"arquivo\", mas a leitura total do arquivo. Fazemos isso com o uso do \".read()\". E depois fazemos o print de \"conteudo\".\n",
        "\n"
      ],
      "metadata": {
        "id": "SyPKc_jEvdZX"
      }
    },
    {
      "cell_type": "code",
      "source": [
        "conteudo = None\n",
        "\n",
        "with open(file='./banco.csv', mode='r', encoding='utf8') as arquivo:\n",
        "  conteudo = arquivo.read()\n",
        "\n",
        "  print(conteudo)"
      ],
      "metadata": {
        "colab": {
          "base_uri": "https://localhost:8080/"
        },
        "id": "S-zEr4InuYox",
        "outputId": "8562bff5-4e46-469b-9a51-910bcdf8259c"
      },
      "execution_count": null,
      "outputs": [
        {
          "output_type": "stream",
          "name": "stdout",
          "text": [
            "age,job,marital,education,default,balance,housing,loan \n",
            "30,unemployed,married,primary,no,1787,no,no \n",
            "33,services,married,secondary,no,4789,yes,yes \n",
            "35,management,single,tertiary,no,1350,yes,no \n",
            "30,management,married,tertiary,no,1476,yes,yes \n",
            "59,blue-collar,married,secondary,no,0,yes,no \n",
            "35,management,single,tertiary,no,747,no,no \n",
            "36,self-employed,married,tertiary,no,307,yes,no \n",
            "39,technician,married,secondary,no,147,yes,no \n",
            "41,entrepreneur,married,tertiary,no,221,yes,no \n",
            "43,services,married,primary,no,-88,yes,yes \n",
            "\n"
          ]
        }
      ]
    },
    {
      "cell_type": "markdown",
      "source": [
        "### **1.3 - readline**"
      ],
      "metadata": {
        "id": "63Np9jkbV8hR"
      }
    },
    {
      "cell_type": "markdown",
      "source": [
        "O readline é uma outra proposta para leitura, mas sua abordagem é diferente. Ele é mais voltado para arquivos muito grandes. Arquivos que sobrecarregam muito a memória ao tentarem ser lidos de uma única vez, ou até são tão pesados que é impossível a memória fazer isso. O readline lê uma linha por vêz."
      ],
      "metadata": {
        "id": "2Qi1FrVyV8Rx"
      }
    },
    {
      "cell_type": "code",
      "source": [
        "conteudo = []\n",
        "\n",
        "with open(file='./banco.csv', mode='r', encoding='utf8') as arquivo:\n",
        "  linha = arquivo.readline() # Leitura da primeira linha\n",
        "  while linha:\n",
        "    conteudo.append(linha)\n",
        "    linha = arquivo.readline() # vai lendo e adicionando linhas, até não ter mais uma nova a adicionar\n",
        "    # e então adiciona None como valor final e assim quebra o loop.\n",
        "\n",
        "    print(conteudo)"
      ],
      "metadata": {
        "colab": {
          "base_uri": "https://localhost:8080/"
        },
        "id": "BXdC9bTyXp9q",
        "outputId": "a9b3285d-085e-414d-c9aa-6a6b5b49fd40"
      },
      "execution_count": null,
      "outputs": [
        {
          "output_type": "stream",
          "name": "stdout",
          "text": [
            "['age,job,marital,education,default,balance,housing,loan\\n']\n",
            "['age,job,marital,education,default,balance,housing,loan\\n', '30,unemployed,married,primary,no,1787,no,no\\n']\n",
            "['age,job,marital,education,default,balance,housing,loan\\n', '30,unemployed,married,primary,no,1787,no,no\\n', '33,services,married,secondary,no,4789,yes,yes\\n']\n",
            "['age,job,marital,education,default,balance,housing,loan\\n', '30,unemployed,married,primary,no,1787,no,no\\n', '33,services,married,secondary,no,4789,yes,yes\\n', '35,management,single,tertiary,no,1350,yes,no\\n']\n",
            "['age,job,marital,education,default,balance,housing,loan\\n', '30,unemployed,married,primary,no,1787,no,no\\n', '33,services,married,secondary,no,4789,yes,yes\\n', '35,management,single,tertiary,no,1350,yes,no\\n', '30,management,married,tertiary,no,1476,yes,yes\\n']\n",
            "['age,job,marital,education,default,balance,housing,loan\\n', '30,unemployed,married,primary,no,1787,no,no\\n', '33,services,married,secondary,no,4789,yes,yes\\n', '35,management,single,tertiary,no,1350,yes,no\\n', '30,management,married,tertiary,no,1476,yes,yes\\n', '59,blue-collar,married,secondary,no,0,yes,no\\n']\n",
            "['age,job,marital,education,default,balance,housing,loan\\n', '30,unemployed,married,primary,no,1787,no,no\\n', '33,services,married,secondary,no,4789,yes,yes\\n', '35,management,single,tertiary,no,1350,yes,no\\n', '30,management,married,tertiary,no,1476,yes,yes\\n', '59,blue-collar,married,secondary,no,0,yes,no\\n', '35,management,single,tertiary,no,747,no,no\\n']\n",
            "['age,job,marital,education,default,balance,housing,loan\\n', '30,unemployed,married,primary,no,1787,no,no\\n', '33,services,married,secondary,no,4789,yes,yes\\n', '35,management,single,tertiary,no,1350,yes,no\\n', '30,management,married,tertiary,no,1476,yes,yes\\n', '59,blue-collar,married,secondary,no,0,yes,no\\n', '35,management,single,tertiary,no,747,no,no\\n', '36,self-employed,married,tertiary,no,307,yes,no\\n']\n",
            "['age,job,marital,education,default,balance,housing,loan\\n', '30,unemployed,married,primary,no,1787,no,no\\n', '33,services,married,secondary,no,4789,yes,yes\\n', '35,management,single,tertiary,no,1350,yes,no\\n', '30,management,married,tertiary,no,1476,yes,yes\\n', '59,blue-collar,married,secondary,no,0,yes,no\\n', '35,management,single,tertiary,no,747,no,no\\n', '36,self-employed,married,tertiary,no,307,yes,no\\n', '39,technician,married,secondary,no,147,yes,no\\n']\n",
            "['age,job,marital,education,default,balance,housing,loan\\n', '30,unemployed,married,primary,no,1787,no,no\\n', '33,services,married,secondary,no,4789,yes,yes\\n', '35,management,single,tertiary,no,1350,yes,no\\n', '30,management,married,tertiary,no,1476,yes,yes\\n', '59,blue-collar,married,secondary,no,0,yes,no\\n', '35,management,single,tertiary,no,747,no,no\\n', '36,self-employed,married,tertiary,no,307,yes,no\\n', '39,technician,married,secondary,no,147,yes,no\\n', '41,entrepreneur,married,tertiary,no,221,yes,no\\n']\n",
            "['age,job,marital,education,default,balance,housing,loan\\n', '30,unemployed,married,primary,no,1787,no,no\\n', '33,services,married,secondary,no,4789,yes,yes\\n', '35,management,single,tertiary,no,1350,yes,no\\n', '30,management,married,tertiary,no,1476,yes,yes\\n', '59,blue-collar,married,secondary,no,0,yes,no\\n', '35,management,single,tertiary,no,747,no,no\\n', '36,self-employed,married,tertiary,no,307,yes,no\\n', '39,technician,married,secondary,no,147,yes,no\\n', '41,entrepreneur,married,tertiary,no,221,yes,no\\n', '43,services,married,primary,no,-88,yes,yes\\n']\n"
          ]
        }
      ]
    },
    {
      "cell_type": "code",
      "source": [
        "for linha in conteudo:\n",
        "  print(linha)"
      ],
      "metadata": {
        "colab": {
          "base_uri": "https://localhost:8080/"
        },
        "id": "ALup2LzDY9Rv",
        "outputId": "69cfea56-3b59-4196-ebfd-a8ec431f5051"
      },
      "execution_count": null,
      "outputs": [
        {
          "output_type": "stream",
          "name": "stdout",
          "text": [
            "age,job,marital,education,default,balance,housing,loan\n",
            "\n",
            "30,unemployed,married,primary,no,1787,no,no\n",
            "\n",
            "33,services,married,secondary,no,4789,yes,yes\n",
            "\n",
            "35,management,single,tertiary,no,1350,yes,no\n",
            "\n",
            "30,management,married,tertiary,no,1476,yes,yes\n",
            "\n",
            "59,blue-collar,married,secondary,no,0,yes,no\n",
            "\n",
            "35,management,single,tertiary,no,747,no,no\n",
            "\n",
            "36,self-employed,married,tertiary,no,307,yes,no\n",
            "\n",
            "39,technician,married,secondary,no,147,yes,no\n",
            "\n",
            "41,entrepreneur,married,tertiary,no,221,yes,no\n",
            "\n",
            "43,services,married,primary,no,-88,yes,yes\n",
            "\n"
          ]
        }
      ]
    },
    {
      "cell_type": "markdown",
      "source": [
        "O que vemos no exemplo acima. É o mesmo exemplo de \"read\", porém sendo resolvido com o \"readline\". Nesse caso, após nomearmos o with open nós colocamos como produto, que uma nova variável, a \"linha\", vai receber como valor, uma linha do arquivo usando o \"arquivo.readline()\".\n",
        "\n",
        "E que enquanto existisse uma nova linha com conteúdo a adicionar, era para novas linhas irem sendo adicionadas a variável conteudo, que agora é uma lista para receber estas linhas. Até que não se tenha mais linhas com conteúdo a se adicionar, nesta hora a linha entra com valor None e assim quebra o loop.\n",
        "\n",
        "Para isso usamos o operador \"while\", que é parecido com o \"for\", mas sem depender de um diretório, e sim de uma condição. Está que explicamos acima. Enquanto existir linhas o while executa \"conteudo.append(linha)\" e logo depois \"linha = arquivo.readline()\", para procurar uma nova linha que tenha contaúdo.\n",
        "\n",
        "Depois executamos um for / in das linhas dentro de conatudo e temos o texto completo montado como resultado."
      ],
      "metadata": {
        "id": "8XD9ilxEZNiX"
      }
    },
    {
      "cell_type": "markdown",
      "source": [
        "### **1.4 - exemplo - leitura**"
      ],
      "metadata": {
        "id": "kofEy54VcEHf"
      }
    },
    {
      "cell_type": "markdown",
      "source": [
        "Vamos usar o que aprendemos de escrita até aqui para conseguir extrair os valores de leitura apenas da primeira coluna do nosso arquivo csv (idade).\n",
        "\n",
        "Neste exemplo vamos conhecer um novo operador, o \"split\". Sua função é quebrar uma string usando como separador um caracter a escolha. No nosso exemplo foi a vírgula. Após quebrar a string ele guarda os elementos em uma lista e esta lista vira o valor da variável."
      ],
      "metadata": {
        "id": "Ixcxu9dQcDfK"
      }
    },
    {
      "cell_type": "code",
      "source": [
        "idades = []\n",
        "\n",
        "with open(file='./banco.csv', mode='r', encoding='utf8') as arquivo:\n",
        "  linha = arquivo.readline()\n",
        "  linha = arquivo.readline()\n",
        "  #Executamos duas vezes o readline, para ignorar o cabeçalho da tabela, ele não tem o valor que buscamos.\n",
        "\n",
        "  while linha:\n",
        "    linha_separada = linha.split(sep=',')#O split quebra a string nas virgulas e salva o resultado em uma lista\n",
        "    idade = linha_separada[0]#Com fatiamento selecionamos somente a idade, o primeiro elemento da lista\n",
        "    idade = int(idade)#Agora convertemos esse valor, de string para números inteiros\n",
        "    idades.append(idade)#Salvamos o valor convertido na lista de idades\n",
        "    linha = arquivo.readline()#Lê a linha seguinte do arquivo, se ela não tive conateúdo. Retorna \"None\" e quebra o loop´.\n",
        "\n",
        "    print(idades)"
      ],
      "metadata": {
        "colab": {
          "base_uri": "https://localhost:8080/"
        },
        "id": "8Xg2falqcsDa",
        "outputId": "e099cb66-5383-4a14-ff2f-ded8bea70013"
      },
      "execution_count": null,
      "outputs": [
        {
          "output_type": "stream",
          "name": "stdout",
          "text": [
            "[30]\n",
            "[30, 33]\n",
            "[30, 33, 35]\n",
            "[30, 33, 35, 30]\n",
            "[30, 33, 35, 30, 59]\n",
            "[30, 33, 35, 30, 59, 35]\n",
            "[30, 33, 35, 30, 59, 35, 36]\n",
            "[30, 33, 35, 30, 59, 35, 36, 39]\n",
            "[30, 33, 35, 30, 59, 35, 36, 39, 41]\n",
            "[30, 33, 35, 30, 59, 35, 36, 39, 41, 43]\n"
          ]
        }
      ]
    },
    {
      "cell_type": "markdown",
      "source": [
        "## **2 - Escrita de arquivos**"
      ],
      "metadata": {
        "id": "AkRsxGoIlkpF"
      }
    },
    {
      "cell_type": "markdown",
      "source": [
        "Agora vamos ver como usamos o python para escrever novos arquivos"
      ],
      "metadata": {
        "id": "7wqT4uFElkBB"
      }
    },
    {
      "cell_type": "markdown",
      "source": [
        "### **2.1 - with / open**"
      ],
      "metadata": {
        "id": "f_PUUgzals0q"
      }
    },
    {
      "cell_type": "markdown",
      "source": [
        "repare que a estrutura é a mesma utilizada na leitura de arquivos. Nós vamos continuar trabalhando com o with open. Porém a diferença está no \"mode\"."
      ],
      "metadata": {
        "id": "PWoDcy2klsc9"
      }
    },
    {
      "cell_type": "code",
      "source": [
        "with open(file='caminho do arquivo', mode='modo de leitura/escrita', encoding='decodificador') as <apelido>:\n",
        "  bloco de código\n",
        "\n",
        "  # Os valores que podem ser usados em \"mode\" são:\n",
        "  # r: Abrir o arquivo apenas para leitura, é o padrão.\n",
        "  # w: Abrir o arquivo para escrita, ele sobreescreve o arquivo original.\n",
        "  # a: Abrir o arquivo para acrescimos, apenas adiciona mais textos."
      ],
      "metadata": {
        "id": "Dq6NN0pPnV9O"
      },
      "execution_count": null,
      "outputs": []
    },
    {
      "cell_type": "markdown",
      "source": [
        "Além do \"r\" que já conhecemos da escrita, agora também temos outros dois valores que nos ajudam a criar ou alterar arquivos em python.\n",
        "\n",
        "O \"w\" quando usado, vai criar um novo arquivo para seu texto caso ele não exista. Se existir ele vai substituir com o novo valor, então tem que ser usado com cuidado.\n",
        "\n",
        "O \"a\" também vai criar um novo arquivo caso não exista nenhum, mas se já existir, ele não vai substituir. Ele vai acrescentar o novo valor no texto original a partir da última linha."
      ],
      "metadata": {
        "id": "qlLppmWAoOnM"
      }
    },
    {
      "cell_type": "markdown",
      "source": [
        "### **2.2 - write**"
      ],
      "metadata": {
        "id": "8jJ1ffL6p_NK"
      }
    },
    {
      "cell_type": "markdown",
      "source": [
        "Este é o comando usado para escrever no Python, ele vai trabalhar com os modes \"w\" e \"a\" do with / open. E como mencionado anteriormente, se o arquivo não existir o white vai cria-lo assim que executado. Vamos ver seu funcionamento a partir de um exemplo para cada mode."
      ],
      "metadata": {
        "id": "A3iphTQnp-Cu"
      }
    },
    {
      "cell_type": "markdown",
      "source": [
        "**Modo de escrita com \"w\":**"
      ],
      "metadata": {
        "id": "NLEcLWhJqz5E"
      }
    },
    {
      "cell_type": "code",
      "source": [
        "with open(file='idades.csv', mode='w', encoding='utf8') as fp:\n",
        "  linha = 'idade' + '\\n' #Criando a linha de cabeçalho e usando o \"\\n\" para já pular para alinha seguinte\n",
        "  fp.write(linha)\n",
        "  for idade in idades:\n",
        "    linha = str(idade) + '\\n'\n",
        "    fp.write(linha)"
      ],
      "metadata": {
        "id": "CSjhTlXsq6rt"
      },
      "execution_count": null,
      "outputs": []
    },
    {
      "cell_type": "markdown",
      "source": [
        "Vimos acima que o with open foi configurado com um \"file\" que não existe ainda, então ele será um novo arquivo criado. O mode dele é \"w\", então ele irá sempre sobreescrever o arquivo ao ser manipulado. E esse with open foi nomeado como \"fp\", esta é uma sigla de nomeação muito utilizada e meio que aceita como um padrão, uma boa prática em nomeação deste tipo de arquivo. o fp significa \"file pointer\"."
      ],
      "metadata": {
        "id": "cyGAXe7Yr-kw"
      }
    },
    {
      "cell_type": "markdown",
      "source": [
        "Vimos que neste arquivos de tabela csv, o arquivo sempre começa com um cabeçalho. então vamos criar nossa primeira linha sendo este cabeçalho com \"linha = 'idade' + '\\n'\". O \"\\n \" é para garantir que vamos pular a linha após a criação dela.\n",
        "\n",
        "E então com a variável linha configurada, vamos acessar o nosso \"fp\" criado e com o \".white(linha)\" vamos adicionar a linha ao arquivo."
      ],
      "metadata": {
        "id": "dqWvpJ8rtFqy"
      }
    },
    {
      "cell_type": "markdown",
      "source": [
        "A seguir vamos criar um laço de repetição for / in, utilizando a lista de idades que criamos a pouco tempo como referência. Então para cada \"idade\" existente dentro de \"idades\" será criada uma nova linha, e está linha terá seu valor convertido para uma string com um \"\\n\" para quebra de linha.\n",
        "\n",
        "E essa linha será escrita no arquivo com \"fp.write(linha)\", este processo for / in se repetindo até finalizar os valores de idade disponíveis. Só então todo o arquivo será salvo."
      ],
      "metadata": {
        "id": "5o3un6fNuZPL"
      }
    },
    {
      "cell_type": "markdown",
      "source": [
        "**Modo de excrita com \"a\":**"
      ],
      "metadata": {
        "id": "QCRp2OUFwRp9"
      }
    },
    {
      "cell_type": "markdown",
      "source": [
        "Para demonstrar este modo, vamos usar o mesmo arquivo que acabamos de criar acima. Vamos acessar este arquivo com a estrutura with open, indo ao mesmo caminho, mas com o mode em \"a\". vamos criar apenas um for / in, nele vamos definir que para cada \"idade\" dentro de \"idades\", vamos adicionar uma nova linha com o valor atual + 100. E vamos ver o resultado no arquivo."
      ],
      "metadata": {
        "id": "S2-pN6WZwa-I"
      }
    },
    {
      "cell_type": "code",
      "source": [
        "with open(file='idades.csv', mode='a', encoding='utf8') as fp:\n",
        "  for idade in idades:\n",
        "    linha = str(idade + 100) + '\\n'\n",
        "    fp.write(linha)"
      ],
      "metadata": {
        "id": "39clwJnxxaLj"
      },
      "execution_count": null,
      "outputs": []
    },
    {
      "cell_type": "markdown",
      "source": [
        "### **2.3 - Exemplo - escrita**"
      ],
      "metadata": {
        "id": "ul_gj8gayeTU"
      }
    },
    {
      "cell_type": "markdown",
      "source": [
        "Vamos neste exemplo realizar uma tarefa de copiar o conteúdo de um arquivo e escreve-lo em um novo arquivo. Vamos começar criando um novo arquivo de banco, mas desta vez vamos cria-lo na extenção \".txt\"."
      ],
      "metadata": {
        "id": "x2N-nEUSyqMG"
      }
    },
    {
      "cell_type": "code",
      "source": [
        "%%writefile banco-texto.txt\n",
        "age,job,marital,education,default,balance,housing,loan\n",
        "30,unemployed,married,primary,no,1787,no,no\n",
        "33,services,married,secondary,no,4789,yes,yes\n",
        "35,management,single,tertiary,no,1350,yes,no\n",
        "30,management,married,tertiary,no,1476,yes,yes\n",
        "59,blue-collar,married,secondary,no,0,yes,no\n",
        "35,management,single,tertiary,no,747,no,no\n",
        "36,self-employed,married,tertiary,no,307,yes,no\n",
        "39,technician,married,secondary,no,147,yes,no\n",
        "41,entrepreneur,married,tertiary,no,221,yes,no\n",
        "43,services,married,primary,no,-88,yes,yes"
      ],
      "metadata": {
        "colab": {
          "base_uri": "https://localhost:8080/"
        },
        "id": "QQUVy2kQ0Bi7",
        "outputId": "823f549c-e13e-48ed-c34e-496c40c371b1"
      },
      "execution_count": null,
      "outputs": [
        {
          "output_type": "stream",
          "name": "stdout",
          "text": [
            "Overwriting banco-texto.txt\n"
          ]
        }
      ]
    },
    {
      "cell_type": "markdown",
      "source": [
        "Agora vamos acessar este arquivo por meio de uma estrutura with open de file \"./banco-texto.txt\", \"mode='r'\", e vamos dar a ela o nome de \"leitura\".\n",
        "\n",
        "E ela vai nos retornar um outro with open, mas este com file \"./banco-csv.csv\", o \"mode='w'\" e com o nome de \"escrita\". Este segundo, o \"escrita\", não existe, então quando executarmos o código ele vai ser criado.\n",
        "\n",
        "Nesta estrutura vamos criar a variável linha, nela vamos atribuir o valor da leitura(.read) da primeira linha do arquivo \"banco-texto.txt\". E então vamos iniciar um loop usando o operador \"while\".\n",
        "\n",
        "Neste while, para cada nova linha que possua um conteúdo, esta linha será copiada para o arquivo da estrutura \"escrita\" através do comando: \"escrita.write(linha)\".\n",
        "\n",
        "\n",
        "\n"
      ],
      "metadata": {
        "id": "DCpjHv0C1Pgx"
      }
    },
    {
      "cell_type": "code",
      "source": [
        "with open(file='./banco-texto.txt', mode='r', encoding='utf8') as leitura:# Abertura do arquivo a ser copiado\n",
        "  with open(file='./banco-csv.csv', mode='w', encoding='utf8') as escrita:# Criação do novo arquivo cópia\n",
        "    linha = leitura.readline()# definição da variável que executa a busca das linhas\n",
        "    while linha:\n",
        "      escrita.write(linha)#Comando executado pelo while a cada nova linha, copiando o conteúdo para o arquivo em \"escrita\"\n",
        "      linha = leitura.readline()#Segue uma nova busca até que não se tenha mais linhas con conteúdo."
      ],
      "metadata": {
        "id": "SzPO23SR41dO"
      },
      "execution_count": null,
      "outputs": []
    },
    {
      "cell_type": "markdown",
      "source": [
        "## **3 - funções**"
      ],
      "metadata": {
        "id": "M78Kg_TYbYq6"
      }
    },
    {
      "cell_type": "markdown",
      "source": [
        "Umas das ferramentas mais importantes da linguagem de programação. Ela tem a função de ajudar o programador a reaproveitar blocos de código e suas funcionalidades de maneira rápida e economizando linhas. Deixando assim o projeto mais rápido e leve de processar."
      ],
      "metadata": {
        "id": "XEkLOmebbfho"
      }
    },
    {
      "cell_type": "markdown",
      "source": [
        "### **3.1 - Definição**"
      ],
      "metadata": {
        "id": "qdLhYw94bfv5"
      }
    },
    {
      "cell_type": "markdown",
      "source": [
        "Uma função é basicamente um bloco de código, que pelo próprio nome já diz, tem um \"função\" a ser executada sempre que seu nome for chamado dentro do sistema. Em Python a sua tag de identificação é a \"def\", e logo depois escolhemos um nome para esta nova função. Assim como vimos em with / open, temos que definir alguns parâmetros também e finalizamos essa linha de identificação com \":\". E então criamos o bloco de código e o que ele deve retornar. Veja um exemplo da estrutura abaixo:"
      ],
      "metadata": {
        "id": "Sun9PtwebWqS"
      }
    },
    {
      "cell_type": "code",
      "source": [
        "def nome_da_funcao(parametro_1, parametro_2, ...):\n",
        "  bloco de código\n",
        "  return valor_a_ser_retornado"
      ],
      "metadata": {
        "colab": {
          "base_uri": "https://localhost:8080/",
          "height": 106
        },
        "id": "K_i1QZGQ1ZgO",
        "outputId": "60f6e64c-357b-49c1-d11b-75d4016982fb"
      },
      "execution_count": 22,
      "outputs": [
        {
          "output_type": "error",
          "ename": "SyntaxError",
          "evalue": "invalid syntax (<ipython-input-22-16a067db361d>, line 1)",
          "traceback": [
            "\u001b[0;36m  File \u001b[0;32m\"<ipython-input-22-16a067db361d>\"\u001b[0;36m, line \u001b[0;32m1\u001b[0m\n\u001b[0;31m    def nome_da_funcao(parametro_1, parametro_2, ...):\u001b[0m\n\u001b[0m                                                 ^\u001b[0m\n\u001b[0;31mSyntaxError\u001b[0m\u001b[0;31m:\u001b[0m invalid syntax\n"
          ]
        }
      ]
    },
    {
      "cell_type": "markdown",
      "source": [
        "O \"return\" é mais uma palavra reeservada pela linguagem. As funções devem retornar algo para serem funcionais, e essa resposta vem através do return.\n",
        "\n",
        "E para usar nossas funções, temos de chamar o nome que demos a elas dentro do código, existem maneiras variadas de como fazer. Pode ser como valor de uma variável ou até como parte de contaúdo de uma outra função, mas ela deve ser chamada pelo nome correto, e seus parâmetros devem ser preenchidos dentro dos parenteses."
      ],
      "metadata": {
        "id": "xEJJzFUl2D6z"
      }
    },
    {
      "cell_type": "code",
      "source": [
        "var = nome_da_funcao(parametro_1, parametro_2, ...)"
      ],
      "metadata": {
        "id": "ARbdHbI63RTr"
      },
      "execution_count": null,
      "outputs": []
    },
    {
      "cell_type": "markdown",
      "source": [
        "Desta forma, a chamada de nome vai ativar a função e preencher seus parâmetros com os valores informados na chamada. Os códigos da função serão executados e o valor em return será apresentado para compor o código aonde foi solicitado."
      ],
      "metadata": {
        "id": "dHyoeuKi3Ylr"
      }
    },
    {
      "cell_type": "markdown",
      "source": [
        "**Exemplo:** funções"
      ],
      "metadata": {
        "id": "niQrRPFv37B3"
      }
    },
    {
      "cell_type": "code",
      "source": [
        "def imprime(mensagem: str):\n",
        "  print(mensagem)"
      ],
      "metadata": {
        "id": "6uXJk0s96WYP"
      },
      "execution_count": 23,
      "outputs": []
    },
    {
      "cell_type": "markdown",
      "source": [
        "OBS: Toda a função tem retorno, se ele não é especificado na função. Automáticamente o seu retorno será identificado como nulo(None), pelo sistema."
      ],
      "metadata": {
        "id": "xVloj2CY9wK9"
      }
    },
    {
      "cell_type": "code",
      "source": [
        "texto = 'Fala pessoal, meu nome é André Soares'"
      ],
      "metadata": {
        "id": "ws69J1ca6hbn"
      },
      "execution_count": 24,
      "outputs": []
    },
    {
      "cell_type": "code",
      "source": [
        "imprime(mensagem=texto)"
      ],
      "metadata": {
        "colab": {
          "base_uri": "https://localhost:8080/"
        },
        "id": "E6-LEVPG6o17",
        "outputId": "193843b4-edcf-49fd-bed0-3f0269b6cc02"
      },
      "execution_count": 25,
      "outputs": [
        {
          "output_type": "stream",
          "name": "stdout",
          "text": [
            "Fala pessoal, meu nome é André Soares\n"
          ]
        }
      ]
    },
    {
      "cell_type": "markdown",
      "source": [
        "### **3.2 - Retorno**"
      ],
      "metadata": {
        "id": "8LyT25RR9ot7"
      }
    },
    {
      "cell_type": "markdown",
      "source": [
        "Ele é o objetivo principal de uma função, é o seu valor final. Toda a função tem retorno, se ele não é especificado na função. Automáticamente o seu retorno será identificado como nulo(None), pelo sistema.\n",
        "\n",
        "No entanto, existe uma diferença entre uma função que retorna um valor e uma função que executa uma ação, como imprimir um texto. No exemplo da função \"imprime\", mesmo sem um \"return\", o print ainda foi executado porque o print é uma função que realiza uma ação (impressão na tela) e não depende de retornar um valor para funcionar.\n",
        "\n",
        "O que acontece é que a função executa o que está no seu bloco de código (neste caso, a instrução print) antes de chegar ao fim da sua execução, onde então retornaria None por padrão se não houvesse um \"return\" explícito.\n",
        "\n",
        "Portanto, quando chamamos imprime(), ele executa o print do texto, mas a própria função retorna None, já que não há um retorno explícito."
      ],
      "metadata": {
        "id": "bnD3CsNE9oTi"
      }
    },
    {
      "cell_type": "code",
      "source": [
        "def maiusculo(texto: str) -> str:\n",
        "  texto_maiusculo = texto.upper()\n",
        "  # Lembrando que o upper é o recurso de palavra reservada para tranformar todos os caracteres em maiúsculos\n",
        "  return texto_maiusculo"
      ],
      "metadata": {
        "id": "UsxUi4rKBJwH"
      },
      "execution_count": 5,
      "outputs": []
    },
    {
      "cell_type": "markdown",
      "source": [
        "Especificações de tipagem nas funções não é algo obrigatório, mas é uma boa prática muito recomendada. Para evitar interpretações erradas de quem for usar seus códigos, evitar entrada de valores errados que possam estourar um erro(exceção).\n",
        "\n",
        "Então é bom, como no exemplo acima, explicar o tipo de valor esperado para um parâmetro (param: type). E também o tipo esparado do valor em return, representado por \"-> valortype\".\n",
        "\n",
        "A primeira linha de uma função é muito importante em python e nas outras linguagens de programação exatamente pelo fato de ela informar ao programador o que esperar dela. Ela é conhecida como \"assinatura\"."
      ],
      "metadata": {
        "id": "OvQ8zSNrCLhn"
      }
    },
    {
      "cell_type": "code",
      "source": [
        "nome = 'André Soares'\n",
        "print(nome)\n",
        "\n",
        "nome_maiusculo = maiusculo(texto=nome)\n",
        "print(nome_maiusculo)"
      ],
      "metadata": {
        "colab": {
          "base_uri": "https://localhost:8080/"
        },
        "id": "xFUB-BjGFyCj",
        "outputId": "3f258350-e071-45e0-f995-861b0b2908ec"
      },
      "execution_count": 7,
      "outputs": [
        {
          "output_type": "stream",
          "name": "stdout",
          "text": [
            "André Soares\n",
            "ANDRÉ SOARES\n"
          ]
        }
      ]
    },
    {
      "cell_type": "markdown",
      "source": [
        "Funções também podem ter múltiplos valores de return em uma mesma função. Ao final da função, seu return deve ser declarado desta forma: \"return valor1, valor2\""
      ],
      "metadata": {
        "id": "X0cYs2gKHYT-"
      }
    },
    {
      "cell_type": "code",
      "source": [
        "def extrair_usuario_email_provedor(email: str) -> (str, str):\n",
        "  email_separado = email.split(sep='@') #\".split\" separa uma string a partir se um caracter selecionado.\n",
        "  usuario = email_separado[0]\n",
        "  provedor = email_separado[1]\n",
        "  return usuario, provedor"
      ],
      "metadata": {
        "id": "7tAhSrGuKSrU"
      },
      "execution_count": 9,
      "outputs": []
    },
    {
      "cell_type": "code",
      "source": [
        "email = 'andre.perez@gmail.com'\n",
        "usuario, provedor = extrair_usuario_email_provedor(email=email)\n",
        "print(usuario)\n",
        "print(provedor)"
      ],
      "metadata": {
        "colab": {
          "base_uri": "https://localhost:8080/"
        },
        "id": "BZidn7xLUT-g",
        "outputId": "72fee05f-3db8-40fe-cf25-46f261c26704"
      },
      "execution_count": 10,
      "outputs": [
        {
          "output_type": "stream",
          "name": "stdout",
          "text": [
            "andre.perez\n",
            "gmail.com\n"
          ]
        }
      ]
    },
    {
      "cell_type": "markdown",
      "source": [
        "### **3.3 - Parâmetros**"
      ],
      "metadata": {
        "id": "UomI8tI-e61-"
      }
    },
    {
      "cell_type": "markdown",
      "source": [
        "São o valores que passamos na chamada de uma função para que ela possa realizar o bloco de código dentro dela. Este parâmetros também já estão definidos na assinatura da função desde sua criação. Eles não são obrigatórios, uma função pode ser criada sem a necessidade de parâmetros pré-definidos. Como pode ser visto nesse exemplo abaixo:"
      ],
      "metadata": {
        "id": "ZrnZxlf7e6hB"
      }
    },
    {
      "cell_type": "code",
      "source": [
        "def pi() -> float:\n",
        "  return 3.14159265359"
      ],
      "metadata": {
        "id": "K8OoM-I1gbbS"
      },
      "execution_count": 13,
      "outputs": []
    },
    {
      "cell_type": "code",
      "source": [
        "pi = pi()\n",
        "print(pi)"
      ],
      "metadata": {
        "colab": {
          "base_uri": "https://localhost:8080/"
        },
        "id": "mGkUXPoQgtLu",
        "outputId": "bc3eb231-491d-47d8-e949-5018b587676f"
      },
      "execution_count": 14,
      "outputs": [
        {
          "output_type": "stream",
          "name": "stdout",
          "text": [
            "3.14159265359\n"
          ]
        }
      ]
    },
    {
      "cell_type": "code",
      "source": [
        "def imprime_pi() -> None:\n",
        "  print(3.14159265359)\n",
        "  return None"
      ],
      "metadata": {
        "id": "_eCk90QniHOW"
      },
      "execution_count": 15,
      "outputs": []
    },
    {
      "cell_type": "code",
      "source": [
        "imprime_pi()"
      ],
      "metadata": {
        "colab": {
          "base_uri": "https://localhost:8080/"
        },
        "id": "APqNaVeriZur",
        "outputId": "a88998cc-d2ae-4e60-ddf4-f73eabb3b8ee"
      },
      "execution_count": 16,
      "outputs": [
        {
          "output_type": "stream",
          "name": "stdout",
          "text": [
            "3.14159265359\n"
          ]
        }
      ]
    },
    {
      "cell_type": "markdown",
      "source": [
        "**Exemplo:** Função com parâmetros."
      ],
      "metadata": {
        "id": "Z0xlhiA1ivkS"
      }
    },
    {
      "cell_type": "markdown",
      "source": [
        "Neste exemplo nós vamos fazer uma função relativamente mais completa do que temos visto até agora. E ela também vai usar a funcionalidade with open que vimos anteriormente. Esta função tem a tarefa de criar um arquivo de texto csv.\n",
        "\n",
        "Em sua assinatura definimos o seu nome, seus parâmetros e que ela vai retornar um booleano, para nos informar se ela conseguiu ou não criar o arquivo. E ela também vai usar o try / except para não travar e informar o usuário caso ocorra algum erro."
      ],
      "metadata": {
        "id": "8XX0TFcfmeyB"
      }
    },
    {
      "cell_type": "code",
      "source": [
        "def escreve_arquivo_csv(nome: str, cabecalho: str, conteudos: list) -> bool:\n",
        "  try:\n",
        "\n",
        "    with open(file=nome, mode='w', encoding='utf8') as fp:\n",
        "      linha = cabecalho + '\\n'\n",
        "      fp.write(linha)\n",
        "      for conteudo in conteudos:\n",
        "        linha = str(conteudo) + '\\n'\n",
        "        fp.write(linha)\n",
        "\n",
        "  except Exception as exc:\n",
        "\n",
        "    print(exc)\n",
        "    return False\n",
        "\n",
        "  return True"
      ],
      "metadata": {
        "id": "dfAEEZ31jDxe"
      },
      "execution_count": 19,
      "outputs": []
    },
    {
      "cell_type": "code",
      "source": [
        "nome = 'idades.funcao.csv'\n",
        "cabecalho = 'idade'\n",
        "conteudos = [30, 33, 35, 30, 59, 35, 36, 39, 41, 43]\n",
        "\n",
        "escreveu_com_sucesso = escreve_arquivo_csv(nome=nome, cabecalho=cabecalho, conteudos=conteudos)\n",
        "print(escreveu_com_sucesso)"
      ],
      "metadata": {
        "colab": {
          "base_uri": "https://localhost:8080/"
        },
        "id": "L2i1JztakhgS",
        "outputId": "fecfda16-c3d7-4c0e-a9df-d951f13e05a3"
      },
      "execution_count": 20,
      "outputs": [
        {
          "output_type": "stream",
          "name": "stdout",
          "text": [
            "True\n"
          ]
        }
      ]
    },
    {
      "cell_type": "markdown",
      "source": [
        "### **PRATICA - funções**"
      ],
      "metadata": {
        "id": "tDMqTSG1dp1i"
      }
    },
    {
      "cell_type": "markdown",
      "source": [
        "Imagine que você deve desenvolver para uma empresa que trabalaha com a bolsa de valores, um código para simular o retorno de um investimento em diversos cenários:"
      ],
      "metadata": {
        "id": "QjeDGWr_dppa"
      }
    },
    {
      "cell_type": "code",
      "source": [
        "valor_inicial, taxa_juros_anual, anos = 1000.00, 0.05, 10\n",
        "\n",
        "valor_final = valor_inicial\n",
        "for ano in range(1, anos+1):\n",
        "  valor_final = valor_final * (1 + taxa_juros_anual)\n",
        "valor_final = round(valor_final, 2)\n",
        "print(f'Para um valor inicial de R$ {valor_inicial} e uma taxa de juros anual de {taxa_juros_anual}, em {anos} anos você terá R$ {valor_final}')\n",
        "\n",
        "valor_inicial, taxa_juros_anual, anos = 1020.00, 0.03, 10\n",
        "\n",
        "valor_final = valor_inicial\n",
        "for ano in range(1, anos+1):\n",
        "  valor_final = valor_final * (1 + taxa_juros_anual)\n",
        "valor_final = round(valor_final, 2)\n",
        "print(f'Para um valor inicial de R$ {valor_inicial} e uma taxa de juros anual de {taxa_juros_anual}, em {anos} anos você terá R$ {valor_final}')"
      ],
      "metadata": {
        "colab": {
          "base_uri": "https://localhost:8080/"
        },
        "id": "h8sbfPNiebk3",
        "outputId": "7f8a28c5-56f1-4060-99bb-75418b00ea30"
      },
      "execution_count": null,
      "outputs": [
        {
          "output_type": "stream",
          "name": "stdout",
          "text": [
            "Para um valor inicial de R$ 1000.0 e uma taxa de juros anual de 0.05, em 10 anos você terá R$ 1628.89\n",
            "Para um valor inicial de R$ 1020.0 e uma taxa de juros anual de 0.03, em 10 anos você terá R$ 1370.79\n"
          ]
        }
      ]
    },
    {
      "cell_type": "markdown",
      "source": [
        "Podemos resolver isso com um código de for / in relativamente simples, mas imagine uma situação em que devemos fazer mais de 20 cenários para um único investimento. Seria trabalhoso demais fazer tantas repetições de códigos. Como podemos simplificar isso usando funções?"
      ],
      "metadata": {
        "id": "Wim5-gK5iAD-"
      }
    },
    {
      "cell_type": "markdown",
      "source": [
        "Simplesmente podemos pegar este bloco de código desenvolvido para criar a resposta, e colocar ele dentro de uma função. Esta função sendo chamada, tendo seus parâmetros preenchidos corretamente, retorna o valor. Assim não precisando repetir o bloco de texto do calculo diversas vezes."
      ],
      "metadata": {
        "id": "v2nVxKYqnlej"
      }
    },
    {
      "cell_type": "code",
      "source": [
        "def juros_compostos_anual(valor_inicial: float, taxa_juros_anual: float, anos: int) -> float:\n",
        "  valor_final = valor_inicial\n",
        "  for ano in range(1, anos+1):\n",
        "    valor_final = valor_final * (1 + taxa_juros_anual)\n",
        "  valor_final = round(valor_final, 2)\n",
        "  print(f'Para um valor inicial de R$ {valor_inicial} e uma taxa de juros anual de {taxa_juros_anual}, em {anos} anos você terá R$ {valor_final}')\n",
        "  return valor_final\n",
        "\n",
        "valor_inical = 1000.00\n",
        "taxa_juros_anual = 0.05\n",
        "anos = 10\n",
        "valor_final = juros_compostos_anual(valor_inicial=valor_inical, taxa_juros_anual=taxa_juros_anual, anos=anos)\n",
        "\n",
        "valor_inical = 1020.00\n",
        "taxa_juros_anual = 0.03\n",
        "anos = 10\n",
        "valor_final = juros_compostos_anual(valor_inicial=valor_inical, taxa_juros_anual=taxa_juros_anual, anos=anos)"
      ],
      "metadata": {
        "colab": {
          "base_uri": "https://localhost:8080/"
        },
        "id": "J3aSqaWroOGd",
        "outputId": "f33c71fa-f6a0-45a0-e16a-5e40cbabb624"
      },
      "execution_count": 21,
      "outputs": [
        {
          "output_type": "stream",
          "name": "stdout",
          "text": [
            "Para um valor inicial de R$ 1000.0 e uma taxa de juros anual de 0.05, em 10 anos você terá R$ 1628.89\n",
            "Para um valor inicial de R$ 1020.0 e uma taxa de juros anual de 0.03, em 10 anos você terá R$ 1370.79\n"
          ]
        }
      ]
    },
    {
      "cell_type": "markdown",
      "source": [
        "## **4 - Escopo**"
      ],
      "metadata": {
        "id": "A6cN_6iwrtZD"
      }
    },
    {
      "cell_type": "markdown",
      "source": [
        "O escopo trata sobre o ciclo de vida de uma variável."
      ],
      "metadata": {
        "id": "xTSDKtHMrtGb"
      }
    },
    {
      "cell_type": "markdown",
      "source": [
        "### **4.1 - Definição**"
      ],
      "metadata": {
        "id": "_X5GCdDSr4lJ"
      }
    },
    {
      "cell_type": "markdown",
      "source": [
        "Vamos explicar utilizando este exemplo, temos aqui uma função bem simples. Sua tarefa é pegar todos os elementos de uma lista e soma-los, devolvendo o valor no return.\n",
        "\n",
        "Sua assinatura tem o nome de soma_lista, seu único parâmetro é uma lista de numeros, e se espera o retorno de um número inteiro. Em seu bloco de código definimos a variável \"s\" como 0 de valor inicia.\n",
        "\n",
        "Após isso fazemos um laço for / in que para cada número dentro da lista, ele altera o valor de s para seu valor atual mais o valor do numero atual da lista. Ao final ele retorna esse valor final no return."
      ],
      "metadata": {
        "id": "CObnJnrSr4L2"
      }
    },
    {
      "cell_type": "code",
      "source": [
        "def soma_lista(numeros: list) -> int:\n",
        "  s = 0\n",
        "  for numero in numeros:\n",
        "    s = s + numero\n",
        "  return s"
      ],
      "metadata": {
        "id": "NWSg58MQs_Z-"
      },
      "execution_count": 35,
      "outputs": []
    },
    {
      "cell_type": "markdown",
      "source": [
        "agora criamos uma variável soma e como seu valor vamos chamar a função soma_lista. Um pequeno atalho para quanto temos uma situação em que a lista é composta por diversos valores iguais, é no valor de parâmetro usar \"param=[1] * 10\""
      ],
      "metadata": {
        "id": "oJSnroGRycQP"
      }
    },
    {
      "cell_type": "code",
      "source": [
        "soma = soma_lista(numeros=[1] * 10)\n",
        "print(soma)"
      ],
      "metadata": {
        "colab": {
          "base_uri": "https://localhost:8080/"
        },
        "id": "YU5RZiWutjOi",
        "outputId": "039c988f-74e1-4b57-cdd6-a7559acee8ea"
      },
      "execution_count": 37,
      "outputs": [
        {
          "output_type": "stream",
          "name": "stdout",
          "text": [
            "10\n"
          ]
        }
      ]
    },
    {
      "cell_type": "markdown",
      "source": [
        "Agora se nós tentarmos realizar um print do valor de \"s\" da função soma_lista, vamos receber um erro: NameError: name 's' is not defined. O python não vai achar um valor definido para \"s\" ."
      ],
      "metadata": {
        "id": "lMwobB9ZzE3Z"
      }
    },
    {
      "cell_type": "code",
      "source": [
        "print(s)"
      ],
      "metadata": {
        "colab": {
          "base_uri": "https://localhost:8080/",
          "height": 141
        },
        "id": "oLF5-TNUtxFp",
        "outputId": "4f0a186f-76c3-4c49-e8b2-1031c8604892"
      },
      "execution_count": 38,
      "outputs": [
        {
          "output_type": "error",
          "ename": "NameError",
          "evalue": "name 's' is not defined",
          "traceback": [
            "\u001b[0;31m---------------------------------------------------------------------------\u001b[0m",
            "\u001b[0;31mNameError\u001b[0m                                 Traceback (most recent call last)",
            "\u001b[0;32m<ipython-input-38-0ff1b7208845>\u001b[0m in \u001b[0;36m<cell line: 0>\u001b[0;34m()\u001b[0m\n\u001b[0;32m----> 1\u001b[0;31m \u001b[0mprint\u001b[0m\u001b[0;34m(\u001b[0m\u001b[0ms\u001b[0m\u001b[0;34m)\u001b[0m\u001b[0;34m\u001b[0m\u001b[0;34m\u001b[0m\u001b[0m\n\u001b[0m",
            "\u001b[0;31mNameError\u001b[0m: name 's' is not defined"
          ]
        }
      ]
    },
    {
      "cell_type": "markdown",
      "source": [
        "Isso ocorre por que toda a variável que é definida dentro de uma função, tem seu ciclo de vida fora do código principal. Esse ciclo só existe dentro da função, enquanto ela é executada. A função é chamada, o valor da variável é criado, a função acaba, retorna o que precisa retornar e o valor da variável é eliminado para liberara memória ram."
      ],
      "metadata": {
        "id": "El5kOm4t0L7k"
      }
    },
    {
      "cell_type": "markdown",
      "source": [
        "Escopo de estrutura condicional / repetição."
      ],
      "metadata": {
        "id": "1l6CWxGjt4oy"
      }
    },
    {
      "cell_type": "markdown",
      "source": [
        "Está regra só se aplica dentro de funções, como podemos ver no exemplo abaixo, em comparativos condicionais, você consegue resgatar os valores de sua variáveis sem problemas."
      ],
      "metadata": {
        "id": "SSxYs9dA1XXD"
      }
    },
    {
      "cell_type": "code",
      "source": [
        "if False:\n",
        "  x = 100\n",
        "else:\n",
        "  w = 50\n",
        "\n",
        "print(w)"
      ],
      "metadata": {
        "colab": {
          "base_uri": "https://localhost:8080/"
        },
        "id": "4V96m8b5uFiD",
        "outputId": "d933f0fc-1177-4bfd-a6f4-0f72a0cdcdbd"
      },
      "execution_count": 29,
      "outputs": [
        {
          "output_type": "stream",
          "name": "stdout",
          "text": [
            "50\n"
          ]
        }
      ]
    }
  ]
}