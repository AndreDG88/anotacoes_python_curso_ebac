{
  "nbformat": 4,
  "nbformat_minor": 0,
  "metadata": {
    "colab": {
      "provenance": [],
      "collapsed_sections": [
        "MCZXof43TqnP",
        "RIm2_q2AHItw",
        "SCwmKyfo3N7Z",
        "iBNN8fyd2En3",
        "4PIfq3sxezrU",
        "kyaUAG1xWgpS",
        "-PVGOLYPidbK",
        "fl0ifbwpw2md"
      ],
      "authorship_tag": "ABX9TyOB0IKSP5pjlEQYoG/+5bVx",
      "include_colab_link": true
    },
    "kernelspec": {
      "name": "python3",
      "display_name": "Python 3"
    },
    "language_info": {
      "name": "python"
    }
  },
  "cells": [
    {
      "cell_type": "markdown",
      "metadata": {
        "id": "view-in-github",
        "colab_type": "text"
      },
      "source": [
        "<a href=\"https://colab.research.google.com/github/AndreDG88/anotacoes_python_curso_ebac/blob/main/introducao_linux.ipynb\" target=\"_parent\"><img src=\"https://colab.research.google.com/assets/colab-badge.svg\" alt=\"Open In Colab\"/></a>"
      ]
    },
    {
      "cell_type": "markdown",
      "source": [
        "# **Backend Python**\n"
      ],
      "metadata": {
        "id": "PgcbIwAHvexs"
      }
    },
    {
      "cell_type": "markdown",
      "source": [
        "## **0 - Instalando a máquina virtual**"
      ],
      "metadata": {
        "id": "MCZXof43TqnP"
      }
    },
    {
      "cell_type": "markdown",
      "source": [
        "Para estas aulas, vamos precisar de uma máquina linux virtual. E também é bom para aprendermos como acessar uma máquina de qualquer lugar usando um terminal. Então para começar vamos ver do que precisamos."
      ],
      "metadata": {
        "id": "FAKTtREiTqUy"
      }
    },
    {
      "cell_type": "markdown",
      "source": [
        "### **0.1 - Virtual Box**"
      ],
      "metadata": {
        "id": "Q6tfN1pyUcsv"
      }
    },
    {
      "cell_type": "markdown",
      "source": [
        "Baixe o programa Virtual Box da Oracle, é nele que iremos criar nossa máquina virtual. Sua instalação é bem tranquila.\n",
        "Ele pode ser baixado aqui: https://www.virtualbox.org/"
      ],
      "metadata": {
        "id": "-ih5V39mUcfP"
      }
    },
    {
      "cell_type": "markdown",
      "source": [
        "### **0.2 - ISO de instalação**"
      ],
      "metadata": {
        "id": "GMUOG7dTU_ii"
      }
    },
    {
      "cell_type": "markdown",
      "source": [
        "Geralmente se usaria um sistema linux server para programar, e ele não teria uma irteface gráfica. Mas para as aulas foi sugerido o CentOS, mas ele apresentou muitos problemas. Então segui uma dica e baixei a isso de um sistema mais recente e que rodou sem problemas, o Pop OS. O link: https://system76.com/pop/download/"
      ],
      "metadata": {
        "id": "wFYvqFQ8U_S7"
      }
    },
    {
      "cell_type": "markdown",
      "source": [
        "### **0.3 - Montagem da máquina Virtual**"
      ],
      "metadata": {
        "id": "vWSHeAElVpHt"
      }
    },
    {
      "cell_type": "markdown",
      "source": [
        "Após instalar o virtual Box, inicie ele e na jánela inicial clique no ícone \"Novo\". Na nova janela que abrir, ecolha um nome para sua máquina, mantenha  a pasta padrão. Abaixo ele vai pedir uma iso, aqui você seleciona a ISO do Pop OS.\n",
        "\n",
        "Pule a aba Instalação desassistida e vá para a de Hardware, nela você define memória e processadores como preferir. Ai vamos para a última aba de Disco Rígido. Aqui você define quanto quer separar de espaço para armazenar o sistema, deixe pelo menos 20gb. E então clique em finalizar"
      ],
      "metadata": {
        "id": "jnosL5LQVo31"
      }
    },
    {
      "cell_type": "markdown",
      "source": [
        "A máquina vai estar préviamente montada, e você já vai poder ver a seleção dela na barra lateral esqueda. Inicie ela clicando duas vezes. Ela vai iniciar e vai executar a instalação do sistema. Siga o passo a passo do próprio sistema e tudo vai dar certo."
      ],
      "metadata": {
        "id": "ESKJIpc9W4N9"
      }
    },
    {
      "cell_type": "markdown",
      "source": [
        "### **0.4 - Conecção Remota**"
      ],
      "metadata": {
        "id": "51SuXkU3XTcb"
      }
    },
    {
      "cell_type": "markdown",
      "source": [
        "Aqui vem o problema, se a conecção for por um mac, basta abrir o terminar e digitar um comando. Se você souber o nome de usuário e senha de login, e a máquina estiver ligada, tudo certo. O comando é:\n",
        "\n",
        "**ssh nomeDeUsuário@EndereçoDeIP -p NumeroDAporta**"
      ],
      "metadata": {
        "id": "f9jv00R9XTOR"
      }
    },
    {
      "cell_type": "markdown",
      "source": [
        "Mas se seu sistema for Windows, ele não vem com um terminal propriamente pronto para essa função. Apesar de ter como acessar usando o PowerShell da mesma forma que um mac, foi recomandado usar o PuTTY.\n",
        "\n",
        "O Putty vai nos fazer está conecção, você pode baixar ele aqui: https://www.chiark.greenend.org.uk/~sgtatham/putty/latest.html\n",
        "\n",
        "O Putty é bem fácil de utilizar. Após abrir o mesmo, em Host Name, você colcoa o endereço de IP. Em Port use 22, está é a porta para acessos SSH. Em Saved Sessions, logo abaixo, dê um nome e salve. Para não ter de fazer isso sempre, ai é só depois abrir o Putty e clicar no nome que deu para acessar a máquina.\n",
        "\n",
        "Outro ponto que deve-se ver para evitar problemas é é bem importante. A configuração da rede da máquina virtual. Se ela não estiver bem configurada o Putty não vai funcionar. Eu segui a aula do professor e não deu certo de jeito nenhum. Então eu pesquisei muito e consegui fazer o acesso desta forma:\n",
        "\n",
        "No virtual box, eu fui nas opções da minha máquina virtual, em rede eu configurei o adaptador de rede em placa modo bridge. Assim ela vai espelhar e usar a placa do pc físico para conectar a rede. Também nessa área permiti o uso de VMs.\n",
        "\n",
        "Dentro da máquina virtual, no sistema, eu entrei no terminal e fiz as seguintes alterações:\n",
        "\n",
        "- **ip a:** Para descobrir o ip que será usado na configuração do Putty.\n",
        "\n",
        "- **sudo apt install openssh-server:** Para garantir que a função de conexão SSH vai estar disponível.\n",
        "\n",
        "- **sudo systemctl enable ssh:** Para a máquina sempre iniciar com a função SSH ativa.\n",
        "\n",
        "Após isso, reinicie a máquina virtual e execute o Putty, provavelmente a conexão vai dar certo."
      ],
      "metadata": {
        "id": "iJ3ohzxTYBzg"
      }
    },
    {
      "cell_type": "markdown",
      "source": [
        "## **1 - Introdução ao Linux**"
      ],
      "metadata": {
        "id": "RIm2_q2AHItw"
      }
    },
    {
      "cell_type": "markdown",
      "source": [
        "### **1.0 - Comandos iniciais para operar o terminal via linux**"
      ],
      "metadata": {
        "id": "SCwmKyfo3N7Z"
      }
    },
    {
      "cell_type": "markdown",
      "source": [
        "- **pwd:** Para verificar em que pasta você esta atuando dentro da máquina.\n",
        "\n",
        "- **ll:** Para listar as pastas e itens dentro do diretório em que se encontra.\n",
        "\n",
        "- **ll \"nome da pasta escolhida\"/:** Esse comando lista o nome das pastas e itens dentro da pasta que você chamar. Exemplo: ll Documentos/\n",
        "\n",
        "- **clear:** Comando pala limpar os códigos e retornos escritos no terminal. Ele não deleta e nem anula nada do que você fez, apenas limpa os textos do terminal.\n",
        "\n",
        "- **cd:** O \"cd\" é uma tag de comando para ir da pasta que se encontra atualmente para uma outra, que você informa na hora do comando. Você digita cd + o nome da pasta para onde quer ir. Exemplo: cd Documentos/.\n",
        "\n",
        "- **cd .. :** Caso queira voltar para a pasta anterior a que estava, voltar um nível acima de diretório, use o comando \"cd ..\".\n",
        "\n",
        "- **mkdir:** Este comando serve para criar uma nova pasta dentro da pasta ou diretório em que se encontra. Digite o comando mkdir, seguido do nome que deseja dar a pasta.\n",
        "\n",
        "- **touch \"nome do arquivo.tipo do arquivo\":** Comando para criação de um arquivo, o comando \"touch\" sempre deve ser seguido do nome do arquivo. E junto ao nome, tem que ter a extensão, o tipo do arquivo. Exemplo: touch carro.java\n",
        "\n",
        "- **ps aux:** Esse comando tem a função de inicar um tarefa bem parecida com o gerenciador de tarefas do windows. Ele vai retornar uma lista de funções e operações que a máquina estava executando na hora da chamada de comando."
      ],
      "metadata": {
        "id": "8Gtnp9KGaDz3"
      }
    },
    {
      "cell_type": "markdown",
      "source": [
        "**sudo:** O sudo é uma palavra reservada utilizada no terminal do linux, ela só pode ser utilizada por usuários com o privilégio de administrador do sistema. concede permissões para executar comandos como superusuário (root) utilizando o comando sudo."
      ],
      "metadata": {
        "id": "zFx1tTGjdXxY"
      }
    },
    {
      "cell_type": "markdown",
      "source": [
        "**groups:** Mostra os grupos aos quais o usuário pertence no sistema. No caso da saída \"groups andresoares\" você obteve: andresoares : andresoares adm sudo lpadmin\n",
        "\n",
        "- andresoares: O próprio grupo do usuário, geralmente criado automaticamente quando o usuário é criado.\n",
        "\n",
        "- adm: Grupo que permite ao usuário visualizar logs de administração do sistema (acesso de leitura a arquivos como logs do sistema).\n",
        "\n",
        "- sudo: Esse grupo concede permissões para executar comandos como superusuário (root) utilizando o comando sudo.\n",
        "\n",
        "- lpadmin: Grupo relacionado à administração de impressoras no sistema, permitindo configurar impressoras."
      ],
      "metadata": {
        "id": "mtPkAsrSsUVR"
      }
    },
    {
      "cell_type": "markdown",
      "source": [
        "### **1.1 - Visão Geral das Permissões**"
      ],
      "metadata": {
        "id": "iBNN8fyd2En3"
      }
    },
    {
      "cell_type": "markdown",
      "source": [
        "No Linux, cada arquivo ou diretório tem um conjunto de permissões associadas a ele, que controlam quem pode ler, escrever ou executar o arquivo ou acessar o diretório.\n",
        "\n",
        "Essas permissões são organizadas de forma que existem três tipos de permissões principais:"
      ],
      "metadata": {
        "id": "3klSFIrVaHZk"
      }
    },
    {
      "cell_type": "markdown",
      "source": [
        "- 1 Leitura (read - r): Permite visualizar o conteúdo do arquivo ou listar o conteúdo do diretório.\n",
        "\n",
        "- 2 Gravação (write - w): Permite modificar o arquivo ou adicionar/remover arquivos em um diretório.\n",
        "\n",
        "- 3 Execução (execute - x): Permite executar um arquivo como um programa ou script, ou acessar um diretório."
      ],
      "metadata": {
        "id": "6OumkWRpwZ7k"
      }
    },
    {
      "cell_type": "markdown",
      "source": [
        "Além disso, essas permissões são atribuídas a três entidades diferentes:"
      ],
      "metadata": {
        "id": "olsVSgdwwpdA"
      }
    },
    {
      "cell_type": "markdown",
      "source": [
        "- Proprietário (Owner): O usuário que criou o arquivo ou diretório. O proprietário tem permissões que podem ser definidas de forma independente.\n",
        "\n",
        "- Grupo (Group): Um grupo de usuários que podem compartilhar o acesso ao arquivo ou diretório. Os usuários que pertencem ao mesmo grupo que o arquivo podem ter permissões diferentes dos outros.\n",
        "\n",
        "- Outros (Others): Todos os outros usuários no sistema, que não são o proprietário nem fazem parte do grupo."
      ],
      "metadata": {
        "id": "LaZbCK60wsVJ"
      }
    },
    {
      "cell_type": "markdown",
      "source": [
        "**Estrutura da Representação das Permissões**\n",
        "\n",
        "drwxr-xr-x  2 andresoares andresoares 4096 mar 24 14:11 Documentos/\n",
        "\n",
        "Essa linha representa as permissões de um diretório chamado Documentos. Vamos dividir o que significa cada parte:"
      ],
      "metadata": {
        "id": "9vDME8pCw3uD"
      }
    },
    {
      "cell_type": "markdown",
      "source": [
        "**Explicando o \"drwxr-xr-x\"**\n",
        "\n",
        "**1** Primeira letra (d)\n",
        "\n",
        "- A primeira letra indica o tipo de item:\n",
        "\n",
        "- d: Diretório (directory).\n",
        "\n",
        "- -: Arquivo normal.\n",
        "\n",
        "- l: Link simbólico (symlink)\n",
        "\n",
        "\n",
        "Outros tipos de arquivos podem ser representados por letras diferentes (por exemplo, b para dispositivos de bloco, c para dispositivos de caractere, etc.).\n",
        "\n",
        "\n",
        "**Próximos 9 caracteres (rwxr-xr-x)**\n",
        "\n",
        "As 9 letras seguintes representam as permissões. Elas estão divididas em 3 grupos de 3 caracteres, que indicam as permissões para proprietário, grupo e outros usuários, respectivamente.\n",
        "\n",
        "\n",
        "**2** Grupo 1 (rwx) - Permissões para o proprietário (o usuário que criou o arquivo ou diretório):\n",
        "\n",
        "- r: Permissão de leitura (read). O proprietário pode ler o conteúdo do arquivo ou listar o conteúdo do diretório.\n",
        "\n",
        "- w: Permissão de escrita (write). O proprietário pode modificar o arquivo ou adicionar/remover arquivos no diretório.\n",
        "\n",
        "- x: Permissão de execução (execute). O proprietário pode executar o arquivo como um programa ou acessar o diretório.\n",
        "\n",
        "\n",
        "**3** Grupo 2 (r-x) - Permissões para o grupo (usuários que pertencem ao mesmo grupo que o arquivo ou diretório):\n",
        "\n",
        "- r: Permissão de leitura. O grupo pode ler o conteúdo do arquivo ou listar o conteúdo do diretório.\n",
        "\n",
        "- -: Não há permissão de escrita. O grupo não pode modificar o arquivo nem adicionar/remover arquivos no diretório.\n",
        "\n",
        "- x: Permissão de execução. O grupo pode executar o arquivo ou acessar o diretório.\n",
        "\n",
        "\n",
        "**4** Grupo 3 (r-x) - Permissões para outros usuários (usuários que não são nem o proprietário, nem membros do grupo):\n",
        "\n",
        "- r: Permissão de leitura. Outros usuários podem ler o conteúdo do arquivo ou listar o conteúdo do diretório.\n",
        "\n",
        "- -: Não há permissão de escrita. Outros usuários não podem modificar o arquivo nem adicionar/remover arquivos no diretório.\n",
        "\n",
        "- x: Permissão de execução. Outros usuários podem executar o arquivo ou acessar o diretório."
      ],
      "metadata": {
        "id": "CMm072eOxUL2"
      }
    },
    {
      "cell_type": "markdown",
      "source": [
        "Caso queira **remover uma permissão de um arquivo**, você pode realizar isso através de um comando pelo sudo.\n",
        "\n",
        "sudo chmode g-w nomeDaPastaOuArquivo\n",
        "\n",
        "Este comando está removendo do grupo a permissão de escrita do arquivo. Após executar o comando, será pedido a senha de administrador. E então a modificação vai ser executada."
      ],
      "metadata": {
        "id": "QOLOmUJJyTZX"
      }
    },
    {
      "cell_type": "markdown",
      "source": [
        "**Comandos para Modificar Permissões**\n",
        "Você pode usar o comando chmod para alterar as permissões de um arquivo ou diretório. Existem duas formas principais de fazer isso:\n",
        "\n",
        "**Modo simbólico:** Você usa letras para representar as permissões.\n",
        "\n",
        "Por exemplo, para adicionar permissão de escrita ao grupo:\n",
        "\n",
        "- **chmod g+w arquivo.txt**\n",
        "\n",
        "Para remover a permissão de execução para \"outros\":\n",
        "\n",
        "- **chmod o-x arquivo.txt**\n",
        "\n",
        "**Modo numérico:** As permissões são representadas por números, onde:\n",
        "\n",
        "- r = 4\n",
        "\n",
        "- w = 2\n",
        "\n",
        "- x = 1\n",
        "\n",
        "- . - = 0\n",
        "\n",
        "Para definir permissões, você soma os valores para cada grupo. Por exemplo:\n",
        "\n",
        "chmod 755 arquivo.txt:\n",
        "\n",
        "7 para o proprietário (rwx = 4 + 2 + 1 = 7).\n",
        "\n",
        "5 para o grupo (r-x = 4 + 0 + 1 = 5).\n",
        "\n",
        "5 para outros (r-x = 4 + 0 + 1 = 5).\n",
        "\n",
        "Esse comando faz com que o proprietário tenha permissões de leitura, escrita e execução, enquanto o grupo e outros usuários tenham permissões de leitura e execução.\n",
        "\n",
        "**Resumindo**\n",
        "As permissões de arquivos e diretórios no Linux são essenciais para controlar quem pode acessar e modificar os dados no sistema. A forma de exibição das permissões é detalhada e segue um formato claro, onde as permissões de leitura, escrita e execução são atribuídas ao proprietário, grupo e outros usuários de maneira individual.\n",
        "\n",
        "Compreender e configurar corretamente as permissões é crucial para garantir a segurança e o bom funcionamento do sistema Linux."
      ],
      "metadata": {
        "id": "FPcOtxEfzsFs"
      }
    },
    {
      "cell_type": "markdown",
      "source": [
        "### **1.2 - Editar arquivos utilizando vi e vim**"
      ],
      "metadata": {
        "id": "4PIfq3sxezrU"
      }
    },
    {
      "cell_type": "markdown",
      "source": [
        "Os editores de texto **vi** e **vim** são ferramentas amplamente utilizadas em sistemas Linux e Unix para editar arquivos diretamente no terminal. Ambos são poderosos e eficientes, mas possuem algumas diferenças importantes. Vou te dar uma visão geral sobre cada um deles e as principais diferenças entre eles."
      ],
      "metadata": {
        "id": "amIa-3LQuoSJ"
      }
    },
    {
      "cell_type": "markdown",
      "source": [
        "####1. **O que é o vi?**\n",
        "O vi (visual editor) é um editor de texto criado por Bill Joy em 1976 para o sistema operacional Unix. Ele se tornou o editor padrão em muitas distribuições Unix e, por isso, é encontrado em praticamente todos os sistemas Linux e Unix.\n",
        "\n",
        "O vi tem uma abordagem diferente da maioria dos editores de texto gráficos ou baseados em menus, e sua interface é baseada em modos."
      ],
      "metadata": {
        "id": "8Q36znFr4CZQ"
      }
    },
    {
      "cell_type": "markdown",
      "source": [
        "**Modos do vi**\n",
        "\n",
        "O vi funciona com diferentes modos de operação, que definem como ele interage com o usuário:\n",
        "\n",
        "Modo Normal (ou Comando): Este é o modo inicial ao abrir o vi. Nesse modo, você pode mover o cursor, excluir ou copiar texto, entre outras ações. Não se pode inserir ou alterar texto diretamente nesse modo.\n",
        "\n",
        "Exemplo de comandos no Modo Normal:\n",
        "\n",
        "- h (mover para a esquerda)\n",
        "\n",
        "- j (mover para baixo)\n",
        "\n",
        "- k (mover para cima)\n",
        "\n",
        "- l (mover para a direita)\n",
        "\n",
        "- dd (deletar uma linha)\n",
        "\n",
        "- yy (copiar uma linha)\n",
        "\n",
        "- p (colar o conteúdo copiado)"
      ],
      "metadata": {
        "id": "lYz6Vpjt4I6Q"
      }
    },
    {
      "cell_type": "markdown",
      "source": [
        "**Modo de Inserção:**\n",
        "\n",
        "Nesse modo, você pode digitar e editar texto diretamente no arquivo, como se fosse um editor de texto tradicional. Para entrar nesse modo, basta pressionar a tecla i (ou a, o e outras opções).\n",
        "\n",
        "Exemplo:\n",
        "\n",
        "- Pressione i para começar a inserir texto à esquerda do cursor.\n",
        "\n",
        "- Pressione Esc para voltar ao Modo Normal."
      ],
      "metadata": {
        "id": "wk1ncOMG4e5x"
      }
    },
    {
      "cell_type": "markdown",
      "source": [
        "**Modo de Comando:**\n",
        "\n",
        "No modo normal, ao pressionar dois pontos : você entra no modo de comando, onde pode executar comandos como salvar, sair do arquivo, buscar texto, etc.\n",
        "\n",
        "Exemplos de comandos no Modo de Comando:\n",
        "\n",
        "- :w (salvar o arquivo)\n",
        "\n",
        "- :q (sair do editor)\n",
        "\n",
        "- :wq (salvar e sair)\n",
        "\n",
        "- :q! (sair sem salvar)\n",
        "\n",
        "- :set number (mostrar números das linhas)"
      ],
      "metadata": {
        "id": "KEROhF4I-Ide"
      }
    },
    {
      "cell_type": "markdown",
      "source": [
        "**Exemplo básico de uso do vi:**\n",
        "Para abrir um arquivo no vi:\n",
        "\n",
        "vi arquivo.txt\n",
        "\n",
        "- No Modo Normal, para começar a editar o arquivo, pressione i para entrar no Modo de Inserção.\n",
        "\n",
        "- Para salvar e sair, pressione Esc para voltar ao Modo Normal e digite :wq.\n",
        "\n"
      ],
      "metadata": {
        "id": "iZUX7EnD-UWK"
      }
    },
    {
      "cell_type": "markdown",
      "source": [
        "####**Diferenças entre o vi e o vim**\n",
        "\n",
        "**1 Funcionalidades Adicionais:** O vim traz várias funcionalidades extras, como:\n",
        "\n",
        "- Suporte a múltiplos arquivos (comandos como :e para editar outro arquivo).\n",
        "\n",
        "- Suporte a destaque de sintaxe para várias linguagens de programação.\n",
        "\n",
        "- Autocomplete (com plugins ou configurações, o que ajuda muito no desenvolvimento de software).\n",
        "\n",
        "- Undo/Redo melhorados, permitindo múltiplos níveis de desfazer e refazer (u e Ctrl + r).\n",
        "\n",
        "- Busca e substituição mais poderosa.\n",
        "\n",
        "**2 Interface Melhorada**: O vim oferece uma interface mais rica, com recursos como:\n",
        "\n",
        "- Exibição de números de linha (basta digitar :set number).\n",
        "\n",
        "- Destaque de sintaxe para facilitar a leitura e escrita de código.\n",
        "\n",
        "- Melhor suporte para a personalização do comportamento e aparência do editor.\n",
        "\n",
        "**3 Suporte a Plugins:** O vim tem suporte robusto a plugins e scripts, o que permite personalizar profundamente o editor. Existem muitos plugins úteis, como para controle de versão (Git), autocompletar código, gerenciamento de projetos, etc.\n",
        "\n",
        "**4 Melhoria no sistema de ajuda:** O vim possui um sistema de ajuda mais detalhado e interativo. Para acessar a ajuda, basta digitar :help."
      ],
      "metadata": {
        "id": "iM86B_Bs-jM3"
      }
    },
    {
      "cell_type": "markdown",
      "source": [
        "####**Modos do vim**\n",
        "\n",
        "Os modos de operação do vim são muito semelhantes aos do vi. Ele também opera nos três principais modos:\n",
        "\n",
        "- **1 Modo Normal:** Permite navegar pelo texto e executar comandos como deletar, copiar e mover o cursor.\n",
        "\n",
        "- **2 Modo de Inserção:** Permite inserir e editar o texto.\n",
        "\n",
        "- **3 Modo de Comando:** Onde você pode salvar, sair, buscar texto, e mais. O vim oferece comandos adicionais no modo de comando, como :split para dividir a tela ou :tabnew para abrir uma nova aba."
      ],
      "metadata": {
        "id": "Yf24F8dy_MYz"
      }
    },
    {
      "cell_type": "markdown",
      "source": [
        "**Comandos básicos no vim**\n",
        "\n",
        "**Abrir arquivo:**\n",
        "\n",
        "vim arquivo.txt\n",
        "\n",
        "- Entrar no modo de inserção (para começar a editar): Pressione i para inserir antes do cursor ou a para inserir após o cursor.\n",
        "\n",
        "- Salvar o arquivo: No Modo Normal, digite :w e pressione Enter.\n",
        "\n",
        "- Sair do vim: No Modo Normal, digite :q e pressione Enter. Se tiver feito alterações e quiser sair sem salvar, use :q!.\n",
        "\n",
        "- Salvar e sair: No Modo Normal, digite :wq ou ZZ (em maiúsculas) e pressione Enter.\n",
        "\n",
        "- Desfazer uma ação: No Modo Normal, digite u.\n",
        "\n",
        "- Refazer uma ação: No Modo Normal, pressione Ctrl + r.\n",
        "\n",
        "- Buscar texto: No Modo Normal, digite :/termo para procurar por \"termo\" no arquivo."
      ],
      "metadata": {
        "id": "JI0LnPcJ_m5T"
      }
    },
    {
      "cell_type": "markdown",
      "source": [
        "**Dicas de Uso**\n",
        "\n",
        "- **Para iniciantes**, o vim pode parecer difícil de usar no início, mas vale a pena aprender porque ele é altamente eficiente. É possível configurar o vim de forma que ele se torne um editor poderoso para programação, edição de textos e administração de sistemas.\n",
        "\n",
        "- **Configurações:** O arquivo de configuração do vim é chamado .vimrc. Ele pode ser usado para definir atalhos personalizados, temas de cores, entre outras opções."
      ],
      "metadata": {
        "id": "VRjA3yGG_39v"
      }
    },
    {
      "cell_type": "markdown",
      "source": [
        "**Resumo**\n",
        "\n",
        "- vi é o editor de texto original, simples e funcional, criado para sistemas Unix.\n",
        "\n",
        "- vim é uma versão aprimorada do vi, com mais recursos, como destaque de sintaxe, plugins, e um sistema de ajuda mais detalhado.\n",
        "\n",
        "- Ambos os editores operam em modos (normal, inserção, comando) e são altamente eficientes, embora o vim seja mais poderoso e configurável.\n",
        "\n",
        "Ambos são essenciais para quem trabalha em ambientes Linux/Unix, especialmente em situações onde você precisa editar arquivos em um servidor remoto ou em sistemas sem interface gráfica. Se você aprender a usá-los, poderá editar arquivos com rapidez e eficiência no terminal."
      ],
      "metadata": {
        "id": "iUv4nzt6AA7c"
      }
    },
    {
      "cell_type": "markdown",
      "source": [
        "### **1.3 - Editar arquivos utilizando nano**"
      ],
      "metadata": {
        "id": "kyaUAG1xWgpS"
      }
    },
    {
      "cell_type": "markdown",
      "source": [
        "**O que é o Nano?**\n",
        "\n",
        "O Nano é um editor de texto que permite editar arquivos diretamente no terminal. Ele é muito leve, rápido e não requer uma interface gráfica, o que o torna ideal para edições rápidas de configurações de sistema, scripts, entre outros arquivos de texto no Linux."
      ],
      "metadata": {
        "id": "orWzVZ18WgEk"
      }
    },
    {
      "cell_type": "markdown",
      "source": [
        "**Como usar o Nano?**\n",
        "\n",
        "Para abrir um arquivo existente ou criar um novo arquivo, use o comando:\n",
        "\n",
        "**nano nome_do_arquivo**\n",
        "\n",
        "Obs: Se o arquivo não existir, o Nano cria um novo arquivo com esse nome."
      ],
      "metadata": {
        "id": "3Os9o0dKYXPq"
      }
    },
    {
      "cell_type": "markdown",
      "source": [
        "**Editar o arquivo:**\n",
        "\n",
        "Após abrir o arquivo no Nano, você pode começar a digitar e editar o conteúdo normalmente. O Nano funciona de maneira semelhante a outros editores de texto, mas sem a necessidade de mouse."
      ],
      "metadata": {
        "id": "o2MR_mbKZHvU"
      }
    },
    {
      "cell_type": "markdown",
      "source": [
        "**Comandos básicos no Nano:**\n",
        "\n",
        "No Nano, os comandos são feitos utilizando combinações de teclas **Ctrl (Control) +** uma tecla específica. A lista de comandos mais comuns é exibida na parte inferior da tela do Nano."
      ],
      "metadata": {
        "id": "ZCBI1TnJZM-o"
      }
    },
    {
      "cell_type": "markdown",
      "source": [
        "Aqui estão alguns dos principais comandos:\n",
        "\n",
        "- Ctrl + O: Salva o arquivo. O Nano irá pedir o nome do arquivo para salvar.\n",
        "\n",
        "- Ctrl + X: Sai do Nano. Se o arquivo foi modificado, o Nano perguntará se você deseja salvar as alterações antes de sair.\n",
        "\n",
        "- Ctrl + K: Corta a linha em que o cursor está.\n",
        "\n",
        "- Ctrl + U: Cola a linha que foi cortada.\n",
        "\n",
        "- Ctrl + W: Busca por uma palavra ou string no arquivo.\n",
        "\n",
        "- Ctrl + C: Mostra a posição atual do cursor (linha e coluna)."
      ],
      "metadata": {
        "id": "5TockIC9ZWXU"
      }
    },
    {
      "cell_type": "markdown",
      "source": [
        "**Salvar o arquivo:**\n",
        "\n",
        "- Para salvar o arquivo após editar, pressione Ctrl + O.\n",
        "\n",
        "- O Nano pedirá para você confirmar o nome do arquivo. Pressione Enter para salvar com o nome atual ou altere o nome antes de pressionar Enter."
      ],
      "metadata": {
        "id": "Gyy8jt7wZua6"
      }
    },
    {
      "cell_type": "markdown",
      "source": [
        "**Sair do Nano:**\n",
        "\n",
        "- Para sair do Nano, pressione Ctrl + X.\n",
        "\n",
        "- Se você tiver feito alterações no arquivo, o Nano perguntará se deseja salvar. Se você responder \"Sim\" (pressionando Y), ele pedirá para confirmar o nome do arquivo."
      ],
      "metadata": {
        "id": "DD9DxJOnZ2e1"
      }
    },
    {
      "cell_type": "markdown",
      "source": [
        "**Dicas adicionais:**\n",
        "\n",
        "- Para desfazer mudanças, o Nano não tem um comando de \"desfazer\" nativo. Porém, você pode copiar e colar partes do texto para tentar reverter alterações.\n",
        "\n",
        "- **Caso** você queira ver mais comandos ou aprender sobre outras funcionalidades, pressione **Ctrl + G** para acessar o manual de ajuda dentro do Nano."
      ],
      "metadata": {
        "id": "vhK1wR5FZ_f1"
      }
    },
    {
      "cell_type": "markdown",
      "source": [
        "**Resumo de comandos importantes:**\n",
        "\n",
        "- Ctrl + O: Salvar\n",
        "\n",
        "- Ctrl + X: Sair\n",
        "\n",
        "- Ctrl + W: Buscar\n",
        "\n",
        "- Ctrl + K: Cortar\n",
        "\n",
        "- Ctrl + U: Colar\n",
        "\n",
        "Com esses comandos e dicas, você já consegue usar o Nano para editar arquivos de maneira eficiente! Se precisar de algo mais específico, fique à vontade para perguntar."
      ],
      "metadata": {
        "id": "hkdxBV1pf8z0"
      }
    },
    {
      "cell_type": "markdown",
      "source": [
        "### **1.4 - Copiar, mover e deletar arquivos e diretórios**"
      ],
      "metadata": {
        "id": "-PVGOLYPidbK"
      }
    },
    {
      "cell_type": "markdown",
      "source": [
        "####**1. Copiar arquivos e diretórios:**\n",
        "\n",
        "O comando utilizado para copiar arquivos e diretórios é o cp (copy)."
      ],
      "metadata": {
        "id": "jBgooiBdidHd"
      }
    },
    {
      "cell_type": "markdown",
      "source": [
        "**Copiar arquivos:**\n",
        "\n",
        "Para copiar um arquivo, a sintaxe básica é:\n",
        "- cp [origem] [destino]\n",
        "\n",
        "**Exemplo:** Para copiar o arquivo documento.txt para o diretório backup\n",
        "\n",
        "- cp documento.txt backup/\n",
        "\n",
        "Se você quiser dar um novo nome para o arquivo copiado:\n",
        "\n",
        "- cp documento.txt backup/novo_documento.txt"
      ],
      "metadata": {
        "id": "OzeWe7f0i1NV"
      }
    },
    {
      "cell_type": "markdown",
      "source": [
        "**Copiar diretórios:**\n",
        "\n",
        "Para copiar diretórios (e o conteúdo dentro deles), você precisa usar a opção -r (recursivo):\n",
        "\n",
        "- cp -r [origem] [destino]\n",
        "\n",
        "**Exemplo:** Para copiar o diretório meus_arquivos para o diretório backup:\n",
        "\n",
        "- cp -r meus_arquivos/ backup/"
      ],
      "metadata": {
        "id": "H8RJPyNXjX29"
      }
    },
    {
      "cell_type": "markdown",
      "source": [
        "####**2. Mover ou renomear arquivos e diretórios:**\n",
        "\n",
        "O comando utilizado para mover ou renomear arquivos e diretórios é o mv (move)."
      ],
      "metadata": {
        "id": "zhGzUbp5jx6h"
      }
    },
    {
      "cell_type": "markdown",
      "source": [
        "**Mover arquivos:**\n",
        "\n",
        "Para mover um arquivo para um diretório, use:\n",
        "\n",
        "- mv [origem] [destino]\n",
        "\n",
        "Exemplo:Para mover o arquivo documento.txt para o diretório backup:\n",
        "\n",
        "- mv documento.txt backup/"
      ],
      "metadata": {
        "id": "DPj7QfDdk-Uq"
      }
    },
    {
      "cell_type": "markdown",
      "source": [
        "**Renomear arquivos:**\n",
        "\n",
        "Você também pode usar o mv para renomear um arquivo. A sintaxe seria:\n",
        "\n",
        "- mv [arquivo_antigo] [novo_nome]\n",
        "\n",
        "Exemplo: Para renomear documento.txt para novo_documento.txt:\n",
        "\n",
        "- mv documento.txt novo_documento.txt"
      ],
      "metadata": {
        "id": "66mrlRqtlNuT"
      }
    },
    {
      "cell_type": "markdown",
      "source": [
        "**Mover diretórios:**\n",
        "\n",
        "O mesmo comando mv é usado para mover diretórios.\n",
        "\n",
        "Exemplo:Para mover o diretório meus_arquivos para o diretório backup:\n",
        "\n",
        "- mv meus_arquivos/ backup/"
      ],
      "metadata": {
        "id": "YDphd-NVlYOJ"
      }
    },
    {
      "cell_type": "markdown",
      "source": [
        "####**3. Deletar arquivos e diretórios:**\n",
        "O comando utilizado para deletar arquivos e diretórios é o rm (remove)."
      ],
      "metadata": {
        "id": "2RXX_j1ElpmA"
      }
    },
    {
      "cell_type": "markdown",
      "source": [
        "**Deletar arquivos:**\n",
        "\n",
        "Para deletar um arquivo, a sintaxe básica é:\n",
        "\n",
        "- rm [arquivo]\n",
        "\n",
        "Exemplo: Para deletar o arquivo documento.txt:\n",
        "\n",
        "- rm documento.txt"
      ],
      "metadata": {
        "id": "EZPdVBPVlz_8"
      }
    },
    {
      "cell_type": "markdown",
      "source": [
        "**Deletar diretórios:**\n",
        "\n",
        "Se você quiser deletar um diretório, use a opção -r (recursivo). Isso vai deletar o diretório e todo o seu conteúdo:\n",
        "\n",
        "- rm -r [diretório]\n",
        "\n",
        "Exemplo: Para deletar o diretório meus_arquivos e tudo que está dentro dele:\n",
        "\n",
        "- rm -r meus_arquivos/"
      ],
      "metadata": {
        "id": "Vt30frtbmEf3"
      }
    },
    {
      "cell_type": "markdown",
      "source": [
        "**Deletar diretórios e arquivos sem confirmação:**\n",
        "\n",
        "Se você quiser forçar a exclusão sem que o sistema peça confirmação (por exemplo, para arquivos de sistema ou arquivos somente leitura), use a opção -f (force):\n",
        "\n",
        "- rm -rf [diretório_ou_arquivo]\n",
        "\n",
        "Exemplo: Para forçar a exclusão do diretório meus_arquivos:\n",
        "\n",
        "- rm -rf meus_arquivos/"
      ],
      "metadata": {
        "id": "2imVGFe3mP71"
      }
    },
    {
      "cell_type": "markdown",
      "source": [
        "**Resumo dos comandos:**\n",
        "\n",
        "- Copiar arquivo: cp [origem] [destino]\n",
        "\n",
        "- Copiar diretório: cp -r [origem] [destino]\n",
        "\n",
        "- Mover/renomear arquivo: mv [origem] [destino]\n",
        "\n",
        "- Mover diretório: mv [origem] [destino]\n",
        "\n",
        "- Deletar arquivo: rm [arquivo]\n",
        "\n",
        "- Deletar diretório: rm -r [diretório]\n",
        "\n",
        "- Deletar diretório e arquivo forçado: rm -rf [diretório_ou_arquivo]"
      ],
      "metadata": {
        "id": "c52vlxfamkPX"
      }
    },
    {
      "cell_type": "markdown",
      "source": [
        "**Cuidado!**\n",
        "\n",
        "Usar os comandos de deletar (como rm e rm -rf) pode apagar permanentemente arquivos e diretórios sem a possibilidade de recuperação. Sempre verifique duas vezes antes de executar esses comandos."
      ],
      "metadata": {
        "id": "ZXFMqkHXmwk2"
      }
    },
    {
      "cell_type": "markdown",
      "source": [
        "### **1.5 - Como instalar e remover Softwares utilizando a linha de comando**"
      ],
      "metadata": {
        "id": "6OrzTUkP_lhP"
      }
    },
    {
      "cell_type": "markdown",
      "source": [
        "####**1. Para distribuições baseadas no Debian/Ubuntu:**\n",
        "No Pop!_OS, Ubuntu, Linux Mint, etc., o gerenciador de pacotes é o APT (Advanced Package Tool)."
      ],
      "metadata": {
        "id": "xtjmfHxJ_pKi"
      }
    },
    {
      "cell_type": "markdown",
      "source": [
        "**1. Instalar Software**\n",
        "\n",
        "Para instalar um software, você usa o comando apt. A sintaxe básica é:\n",
        "\n",
        "- sudo apt update            # Atualiza a lista de pacotes disponíveis\n",
        "\n",
        "- sudo apt install [nome_do_pacote]  # Instala o pacote\n",
        "\n",
        "Exemplo: Para instalar o vim (editor de texto):\n",
        "\n",
        "- sudo apt update\n",
        "- sudo apt install vim"
      ],
      "metadata": {
        "id": "gfDr_Xuf_o8a"
      }
    },
    {
      "cell_type": "markdown",
      "source": [
        "**2. Remover Software**\n",
        "\n",
        "Para remover um software, você usa o comando apt remove. A sintaxe é:\n",
        "\n",
        "- sudo apt remove [nome_do_pacote]   # Remove o pacote, mas deixa os arquivos de configuração\n",
        "\n",
        "Se você quiser remover completamente o pacote, incluindo os arquivos de configuração, use:\n",
        "\n",
        "- sudo apt purge [nome_do_pacote]   # Remove o pacote e seus arquivos de configuração\n",
        "\n",
        "Exemplo: Para remover o vim:\n",
        "\n",
        "- sudo apt remove vim\n",
        "Ou para remover o vim e também os arquivos de configuração:\n",
        "\n",
        "- sudo apt purge vim"
      ],
      "metadata": {
        "id": "ozjehLVDCJIw"
      }
    },
    {
      "cell_type": "markdown",
      "source": [
        "**3. Limpar pacotes não utilizados**\n",
        "\n",
        "Após remover pacotes, podem restar dependências ou arquivos desnecessários. Para limpar o sistema de pacotes não utilizados, você pode usar:\n",
        "\n",
        "- sudo apt autoremove           # Remove pacotes desnecessários\n",
        "- sudo apt clean                # Limpa o cache de pacotes baixados"
      ],
      "metadata": {
        "id": "Yhi7IsCICihB"
      }
    },
    {
      "cell_type": "markdown",
      "source": [
        "####**2. Para distribuições baseadas no Red Hat (CentOS, Fedora, RHEL)**\n",
        "No CentOS, Fedora e outras distribuições baseadas no Red Hat, o gerenciador de pacotes é o DNF ou o YUM."
      ],
      "metadata": {
        "id": "wg--7M6yC5nl"
      }
    },
    {
      "cell_type": "markdown",
      "source": [
        "**1. Instalar Software**\n",
        "\n",
        "Para instalar um software, você usa o comando dnf ou yum. A sintaxe básica é:\n",
        "\n",
        "- sudo dnf install [nome_do_pacote]   # Usando DNF\n",
        "\n",
        "Ou, para versões mais antigas de CentOS:\n",
        "\n",
        "- sudo yum install [nome_do_pacote]   # Usando YUM\n",
        "\n",
        "Exemplo: Para instalar o vim no CentOS/Fedora:\n",
        "\n",
        "- sudo dnf install vim   # Usando DNF (Fedora, versões mais novas)\n",
        "\n",
        "Ou:\n",
        "\n",
        "- sudo yum install vim   # Usando YUM (CentOS, versões mais antigas)"
      ],
      "metadata": {
        "id": "JcO7crB5C5UO"
      }
    },
    {
      "cell_type": "markdown",
      "source": [
        "**2. Remover Software**\n",
        "\n",
        "Para remover um software, use o comando dnf remove ou yum remove.\n",
        "\n",
        "- sudo dnf remove [nome_do_pacote]    # Usando DNF\n",
        "\n",
        "Ou:\n",
        "\n",
        "- sudo yum remove [nome_do_pacote]    # Usando YUM\n",
        "\n",
        "Exemplo: Para remover o vim:\n",
        "\n",
        "- sudo dnf remove vim    # Usando DNF (Fedora, versões mais novas)\n",
        "\n",
        "Ou:\n",
        "\n",
        "- sudo yum remove vim    # Usando YUM (CentOS, versões mais antigas)"
      ],
      "metadata": {
        "id": "s8QIdiWQEnLp"
      }
    },
    {
      "cell_type": "markdown",
      "source": [
        "**3. Limpar pacotes não utilizados**\n",
        "\n",
        "Para remover pacotes desnecessários ou limpar o cache:\n",
        "\n",
        "- sudo dnf autoremove       # Limpa pacotes não utilizados\n",
        "- sudo dnf clean all        # Limpa o cache\n",
        "\n",
        "Ou, se você estiver usando o YUM:\n",
        "\n",
        "- sudo yum autoremove       # Limpa pacotes não utilizados\n",
        "- sudo yum clean all        # Limpa o cache"
      ],
      "metadata": {
        "id": "RESDAyswE6qs"
      }
    },
    {
      "cell_type": "markdown",
      "source": [
        "## **2 - Servidores de Aplicação**"
      ],
      "metadata": {
        "id": "biOnJ32Owv-q"
      }
    },
    {
      "cell_type": "markdown",
      "source": [
        "Servidores de aplicação são softwares que oferecem a infraestrutura necessária para que aplicativos possam ser executados. Eles fornecem serviços como gerenciamento de conexões, controle de transações, segurança, e podem atuar como intermediários entre o usuário final e os recursos do servidor. Em outras palavras, um servidor de aplicação gerencia a execução de programas de negócios, aplicativos web ou sistemas em redes."
      ],
      "metadata": {
        "id": "v41kpqgAw2QW"
      }
    },
    {
      "cell_type": "markdown",
      "source": [
        "Esses servidores suportam a execução de diversos tipos de serviços, como servidores de páginas web dinâmicas (por exemplo, através de frameworks como Django, Node.js, Spring), servidores de banco de dados e servidores de APIs, entre outros. A principal função de um servidor de aplicação é receber requisições, processá-las, e enviar a resposta de volta ao cliente."
      ],
      "metadata": {
        "id": "qA-mzXj3xLaj"
      }
    },
    {
      "cell_type": "markdown",
      "source": [
        "### **2.1 - Diferença entre Servidor Assíncrono e Não Assíncrono**"
      ],
      "metadata": {
        "id": "fl0ifbwpw2md"
      }
    },
    {
      "cell_type": "markdown",
      "source": [
        "####1. Servidor Assíncrono:"
      ],
      "metadata": {
        "id": "IZlSAkhpwucw"
      }
    },
    {
      "cell_type": "markdown",
      "source": [
        "Um servidor assíncrono pode lidar com várias requisições de forma simultânea, sem que o processamento de uma requisição precise esperar pela conclusão de outra. Ele usa técnicas como callbacks ou promises (no caso do JavaScript, por exemplo) para continuar a execução de outras tarefas enquanto aguarda uma operação de longa duração (como uma consulta a um banco de dados ou chamada a uma API externa).\n",
        "\n",
        "Essencialmente, quando um servidor recebe uma requisição, ele a processa, mas caso precise aguardar algum processo (como uma resposta de um banco de dados), ele não bloqueia a execução de outras requisições. Isso melhora a performance, principalmente em sistemas com grande número de usuários simultâneos."
      ],
      "metadata": {
        "id": "D2WLzBYBxqj-"
      }
    },
    {
      "cell_type": "markdown",
      "source": [
        "**Exemplo de servidores assíncronos:**\n",
        "\n",
        "Node.js, Tornado, Nginx (em modos específicos).\n",
        "\n",
        "**Vantagens:**\n",
        "\n",
        "- Maior escalabilidade, pois consegue lidar com muitas requisições ao mesmo tempo sem precisar de muitos recursos.\n",
        "\n",
        "- Menor latência, pois a execução não fica bloqueada esperando respostas.\n",
        "\n",
        "**Desvantagens:**\n",
        "\n",
        "- A programação pode ser mais complexa, pois o código precisa lidar com o fluxo assíncrono (callbacks, promessas, etc.)."
      ],
      "metadata": {
        "id": "d3LJfU_Ex1KY"
      }
    },
    {
      "cell_type": "markdown",
      "source": [
        "####2. Servidor Não Assíncrono (ou Síncrono):\n",
        "\n"
      ],
      "metadata": {
        "id": "KajDPS_GyAPC"
      }
    },
    {
      "cell_type": "markdown",
      "source": [
        "Em servidores não assíncronos, cada requisição é processada de maneira sequencial. Isso significa que, ao receber uma requisição, o servidor a processa até o final (esperando por qualquer operação de longa duração, como uma consulta a banco de dados), e só então move para a próxima requisição.\n",
        "\n",
        "Esses servidores \"bloqueiam\" a execução enquanto aguardam uma operação ser concluída. Isso pode causar problemas de performance, pois, durante a espera de uma requisição, o servidor não pode atender a outras requisições até que a operação seja finalizada."
      ],
      "metadata": {
        "id": "jlN-wgR8yAAF"
      }
    },
    {
      "cell_type": "markdown",
      "source": [
        "**Exemplo de servidores síncronos:**\n",
        "\n",
        "Servidores tradicionais baseados em Apache, servidores web tradicionais, alguns tipos de servidores de aplicação Java.\n",
        "\n",
        "**Vantagens:**\n",
        "\n",
        "- Mais fácil de programar, pois o código segue um fluxo linear e o desenvolvedor não precisa lidar com operações assíncronas.\n",
        "\n",
        "- Melhor em cenários em que as requisições são rápidas e não há muitas conexões simultâneas.\n",
        "\n",
        "**Desvantagens:**\n",
        "\n",
        "Menos escalável, pois, se muitas requisições ocorrerem ao mesmo tempo, o servidor pode ficar sobrecarregado.\n",
        "\n",
        "- Maior latência, pois uma requisição precisa ser processada completamente antes da próxima."
      ],
      "metadata": {
        "id": "6z2PgGv9yNQY"
      }
    },
    {
      "cell_type": "markdown",
      "source": [
        "Em resumo, servidores assíncronos são mais adequados para sistemas de alto desempenho, onde a capacidade de lidar com muitas conexões simultâneas é importante. Servidores síncronos podem ser uma boa escolha quando a simplicidade e o controle sobre o fluxo de execução são mais importantes."
      ],
      "metadata": {
        "id": "35vM9zq8yaCq"
      }
    },
    {
      "cell_type": "markdown",
      "source": [
        "### **2.2 - Gunicorn**"
      ],
      "metadata": {
        "id": "-TpI5YyNA_dm"
      }
    },
    {
      "cell_type": "markdown",
      "source": [
        "O Gunicorn (Green Unicorn) é um servidor de aplicações Python WSGI (Web Server Gateway Interface) que serve para rodar aplicativos web, especialmente em frameworks como Flask, Django e FastAPI. Ele é usado para fornecer uma interface entre o servidor web (como Nginx ou Apache) e o aplicativo Python. O Gunicorn é um servidor assíncrono, o que o torna eficiente para aplicações que precisam de escalabilidade e desempenho."
      ],
      "metadata": {
        "id": "8hp9E8RtA_Lu"
      }
    },
    {
      "cell_type": "markdown",
      "source": [
        "####Como o Gunicorn Funciona"
      ],
      "metadata": {
        "id": "AYbKcTMOBaY9"
      }
    },
    {
      "cell_type": "markdown",
      "source": [
        "- WSGI: O Gunicorn segue o padrão WSGI, que é uma especificação que permite que servidores web e aplicativos Python se comuniquem. O WSGI define como os servidores web devem invocar os aplicativos e como os aplicativos devem responder a essas requisições.\n",
        "\n",
        "- Workers: O Gunicorn utiliza workers para processar requisições. Cada worker é uma instância do servidor que pode lidar com múltiplas requisições simultaneamente. O número de workers pode ser configurado para atender melhor ao seu sistema.\n",
        "\n",
        "- Assíncrono: O Gunicorn pode ser configurado para rodar de forma assíncrona, o que permite que ele processe várias requisições sem bloquear o processo."
      ],
      "metadata": {
        "id": "Jy6uV555BizC"
      }
    },
    {
      "cell_type": "markdown",
      "source": [
        "####Passos para Instalar e Configurar o Gunicorn"
      ],
      "metadata": {
        "id": "p9OmgeYuDSPY"
      }
    },
    {
      "cell_type": "markdown",
      "source": [
        "**1. Instalar o Gunicorn**\n",
        "\n",
        "Você pode instalar o Gunicorn diretamente do PyPI usando o pip. Se você já tem um ambiente virtual (recomendado), instale o Gunicorn com o seguinte comando:\n",
        "\n",
        "- pip install gunicorn\n",
        "\n",
        "Se você não estiver usando um ambiente virtual, pode instalá-lo globalmente com sudo:\n",
        "\n",
        "- sudo pip install gunicorn"
      ],
      "metadata": {
        "id": "IuS_ysp8D6ox"
      }
    },
    {
      "cell_type": "markdown",
      "source": [
        "**2. Rodar um Aplicativo com o Gunicorn**\n",
        "\n",
        "Depois de instalar o Gunicorn, você pode usá-lo para rodar seu aplicativo. Vamos supor que você tenha um aplicativo Python simples usando o Flask ou Django.\n",
        "\n",
        "**Para um aplicativo Flask:**\n",
        "Aqui está um exemplo simples de um aplicativo Flask (app.py):"
      ],
      "metadata": {
        "id": "IZQU4Y1JEO3j"
      }
    },
    {
      "cell_type": "code",
      "source": [
        "from flask import Flask\n",
        "app = Flask(__name__)\n",
        "\n",
        "@app.route('/')\n",
        "def hello_world():\n",
        "    return 'Hello, World!'\n",
        "\n",
        "if __name__ == '__main__':\n",
        "    app.run()\n"
      ],
      "metadata": {
        "id": "VGSUQ2WzEVCE"
      },
      "execution_count": null,
      "outputs": []
    },
    {
      "cell_type": "markdown",
      "source": [
        "Você pode rodar esse aplicativo com o Gunicorn da seguinte maneira:"
      ],
      "metadata": {
        "id": "hz1_Qh-rEZB_"
      }
    },
    {
      "cell_type": "code",
      "source": [
        "gunicorn -w 4 app:app"
      ],
      "metadata": {
        "id": "5hCQpn4xEcGL"
      },
      "execution_count": null,
      "outputs": []
    },
    {
      "cell_type": "markdown",
      "source": [
        "- -w 4: Define o número de workers. Neste caso, estamos usando 4 workers para processar as requisições.\n",
        "\n",
        "- app:app: O primeiro app é o nome do arquivo Python (sem a extensão .py), e o segundo app é o nome da instância do Flask no arquivo.\n",
        "\n",
        "O Gunicorn então vai iniciar o servidor na porta padrão (geralmente a 8000), e você pode acessar o aplicativo em http://localhost:8000."
      ],
      "metadata": {
        "id": "uYNWhpCrEkCe"
      }
    },
    {
      "cell_type": "markdown",
      "source": [
        "**3. Configurações Básicas do Gunicorn**\n",
        "\n",
        "Aqui estão algumas das opções de configuração mais comuns que você pode usar para personalizar o comportamento do Gunicorn:\n",
        "\n",
        "- -w ou --workers: Define o número de workers. O número recomendado de workers é aproximadamente o número de CPUs disponíveis no servidor multiplicado por 2 ou 4.\n",
        "\n",
        "  **Exemplo:** gunicorn -w 4 app:app\n",
        "\n",
        "\n",
        "- --bind: Define o endereço e a porta em que o Gunicorn deve rodar.\n",
        "\n",
        " **Exemplo:** gunicorn --bind 0.0.0.0:8000 app:app\n",
        "\n",
        "- --workers-class: Define o tipo de worker a ser utilizado. O Gunicorn tem várias opções, como sync (sincrônico) e gevent (assíncrono).\n",
        "\n",
        "  **Exemplo:** gunicorn --workers-class gevent -w 4 app:app\n",
        "\n",
        "- --access-logfile e --error-logfile: Define os arquivos onde os logs de acesso e erro serão armazenados.\n",
        "\n",
        " **Exemplo:** gunicorn --access-logfile access.log --error-logfile error.log -w 4 app:app"
      ],
      "metadata": {
        "id": "U7Fp-yqXFKf6"
      }
    },
    {
      "cell_type": "markdown",
      "source": [
        "**4. Configurações Avançadas com Arquivo de Configuração**\n",
        "\n",
        "Em vez de passar todas as opções na linha de comando, você pode criar um arquivo de configuração em Python. Por exemplo, crie um arquivo chamado gunicorn_config.py:"
      ],
      "metadata": {
        "id": "1-vii4d_GjLU"
      }
    },
    {
      "cell_type": "code",
      "source": [
        "bind = '0.0.0.0:8000'\n",
        "workers = 4\n",
        "accesslog = 'access.log'\n",
        "errorlog = 'error.log'\n",
        "worker_class = 'gevent'\n"
      ],
      "metadata": {
        "id": "zrHhkVRwGnhB"
      },
      "execution_count": null,
      "outputs": []
    },
    {
      "cell_type": "markdown",
      "source": [
        "E então inicie o Gunicorn com esse arquivo de configuração:"
      ],
      "metadata": {
        "id": "zmmPivT8GpQf"
      }
    },
    {
      "cell_type": "code",
      "source": [
        "gunicorn -c gunicorn_config.py app:app"
      ],
      "metadata": {
        "id": "TDXUWsPFGrCV"
      },
      "execution_count": null,
      "outputs": []
    },
    {
      "cell_type": "markdown",
      "source": [
        "### **2.3 - O que é Nginx e como configurar o Nginx**"
      ],
      "metadata": {
        "id": "trB7WMWjgASu"
      }
    },
    {
      "cell_type": "markdown",
      "source": [
        "O Nginx é um servidor web de alto desempenho, leve e escalável. Ele é amplamente usado como proxy reverso, balanceador de carga, cache HTTP e servidor de mídia. Comparado ao Apache, o Nginx é conhecido por sua eficiência no uso de memória e sua capacidade de lidar com um grande número de conexões simultâneas."
      ],
      "metadata": {
        "id": "e2dnaLjLgAEB"
      }
    },
    {
      "cell_type": "markdown",
      "source": [
        "####Como instalar o Nginx?\n",
        "\n",
        "A instalação do Nginx varia de acordo com o sistema operacional. Abaixo, mostro os passos para os sistemas mais comuns:"
      ],
      "metadata": {
        "id": "vRYZI8iHgNXK"
      }
    },
    {
      "cell_type": "markdown",
      "source": [
        "**Ubuntu/Debian**\n",
        "\n",
        "- sudo apt update\n",
        "- sudo apt install nginx -y\n",
        "\n",
        "Depois da instalação, inicie o serviço e habilite-o para iniciar automaticamente:\n",
        "\n",
        "- sudo systemctl start nginx\n",
        "- sudo systemctl enable nginx\n",
        "\n",
        "**CentOS/RHEL**\n",
        "\n",
        "- sudo yum install epel-release -y\n",
        "- sudo yum install nginx -y\n",
        "\n",
        "Inicie e habilite o serviço:\n",
        "\n",
        "- sudo systemctl start nginx\n",
        "- sudo systemctl enable nginx\n",
        "\n",
        "**Windows**\n",
        "Embora o Nginx seja mais comumente usado em servidores Linux, ele pode ser executado no Windows:\n",
        "\n",
        "- Baixe o Nginx no site oficial: https://nginx.org/en/download.html.\n",
        "\n",
        "- Extraia os arquivos e execute o nginx.exe via terminal."
      ],
      "metadata": {
        "id": "5oxqcBzFgNIu"
      }
    },
    {
      "cell_type": "markdown",
      "source": [
        "####Como configurar o Nginx?\n",
        "\n",
        "Os arquivos de configuração do Nginx ficam geralmente em /etc/nginx/nginx.conf (Linux) ou no diretório extraído (Windows)."
      ],
      "metadata": {
        "id": "HnFAJ_9koN5U"
      }
    },
    {
      "cell_type": "markdown",
      "source": [
        "**1. Configuração básica de servidor web**\n",
        "\n",
        "Abra o arquivo de configuração principal:"
      ],
      "metadata": {
        "id": "9e1is0TQoNrG"
      }
    },
    {
      "cell_type": "code",
      "source": [
        "sudo nano /etc/nginx/sites-available/default"
      ],
      "metadata": {
        "id": "aHuRQx2Wp-A3"
      },
      "execution_count": null,
      "outputs": []
    },
    {
      "cell_type": "markdown",
      "source": [
        "Altere ou adicione o seguinte bloco para servir um site estático:"
      ],
      "metadata": {
        "id": "3iTGJ-dtqLkq"
      }
    },
    {
      "cell_type": "code",
      "source": [
        "server {\n",
        "    listen 80;\n",
        "    server_name exemplo.com;\n",
        "\n",
        "    root /var/www/html;\n",
        "    index index.html;\n",
        "\n",
        "    location / {\n",
        "        try_files $uri $uri/ =404;\n",
        "    }\n",
        "}"
      ],
      "metadata": {
        "id": "MASiaaeKqSM9"
      },
      "execution_count": null,
      "outputs": []
    },
    {
      "cell_type": "markdown",
      "source": [
        "Reinicie o Nginx para aplicar as mudanças:"
      ],
      "metadata": {
        "id": "kNMqJ6WAqU4P"
      }
    },
    {
      "cell_type": "code",
      "source": [
        "sudo systemctl restart nginx"
      ],
      "metadata": {
        "id": "DOCGZu1bqYVR"
      },
      "execution_count": null,
      "outputs": []
    },
    {
      "cell_type": "markdown",
      "source": [
        "**2. Configuração como Proxy Reverso**\n",
        "\n",
        "Se quiser que o Nginx encaminhe requisições para outro servidor (como um aplicativo Node.js, Python ou Apache), edite o arquivo e adicione:"
      ],
      "metadata": {
        "id": "sPqC9dRMqnCf"
      }
    },
    {
      "cell_type": "code",
      "source": [
        "server {\n",
        "    listen 80;\n",
        "    server_name api.exemplo.com;\n",
        "\n",
        "    location / {\n",
        "        proxy_pass http://127.0.0.1:3000;\n",
        "        proxy_set_header Host $host;\n",
        "        proxy_set_header X-Real-IP $remote_addr;\n",
        "    }\n",
        "}"
      ],
      "metadata": {
        "id": "GEGkWo4Yqr-d"
      },
      "execution_count": null,
      "outputs": []
    },
    {
      "cell_type": "markdown",
      "source": [
        "Isso encaminhará as requisições para um servidor rodando na porta 3000."
      ],
      "metadata": {
        "id": "eM-TLeLTquEV"
      }
    },
    {
      "cell_type": "markdown",
      "source": [
        "**3. Habilitar SSL com Let's Encrypt**\n",
        "\n",
        "Para habilitar HTTPS usando Let's Encrypt:"
      ],
      "metadata": {
        "id": "erPoWVfyqwXt"
      }
    },
    {
      "cell_type": "code",
      "source": [
        "sudo apt install certbot python3-certbot-nginx -y\n",
        "sudo certbot --nginx -d exemplo.com -d www.exemplo.com"
      ],
      "metadata": {
        "id": "tTWrVDbXqzgP"
      },
      "execution_count": null,
      "outputs": []
    },
    {
      "cell_type": "markdown",
      "source": [
        "Isso irá configurar e renovar automaticamente seu certificado SSL."
      ],
      "metadata": {
        "id": "7U48xRdwq2Hk"
      }
    },
    {
      "cell_type": "markdown",
      "source": [
        "####Como verificar se o Nginx está rodando?\n",
        "\n",
        "Execute:"
      ],
      "metadata": {
        "id": "Jsw9pceHrBnl"
      }
    },
    {
      "cell_type": "code",
      "source": [
        "sudo systemctl status nginx"
      ],
      "metadata": {
        "id": "Qf-JMHOorLrv"
      },
      "execution_count": null,
      "outputs": []
    },
    {
      "cell_type": "markdown",
      "source": [
        "Se precisar parar, iniciar ou reiniciar:"
      ],
      "metadata": {
        "id": "wgWvg2NRrBZd"
      }
    },
    {
      "cell_type": "code",
      "source": [
        "sudo systemctl stop nginx\n",
        "sudo systemctl start nginx\n",
        "sudo systemctl restart nginx"
      ],
      "metadata": {
        "id": "yeNhI8qlrNhA"
      },
      "execution_count": null,
      "outputs": []
    }
  ]
}