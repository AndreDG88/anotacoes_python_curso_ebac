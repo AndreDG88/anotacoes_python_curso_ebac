{
  "nbformat": 4,
  "nbformat_minor": 0,
  "metadata": {
    "colab": {
      "provenance": [],
      "authorship_tag": "ABX9TyP/IQ9tPudjbtZuQtIklXm1",
      "include_colab_link": true
    },
    "kernelspec": {
      "name": "python3",
      "display_name": "Python 3"
    },
    "language_info": {
      "name": "python"
    }
  },
  "cells": [
    {
      "cell_type": "markdown",
      "metadata": {
        "id": "view-in-github",
        "colab_type": "text"
      },
      "source": [
        "<a href=\"https://colab.research.google.com/github/AndreDG88/anotacoes_python_curso_ebac/blob/main/git_e__github.ipynb\" target=\"_parent\"><img src=\"https://colab.research.google.com/assets/colab-badge.svg\" alt=\"Open In Colab\"/></a>"
      ]
    },
    {
      "cell_type": "markdown",
      "source": [
        "# **Git e GitHub**\n"
      ],
      "metadata": {
        "id": "PgcbIwAHvexs"
      }
    },
    {
      "cell_type": "markdown",
      "source": [
        "Git e GitHub. São ferramentas que todo projeto moderno usa, e vão te ajudar a **controlar versões, organizar código, colaborar com outras pessoas** e até apresentar seu portfólio!"
      ],
      "metadata": {
        "id": "vZvSLqm_LNxM"
      }
    },
    {
      "cell_type": "markdown",
      "source": [
        "## **⚙️ 1. O que é o Git?**"
      ],
      "metadata": {
        "id": "7ElQKnqYG56r"
      }
    },
    {
      "cell_type": "markdown",
      "source": [
        "**Git** é um sistema de **controle de versão**.\n",
        "Ele permite que você:\n",
        "\n",
        "- Salve o histórico das alterações feitas no código.\n",
        "\n",
        "- Volte no tempo se algo der errado.\n",
        "\n",
        "- Crie ramificações (branches) para testar novas ideias sem bagunçar o código principal.\n",
        "\n",
        "- Colabore com outras pessoas de forma organizada.\n",
        "\n"
      ],
      "metadata": {
        "id": "WomnSP8JLR_X"
      }
    },
    {
      "cell_type": "markdown",
      "source": [
        "### **1.1 Instalação no Windows**"
      ],
      "metadata": {
        "id": "MCZXof43TqnP"
      }
    },
    {
      "cell_type": "markdown",
      "source": [
        "**Passo a passo:**\n",
        "\n",
        "- 1- Acesse: https://git-scm.com/downloads\n",
        "\n",
        "- 2- Baixe a versão para Windows e instale.\n",
        "\n",
        "- 3- Durante a instalação:\n",
        "\n",
        "  - Deixe as opções padrão.\n",
        "\n",
        "  - Marque a opção para usar Git no terminal do Windows (Git Bash)."
      ],
      "metadata": {
        "id": "PHFsFfsuLZgv"
      }
    },
    {
      "cell_type": "markdown",
      "source": [
        "**Verificar se funcionou:**\n",
        "\n",
        "Abra o Prompt de Comando (CMD), PowerShell ou o Git Bash, e digite:"
      ],
      "metadata": {
        "id": "oxMXYxTxQSya"
      }
    },
    {
      "cell_type": "code",
      "source": [
        "git --version"
      ],
      "metadata": {
        "id": "d9FKY21IQVi2"
      },
      "execution_count": null,
      "outputs": []
    },
    {
      "cell_type": "markdown",
      "source": [
        "👨‍💻 **Primeira configuração do Git**"
      ],
      "metadata": {
        "id": "aRN41nrMRwFq"
      }
    },
    {
      "cell_type": "code",
      "source": [
        "git config --global user.name \"Seu Nome\"\n",
        "git config --global user.email \"seu@email.com\""
      ],
      "metadata": {
        "id": "QL2xbymvR1Lr"
      },
      "execution_count": null,
      "outputs": []
    },
    {
      "cell_type": "markdown",
      "source": [
        "Verifique com:"
      ],
      "metadata": {
        "id": "LLp83G1mR3C0"
      }
    },
    {
      "cell_type": "code",
      "source": [
        "git config --list"
      ],
      "metadata": {
        "id": "ERKKytDNR4sa"
      },
      "execution_count": null,
      "outputs": []
    },
    {
      "cell_type": "markdown",
      "source": [
        "### **1.2 Instalação e uso no VS Code (Visual Studio Code)**"
      ],
      "metadata": {
        "id": "kRnTSBN1QhMZ"
      }
    },
    {
      "cell_type": "markdown",
      "source": [
        "- 1- Instale o VS Code: https://code.visualstudio.com/\n",
        "\n",
        "- 2- Ao abrir o VS Code:\n",
        "\n",
        "  - Ele já detecta automaticamente o Git instalado no seu sistema.\n",
        "\n",
        "  - Você verá a aba de controle de versão na lateral esquerda (ícone de ramificação).\n",
        "\n",
        "**Extensões recomendadas:**\n",
        "\n",
        "- ✅ GitLens – mostra histórico de cada linha do código.\n",
        "\n",
        "- ✅ GitHub Pull Requests – permite gerenciar PRs direto no VS Code.\n",
        "\n"
      ],
      "metadata": {
        "id": "C7hfrcWeQg8p"
      }
    },
    {
      "cell_type": "markdown",
      "source": [
        "### **1.3 🆕 5. Criando um repositório Git**"
      ],
      "metadata": {
        "id": "CanDMdUpSFlg"
      }
    },
    {
      "cell_type": "markdown",
      "source": [
        "**No terminal (Git Bash, CMD ou PowerShell):**"
      ],
      "metadata": {
        "id": "iarbualMSFFv"
      }
    },
    {
      "cell_type": "code",
      "source": [
        "mkdir meu-projeto\n",
        "cd meu-projeto\n",
        "git init"
      ],
      "metadata": {
        "id": "jN1bkOBqSOrE"
      },
      "execution_count": null,
      "outputs": []
    },
    {
      "cell_type": "markdown",
      "source": [
        "Isso inicia um repositório Git local.\n",
        "\n",
        "**No VS Code:**\n",
        "\n",
        "- Abra a pasta.\n",
        "\n",
        "- Clique no ícone de controle de versão (lado esquerdo).\n",
        "\n",
        "- Clique em \"Initialize Repository\" se ele sugerir."
      ],
      "metadata": {
        "id": "_olMM6TrSVtC"
      }
    },
    {
      "cell_type": "markdown",
      "source": [
        "### **1.4 🧩 Ciclo básico de trabalho com Git**"
      ],
      "metadata": {
        "id": "wPhuszoISmQQ"
      }
    },
    {
      "cell_type": "code",
      "source": [
        "#Etapa\t    | #Comando\t                 | #Descrição\n",
        "Modificar\t  | Você edita um arquivo\t     | Ainda não está salvo no Git\n",
        "Adicionar\t  | git add arquivo.py\t       | Adiciona ao \"staging\"\n",
        "Commitar\t  | git commit -m \"mensagem\"   | \tSalva a versão no histórico\n",
        "Verificar\t  | git status / git log\t     | Vê o que mudou"
      ],
      "metadata": {
        "id": "VZikObquSuAK"
      },
      "execution_count": null,
      "outputs": []
    },
    {
      "cell_type": "markdown",
      "source": [
        "### **1.5 🌿 Branches (ramificações)**"
      ],
      "metadata": {
        "id": "sijGT296TQt3"
      }
    },
    {
      "cell_type": "markdown",
      "source": [
        "Branches (ramificações) são como linhas do tempo paralelas dentro do seu projeto.\n",
        "Você usa uma branch para desenvolver algo sem mexer no código principal (geralmente chamado de main ou master)."
      ],
      "metadata": {
        "id": "aRu7_0YITQee"
      }
    },
    {
      "cell_type": "markdown",
      "source": [
        "Imagine que seu projeto está estável na branch main, mas você quer testar um novo recurso. Em vez de alterar diretamente o código principal, você cria uma nova branch e faz as alterações nela."
      ],
      "metadata": {
        "id": "ngXg0HUxW9sY"
      }
    },
    {
      "cell_type": "markdown",
      "source": [
        "📌 **Por que usar?**\n",
        "- Testar uma nova funcionalidade sem quebrar o código principal.\n",
        "\n",
        "- Corrigir bugs de forma isolada.\n",
        "\n",
        "- Equipes trabalham em diferentes partes do projeto ao mesmo tempo.\n",
        "\n",
        "- Permite um desenvolvimento mais seguro e organizado."
      ],
      "metadata": {
        "id": "kXinHH7AXBaA"
      }
    },
    {
      "cell_type": "markdown",
      "source": [
        "**Como visualizar no VS Code**\n",
        "\n",
        "- 1- No canto inferior esquerdo, você verá o nome da branch atual.\n",
        "\n",
        "- 2- Clique sobre ela para trocar ou criar uma nova.\n",
        "\n",
        "- 3- Pode também abrir o terminal integrado e usar os mesmos comandos Git.\n",
        "\n"
      ],
      "metadata": {
        "id": "HXyLXilEXO2z"
      }
    },
    {
      "cell_type": "code",
      "source": [
        "# Ver todas as branches\n",
        "git branch\n",
        "\n",
        "# Criar uma nova branch\n",
        "git branch nova-funcionalidade\n",
        "\n",
        "# Trocar para essa branch\n",
        "git checkout nova-funcionalidade\n",
        "\n",
        "# Criar e já trocar\n",
        "git checkout -b correcao-erro\n",
        "\n",
        "# Voltar para a branch principal\n",
        "git checkout main"
      ],
      "metadata": {
        "id": "J29QgK-4TZhf"
      },
      "execution_count": null,
      "outputs": []
    },
    {
      "cell_type": "markdown",
      "source": [
        "### **1.6 🏷️ Tags (versões)**"
      ],
      "metadata": {
        "id": "xHUqWYz3ThQf"
      }
    },
    {
      "cell_type": "markdown",
      "source": [
        "Tags são marcadores fixos que você coloca em commits específicos para marcar versões importantes do seu projeto (como lançamentos).\n",
        "\n",
        "**Exemplo:**\n",
        "\n",
        "depois de finalizar uma versão do projeto, você pode criar a tag v1.0 naquele ponto. Assim, você sempre saberá onde estava o projeto quando ele chegou na versão 1.0.\n",
        "\n"
      ],
      "metadata": {
        "id": "rhdWSWhGThFH"
      }
    },
    {
      "cell_type": "markdown",
      "source": [
        "📌 **Por que usar?**\n",
        "- Marcar versões de produção (v1.0, v2.0, etc.).\n",
        "\n",
        "- Facilitar rollback (voltar a uma versão anterior).\n",
        "\n",
        "- Acompanhar marcos importantes do projeto.\n",
        "\n",
        "- Criar releases no GitHub automaticamente."
      ],
      "metadata": {
        "id": "g4OOGSetXgtv"
      }
    },
    {
      "cell_type": "markdown",
      "source": [
        "🛠️ **Como usar (no terminal):**"
      ],
      "metadata": {
        "id": "J0IhElArXoum"
      }
    },
    {
      "cell_type": "code",
      "source": [
        "# Criar uma tag simples\n",
        "git tag v1.0\n",
        "\n",
        "# Criar uma tag com anotação e mensagem\n",
        "git tag -a v2.0 -m \"Versão 2.0 com nova funcionalidade\"\n",
        "\n",
        "# Ver todas as tags\n",
        "git tag\n",
        "\n",
        "# Ver detalhes de uma tag anotada\n",
        "git show v2.0\n",
        "\n",
        "# Enviar tags pro GitHub\n",
        "git push origin v2.0\n"
      ],
      "metadata": {
        "id": "1-LJdU_lT99L"
      },
      "execution_count": null,
      "outputs": []
    },
    {
      "cell_type": "markdown",
      "source": [
        "**Como visualizar no GitHub**\n",
        "- 1- Vá até o repositório no site.\n",
        "\n",
        "- 2- Clique em “Releases” ou “Tags”.\n",
        "\n",
        "- 3- Você verá a lista de versões criadas com git tag."
      ],
      "metadata": {
        "id": "VoUs4YtTX3q7"
      }
    },
    {
      "cell_type": "markdown",
      "source": [
        "Se quiser enviar todas as tags:"
      ],
      "metadata": {
        "id": "YHvoTwVaXw4s"
      }
    },
    {
      "cell_type": "code",
      "source": [
        "git push origin --tags"
      ],
      "metadata": {
        "id": "j_idKVamXyx_"
      },
      "execution_count": null,
      "outputs": []
    },
    {
      "cell_type": "markdown",
      "source": [
        "## **🌍 2. E o que é o GitHub?**"
      ],
      "metadata": {
        "id": "sZELpGO6PD2n"
      }
    },
    {
      "cell_type": "markdown",
      "source": [
        "**GitHub** é um site onde você **armazena repositórios Git** na nuvem.\n",
        "Você pode:\n",
        "\n",
        "- Compartilhar seu código com o mundo.\n",
        "\n",
        "- Trabalhar em equipe.\n",
        "\n",
        "- Fazer controle de versões de forma remota.\n",
        "\n",
        "- Contribuir com projetos de outras pessoas."
      ],
      "metadata": {
        "id": "bI0dZqK8PDg4"
      }
    },
    {
      "cell_type": "markdown",
      "source": [
        "### **2.1 ☁️ Usando o GitHub com o Git local**"
      ],
      "metadata": {
        "id": "ApkijqDMUJDN"
      }
    },
    {
      "cell_type": "markdown",
      "source": [
        "**Criando o repositório remoto:**\n",
        "\n",
        "- 1- Acesse https://github.com\n",
        "\n",
        "- 2- Clique em **New Repository**\n",
        "\n",
        "- 3- Copie a URL (ex: https://github.com/seunome/meu-projeto.git)\n",
        "\n",
        "**Ligando com o projeto local:**"
      ],
      "metadata": {
        "id": "45LXh5BfUIym"
      }
    },
    {
      "cell_type": "code",
      "source": [
        "git remote add origin https://github.com/seunome/meu-projeto.git\n",
        "git branch -M main\n",
        "git push -u origin main"
      ],
      "metadata": {
        "id": "csM-3d0eUftz"
      },
      "execution_count": null,
      "outputs": []
    },
    {
      "cell_type": "markdown",
      "source": [
        "### **2.2 👥 Colaborando com outras pessoas**"
      ],
      "metadata": {
        "id": "ow9ayUVsUu-p"
      }
    },
    {
      "cell_type": "markdown",
      "source": [
        "- **git pull** → baixa as mudanças do repositório remoto.\n",
        "\n",
        "- **git push** → envia suas mudanças.\n",
        "\n",
        "- **fork e pull request** → você contribui com repositórios de outras pessoas."
      ],
      "metadata": {
        "id": "5_R4RAE0Uuw5"
      }
    },
    {
      "cell_type": "markdown",
      "source": [
        "### **2.3 🔧 Trabalhando com Git no VS Code**"
      ],
      "metadata": {
        "id": "NJlz6BaKVTZm"
      }
    },
    {
      "cell_type": "markdown",
      "source": [
        "**No VS Code:**\n",
        "\n",
        "- A aba de controle de versão mostra alterações em tempo real.\n",
        "\n",
        "- Você pode fazer:\n",
        "\n",
        "  - commit com mensagem\n",
        "\n",
        "  - push e pull\n",
        "\n",
        "  - ver diffs (comparações entre versões)\n",
        "\n",
        "  - escolher arquivos específicos pra enviar"
      ],
      "metadata": {
        "id": "3nPZGAz-VS3f"
      }
    },
    {
      "cell_type": "markdown",
      "source": [
        "## **⌨️ 3 Comandos Git mais usados**"
      ],
      "metadata": {
        "id": "s0gbPFrVVzPF"
      }
    },
    {
      "cell_type": "code",
      "source": [
        "# Verifica status\n",
        "git status\n",
        "\n",
        "# Adiciona arquivos\n",
        "git add nome_arquivo.py\n",
        "git add .   # todos\n",
        "\n",
        "# Faz um commit\n",
        "git commit -m \"mensagem\"\n",
        "\n",
        "# Ver histórico\n",
        "git log\n",
        "\n",
        "# Criar branch\n",
        "git checkout -b nome-da-branch\n",
        "\n",
        "# Enviar para GitHub\n",
        "git push origin main  # ou nome-da-branch\n",
        "\n",
        "# Baixar do GitHub\n",
        "git pull"
      ],
      "metadata": {
        "id": "FfsqFeoTV5zG"
      },
      "execution_count": null,
      "outputs": []
    },
    {
      "cell_type": "markdown",
      "source": [
        "Fluxo de trabalho típico"
      ],
      "metadata": {
        "id": "_78uikseVypp"
      }
    },
    {
      "cell_type": "code",
      "source": [
        "# 1. Clonar repositório\n",
        "git clone https://github.com/seunome/repositorio.git\n",
        "\n",
        "# 2. Criar uma nova branch\n",
        "git checkout -b correcao-bug\n",
        "\n",
        "# 3. Fazer alterações\n",
        "git add .\n",
        "git commit -m \"Corrige erro\"\n",
        "\n",
        "# 4. Enviar para o GitHub\n",
        "git push origin correcao-bug\n",
        "\n",
        "# 5. Criar um Pull Request no site"
      ],
      "metadata": {
        "id": "Eojk0xwXWDsL"
      },
      "execution_count": null,
      "outputs": []
    }
  ]
}