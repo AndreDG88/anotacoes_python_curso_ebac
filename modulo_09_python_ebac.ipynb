{
  "nbformat": 4,
  "nbformat_minor": 0,
  "metadata": {
    "colab": {
      "provenance": [],
      "authorship_tag": "ABX9TyOTBz2HVMHIH5VHL3kFeMoH",
      "include_colab_link": true
    },
    "kernelspec": {
      "name": "python3",
      "display_name": "Python 3"
    },
    "language_info": {
      "name": "python"
    }
  },
  "cells": [
    {
      "cell_type": "markdown",
      "metadata": {
        "id": "view-in-github",
        "colab_type": "text"
      },
      "source": [
        "<a href=\"https://colab.research.google.com/github/AndreDG88/anotacoes_python_curso_ebac/blob/main/modulo_09_python_ebac.ipynb\" target=\"_parent\"><img src=\"https://colab.research.google.com/assets/colab-badge.svg\" alt=\"Open In Colab\"/></a>"
      ]
    },
    {
      "cell_type": "markdown",
      "source": [
        "# **Módulo 09**\n",
        "### Scripting\n"
      ],
      "metadata": {
        "id": "PgcbIwAHvexs"
      }
    },
    {
      "cell_type": "markdown",
      "source": [
        "Neste módulo vamos aprender a instalar o Python em nossa própria máquina, executar códigos diretamente no terminal e criar arquivos de script no Python"
      ],
      "metadata": {
        "id": "MTQsQ1d8_ZJX"
      }
    },
    {
      "cell_type": "markdown",
      "source": [
        "## **1 - Instalando o Python na própria máquina**"
      ],
      "metadata": {
        "id": "RIm2_q2AHItw"
      }
    },
    {
      "cell_type": "markdown",
      "source": [
        "vamos em um comparativo entre o uso do python no colab e em sua própria máquina."
      ],
      "metadata": {
        "id": "ih9npfvi_bhd"
      }
    },
    {
      "cell_type": "markdown",
      "source": [
        "### **1.1 - Google Colab**"
      ],
      "metadata": {
        "id": "4PIfq3sxezrU"
      }
    },
    {
      "cell_type": "markdown",
      "source": [
        "Python e o PIP já vem automaticamente instalados na máquina virtual que o colab nos fornece."
      ],
      "metadata": {
        "id": "2M7beav4_dwS"
      }
    },
    {
      "cell_type": "code",
      "execution_count": 1,
      "metadata": {
        "colab": {
          "base_uri": "https://localhost:8080/"
        },
        "id": "Jhro5GGL_Dtv",
        "outputId": "7f455f4f-0066-4e4c-ffee-bd086921bb60"
      },
      "outputs": [
        {
          "output_type": "stream",
          "name": "stdout",
          "text": [
            "3.11.11\n",
            "Linux\n"
          ]
        }
      ],
      "source": [
        "# Exemplo: Vamos conferir a versão do Python\n",
        "\n",
        "#O plataform é um recurso nativo da linguagem python\n",
        "#Ele ajuda a saber infomações da máquina e versões instaladas\n",
        "\n",
        "import platform\n",
        "print(platform.python_version())# verifica a versão do Python\n",
        "print(platform.system())# verifica o sistema operacional utilizado"
      ]
    },
    {
      "cell_type": "code",
      "source": [
        "# Exemplo: como sabemos que a maquina virtual do colab é um linux,\n",
        "# podemos executar alguns comando via Bash, a linguagem nativa do sistema linux.\n",
        "\n",
        "!python -V# verifica a versão do Python\n",
        "!pip -V# verifica o sistema operacional utilizado"
      ],
      "metadata": {
        "colab": {
          "base_uri": "https://localhost:8080/"
        },
        "id": "0s-kCsesSE71",
        "outputId": "37ddea17-af58-459b-d511-279b804b1692"
      },
      "execution_count": 2,
      "outputs": [
        {
          "output_type": "stream",
          "name": "stdout",
          "text": [
            "Python 3.11.11\n",
            "pip 24.1.2 from /usr/local/lib/python3.11/dist-packages/pip (python 3.11)\n"
          ]
        }
      ]
    },
    {
      "cell_type": "markdown",
      "source": [
        "### **1.2 - Máquina Local**"
      ],
      "metadata": {
        "id": "0LFZYOviVOZ3"
      }
    },
    {
      "cell_type": "markdown",
      "source": [
        "Para verificar se você já possui o Python e o PIP instalados na sua máquina, você deve abrir o terminal (Windows cmd ou linux/macos terminal). E executar estes comandos."
      ],
      "metadata": {
        "id": "ArHN4AYmVOH-"
      }
    },
    {
      "cell_type": "code",
      "source": [
        "python -V# verifica a versão do Python\n",
        "pip -V# verifica o sistema operacional utilizado"
      ],
      "metadata": {
        "id": "QplKZd6fV7M2"
      },
      "execution_count": null,
      "outputs": []
    },
    {
      "cell_type": "markdown",
      "source": [
        "Se por acaso eles não estiverem instalados, você pode acessar o site oficial do Python(https://www.python.org/) e instalar o software na sua máquina. Um bom tutorial se encontra neste link: https://realpython.com/installing-python/"
      ],
      "metadata": {
        "id": "0LM_S3dOWyZ2"
      }
    },
    {
      "cell_type": "markdown",
      "source": [
        "## **2 - Executando código Python no terminal**"
      ],
      "metadata": {
        "id": "gNpcNHYMbFB5"
      }
    },
    {
      "cell_type": "markdown",
      "source": [
        "### **2.1 - Google Colab**"
      ],
      "metadata": {
        "id": "68k8OEYCbnGB"
      }
    },
    {
      "cell_type": "markdown",
      "source": [
        "No colab, o sistema de linguagem do Python esta sempre \"aberto\" e disponível para ser utilizado nas celulas de código."
      ],
      "metadata": {
        "id": "uoipL0sNbm5_"
      }
    },
    {
      "cell_type": "code",
      "source": [
        "from datetime import datetime\n",
        "\n",
        "print(datetime.now().year)"
      ],
      "metadata": {
        "colab": {
          "base_uri": "https://localhost:8080/"
        },
        "id": "IZNEmjXMb455",
        "outputId": "3b85f30b-30c5-4c6f-9eda-9df3a7c44c91"
      },
      "execution_count": 3,
      "outputs": [
        {
          "output_type": "stream",
          "name": "stdout",
          "text": [
            "2025\n"
          ]
        }
      ]
    },
    {
      "cell_type": "markdown",
      "source": [
        "### **2.2 - Máquina Local**"
      ],
      "metadata": {
        "id": "ms_4KAROckjI"
      }
    },
    {
      "cell_type": "markdown",
      "source": [
        "- Criar uma pasta de armazenamento do código(Recomandado, mas opicional)\n",
        "\n",
        "- Abrir o terminal nesta pasta(windows shift + right click ou linux/macos right click)\n",
        "\n",
        "- Executar o seguinte comando:"
      ],
      "metadata": {
        "id": "zmJdXNLnckTA"
      }
    },
    {
      "cell_type": "code",
      "source": [
        "python"
      ],
      "metadata": {
        "id": "I-nvnMHWcTdc"
      },
      "execution_count": null,
      "outputs": []
    },
    {
      "cell_type": "markdown",
      "source": [
        "Para \"sair\" do Python, basta fechar o terminal ou digitar o seguinte código:"
      ],
      "metadata": {
        "id": "e2dv8vBqdkuf"
      }
    },
    {
      "cell_type": "code",
      "source": [
        "quit()"
      ],
      "metadata": {
        "id": "kQ3m6Y27dyDX"
      },
      "execution_count": null,
      "outputs": []
    },
    {
      "cell_type": "markdown",
      "source": [
        "## **3 - Criando arquivos de script Python**"
      ],
      "metadata": {
        "id": "Vc0cUrvTmT_P"
      }
    },
    {
      "cell_type": "markdown",
      "source": [
        "### **3.1 - Google Colab**"
      ],
      "metadata": {
        "id": "L9PcD29xmide"
      }
    },
    {
      "cell_type": "markdown",
      "source": [
        "1. Criar um arquivo de *script* com a extensão `py` seguindo as boas práticas do PEP 8 (https://www.python.org/dev/peps/pep-0008);\n",
        "2. Executar com o seguinte comando:"
      ],
      "metadata": {
        "id": "XzfnLMUTmiJI"
      }
    },
    {
      "cell_type": "code",
      "source": [
        "!python arquivo.py"
      ],
      "metadata": {
        "id": "XNjtjb29nSty"
      },
      "execution_count": null,
      "outputs": []
    },
    {
      "cell_type": "markdown",
      "source": [
        "**Exemplo:** *Script* para extrair a taxa CDI do site do BCB."
      ],
      "metadata": {
        "id": "pt84ZcismTyy"
      }
    },
    {
      "cell_type": "code",
      "source": [
        "#É uma boa pratica nas importações, as importações nativas do Python virem primeiro\n",
        "import os\n",
        "import json\n",
        "from random import random\n",
        "from datetime import datetime\n",
        "#E então depois vem as importações criadas pela comunidade, como o requests\n",
        "import requests\n",
        "#Caso tenha algum módulo ou pacote de própria autoria, ele vem por último\n",
        "\n",
        "URL = 'https://api.bcb.gov.br/dados/serie/bcdata.sgs.4392/dados'\n",
        "#Esta variável esta com seu nome todo em caixa alta porque quando uma variável\n",
        "# é constante, é uma boa prática nomea-la assim. Uma variável constante nunca\n",
        "# vai sofrer alterações.\n",
        "\n",
        "# Criando a variável data e hora\n",
        "\n",
        "data_e_hora = datetime.now()\n",
        "data = datetime.strftime(data_e_hora, '%Y/%m/%d')\n",
        "hora = datetime.strftime(data_e_hora, '%H:%M:%S')\n",
        "\n",
        "# Captando a taxa CDI do site do BCB\n",
        "\n",
        "try:\n",
        "  response = requests.get(URL)\n",
        "  response.raise_for_status()#para verificação se o get foi realizado\n",
        "except requests.HTTPError as exc:#Except personalizado de tipo próprio do requests\n",
        "  print(\"Dado não encontrado, continuando.\")\n",
        "  cdi = None\n",
        "except Exception as exc:\n",
        "  print(\"Erro, parando a execução.\")\n",
        "  raise exc\n",
        "else:\n",
        "  dado = json.loads(response.text)[-1]['valor']\n",
        "  cdi = float(dado) + (random() - 0.5)\n",
        "\n",
        "# Verificando se o arquivo \"taxa-cdi.csv\" existe\n",
        "\n",
        "if os.path.exists('./taxa-cdi.csv') == False:\n",
        "\n",
        "  with open(file='./taxa-cdi.csv', mode='w', encoding='utf8') as fp:\n",
        "    fp.write('data,hora,taxa\\n')\n",
        "\n",
        "# Salvando dados no arquivo \"taxa-cdi.csv\"\n",
        "\n",
        "with open(file='./taxa-cdi.csv', mode='a', encoding='utf8') as fp:\n",
        "  fp.write(f'{data},{hora},{cdi}\\n')\n",
        "\n",
        "print(\"Sucesso\")"
      ],
      "metadata": {
        "id": "kXiVKhsAndtQ"
      },
      "execution_count": null,
      "outputs": []
    },
    {
      "cell_type": "markdown",
      "source": [
        "Vamos criar o arquivo de *script* `extrair-cdi.py`."
      ],
      "metadata": {
        "id": "L95844rxnlVE"
      }
    },
    {
      "cell_type": "code",
      "source": [
        "!python extrair-cdi.py"
      ],
      "metadata": {
        "colab": {
          "base_uri": "https://localhost:8080/"
        },
        "id": "ky-rXBeEnqV_",
        "outputId": "7dba41bc-b590-4803-91a3-86bdd01ef352"
      },
      "execution_count": 4,
      "outputs": [
        {
          "output_type": "stream",
          "name": "stdout",
          "text": [
            "Sucesso\n"
          ]
        }
      ]
    },
    {
      "cell_type": "markdown",
      "source": [
        "**Exemplo:** Script com argumentos."
      ],
      "metadata": {
        "id": "_EfMfLSunwXI"
      }
    },
    {
      "cell_type": "code",
      "source": [
        "from sys import argv\n",
        "\n",
        "print(argv)\n",
        "print(type(argv))"
      ],
      "metadata": {
        "id": "ys4csHHynzUn"
      },
      "execution_count": null,
      "outputs": []
    },
    {
      "cell_type": "markdown",
      "source": [
        "Vamos criar o arquivo de *script* `args.py`."
      ],
      "metadata": {
        "id": "U8wEpwnvn1A8"
      }
    },
    {
      "cell_type": "code",
      "source": [
        "!python args.py andre True 10 20"
      ],
      "metadata": {
        "id": "bELp19w3n4r3"
      },
      "execution_count": null,
      "outputs": []
    },
    {
      "cell_type": "markdown",
      "source": [
        "**Exemplo:** *Script* para gerar um grafico da taxa CDI do site do BCB."
      ],
      "metadata": {
        "id": "KmOdJwhun6hW"
      }
    },
    {
      "cell_type": "code",
      "source": [
        "import csv\n",
        "from sys import argv\n",
        "\n",
        "import seaborn as sns\n",
        "\n",
        "# Extraindo as colunas hora e taxa\n",
        "\n",
        "horas = []\n",
        "taxas = []\n",
        "\n",
        "with open(file='./taxa-cdi.csv', mode='r', encoding='utf8') as fp:\n",
        "  linha = fp.readline()\n",
        "  linha = fp.readline()\n",
        "  while linha:\n",
        "    linha_separada = linha.split(sep=',')\n",
        "    hora = linha_separada[1]\n",
        "    horas.append(hora)\n",
        "    taxa = float(linha_separada[2])\n",
        "    taxas.append(taxa)\n",
        "    linha = fp.readline()\n",
        "\n",
        "# Salvando no grafico\n",
        "\n",
        "grafico = sns.lineplot(x=horas, y=taxas)\n",
        "grafico.get_figure().savefig(f\"{argv[1]}.png\")"
      ],
      "metadata": {
        "id": "eaRJGQhfn9CM"
      },
      "execution_count": null,
      "outputs": []
    },
    {
      "cell_type": "markdown",
      "source": [
        "Vamos criar o arquivo de *script* `cdi-grafico.py`."
      ],
      "metadata": {
        "id": "hpMO_mZNoAA_"
      }
    },
    {
      "cell_type": "code",
      "source": [
        "!python cdi-grafico.py dia-10"
      ],
      "metadata": {
        "id": "_7L0YRDWoDJ6"
      },
      "execution_count": null,
      "outputs": []
    },
    {
      "cell_type": "markdown",
      "source": [
        "### **3.2 - Máquina Local**"
      ],
      "metadata": {
        "id": "KwXD5MaKoJPS"
      }
    },
    {
      "cell_type": "markdown",
      "source": [
        "Mesma dinâmica!"
      ],
      "metadata": {
        "id": "AFilqOTkoJAO"
      }
    },
    {
      "cell_type": "markdown",
      "source": [
        "### **3.3 - Ferramenta de Desenvolvimento Local**"
      ],
      "metadata": {
        "id": "U-mhdPdToVBI"
      }
    },
    {
      "cell_type": "markdown",
      "source": [
        "As IDEs (Integrated Development Environment) são ferramentas completas de desenvolvimento de código em software.\n",
        "\n",
        "*   **PyCharm** da JetBrains (https://www.jetbrains.com/);\n",
        "*   **Visual Studio Code** da Microsoft (https://code.visualstudio.com/)."
      ],
      "metadata": {
        "id": "_AuCnmGCoUxT"
      }
    }
  ]
}